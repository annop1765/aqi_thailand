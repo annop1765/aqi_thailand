{
 "cells": [
  {
   "cell_type": "markdown",
   "metadata": {},
   "source": [
    "# Model the change in BKK PM2.5 level\n",
    "\n",
    "Instead of modeling the PM2.5 level directly, I can instead model the change in the particle level. This is because the PM2.5 level is a autoregressive model meaning the current level has high correlation with the previous level, thus the previous pollution level must be included in the model. In this notebook, I try to model the change in the pollution level and perhaps the previous pollution level column can be excluded. \n"
   ]
  },
  {
   "cell_type": "code",
   "execution_count": 1,
   "metadata": {},
   "outputs": [],
   "source": [
    "import sys\n",
    "import feather\n",
    "from pathlib import Path\n",
    "sys.path.append(r'C:\\Users\\Benny\\fastai\\old')\n",
    "\n",
    "%config IPCompleter.greedy=True\n",
    "%load_ext autoreload\n",
    "%autoreload 2\n",
    "%matplotlib inline\n",
    "\n",
    "from fastai.imports import *\n",
    "from fastai.structured import *\n",
    "from fastai.io import *\n",
    "from fastai.dataset import *\n",
    "from fastai.transforms import *\n",
    "from fastai.conv_learner import *\n",
    "from fastai.column_data import *\n",
    "from fastai.model import *\n",
    "from fastai.dataset import *\n",
    "from fastai.sgdr import *\n",
    "from fastai.plots import *\n",
    "\n",
    "from pandas_summary import DataFrameSummary\n",
    "from sklearn.ensemble import RandomForestRegressor, RandomForestClassifier\n",
    "from sklearn.metrics import (classification_report, confusion_matrix,\n",
    "accuracy_score, log_loss, mean_squared_error, mean_absolute_error, r2_score)\n",
    "from sklearn.model_selection import RandomizedSearchCV, GridSearchCV\n",
    "\n",
    "from IPython.display import display\n",
    "\n",
    "import seaborn as sns\n",
    "plt.style.use('ggplot')"
   ]
  },
  {
   "cell_type": "code",
   "execution_count": 18,
   "metadata": {},
   "outputs": [],
   "source": [
    "from sklearn.metrics import (classification_report, confusion_matrix,\n",
    "accuracy_score, log_loss, mean_squared_error, mean_absolute_error, r2_score)"
   ]
  },
  {
   "cell_type": "code",
   "execution_count": 19,
   "metadata": {},
   "outputs": [],
   "source": [
    "#print score print out rmse, and r2 score\n",
    "def print_score(m):\n",
    "    res = [mean_squared_error(m.predict(X_trn), y_trn), mean_squared_error(m.predict(X_val), y_val),\n",
    "                m.score(X_trn, y_trn), m.score(X_val, y_val)]\n",
    "    # if rf has bagging, print the oob score, also\n",
    "    if hasattr(m, 'oob_score_'): res.append(m.oob_score_)\n",
    "    print(res)\n",
    "    return res"
   ]
  },
  {
   "cell_type": "code",
   "execution_count": 2,
   "metadata": {},
   "outputs": [
    {
     "data": {
      "text/html": [
       "<div>\n",
       "<style scoped>\n",
       "    .dataframe tbody tr th:only-of-type {\n",
       "        vertical-align: middle;\n",
       "    }\n",
       "\n",
       "    .dataframe tbody tr th {\n",
       "        vertical-align: top;\n",
       "    }\n",
       "\n",
       "    .dataframe thead th {\n",
       "        text-align: right;\n",
       "    }\n",
       "</style>\n",
       "<table border=\"1\" class=\"dataframe\">\n",
       "  <thead>\n",
       "    <tr style=\"text-align: right;\">\n",
       "      <th></th>\n",
       "      <th>datetime</th>\n",
       "      <th>PM2.5</th>\n",
       "      <th>is_holiday</th>\n",
       "      <th>is_weekend</th>\n",
       "      <th>DayofWeek</th>\n",
       "      <th>weekofyear</th>\n",
       "      <th>hour</th>\n",
       "      <th>prev_level</th>\n",
       "      <th>Wind</th>\n",
       "      <th>Temperature(C)</th>\n",
       "      <th>Humidity(%)</th>\n",
       "      <th>Wind Speed(kmh)</th>\n",
       "      <th>is_rain</th>\n",
       "      <th>firecount240</th>\n",
       "      <th>firecount480</th>\n",
       "      <th>firecount720</th>\n",
       "      <th>index</th>\n",
       "    </tr>\n",
       "  </thead>\n",
       "  <tbody>\n",
       "    <tr>\n",
       "      <th>0</th>\n",
       "      <td>2016-03-04 16:00:00</td>\n",
       "      <td>35</td>\n",
       "      <td>0</td>\n",
       "      <td>0</td>\n",
       "      <td>4</td>\n",
       "      <td>9</td>\n",
       "      <td>16</td>\n",
       "      <td>44</td>\n",
       "      <td>SSW</td>\n",
       "      <td>33.89</td>\n",
       "      <td>46.0</td>\n",
       "      <td>14.48</td>\n",
       "      <td>0.0</td>\n",
       "      <td>828.0</td>\n",
       "      <td>3194.0</td>\n",
       "      <td>3751.0</td>\n",
       "      <td>7.1</td>\n",
       "    </tr>\n",
       "    <tr>\n",
       "      <th>1</th>\n",
       "      <td>2016-03-04 17:00:00</td>\n",
       "      <td>30</td>\n",
       "      <td>0</td>\n",
       "      <td>0</td>\n",
       "      <td>4</td>\n",
       "      <td>9</td>\n",
       "      <td>17</td>\n",
       "      <td>42</td>\n",
       "      <td>SSW</td>\n",
       "      <td>33.89</td>\n",
       "      <td>46.0</td>\n",
       "      <td>12.87</td>\n",
       "      <td>0.0</td>\n",
       "      <td>828.0</td>\n",
       "      <td>3194.0</td>\n",
       "      <td>3751.0</td>\n",
       "      <td>8.2</td>\n",
       "    </tr>\n",
       "    <tr>\n",
       "      <th>2</th>\n",
       "      <td>2016-03-04 18:00:00</td>\n",
       "      <td>26</td>\n",
       "      <td>0</td>\n",
       "      <td>0</td>\n",
       "      <td>4</td>\n",
       "      <td>9</td>\n",
       "      <td>18</td>\n",
       "      <td>41</td>\n",
       "      <td>S</td>\n",
       "      <td>32.22</td>\n",
       "      <td>55.0</td>\n",
       "      <td>14.48</td>\n",
       "      <td>0.0</td>\n",
       "      <td>828.0</td>\n",
       "      <td>3194.0</td>\n",
       "      <td>3751.0</td>\n",
       "      <td>8.8</td>\n",
       "    </tr>\n",
       "    <tr>\n",
       "      <th>3</th>\n",
       "      <td>2016-03-04 19:00:00</td>\n",
       "      <td>32</td>\n",
       "      <td>0</td>\n",
       "      <td>0</td>\n",
       "      <td>4</td>\n",
       "      <td>9</td>\n",
       "      <td>19</td>\n",
       "      <td>40</td>\n",
       "      <td>S</td>\n",
       "      <td>30.00</td>\n",
       "      <td>62.0</td>\n",
       "      <td>14.48</td>\n",
       "      <td>0.0</td>\n",
       "      <td>828.0</td>\n",
       "      <td>3194.0</td>\n",
       "      <td>3751.0</td>\n",
       "      <td>8.6</td>\n",
       "    </tr>\n",
       "    <tr>\n",
       "      <th>4</th>\n",
       "      <td>2016-03-04 20:00:00</td>\n",
       "      <td>24</td>\n",
       "      <td>0</td>\n",
       "      <td>0</td>\n",
       "      <td>4</td>\n",
       "      <td>9</td>\n",
       "      <td>20</td>\n",
       "      <td>39</td>\n",
       "      <td>S</td>\n",
       "      <td>28.89</td>\n",
       "      <td>70.0</td>\n",
       "      <td>14.48</td>\n",
       "      <td>0.0</td>\n",
       "      <td>828.0</td>\n",
       "      <td>3194.0</td>\n",
       "      <td>3751.0</td>\n",
       "      <td>7.3</td>\n",
       "    </tr>\n",
       "  </tbody>\n",
       "</table>\n",
       "</div>"
      ],
      "text/plain": [
       "             datetime  PM2.5  is_holiday  is_weekend  DayofWeek  weekofyear  \\\n",
       "0 2016-03-04 16:00:00     35           0           0          4           9   \n",
       "1 2016-03-04 17:00:00     30           0           0          4           9   \n",
       "2 2016-03-04 18:00:00     26           0           0          4           9   \n",
       "3 2016-03-04 19:00:00     32           0           0          4           9   \n",
       "4 2016-03-04 20:00:00     24           0           0          4           9   \n",
       "\n",
       "   hour  prev_level Wind  Temperature(C)  Humidity(%)  Wind Speed(kmh)  \\\n",
       "0    16          44  SSW           33.89         46.0            14.48   \n",
       "1    17          42  SSW           33.89         46.0            12.87   \n",
       "2    18          41    S           32.22         55.0            14.48   \n",
       "3    19          40    S           30.00         62.0            14.48   \n",
       "4    20          39    S           28.89         70.0            14.48   \n",
       "\n",
       "   is_rain  firecount240  firecount480  firecount720  index  \n",
       "0      0.0         828.0        3194.0        3751.0    7.1  \n",
       "1      0.0         828.0        3194.0        3751.0    8.2  \n",
       "2      0.0         828.0        3194.0        3751.0    8.8  \n",
       "3      0.0         828.0        3194.0        3751.0    8.6  \n",
       "4      0.0         828.0        3194.0        3751.0    7.3  "
      ]
     },
     "execution_count": 2,
     "metadata": {},
     "output_type": "execute_result"
    }
   ],
   "source": [
    "bkkpm_combo = pd.read_csv('data/model/bkkpm_combo_firecount.csv')\n",
    "bkkpm_combo.rename(columns={'Unnamed: 0':'datetime'},inplace=True)\n",
    "bkkpm_combo['datetime'] = pd.to_datetime(bkkpm_combo['datetime'])\n",
    "bkkpm_combo.head()"
   ]
  },
  {
   "cell_type": "code",
   "execution_count": 3,
   "metadata": {},
   "outputs": [
    {
     "data": {
      "text/plain": [
       "Index(['datetime', 'PM2.5', 'is_holiday', 'is_weekend', 'DayofWeek',\n",
       "       'weekofyear', 'hour', 'prev_level', 'Wind', 'Temperature(C)',\n",
       "       'Humidity(%)', 'Wind Speed(kmh)', 'is_rain', 'firecount240',\n",
       "       'firecount480', 'firecount720', 'index'],\n",
       "      dtype='object')"
      ]
     },
     "execution_count": 3,
     "metadata": {},
     "output_type": "execute_result"
    }
   ],
   "source": [
    "bkkpm_combo.columns"
   ]
  },
  {
   "cell_type": "code",
   "execution_count": 4,
   "metadata": {},
   "outputs": [],
   "source": [
    "bkkpm_combo = bkkpm_combo[['DayofWeek', 'hour', 'prev_level', 'Temperature(C)', 'Humidity(%)',\n",
    "       'Wind Speed(kmh)', 'is_rain', 'firecount240', 'firecount480',\n",
    "       'firecount720', 'index','Wind','datetime','PM2.5']]"
   ]
  },
  {
   "cell_type": "code",
   "execution_count": 5,
   "metadata": {},
   "outputs": [],
   "source": [
    "to_cat = ['Wind']\n",
    "for cat in to_cat:\n",
    "    bkkpm_combo[cat] = bkkpm_combo[cat].astype('category')\n"
   ]
  },
  {
   "cell_type": "code",
   "execution_count": 11,
   "metadata": {},
   "outputs": [],
   "source": [
    "# add diff column \n",
    "bkkpm_combo['PM25diff'] = bkkpm_combo['PM2.5'].diff()\n",
    "bkkpm_combo = bkkpm_combo.dropna()"
   ]
  },
  {
   "cell_type": "code",
   "execution_count": 12,
   "metadata": {},
   "outputs": [
    {
     "data": {
      "text/html": [
       "<div>\n",
       "<style scoped>\n",
       "    .dataframe tbody tr th:only-of-type {\n",
       "        vertical-align: middle;\n",
       "    }\n",
       "\n",
       "    .dataframe tbody tr th {\n",
       "        vertical-align: top;\n",
       "    }\n",
       "\n",
       "    .dataframe thead th {\n",
       "        text-align: right;\n",
       "    }\n",
       "</style>\n",
       "<table border=\"1\" class=\"dataframe\">\n",
       "  <thead>\n",
       "    <tr style=\"text-align: right;\">\n",
       "      <th></th>\n",
       "      <th>DayofWeek</th>\n",
       "      <th>hour</th>\n",
       "      <th>prev_level</th>\n",
       "      <th>Temperature(C)</th>\n",
       "      <th>Humidity(%)</th>\n",
       "      <th>Wind Speed(kmh)</th>\n",
       "      <th>is_rain</th>\n",
       "      <th>firecount240</th>\n",
       "      <th>firecount480</th>\n",
       "      <th>firecount720</th>\n",
       "      <th>index</th>\n",
       "      <th>Wind</th>\n",
       "      <th>datetime</th>\n",
       "      <th>PM2.5</th>\n",
       "      <th>PM25diff</th>\n",
       "    </tr>\n",
       "  </thead>\n",
       "  <tbody>\n",
       "    <tr>\n",
       "      <th>1</th>\n",
       "      <td>4</td>\n",
       "      <td>17</td>\n",
       "      <td>42</td>\n",
       "      <td>33.89</td>\n",
       "      <td>46.0</td>\n",
       "      <td>12.87</td>\n",
       "      <td>0.0</td>\n",
       "      <td>828.0</td>\n",
       "      <td>3194.0</td>\n",
       "      <td>3751.0</td>\n",
       "      <td>8.2</td>\n",
       "      <td>SSW</td>\n",
       "      <td>2016-03-04 17:00:00</td>\n",
       "      <td>30</td>\n",
       "      <td>-5.0</td>\n",
       "    </tr>\n",
       "    <tr>\n",
       "      <th>2</th>\n",
       "      <td>4</td>\n",
       "      <td>18</td>\n",
       "      <td>41</td>\n",
       "      <td>32.22</td>\n",
       "      <td>55.0</td>\n",
       "      <td>14.48</td>\n",
       "      <td>0.0</td>\n",
       "      <td>828.0</td>\n",
       "      <td>3194.0</td>\n",
       "      <td>3751.0</td>\n",
       "      <td>8.8</td>\n",
       "      <td>S</td>\n",
       "      <td>2016-03-04 18:00:00</td>\n",
       "      <td>26</td>\n",
       "      <td>-4.0</td>\n",
       "    </tr>\n",
       "    <tr>\n",
       "      <th>3</th>\n",
       "      <td>4</td>\n",
       "      <td>19</td>\n",
       "      <td>40</td>\n",
       "      <td>30.00</td>\n",
       "      <td>62.0</td>\n",
       "      <td>14.48</td>\n",
       "      <td>0.0</td>\n",
       "      <td>828.0</td>\n",
       "      <td>3194.0</td>\n",
       "      <td>3751.0</td>\n",
       "      <td>8.6</td>\n",
       "      <td>S</td>\n",
       "      <td>2016-03-04 19:00:00</td>\n",
       "      <td>32</td>\n",
       "      <td>6.0</td>\n",
       "    </tr>\n",
       "    <tr>\n",
       "      <th>4</th>\n",
       "      <td>4</td>\n",
       "      <td>20</td>\n",
       "      <td>39</td>\n",
       "      <td>28.89</td>\n",
       "      <td>70.0</td>\n",
       "      <td>14.48</td>\n",
       "      <td>0.0</td>\n",
       "      <td>828.0</td>\n",
       "      <td>3194.0</td>\n",
       "      <td>3751.0</td>\n",
       "      <td>7.3</td>\n",
       "      <td>S</td>\n",
       "      <td>2016-03-04 20:00:00</td>\n",
       "      <td>24</td>\n",
       "      <td>-8.0</td>\n",
       "    </tr>\n",
       "    <tr>\n",
       "      <th>5</th>\n",
       "      <td>4</td>\n",
       "      <td>21</td>\n",
       "      <td>38</td>\n",
       "      <td>27.78</td>\n",
       "      <td>74.0</td>\n",
       "      <td>12.87</td>\n",
       "      <td>0.0</td>\n",
       "      <td>828.0</td>\n",
       "      <td>3194.0</td>\n",
       "      <td>3751.0</td>\n",
       "      <td>4.5</td>\n",
       "      <td>SSW</td>\n",
       "      <td>2016-03-04 21:00:00</td>\n",
       "      <td>33</td>\n",
       "      <td>9.0</td>\n",
       "    </tr>\n",
       "  </tbody>\n",
       "</table>\n",
       "</div>"
      ],
      "text/plain": [
       "   DayofWeek  hour  prev_level  Temperature(C)  Humidity(%)  Wind Speed(kmh)  \\\n",
       "1          4    17          42           33.89         46.0            12.87   \n",
       "2          4    18          41           32.22         55.0            14.48   \n",
       "3          4    19          40           30.00         62.0            14.48   \n",
       "4          4    20          39           28.89         70.0            14.48   \n",
       "5          4    21          38           27.78         74.0            12.87   \n",
       "\n",
       "   is_rain  firecount240  firecount480  firecount720  index Wind  \\\n",
       "1      0.0         828.0        3194.0        3751.0    8.2  SSW   \n",
       "2      0.0         828.0        3194.0        3751.0    8.8    S   \n",
       "3      0.0         828.0        3194.0        3751.0    8.6    S   \n",
       "4      0.0         828.0        3194.0        3751.0    7.3    S   \n",
       "5      0.0         828.0        3194.0        3751.0    4.5  SSW   \n",
       "\n",
       "             datetime  PM2.5  PM25diff  \n",
       "1 2016-03-04 17:00:00     30      -5.0  \n",
       "2 2016-03-04 18:00:00     26      -4.0  \n",
       "3 2016-03-04 19:00:00     32       6.0  \n",
       "4 2016-03-04 20:00:00     24      -8.0  \n",
       "5 2016-03-04 21:00:00     33       9.0  "
      ]
     },
     "execution_count": 12,
     "metadata": {},
     "output_type": "execute_result"
    }
   ],
   "source": [
    "bkkpm_combo.head()"
   ]
  },
  {
   "cell_type": "code",
   "execution_count": 13,
   "metadata": {},
   "outputs": [],
   "source": [
    "# test index start at \n",
    "test_idx = bkkpm_combo[bkkpm_combo['datetime'] > '2019-01-31'].index[0]\n",
    "#separate data for training and testing \n",
    "test = bkkpm_combo.iloc[test_idx:]\n",
    "to_train = bkkpm_combo.iloc[:test_idx]"
   ]
  },
  {
   "cell_type": "code",
   "execution_count": 25,
   "metadata": {},
   "outputs": [],
   "source": [
    "#process the training data \n",
    "df, y, nas,mapper = proc_df(bkkpm_combo, 'PM25diff',do_scale=True, skip_flds=['datetime','PM2.5','prev_level'])"
   ]
  },
  {
   "cell_type": "code",
   "execution_count": 26,
   "metadata": {},
   "outputs": [
    {
     "data": {
      "text/plain": [
       "Index(['DayofWeek', 'hour', 'Temperature(C)', 'Humidity(%)', 'Wind Speed(kmh)',\n",
       "       'is_rain', 'firecount240', 'firecount480', 'firecount720', 'index',\n",
       "       'Wind'],\n",
       "      dtype='object')"
      ]
     },
     "execution_count": 26,
     "metadata": {},
     "output_type": "execute_result"
    }
   ],
   "source": [
    "df.columns"
   ]
  },
  {
   "cell_type": "code",
   "execution_count": 27,
   "metadata": {},
   "outputs": [],
   "source": [
    "# calculate the train & validation split index\n",
    "idx = int(df.shape[0]*0.8)\n",
    "idx\n",
    "\n",
    "# train and validation split\n",
    "X_trn = df.iloc[:idx]\n",
    "X_val = df.iloc[idx:]\n",
    "\n",
    "y_trn = y[:idx]\n",
    "y_val = y[idx:]"
   ]
  },
  {
   "cell_type": "code",
   "execution_count": 28,
   "metadata": {},
   "outputs": [
    {
     "name": "stdout",
     "output_type": "stream",
     "text": [
      "[20.081662080046307, 10.624130850024963, 0.21091543022019554, 0.07121932373750195]\n"
     ]
    }
   ],
   "source": [
    "# rf after hyper parameter tuning\n",
    "m = RandomForestRegressor(n_estimators=160, \n",
    "                          min_samples_split= 5,\n",
    "                          min_samples_leaf= 7,\n",
    "                          max_features= 1,\n",
    "                          max_depth= None, bootstrap= True, \n",
    "                          n_jobs=-1)\n",
    "m.fit(X_trn, y_trn)\n",
    "res = print_score(m)"
   ]
  },
  {
   "cell_type": "code",
   "execution_count": 21,
   "metadata": {},
   "outputs": [],
   "source": [
    "param_dist = {'n_estimators':range(20,200,20),\n",
    "              'max_depth': [3, None],\n",
    "              'min_samples_split' : [2, 5, 10], \n",
    "               'bootstrap' : [True, False],\n",
    "              'min_samples_leaf': range(1, 8)}"
   ]
  },
  {
   "cell_type": "code",
   "execution_count": 22,
   "metadata": {},
   "outputs": [],
   "source": [
    "#hyper parameter tuning\n",
    "search = RandomizedSearchCV(m, param_distributions=param_dist,\n",
    "                            n_iter=100,n_jobs=-1, cv=5, random_state=42)"
   ]
  },
  {
   "cell_type": "code",
   "execution_count": 23,
   "metadata": {},
   "outputs": [
    {
     "data": {
      "text/plain": [
       "({'n_estimators': 160,\n",
       "  'min_samples_split': 5,\n",
       "  'min_samples_leaf': 7,\n",
       "  'max_depth': None,\n",
       "  'bootstrap': True},\n",
       " 0.012329254020710723)"
      ]
     },
     "execution_count": 23,
     "metadata": {},
     "output_type": "execute_result"
    }
   ],
   "source": [
    "search.fit(X_trn,y_trn)\n",
    "search.best_params_, search.best_score_"
   ]
  },
  {
   "cell_type": "code",
   "execution_count": 29,
   "metadata": {},
   "outputs": [
    {
     "data": {
      "text/plain": [
       "<matplotlib.axes._subplots.AxesSubplot at 0x19c92873e80>"
      ]
     },
     "execution_count": 29,
     "metadata": {},
     "output_type": "execute_result"
    },
    {
     "data": {
      "image/png": "[encoded data removed]",
      "text/plain": [
       "<Figure size 360x360 with 1 Axes>"
      ]
     },
     "metadata": {
      "needs_background": "light"
     },
     "output_type": "display_data"
    }
   ],
   "source": [
    "# calculate feature of importance\n",
    "fi = rf_feat_importance(m, X_trn)\n",
    "fi.plot('cols','imp',kind='barh',figsize=(5,5))"
   ]
  },
  {
   "cell_type": "markdown",
   "metadata": {},
   "source": [
    "The R-squared is very low, and the model put lots of emphasis on the traffic index. "
   ]
  },
  {
   "cell_type": "markdown",
   "metadata": {},
   "source": [
    "# TPOT"
   ]
  },
  {
   "cell_type": "code",
   "execution_count": 30,
   "metadata": {},
   "outputs": [
    {
     "name": "stderr",
     "output_type": "stream",
     "text": [
      "C:\\Users\\Benny\\Anaconda3\\envs\\fastai\\lib\\site-packages\\deap\\tools\\_hypervolume\\pyhv.py:33: ImportWarning: Falling back to the python version of hypervolume module. Expect this to be very slow.\n",
      "  \"module. Expect this to be very slow.\", ImportWarning)\n"
     ]
    }
   ],
   "source": [
    "from tpot import TPOTRegressor"
   ]
  },
  {
   "cell_type": "code",
   "execution_count": 31,
   "metadata": {},
   "outputs": [
    {
     "data": {
      "application/vnd.jupyter.widget-view+json": {
       "model_id": "",
       "version_major": 2,
       "version_minor": 0
      },
      "text/plain": [
       "HBox(children=(IntProgress(value=0, description='Optimization Progress', max=300, style=ProgressStyle(descript…"
      ]
     },
     "metadata": {},
     "output_type": "display_data"
    },
    {
     "name": "stdout",
     "output_type": "stream",
     "text": [
      "Generation 1 - Current best internal CV score: -25.18495361047797\n",
      "Generation 2 - Current best internal CV score: -25.151294726990756\n",
      "Generation 3 - Current best internal CV score: -25.142882127310905\n",
      "Generation 4 - Current best internal CV score: -25.142882127310905\n",
      "Generation 5 - Current best internal CV score: -25.120097011432556\n",
      "\n",
      "Best pipeline: XGBRegressor(DecisionTreeRegressor(input_matrix, max_depth=3, min_samples_leaf=12, min_samples_split=7), learning_rate=0.01, max_depth=10, min_child_weight=6, n_estimators=100, nthread=1, subsample=0.35000000000000003)\n",
      "-11.011006232946052\n"
     ]
    }
   ],
   "source": [
    "#ask TPOT to hunt for the best model\n",
    "tpot = TPOTRegressor(generations=5, population_size=50, verbosity=2)\n",
    "tpot.fit(X_trn, y_trn)\n",
    "print(tpot.score(X_val, y_val))\n",
    "tpot.export('tpot_pipeline_PM25diff.py')"
   ]
  },
  {
   "cell_type": "markdown",
   "metadata": {},
   "source": [
    "Implement TPOT suggested pipeline"
   ]
  },
  {
   "cell_type": "code",
   "execution_count": 32,
   "metadata": {},
   "outputs": [],
   "source": [
    "import numpy as np\n",
    "import pandas as pd\n",
    "from sklearn.model_selection import train_test_split\n",
    "from sklearn.pipeline import make_pipeline, make_union\n",
    "from sklearn.tree import DecisionTreeRegressor\n",
    "from tpot.builtins import StackingEstimator\n",
    "from xgboost import XGBRegressor"
   ]
  },
  {
   "cell_type": "code",
   "execution_count": 34,
   "metadata": {},
   "outputs": [],
   "source": [
    "#print score print out rmse, and r2 score\n",
    "def print_score(m):\n",
    "    res = [mean_squared_error(m.predict(X_trn), y_trn), mean_squared_error(m.predict(X_val), y_val),\n",
    "                m.score(X_trn, y_trn), m.score(X_val, y_val)]\n",
    "    # if rf has bagging, print the oob score, also\n",
    "    if hasattr(m, 'oob_score_'): res.append(m.oob_score_)\n",
    "    print(res)\n",
    "    return res"
   ]
  },
  {
   "cell_type": "code",
   "execution_count": 35,
   "metadata": {},
   "outputs": [],
   "source": [
    "# Average CV score on the training set was:-25.120097011432556\n",
    "exported_pipeline = make_pipeline(\n",
    "    StackingEstimator(estimator=DecisionTreeRegressor(max_depth=3, min_samples_leaf=12, min_samples_split=7)),\n",
    "    XGBRegressor(learning_rate=0.01, max_depth=10, min_child_weight=6, n_estimators=100, nthread=1, subsample=0.35000000000000003)\n",
    ")\n"
   ]
  },
  {
   "cell_type": "code",
   "execution_count": 36,
   "metadata": {},
   "outputs": [
    {
     "name": "stdout",
     "output_type": "stream",
     "text": [
      "[22.1553947772327, 11.011006232946052, 0.1294306175251566, 0.03739798015174234]\n"
     ]
    }
   ],
   "source": [
    "exported_pipeline.fit(X_trn, y_trn)\n",
    "results = print_score(exported_pipeline)"
   ]
  },
  {
   "cell_type": "code",
   "execution_count": 37,
   "metadata": {},
   "outputs": [],
   "source": [
    "# custom made feature of importance based on permutation method\n",
    "def feat_importance(m, x_trn, y_trn, metric=accuracy_score):\n",
    "    \"\"\" Computes the feature importance for any model\n",
    "    m is the model\n",
    "    x_trn is the training data\n",
    "    metric is the accuracy_score\n",
    "    \"\"\"\n",
    "    baseline = metric(y_trn, m.predict(x_trn))\n",
    "    imp = []\n",
    "    imp_std = []\n",
    "    for col in x_trn.columns:\n",
    "        tempt = x_trn.copy()\n",
    "        shuffle = []\n",
    "        # ten iteration to get better statistic\n",
    "        for i in range(10):\n",
    "            tempt[col] = np.random.RandomState(seed=42).permutation(tempt[col])\n",
    "            shuffle_score = metric(y_trn, m.predict(tempt))\n",
    "            shuffle.append(-(baseline - shuffle_score)/baseline)\n",
    "        imp.append(np.mean(shuffle))\n",
    "        imp_std.append(np.std(shuffle))\n",
    "    fea_imp = pd.DataFrame({'cols': x_trn.columns, 'imp':imp,'imp_std':imp_std})\n",
    "    return fea_imp.sort_values('imp', ascending=False)"
   ]
  },
  {
   "cell_type": "code",
   "execution_count": 38,
   "metadata": {},
   "outputs": [
    {
     "data": {
      "text/plain": [
       "<matplotlib.axes._subplots.AxesSubplot at 0x19c921a5f28>"
      ]
     },
     "execution_count": 38,
     "metadata": {},
     "output_type": "execute_result"
    },
    {
     "data": {
      "image/png": "[encoded data removed]",
      "text/plain": [
       "<Figure size 432x288 with 1 Axes>"
      ]
     },
     "metadata": {
      "needs_background": "light"
     },
     "output_type": "display_data"
    }
   ],
   "source": [
    "#Calculate feature of importance\n",
    "fi_per = feat_importance(exported_pipeline, X_trn, y_trn, mean_squared_error)\n",
    "# normalize feature of importance\n",
    "fi_per['imp'] = fi_per['imp']/fi_per['imp'].sum()\n",
    "fi_per.plot('cols', 'imp', 'barh', legend=False)"
   ]
  },
  {
   "cell_type": "code",
   "execution_count": null,
   "metadata": {},
   "outputs": [],
   "source": []
  }
 ],
 "metadata": {
  "kernelspec": {
   "display_name": "Python 3",
   "language": "python",
   "name": "python3"
  },
  "language_info": {
   "codemirror_mode": {
    "name": "ipython",
    "version": 3
   },
   "file_extension": ".py",
   "mimetype": "text/x-python",
   "name": "python",
   "nbconvert_exporter": "python",
   "pygments_lexer": "ipython3",
   "version": "3.6.8"
  }
 },
 "nbformat": 4,
 "nbformat_minor": 2
}
