{
 "cells": [
  {
   "cell_type": "markdown",
   "metadata": {},
   "source": [
    "# Model BKK PM2.5 level using Neural network\n",
    "\n",
    "A complex relationship between weather, traffics, and number of fire spots maybe best modeled with neural network. I use the features selected by the random forest. There is one column \"Wind\", which has 18 categories. Instead of one hot encoding this columns, I use embedding instead. \n"
   ]
  },
  {
   "cell_type": "code",
   "execution_count": 1,
   "metadata": {},
   "outputs": [],
   "source": [
    "import sys\n",
    "import feather\n",
    "from pathlib import Path\n",
    "sys.path.append(r'C:\\Users\\Benny\\fastai\\old')\n",
    "\n",
    "%config IPCompleter.greedy=True\n",
    "%load_ext autoreload\n",
    "%autoreload 2\n",
    "%matplotlib inline\n",
    "\n",
    "from fastai.imports import *\n",
    "from fastai.structured import *\n",
    "from fastai.io import *\n",
    "from fastai.dataset import *\n",
    "from fastai.transforms import *\n",
    "from fastai.conv_learner import *\n",
    "from fastai.column_data import *\n",
    "from fastai.model import *\n",
    "from fastai.dataset import *\n",
    "from fastai.sgdr import *\n",
    "from fastai.plots import *\n",
    "\n",
    "from pandas_summary import DataFrameSummary\n",
    "from sklearn.ensemble import RandomForestRegressor, RandomForestClassifier\n",
    "from sklearn.metrics import (classification_report, confusion_matrix,\n",
    "accuracy_score, log_loss, mean_squared_error, mean_absolute_error, r2_score)\n",
    "from sklearn.model_selection import RandomizedSearchCV, GridSearchCV\n",
    "\n",
    "from IPython.display import display\n",
    "\n",
    "import seaborn as sns\n",
    "plt.style.use('ggplot')"
   ]
  },
  {
   "cell_type": "code",
   "execution_count": 21,
   "metadata": {},
   "outputs": [
    {
     "data": {
      "text/html": [
       "<div>\n",
       "<style scoped>\n",
       "    .dataframe tbody tr th:only-of-type {\n",
       "        vertical-align: middle;\n",
       "    }\n",
       "\n",
       "    .dataframe tbody tr th {\n",
       "        vertical-align: top;\n",
       "    }\n",
       "\n",
       "    .dataframe thead th {\n",
       "        text-align: right;\n",
       "    }\n",
       "</style>\n",
       "<table border=\"1\" class=\"dataframe\">\n",
       "  <thead>\n",
       "    <tr style=\"text-align: right;\">\n",
       "      <th></th>\n",
       "      <th>datetime</th>\n",
       "      <th>PM2.5</th>\n",
       "      <th>is_holiday</th>\n",
       "      <th>is_weekend</th>\n",
       "      <th>DayofWeek</th>\n",
       "      <th>weekofyear</th>\n",
       "      <th>hour</th>\n",
       "      <th>prev_level</th>\n",
       "      <th>Wind</th>\n",
       "      <th>Temperature(C)</th>\n",
       "      <th>Humidity(%)</th>\n",
       "      <th>Wind Speed(kmh)</th>\n",
       "      <th>is_rain</th>\n",
       "      <th>firecount240</th>\n",
       "      <th>firecount480</th>\n",
       "      <th>firecount720</th>\n",
       "      <th>index</th>\n",
       "    </tr>\n",
       "  </thead>\n",
       "  <tbody>\n",
       "    <tr>\n",
       "      <th>0</th>\n",
       "      <td>2016-03-04 16:00:00</td>\n",
       "      <td>35</td>\n",
       "      <td>0</td>\n",
       "      <td>0</td>\n",
       "      <td>4</td>\n",
       "      <td>9</td>\n",
       "      <td>16</td>\n",
       "      <td>44</td>\n",
       "      <td>SSW</td>\n",
       "      <td>33.89</td>\n",
       "      <td>46.0</td>\n",
       "      <td>14.48</td>\n",
       "      <td>0.0</td>\n",
       "      <td>828.0</td>\n",
       "      <td>3194.0</td>\n",
       "      <td>3751.0</td>\n",
       "      <td>7.1</td>\n",
       "    </tr>\n",
       "    <tr>\n",
       "      <th>1</th>\n",
       "      <td>2016-03-04 17:00:00</td>\n",
       "      <td>30</td>\n",
       "      <td>0</td>\n",
       "      <td>0</td>\n",
       "      <td>4</td>\n",
       "      <td>9</td>\n",
       "      <td>17</td>\n",
       "      <td>42</td>\n",
       "      <td>SSW</td>\n",
       "      <td>33.89</td>\n",
       "      <td>46.0</td>\n",
       "      <td>12.87</td>\n",
       "      <td>0.0</td>\n",
       "      <td>828.0</td>\n",
       "      <td>3194.0</td>\n",
       "      <td>3751.0</td>\n",
       "      <td>8.2</td>\n",
       "    </tr>\n",
       "    <tr>\n",
       "      <th>2</th>\n",
       "      <td>2016-03-04 18:00:00</td>\n",
       "      <td>26</td>\n",
       "      <td>0</td>\n",
       "      <td>0</td>\n",
       "      <td>4</td>\n",
       "      <td>9</td>\n",
       "      <td>18</td>\n",
       "      <td>41</td>\n",
       "      <td>S</td>\n",
       "      <td>32.22</td>\n",
       "      <td>55.0</td>\n",
       "      <td>14.48</td>\n",
       "      <td>0.0</td>\n",
       "      <td>828.0</td>\n",
       "      <td>3194.0</td>\n",
       "      <td>3751.0</td>\n",
       "      <td>8.8</td>\n",
       "    </tr>\n",
       "    <tr>\n",
       "      <th>3</th>\n",
       "      <td>2016-03-04 19:00:00</td>\n",
       "      <td>32</td>\n",
       "      <td>0</td>\n",
       "      <td>0</td>\n",
       "      <td>4</td>\n",
       "      <td>9</td>\n",
       "      <td>19</td>\n",
       "      <td>40</td>\n",
       "      <td>S</td>\n",
       "      <td>30.00</td>\n",
       "      <td>62.0</td>\n",
       "      <td>14.48</td>\n",
       "      <td>0.0</td>\n",
       "      <td>828.0</td>\n",
       "      <td>3194.0</td>\n",
       "      <td>3751.0</td>\n",
       "      <td>8.6</td>\n",
       "    </tr>\n",
       "    <tr>\n",
       "      <th>4</th>\n",
       "      <td>2016-03-04 20:00:00</td>\n",
       "      <td>24</td>\n",
       "      <td>0</td>\n",
       "      <td>0</td>\n",
       "      <td>4</td>\n",
       "      <td>9</td>\n",
       "      <td>20</td>\n",
       "      <td>39</td>\n",
       "      <td>S</td>\n",
       "      <td>28.89</td>\n",
       "      <td>70.0</td>\n",
       "      <td>14.48</td>\n",
       "      <td>0.0</td>\n",
       "      <td>828.0</td>\n",
       "      <td>3194.0</td>\n",
       "      <td>3751.0</td>\n",
       "      <td>7.3</td>\n",
       "    </tr>\n",
       "  </tbody>\n",
       "</table>\n",
       "</div>"
      ],
      "text/plain": [
       "             datetime  PM2.5  is_holiday  is_weekend  DayofWeek  weekofyear  \\\n",
       "0 2016-03-04 16:00:00     35           0           0          4           9   \n",
       "1 2016-03-04 17:00:00     30           0           0          4           9   \n",
       "2 2016-03-04 18:00:00     26           0           0          4           9   \n",
       "3 2016-03-04 19:00:00     32           0           0          4           9   \n",
       "4 2016-03-04 20:00:00     24           0           0          4           9   \n",
       "\n",
       "   hour  prev_level Wind  Temperature(C)  Humidity(%)  Wind Speed(kmh)  \\\n",
       "0    16          44  SSW           33.89         46.0            14.48   \n",
       "1    17          42  SSW           33.89         46.0            12.87   \n",
       "2    18          41    S           32.22         55.0            14.48   \n",
       "3    19          40    S           30.00         62.0            14.48   \n",
       "4    20          39    S           28.89         70.0            14.48   \n",
       "\n",
       "   is_rain  firecount240  firecount480  firecount720  index  \n",
       "0      0.0         828.0        3194.0        3751.0    7.1  \n",
       "1      0.0         828.0        3194.0        3751.0    8.2  \n",
       "2      0.0         828.0        3194.0        3751.0    8.8  \n",
       "3      0.0         828.0        3194.0        3751.0    8.6  \n",
       "4      0.0         828.0        3194.0        3751.0    7.3  "
      ]
     },
     "execution_count": 21,
     "metadata": {},
     "output_type": "execute_result"
    }
   ],
   "source": [
    "bkkpm_combo = pd.read_csv('data/model/bkkpm_combo_firecount.csv')\n",
    "bkkpm_combo.rename(columns={'Unnamed: 0':'datetime'},inplace=True)\n",
    "bkkpm_combo['datetime'] = pd.to_datetime(bkkpm_combo['datetime'])\n",
    "bkkpm_combo.head()"
   ]
  },
  {
   "cell_type": "code",
   "execution_count": 22,
   "metadata": {},
   "outputs": [
    {
     "data": {
      "text/plain": [
       "Index(['datetime', 'PM2.5', 'is_holiday', 'is_weekend', 'DayofWeek',\n",
       "       'weekofyear', 'hour', 'prev_level', 'Wind', 'Temperature(C)',\n",
       "       'Humidity(%)', 'Wind Speed(kmh)', 'is_rain', 'firecount240',\n",
       "       'firecount480', 'firecount720', 'index'],\n",
       "      dtype='object')"
      ]
     },
     "execution_count": 22,
     "metadata": {},
     "output_type": "execute_result"
    }
   ],
   "source": [
    "bkkpm_combo.columns"
   ]
  },
  {
   "cell_type": "code",
   "execution_count": 23,
   "metadata": {},
   "outputs": [],
   "source": [
    "bkkpm_combo = bkkpm_combo[['DayofWeek', 'hour', 'prev_level', 'Temperature(C)', 'Humidity(%)',\n",
    "       'Wind Speed(kmh)', 'is_rain', 'firecount240', 'firecount480',\n",
    "       'firecount720', 'index','Wind','datetime','PM2.5']]"
   ]
  },
  {
   "cell_type": "code",
   "execution_count": 24,
   "metadata": {},
   "outputs": [],
   "source": [
    "to_cat = ['Wind']\n",
    "for cat in to_cat:\n",
    "    bkkpm_combo[cat] = bkkpm_combo[cat].astype('category')\n"
   ]
  },
  {
   "cell_type": "code",
   "execution_count": 25,
   "metadata": {},
   "outputs": [],
   "source": [
    "# test index start at \n",
    "test_idx = bkkpm_combo[bkkpm_combo['datetime'] > '2019-01-31'].index[0]"
   ]
  },
  {
   "cell_type": "code",
   "execution_count": 30,
   "metadata": {},
   "outputs": [],
   "source": [
    "#process data \n",
    "\n",
    "df, y, nas,mapper = proc_df(bkkpm_combo, 'PM2.5',do_scale=True, skip_flds=['datetime'])"
   ]
  },
  {
   "cell_type": "code",
   "execution_count": 31,
   "metadata": {},
   "outputs": [
    {
     "data": {
      "text/plain": [
       "Index(['DayofWeek', 'hour', 'prev_level', 'Temperature(C)', 'Humidity(%)',\n",
       "       'Wind Speed(kmh)', 'is_rain', 'firecount240', 'firecount480',\n",
       "       'firecount720', 'index', 'Wind'],\n",
       "      dtype='object')"
      ]
     },
     "execution_count": 31,
     "metadata": {},
     "output_type": "execute_result"
    }
   ],
   "source": [
    "df.columns"
   ]
  },
  {
   "cell_type": "code",
   "execution_count": 33,
   "metadata": {},
   "outputs": [],
   "source": [
    "# construct a model data\n",
    "md = ColumnarModelData.from_data_frame('', val_idxs=test_idx, df=df, y=y.astype(np.float32), cat_flds=['Wind'], is_reg=True,\n",
    "                                      bs=128)"
   ]
  },
  {
   "cell_type": "code",
   "execution_count": 34,
   "metadata": {},
   "outputs": [
    {
     "data": {
      "text/plain": [
       "[(19, 10)]"
      ]
     },
     "execution_count": 34,
     "metadata": {},
     "output_type": "execute_result"
    }
   ],
   "source": [
    "# calculate the size of the embedding matrix for the categorical variables\n",
    "cat_vars = ['Wind']\n",
    "cat_sz = [(c, len(bkkpm_combo[c].cat.categories)+1) for c in cat_vars]; cat_sz\n",
    "emb_szs = [(c, min(50, (c+1)//2)) for _,c in cat_sz]; emb_szs"
   ]
  },
  {
   "cell_type": "code",
   "execution_count": 35,
   "metadata": {},
   "outputs": [],
   "source": [
    "y_range = (0,max(y)*1.2)"
   ]
  },
  {
   "cell_type": "code",
   "execution_count": 66,
   "metadata": {},
   "outputs": [
    {
     "data": {
      "text/plain": [
       "OrderedDict([('Embedding-1',\n",
       "              OrderedDict([('input_shape', [-1]),\n",
       "                           ('output_shape', [-1, 10]),\n",
       "                           ('trainable', True),\n",
       "                           ('nb_params', tensor(190))])),\n",
       "             ('Dropout-2',\n",
       "              OrderedDict([('input_shape', [-1, 10]),\n",
       "                           ('output_shape', [-1, 10]),\n",
       "                           ('nb_params', 0)])),\n",
       "             ('BatchNorm1d-3',\n",
       "              OrderedDict([('input_shape', [-1, 11]),\n",
       "                           ('output_shape', [-1, 11]),\n",
       "                           ('trainable', True),\n",
       "                           ('nb_params', tensor(22))])),\n",
       "             ('Linear-4',\n",
       "              OrderedDict([('input_shape', [-1, 21]),\n",
       "                           ('output_shape', [-1, 100]),\n",
       "                           ('trainable', True),\n",
       "                           ('nb_params', tensor(2200))])),\n",
       "             ('Dropout-5',\n",
       "              OrderedDict([('input_shape', [-1, 100]),\n",
       "                           ('output_shape', [-1, 100]),\n",
       "                           ('nb_params', 0)])),\n",
       "             ('Linear-6',\n",
       "              OrderedDict([('input_shape', [-1, 100]),\n",
       "                           ('output_shape', [-1, 50]),\n",
       "                           ('trainable', True),\n",
       "                           ('nb_params', tensor(5050))])),\n",
       "             ('Dropout-7',\n",
       "              OrderedDict([('input_shape', [-1, 50]),\n",
       "                           ('output_shape', [-1, 50]),\n",
       "                           ('nb_params', 0)])),\n",
       "             ('Linear-8',\n",
       "              OrderedDict([('input_shape', [-1, 50]),\n",
       "                           ('output_shape', [-1, 10]),\n",
       "                           ('trainable', True),\n",
       "                           ('nb_params', tensor(510))])),\n",
       "             ('Dropout-9',\n",
       "              OrderedDict([('input_shape', [-1, 10]),\n",
       "                           ('output_shape', [-1, 10]),\n",
       "                           ('nb_params', 0)])),\n",
       "             ('Linear-10',\n",
       "              OrderedDict([('input_shape', [-1, 10]),\n",
       "                           ('output_shape', [-1, 1]),\n",
       "                           ('trainable', True),\n",
       "                           ('nb_params', tensor(11))]))])"
      ]
     },
     "execution_count": 66,
     "metadata": {},
     "output_type": "execute_result"
    }
   ],
   "source": [
    "# build a nn model object\n",
    "#mnn = md.get_learner(emb_szs, len(df.columns)-len(cat_vars), 0.04, out_sz=2, szs=[200 10], drops=[0.01 0], y_range=None)\n",
    "mnn = md.get_learner(emb_szs, len(df.columns)-len(cat_vars),emb_drop=0.1,\n",
    "                     out_sz=1, szs=[100, 50, 10], drops=[0.01, 0.01, 0.001], y_range=y_range)\n",
    "mnn.summary()"
   ]
  },
  {
   "cell_type": "code",
   "execution_count": 67,
   "metadata": {},
   "outputs": [
    {
     "data": {
      "application/vnd.jupyter.widget-view+json": {
       "model_id": "83c7f637dde547da9d13781f39bff75f",
       "version_major": 2,
       "version_minor": 0
      },
      "text/plain": [
       "HBox(children=(IntProgress(value=0, description='Epoch', max=1, style=ProgressStyle(description_width='initial…"
      ]
     },
     "metadata": {},
     "output_type": "display_data"
    },
    {
     "name": "stdout",
     "output_type": "stream",
     "text": [
      "epoch      trn_loss   val_loss                                                                                         \n",
      "    0      316.705944 0.200465  \n",
      "\n"
     ]
    }
   ],
   "source": [
    "lr = 1e-3\n",
    "mnn.lr_find()"
   ]
  },
  {
   "cell_type": "code",
   "execution_count": 68,
   "metadata": {},
   "outputs": [
    {
     "data": {
      "image/png": "[encoded data removed]",
      "text/plain": [
       "<Figure size 432x288 with 1 Axes>"
      ]
     },
     "metadata": {
      "needs_background": "light"
     },
     "output_type": "display_data"
    }
   ],
   "source": [
    "#learning rate finder\n",
    "mnn.sched.plot(10)"
   ]
  },
  {
   "cell_type": "code",
   "execution_count": 69,
   "metadata": {},
   "outputs": [
    {
     "data": {
      "application/vnd.jupyter.widget-view+json": {
       "model_id": "fcc717db6cdd44a0bee4af48c78a89e3",
       "version_major": 2,
       "version_minor": 0
      },
      "text/plain": [
       "HBox(children=(IntProgress(value=0, description='Epoch', max=3, style=ProgressStyle(description_width='initial…"
      ]
     },
     "metadata": {},
     "output_type": "display_data"
    },
    {
     "name": "stdout",
     "output_type": "stream",
     "text": [
      "epoch      trn_loss   val_loss   r2_score                                                                              \n",
      "    0      124.647333 403.832825 0.0       \n",
      "    1      76.432426  402.695404 0.0                                                                                   \n",
      "    2      70.223879  340.957642 0.0                                                                                   \n",
      "\n"
     ]
    },
    {
     "data": {
      "text/plain": [
       "[340.9576416015625, 0.0]"
      ]
     },
     "execution_count": 69,
     "metadata": {},
     "output_type": "execute_result"
    }
   ],
   "source": [
    "lr = 1e-3\n",
    "mnn.fit(lr, 3, metrics=[ r2_score])"
   ]
  },
  {
   "cell_type": "code",
   "execution_count": 71,
   "metadata": {},
   "outputs": [
    {
     "data": {
      "application/vnd.jupyter.widget-view+json": {
       "model_id": "f675acac29654d57b45e17abbce72ace",
       "version_major": 2,
       "version_minor": 0
      },
      "text/plain": [
       "HBox(children=(IntProgress(value=0, description='Epoch', max=8, style=ProgressStyle(description_width='initial…"
      ]
     },
     "metadata": {},
     "output_type": "display_data"
    },
    {
     "name": "stdout",
     "output_type": "stream",
     "text": [
      "epoch      trn_loss   val_loss   r2_score                                                                              \n",
      "    0      57.574049  194.596771 0.0       \n",
      "    1      55.709623  196.752884 0.0                                                                                   \n",
      "    2      54.574815  184.508255 0.0                                                                                   \n",
      "    3      52.115657  164.28746  0.0                                                                                   \n",
      "    4      52.236078  247.846619 0.0                                                                                   \n",
      "    5      53.228849  196.145294 0.0                                                                                   \n",
      "    6      51.439179  157.024094 0.0                                                                                   \n",
      "    7      51.147299  164.920853 0.0                                                                                   \n",
      "\n"
     ]
    },
    {
     "data": {
      "text/plain": [
       "[164.9208526611328, 0.0]"
      ]
     },
     "execution_count": 71,
     "metadata": {},
     "output_type": "execute_result"
    }
   ],
   "source": [
    "mnn.fit(lr, 2, cycle_len=4,metrics=[ r2_score])"
   ]
  },
  {
   "cell_type": "markdown",
   "metadata": {},
   "source": [
    "The model still has high validation loss, and over fit. I am not sure why the r2_score is always zero. "
   ]
  },
  {
   "cell_type": "code",
   "execution_count": null,
   "metadata": {},
   "outputs": [],
   "source": []
  }
 ],
 "metadata": {
  "kernelspec": {
   "display_name": "Python 3",
   "language": "python",
   "name": "python3"
  },
  "language_info": {
   "codemirror_mode": {
    "name": "ipython",
    "version": 3
   },
   "file_extension": ".py",
   "mimetype": "text/x-python",
   "name": "python",
   "nbconvert_exporter": "python",
   "pygments_lexer": "ipython3",
   "version": "3.6.8"
  }
 },
 "nbformat": 4,
 "nbformat_minor": 2
}
