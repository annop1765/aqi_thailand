{
 "cells": [
  {
   "cell_type": "markdown",
   "metadata": {},
   "source": [
    "# Visualize Air Pollution in Bangkok"
   ]
  },
  {
   "cell_type": "markdown",
   "metadata": {
    "heading_collapsed": true
   },
   "source": [
    "# Background\n",
    "\n",
    "Air pollution is a pollution threat in many Asian countries. Being informed about the current outdoor air quality helps you protect yourself. Recently, Thai people become more concern about local air pollution due to the high level of pollution in Bangkok in winter of 2019. Air polution is reported as air quality index (AQI). The high AQI mean bad air pollution. The major pollutant was the small size particle pollution (PM2.5). Still there are a lot of misconceptions and debates about the causes of the pollution and degree of hazard of particles. \n",
    "\n",
    "This notebook tried a way to answer answer some of the questions about air pollution through data visualization. Moreover, it includes how to generate these vizs are generated so that the same method can be applied to your local air quality measurement. I was inspired by the work from  a Facebook post by [Data-addict](https://scontent-sjc3-1.xx.fbcdn.net/v/t1.0-9/34398114_426447444494150_7618108699801812992_n.png?_nc_cat=108&_nc_ht=scontent-sjc3-1.xx&oh=0ac2b42de652b994d8f1994ecb835418&oe=5CF14B7F)"
   ]
  },
  {
   "cell_type": "code",
   "execution_count": 2,
   "metadata": {
    "hidden": true
   },
   "outputs": [],
   "source": [
    "import sys\n",
    "sys.path.append(r'C:\\Users\\Benny\\fastai\\old')\n",
    "from pathlib import Path\n",
    "from fastai.imports import *\n",
    "import seaborn as sns\n",
    "\n",
    "import statsmodels.api as sm\n",
    "import datetime \n",
    "import matplotlib.dates as mdates\n",
    "import matplotlib as mpl\n",
    "from matplotlib.gridspec import GridSpec\n",
    "\n",
    "from statsmodels.sandbox.regression.predstd import wls_prediction_std\n",
    "from mpl_toolkits.axes_grid1.axes_divider import make_axes_locatable\n",
    "from mpl_toolkits.axes_grid1.colorbar import colorbar"
   ]
  },
  {
   "cell_type": "markdown",
   "metadata": {},
   "source": [
    "# Import Data\n",
    "\n",
    "Import googld trend data and PM2.5 data."
   ]
  },
  {
   "cell_type": "code",
   "execution_count": 57,
   "metadata": {},
   "outputs": [],
   "source": [
    "trend_aqi = pd.read_csv('data/google_trend_aqi.csv', infer_datetime_format=True,\n",
    "                       skiprows=3, names= ['date','aqi_trend'])\n",
    "trend_pm25 = pd.read_csv('data/google_trend_pm25.csv', infer_datetime_format=True,\n",
    "                       skiprows=3, names= ['date','pm25_trend'])\n",
    "\n",
    "trend = trend_aqi.merge(trend_pm25, on=['date'], how ='outer')"
   ]
  },
  {
   "cell_type": "code",
   "execution_count": 58,
   "metadata": {},
   "outputs": [
    {
     "data": {
      "text/html": [
       "<div>\n",
       "<style scoped>\n",
       "    .dataframe tbody tr th:only-of-type {\n",
       "        vertical-align: middle;\n",
       "    }\n",
       "\n",
       "    .dataframe tbody tr th {\n",
       "        vertical-align: top;\n",
       "    }\n",
       "\n",
       "    .dataframe thead th {\n",
       "        text-align: right;\n",
       "    }\n",
       "</style>\n",
       "<table border=\"1\" class=\"dataframe\">\n",
       "  <thead>\n",
       "    <tr style=\"text-align: right;\">\n",
       "      <th></th>\n",
       "      <th>date</th>\n",
       "      <th>aqi_trend</th>\n",
       "      <th>pm25_trend</th>\n",
       "    </tr>\n",
       "  </thead>\n",
       "  <tbody>\n",
       "    <tr>\n",
       "      <th>0</th>\n",
       "      <td>2014-02-23</td>\n",
       "      <td>0</td>\n",
       "      <td>&lt;1</td>\n",
       "    </tr>\n",
       "    <tr>\n",
       "      <th>1</th>\n",
       "      <td>2014-03-02</td>\n",
       "      <td>&lt;1</td>\n",
       "      <td>&lt;1</td>\n",
       "    </tr>\n",
       "    <tr>\n",
       "      <th>2</th>\n",
       "      <td>2014-03-09</td>\n",
       "      <td>1</td>\n",
       "      <td>0</td>\n",
       "    </tr>\n",
       "    <tr>\n",
       "      <th>3</th>\n",
       "      <td>2014-03-16</td>\n",
       "      <td>1</td>\n",
       "      <td>&lt;1</td>\n",
       "    </tr>\n",
       "    <tr>\n",
       "      <th>4</th>\n",
       "      <td>2014-03-23</td>\n",
       "      <td>1</td>\n",
       "      <td>&lt;1</td>\n",
       "    </tr>\n",
       "  </tbody>\n",
       "</table>\n",
       "</div>"
      ],
      "text/plain": [
       "         date aqi_trend pm25_trend\n",
       "0  2014-02-23         0         <1\n",
       "1  2014-03-02        <1         <1\n",
       "2  2014-03-09         1          0\n",
       "3  2014-03-16         1         <1\n",
       "4  2014-03-23         1         <1"
      ]
     },
     "execution_count": 58,
     "metadata": {},
     "output_type": "execute_result"
    }
   ],
   "source": [
    "trend.head()"
   ]
  },
  {
   "cell_type": "code",
   "execution_count": 59,
   "metadata": {},
   "outputs": [
    {
     "data": {
      "text/html": [
       "<div>\n",
       "<style scoped>\n",
       "    .dataframe tbody tr th:only-of-type {\n",
       "        vertical-align: middle;\n",
       "    }\n",
       "\n",
       "    .dataframe tbody tr th {\n",
       "        vertical-align: top;\n",
       "    }\n",
       "\n",
       "    .dataframe thead th {\n",
       "        text-align: right;\n",
       "    }\n",
       "</style>\n",
       "<table border=\"1\" class=\"dataframe\">\n",
       "  <thead>\n",
       "    <tr style=\"text-align: right;\">\n",
       "      <th></th>\n",
       "      <th>date</th>\n",
       "      <th>aqi_trend</th>\n",
       "      <th>pm25_trend</th>\n",
       "    </tr>\n",
       "  </thead>\n",
       "  <tbody>\n",
       "    <tr>\n",
       "      <th>256</th>\n",
       "      <td>2019-01-20</td>\n",
       "      <td>61</td>\n",
       "      <td>40</td>\n",
       "    </tr>\n",
       "    <tr>\n",
       "      <th>257</th>\n",
       "      <td>2019-01-27</td>\n",
       "      <td>100</td>\n",
       "      <td>100</td>\n",
       "    </tr>\n",
       "    <tr>\n",
       "      <th>258</th>\n",
       "      <td>2019-02-03</td>\n",
       "      <td>58</td>\n",
       "      <td>49</td>\n",
       "    </tr>\n",
       "    <tr>\n",
       "      <th>259</th>\n",
       "      <td>2019-02-10</td>\n",
       "      <td>38</td>\n",
       "      <td>26</td>\n",
       "    </tr>\n",
       "    <tr>\n",
       "      <th>260</th>\n",
       "      <td>2019-02-17</td>\n",
       "      <td>32</td>\n",
       "      <td>15</td>\n",
       "    </tr>\n",
       "  </tbody>\n",
       "</table>\n",
       "</div>"
      ],
      "text/plain": [
       "           date aqi_trend pm25_trend\n",
       "256  2019-01-20        61         40\n",
       "257  2019-01-27       100        100\n",
       "258  2019-02-03        58         49\n",
       "259  2019-02-10        38         26\n",
       "260  2019-02-17        32         15"
      ]
     },
     "execution_count": 59,
     "metadata": {},
     "output_type": "execute_result"
    }
   ],
   "source": [
    "trend.tail()"
   ]
  },
  {
   "cell_type": "code",
   "execution_count": 60,
   "metadata": {},
   "outputs": [],
   "source": [
    "trend['date'] =  pd.to_datetime(trend['date'],yearfirst=True)\n"
   ]
  },
  {
   "cell_type": "code",
   "execution_count": 61,
   "metadata": {},
   "outputs": [],
   "source": [
    "trend['aqi_trend'] = trend['aqi_trend'].str.replace('<1','0')\n",
    "trend['pm25_trend'] = trend['pm25_trend'].str.replace('<1','0')\n"
   ]
  },
  {
   "cell_type": "code",
   "execution_count": 62,
   "metadata": {},
   "outputs": [],
   "source": [
    "trend[['aqi_trend', 'pm25_trend']] = trend[[\n",
    "    'aqi_trend', 'pm25_trend']].astype(np.int32)"
   ]
  },
  {
   "cell_type": "code",
   "execution_count": 86,
   "metadata": {
    "scrolled": true
   },
   "outputs": [],
   "source": [
    "trend.to_csv('data/google_trend_all.csv',index=False)"
   ]
  },
  {
   "cell_type": "code",
   "execution_count": 55,
   "metadata": {},
   "outputs": [],
   "source": [
    "trend = pd.read_csv('data/google_trend_all.csv',infer_datetime_format=True)\n",
    "trend['date'] = pd.to_datetime(trend['date'])"
   ]
  },
  {
   "cell_type": "markdown",
   "metadata": {},
   "source": [
    "As mentioned above, more people are aware of the air pollution problem, how do I know that ? There are surge of Google search for the words 'PM2.5' and 'AQI' in Thailand around 2019. "
   ]
  },
  {
   "cell_type": "code",
   "execution_count": 261,
   "metadata": {
    "scrolled": false
   },
   "outputs": [
    {
     "data": {
      "text/plain": [
       "Text(0.5, 1.0, 'Google Search Frequency in Thailand')"
      ]
     },
     "execution_count": 261,
     "metadata": {},
     "output_type": "execute_result"
    },
    {
     "data": {
      "image/png": "[encoded data removed]",
      "text/plain": [
       "<Figure size 648x216 with 1 Axes>"
      ]
     },
     "metadata": {
      "needs_background": "light"
     },
     "output_type": "display_data"
    }
   ],
   "source": [
    "trend.plot('date', ['aqi_trend', 'pm25_trend'], kind='line',\n",
    "           label=['AQI','PM2.5'], xlim=['2015-01-01', '2019-02-07'],\n",
    "          figsize=(9,3))\n",
    "plt.title('Google Search Frequency in Thailand')"
   ]
  },
  {
   "cell_type": "markdown",
   "metadata": {},
   "source": [
    "How AQI are calculated? That depends on the law in different countries. They mostly divided into four pollutants source: ground level ozone(O3), particle pollution (PM2.5 and PM10), toxic gas (NO2, CO, SO2). The table below shows different pollutants from various stations in Thailand on February 2, 2019. There are level of CO, NO2, O3, SO2, PM10 and PM2.5. Most level are normal except, high level of PM2.5 in some region. \n",
    "\n",
    "PM2.5 are particle of size smaller than 2.5 micron. PM2.5 concentation higher than 35 ug/m3 is considered moderate and unhealthy for sensitive group with AQI 100 and above 55.4 ug/m3 is consider unhealthy with AQI 150. Since AQI is calculated from the highest level of pollutant aveage over 24 hours([1](https://airnow.gov/index.cfm?action=aqi_brochure.index)), we focus this notebook on PM 2.5 data. \n",
    "\n",
    "What cause high air pollution in Bangkok last winter? The sources of PM2.5 particle can be car engine, power plants, and agricultural waste burning. There are number of theories: still wind, old diesel cars, near by power plants, and agricultural burning from other provinces. Let's try to answer some of these questions through visualization. "
   ]
  },
  {
   "cell_type": "markdown",
   "metadata": {},
   "source": [
    "![AQI report Thailand](data/aqi_2019_02_19.png)"
   ]
  },
  {
   "cell_type": "markdown",
   "metadata": {},
   "source": [
    "The government official website only provides a month historical data. I use the PM 2.5 from Berkeley Earth [website](http://berkeleyearth.lbl.gov/air-quality/maps/cities/Thailand/). Detail about how to use Python to scrap this data can be found in this [notebook](https://github.com/worasom/aqi_thailand/blob/master/webscraping-PM25.ipynb). Also if you are interested in scrapping the data from the government website, you may find this [notebook](https://github.com/worasom/aqi_thailand/blob/master/webscraping-AQI.ipynb) useful."
   ]
  },
  {
   "cell_type": "code",
   "execution_count": 255,
   "metadata": {},
   "outputs": [
    {
     "name": "stdout",
     "output_type": "stream",
     "text": [
      "% Country: Thailand\n",
      "\n",
      "% City: Bangkok\n",
      "\n",
      "% City (ASCII): Bangkok\n",
      "\n",
      "% Region: Bangkok\n",
      "\n",
      "% Region (ASCII): Bangkok\n",
      "\n",
      "% Population: 5104476\n",
      "\n",
      "% Latitude: 13.754\n",
      "\n",
      "% Longitude: 100.5014\n",
      "\n",
      "% Time Zone: Asia/Bangkok\n",
      "\n",
      "% Year, Month, Day, UTC Hour, PM2.5, PM10_mask, Retrospective\n",
      "\n",
      "2016\t3\t3\t8\t62.9\t1.00\t0\n",
      "\n",
      "2016\t3\t3\t9\t62.9\t1.00\t0\n",
      "\n"
     ]
    }
   ],
   "source": [
    "# inspecting the top of the files \n",
    "with open('data/Bangkok.txt','r') as f:\n",
    "    for i in range(12):\n",
    "        print(f.readline())"
   ]
  },
  {
   "cell_type": "code",
   "execution_count": 116,
   "metadata": {},
   "outputs": [],
   "source": [
    "pm25 = pd.read_csv('data/Bangkok.txt', sep='\\t', \n",
    "                   header=None, skiprows=10)"
   ]
  },
  {
   "cell_type": "code",
   "execution_count": 118,
   "metadata": {},
   "outputs": [],
   "source": [
    "#assemble datetime column \n",
    "pm25['Time'] = pd.to_datetime({'year': pm25[0], 'month': pm25[1], 'day':pm25[2],'hour': pm25[3]})\n",
    "#convert time zone\n",
    "pm25['Time'] = pm25['Time'].dt.tz_localize('UTC').dt.tz_convert('Asia/Bangkok')\n",
    "pm25['Time'] = pm25['Time'].dt.tz_localize(None)\n",
    "pm25=pm25.drop([0,1,2,3,5,6],axis=1)\n",
    "pm25.columns = ['PM2.5', 'Time']"
   ]
  },
  {
   "cell_type": "code",
   "execution_count": 123,
   "metadata": {},
   "outputs": [],
   "source": [
    "pm25[['Time','PM2.5']].to_csv('data/bkk_pm25.csv',index=False)"
   ]
  },
  {
   "cell_type": "markdown",
   "metadata": {
    "heading_collapsed": true
   },
   "source": [
    "# Explore Data and Feature Engineers\n",
    "\n",
    "Data preparation steps such as adding the year, day of month, day of week and the average particle levels. "
   ]
  },
  {
   "cell_type": "code",
   "execution_count": 124,
   "metadata": {
    "hidden": true
   },
   "outputs": [
    {
     "data": {
      "text/html": [
       "<div>\n",
       "<style scoped>\n",
       "    .dataframe tbody tr th:only-of-type {\n",
       "        vertical-align: middle;\n",
       "    }\n",
       "\n",
       "    .dataframe tbody tr th {\n",
       "        vertical-align: top;\n",
       "    }\n",
       "\n",
       "    .dataframe thead th {\n",
       "        text-align: right;\n",
       "    }\n",
       "</style>\n",
       "<table border=\"1\" class=\"dataframe\">\n",
       "  <thead>\n",
       "    <tr style=\"text-align: right;\">\n",
       "      <th></th>\n",
       "      <th>Time</th>\n",
       "      <th>PM2.5</th>\n",
       "    </tr>\n",
       "  </thead>\n",
       "  <tbody>\n",
       "    <tr>\n",
       "      <th>0</th>\n",
       "      <td>2016-03-03 15:00:00</td>\n",
       "      <td>62.9</td>\n",
       "    </tr>\n",
       "    <tr>\n",
       "      <th>1</th>\n",
       "      <td>2016-03-03 16:00:00</td>\n",
       "      <td>62.9</td>\n",
       "    </tr>\n",
       "    <tr>\n",
       "      <th>2</th>\n",
       "      <td>2016-03-03 17:00:00</td>\n",
       "      <td>55.5</td>\n",
       "    </tr>\n",
       "    <tr>\n",
       "      <th>3</th>\n",
       "      <td>2016-03-03 18:00:00</td>\n",
       "      <td>55.5</td>\n",
       "    </tr>\n",
       "    <tr>\n",
       "      <th>4</th>\n",
       "      <td>2016-03-03 19:00:00</td>\n",
       "      <td>47.9</td>\n",
       "    </tr>\n",
       "  </tbody>\n",
       "</table>\n",
       "</div>"
      ],
      "text/plain": [
       "                 Time  PM2.5\n",
       "0 2016-03-03 15:00:00   62.9\n",
       "1 2016-03-03 16:00:00   62.9\n",
       "2 2016-03-03 17:00:00   55.5\n",
       "3 2016-03-03 18:00:00   55.5\n",
       "4 2016-03-03 19:00:00   47.9"
      ]
     },
     "execution_count": 124,
     "metadata": {},
     "output_type": "execute_result"
    }
   ],
   "source": [
    "bkk = pd.read_csv('data/bkk_pm25.csv')\n",
    "bkk['Time'] = pd.to_datetime(bkk['Time'])\n",
    "bkk.head()"
   ]
  },
  {
   "cell_type": "code",
   "execution_count": 600,
   "metadata": {
    "hidden": true
   },
   "outputs": [
    {
     "name": "stdout",
     "output_type": "stream",
     "text": [
      "<class 'pandas.core.frame.DataFrame'>\n",
      "RangeIndex: 23667 entries, 0 to 23666\n",
      "Data columns (total 2 columns):\n",
      "Time     23667 non-null datetime64[ns]\n",
      "PM2.5    23667 non-null float64\n",
      "dtypes: datetime64[ns](1), float64(1)\n",
      "memory usage: 369.9 KB\n"
     ]
    }
   ],
   "source": [
    "bkk.info()"
   ]
  },
  {
   "cell_type": "code",
   "execution_count": 125,
   "metadata": {
    "hidden": true
   },
   "outputs": [],
   "source": [
    "# rolling average over 24 hours window\n",
    "bkk['PM2.5avg'] = bkk['PM2.5'].rolling(24).mean()\n",
    "bkk = bkk.dropna()"
   ]
  },
  {
   "cell_type": "code",
   "execution_count": 126,
   "metadata": {
    "hidden": true
   },
   "outputs": [],
   "source": [
    "pm25 = bkk.set_index('Time')"
   ]
  },
  {
   "cell_type": "code",
   "execution_count": 228,
   "metadata": {
    "hidden": true
   },
   "outputs": [],
   "source": [
    "# featuare engineering \n",
    "pm25['Year'] = pm25.index.year\n",
    "pm25['Month'] = pm25.index.strftime('%B')\n",
    "pm25['DayofMonth'] = pm25.index.day\n",
    "pm25['DayofWeek'] = pm25.index.strftime('%A')\n",
    "pm25['TimeofDay'] = pm25.index.time\n",
    "pm25['level'] = pd.cut(pm25['PM2.5avg'],bins = [0, 35.5, 55.5, 150.4], \n",
    "                       labels=['satisfactory', 'moderate','unhealthy'],\n",
    "                      include_lowest=True, right=False)\n",
    "pm25['color'] = pd.cut(pm25['PM2.5avg'],bins = [0, 35.5, 55.5, 150.4], \n",
    "                       labels=['green', 'orange','red'])\n",
    "pm25['is_weekend'] = 'weekday'\n",
    "pm25.loc[pm25['DayofWeek'].isin(['Saturday','Sunday']),'is_weekend'] ='weekend'\n",
    "\n",
    "pm25['month-year'] = pm25.index.strftime('%b-%Y')"
   ]
  },
  {
   "cell_type": "code",
   "execution_count": 229,
   "metadata": {
    "hidden": true
   },
   "outputs": [
    {
     "data": {
      "text/html": [
       "<div>\n",
       "<style scoped>\n",
       "    .dataframe tbody tr th:only-of-type {\n",
       "        vertical-align: middle;\n",
       "    }\n",
       "\n",
       "    .dataframe tbody tr th {\n",
       "        vertical-align: top;\n",
       "    }\n",
       "\n",
       "    .dataframe thead th {\n",
       "        text-align: right;\n",
       "    }\n",
       "</style>\n",
       "<table border=\"1\" class=\"dataframe\">\n",
       "  <thead>\n",
       "    <tr style=\"text-align: right;\">\n",
       "      <th></th>\n",
       "      <th>PM2.5</th>\n",
       "      <th>PM2.5avg</th>\n",
       "      <th>Year</th>\n",
       "      <th>Month</th>\n",
       "      <th>DayofMonth</th>\n",
       "      <th>DayofWeek</th>\n",
       "      <th>TimeofDay</th>\n",
       "      <th>level</th>\n",
       "      <th>color</th>\n",
       "      <th>season</th>\n",
       "      <th>is_weekend</th>\n",
       "    </tr>\n",
       "    <tr>\n",
       "      <th>Time</th>\n",
       "      <th></th>\n",
       "      <th></th>\n",
       "      <th></th>\n",
       "      <th></th>\n",
       "      <th></th>\n",
       "      <th></th>\n",
       "      <th></th>\n",
       "      <th></th>\n",
       "      <th></th>\n",
       "      <th></th>\n",
       "      <th></th>\n",
       "    </tr>\n",
       "  </thead>\n",
       "  <tbody>\n",
       "    <tr>\n",
       "      <th>2016-03-04 15:00:00</th>\n",
       "      <td>34.2</td>\n",
       "      <td>43.520833</td>\n",
       "      <td>2016</td>\n",
       "      <td>March</td>\n",
       "      <td>4</td>\n",
       "      <td>Friday</td>\n",
       "      <td>15:00:00</td>\n",
       "      <td>moderate</td>\n",
       "      <td>orange</td>\n",
       "      <td>NaN</td>\n",
       "      <td>weekday</td>\n",
       "    </tr>\n",
       "    <tr>\n",
       "      <th>2016-03-04 16:00:00</th>\n",
       "      <td>35.0</td>\n",
       "      <td>42.358333</td>\n",
       "      <td>2016</td>\n",
       "      <td>March</td>\n",
       "      <td>4</td>\n",
       "      <td>Friday</td>\n",
       "      <td>16:00:00</td>\n",
       "      <td>moderate</td>\n",
       "      <td>orange</td>\n",
       "      <td>NaN</td>\n",
       "      <td>weekday</td>\n",
       "    </tr>\n",
       "    <tr>\n",
       "      <th>2016-03-04 17:00:00</th>\n",
       "      <td>30.0</td>\n",
       "      <td>40.987500</td>\n",
       "      <td>2016</td>\n",
       "      <td>March</td>\n",
       "      <td>4</td>\n",
       "      <td>Friday</td>\n",
       "      <td>17:00:00</td>\n",
       "      <td>moderate</td>\n",
       "      <td>orange</td>\n",
       "      <td>NaN</td>\n",
       "      <td>weekday</td>\n",
       "    </tr>\n",
       "    <tr>\n",
       "      <th>2016-03-04 18:00:00</th>\n",
       "      <td>25.6</td>\n",
       "      <td>39.741667</td>\n",
       "      <td>2016</td>\n",
       "      <td>March</td>\n",
       "      <td>4</td>\n",
       "      <td>Friday</td>\n",
       "      <td>18:00:00</td>\n",
       "      <td>moderate</td>\n",
       "      <td>orange</td>\n",
       "      <td>NaN</td>\n",
       "      <td>weekday</td>\n",
       "    </tr>\n",
       "    <tr>\n",
       "      <th>2016-03-04 19:00:00</th>\n",
       "      <td>32.1</td>\n",
       "      <td>38.766667</td>\n",
       "      <td>2016</td>\n",
       "      <td>March</td>\n",
       "      <td>4</td>\n",
       "      <td>Friday</td>\n",
       "      <td>19:00:00</td>\n",
       "      <td>moderate</td>\n",
       "      <td>orange</td>\n",
       "      <td>NaN</td>\n",
       "      <td>weekday</td>\n",
       "    </tr>\n",
       "  </tbody>\n",
       "</table>\n",
       "</div>"
      ],
      "text/plain": [
       "                     PM2.5   PM2.5avg  Year  Month  DayofMonth DayofWeek  \\\n",
       "Time                                                                       \n",
       "2016-03-04 15:00:00   34.2  43.520833  2016  March           4    Friday   \n",
       "2016-03-04 16:00:00   35.0  42.358333  2016  March           4    Friday   \n",
       "2016-03-04 17:00:00   30.0  40.987500  2016  March           4    Friday   \n",
       "2016-03-04 18:00:00   25.6  39.741667  2016  March           4    Friday   \n",
       "2016-03-04 19:00:00   32.1  38.766667  2016  March           4    Friday   \n",
       "\n",
       "                    TimeofDay     level   color season is_weekend  \n",
       "Time                                                               \n",
       "2016-03-04 15:00:00  15:00:00  moderate  orange    NaN    weekday  \n",
       "2016-03-04 16:00:00  16:00:00  moderate  orange    NaN    weekday  \n",
       "2016-03-04 17:00:00  17:00:00  moderate  orange    NaN    weekday  \n",
       "2016-03-04 18:00:00  18:00:00  moderate  orange    NaN    weekday  \n",
       "2016-03-04 19:00:00  19:00:00  moderate  orange    NaN    weekday  "
      ]
     },
     "execution_count": 229,
     "metadata": {},
     "output_type": "execute_result"
    }
   ],
   "source": [
    "pm25.head()"
   ]
  },
  {
   "cell_type": "code",
   "execution_count": 230,
   "metadata": {
    "hidden": true
   },
   "outputs": [],
   "source": [
    "pm25.to_csv('data/bkk_pm25_proc.csv')"
   ]
  },
  {
   "cell_type": "markdown",
   "metadata": {
    "heading_collapsed": true
   },
   "source": [
    "#  Data Visualization\n",
    "\n",
    "Try to answer questions about air pollution in Bangkok through visualization \n",
    "* Is the problem getting worse?\n",
    "* Which months have the highest level of PM2.5 in Bangkok? \n",
    "* What time has the highest pollution?\n",
    "* Is the pollution lower during the holiday?"
   ]
  },
  {
   "cell_type": "code",
   "execution_count": 277,
   "metadata": {
    "hidden": true,
    "scrolled": true
   },
   "outputs": [
    {
     "name": "stdout",
     "output_type": "stream",
     "text": [
      "<class 'pandas.core.frame.DataFrame'>\n",
      "DatetimeIndex: 24130 entries, 2016-03-04 15:00:00 to 2019-03-07 04:00:00\n",
      "Data columns (total 11 columns):\n",
      "PM2.5         24130 non-null float64\n",
      "PM2.5avg      24130 non-null float64\n",
      "Year          24130 non-null int64\n",
      "Month         24130 non-null object\n",
      "DayofMonth    24130 non-null int64\n",
      "DayofWeek     24130 non-null object\n",
      "TimeofDay     24130 non-null object\n",
      "level         24130 non-null object\n",
      "color         24130 non-null object\n",
      "season        15649 non-null object\n",
      "is_weekend    24130 non-null object\n",
      "dtypes: float64(2), int64(2), object(7)\n",
      "memory usage: 2.2+ MB\n"
     ]
    }
   ],
   "source": [
    "pm25 = pd.read_csv('data/bkk_pm25_proc.csv')\n",
    "pm25['Time'] = pd.to_datetime(pm25['Time'])\n",
    "pm25 = pm25.set_index('Time')\n",
    "pm25.info()"
   ]
  },
  {
   "cell_type": "code",
   "execution_count": 278,
   "metadata": {
    "hidden": true
   },
   "outputs": [
    {
     "data": {
      "text/html": [
       "<div>\n",
       "<style scoped>\n",
       "    .dataframe tbody tr th:only-of-type {\n",
       "        vertical-align: middle;\n",
       "    }\n",
       "\n",
       "    .dataframe tbody tr th {\n",
       "        vertical-align: top;\n",
       "    }\n",
       "\n",
       "    .dataframe thead th {\n",
       "        text-align: right;\n",
       "    }\n",
       "</style>\n",
       "<table border=\"1\" class=\"dataframe\">\n",
       "  <thead>\n",
       "    <tr style=\"text-align: right;\">\n",
       "      <th></th>\n",
       "      <th>PM2.5</th>\n",
       "      <th>PM2.5avg</th>\n",
       "      <th>Year</th>\n",
       "      <th>Month</th>\n",
       "      <th>DayofMonth</th>\n",
       "      <th>DayofWeek</th>\n",
       "      <th>TimeofDay</th>\n",
       "      <th>level</th>\n",
       "      <th>color</th>\n",
       "      <th>season</th>\n",
       "      <th>is_weekend</th>\n",
       "    </tr>\n",
       "    <tr>\n",
       "      <th>Time</th>\n",
       "      <th></th>\n",
       "      <th></th>\n",
       "      <th></th>\n",
       "      <th></th>\n",
       "      <th></th>\n",
       "      <th></th>\n",
       "      <th></th>\n",
       "      <th></th>\n",
       "      <th></th>\n",
       "      <th></th>\n",
       "      <th></th>\n",
       "    </tr>\n",
       "  </thead>\n",
       "  <tbody>\n",
       "    <tr>\n",
       "      <th>2016-03-04 15:00:00</th>\n",
       "      <td>34.2</td>\n",
       "      <td>43.520833</td>\n",
       "      <td>2016</td>\n",
       "      <td>March</td>\n",
       "      <td>4</td>\n",
       "      <td>Friday</td>\n",
       "      <td>15:00:00</td>\n",
       "      <td>moderate</td>\n",
       "      <td>orange</td>\n",
       "      <td>NaN</td>\n",
       "      <td>weekday</td>\n",
       "    </tr>\n",
       "    <tr>\n",
       "      <th>2016-03-04 16:00:00</th>\n",
       "      <td>35.0</td>\n",
       "      <td>42.358333</td>\n",
       "      <td>2016</td>\n",
       "      <td>March</td>\n",
       "      <td>4</td>\n",
       "      <td>Friday</td>\n",
       "      <td>16:00:00</td>\n",
       "      <td>moderate</td>\n",
       "      <td>orange</td>\n",
       "      <td>NaN</td>\n",
       "      <td>weekday</td>\n",
       "    </tr>\n",
       "    <tr>\n",
       "      <th>2016-03-04 17:00:00</th>\n",
       "      <td>30.0</td>\n",
       "      <td>40.987500</td>\n",
       "      <td>2016</td>\n",
       "      <td>March</td>\n",
       "      <td>4</td>\n",
       "      <td>Friday</td>\n",
       "      <td>17:00:00</td>\n",
       "      <td>moderate</td>\n",
       "      <td>orange</td>\n",
       "      <td>NaN</td>\n",
       "      <td>weekday</td>\n",
       "    </tr>\n",
       "    <tr>\n",
       "      <th>2016-03-04 18:00:00</th>\n",
       "      <td>25.6</td>\n",
       "      <td>39.741667</td>\n",
       "      <td>2016</td>\n",
       "      <td>March</td>\n",
       "      <td>4</td>\n",
       "      <td>Friday</td>\n",
       "      <td>18:00:00</td>\n",
       "      <td>moderate</td>\n",
       "      <td>orange</td>\n",
       "      <td>NaN</td>\n",
       "      <td>weekday</td>\n",
       "    </tr>\n",
       "    <tr>\n",
       "      <th>2016-03-04 19:00:00</th>\n",
       "      <td>32.1</td>\n",
       "      <td>38.766667</td>\n",
       "      <td>2016</td>\n",
       "      <td>March</td>\n",
       "      <td>4</td>\n",
       "      <td>Friday</td>\n",
       "      <td>19:00:00</td>\n",
       "      <td>moderate</td>\n",
       "      <td>orange</td>\n",
       "      <td>NaN</td>\n",
       "      <td>weekday</td>\n",
       "    </tr>\n",
       "  </tbody>\n",
       "</table>\n",
       "</div>"
      ],
      "text/plain": [
       "                     PM2.5   PM2.5avg  Year  Month  DayofMonth DayofWeek  \\\n",
       "Time                                                                       \n",
       "2016-03-04 15:00:00   34.2  43.520833  2016  March           4    Friday   \n",
       "2016-03-04 16:00:00   35.0  42.358333  2016  March           4    Friday   \n",
       "2016-03-04 17:00:00   30.0  40.987500  2016  March           4    Friday   \n",
       "2016-03-04 18:00:00   25.6  39.741667  2016  March           4    Friday   \n",
       "2016-03-04 19:00:00   32.1  38.766667  2016  March           4    Friday   \n",
       "\n",
       "                    TimeofDay     level   color season is_weekend  \n",
       "Time                                                               \n",
       "2016-03-04 15:00:00  15:00:00  moderate  orange    NaN    weekday  \n",
       "2016-03-04 16:00:00  16:00:00  moderate  orange    NaN    weekday  \n",
       "2016-03-04 17:00:00  17:00:00  moderate  orange    NaN    weekday  \n",
       "2016-03-04 18:00:00  18:00:00  moderate  orange    NaN    weekday  \n",
       "2016-03-04 19:00:00  19:00:00  moderate  orange    NaN    weekday  "
      ]
     },
     "execution_count": 278,
     "metadata": {},
     "output_type": "execute_result"
    }
   ],
   "source": [
    "pm25.head()"
   ]
  },
  {
   "cell_type": "markdown",
   "metadata": {
    "hidden": true
   },
   "source": [
    "Plot the particle pollution vs time."
   ]
  },
  {
   "cell_type": "code",
   "execution_count": 289,
   "metadata": {
    "hidden": true
   },
   "outputs": [
    {
     "data": {
      "text/plain": [
       "array(['moderate', 'satisfactory', 'unhealthy'], dtype='<U12')"
      ]
     },
     "execution_count": 289,
     "metadata": {},
     "output_type": "execute_result"
    }
   ],
   "source": [
    "pm25['level'].unique().astype(str)"
   ]
  },
  {
   "cell_type": "code",
   "execution_count": 286,
   "metadata": {
    "hidden": true
   },
   "outputs": [
    {
     "data": {
      "text/plain": [
       "array(['moderate'], dtype='<U8')"
      ]
     },
     "execution_count": 286,
     "metadata": {},
     "output_type": "execute_result"
    }
   ],
   "source": [
    "temp = pm25.query('level == \"moderate\"')\n",
    "temp['level'].unique().astype(str)"
   ]
  },
  {
   "cell_type": "code",
   "execution_count": 65,
   "metadata": {
    "code_folding": [],
    "hidden": true
   },
   "outputs": [
    {
     "data": {
      "image/png": "[encoded data removed]",
      "text/plain": [
       "<Figure size 648x432 with 2 Axes>"
      ]
     },
     "metadata": {
      "needs_background": "light"
     },
     "output_type": "display_data"
    }
   ],
   "source": [
    "#color_dict = {'satisfactory':'green', 'moderate':'orange', 'unhealthy':'red'}\n",
    "#pm25['color'] = [color_dict[level] for level in pm25['level']]\n",
    "\n",
    "fig = plt.figure(figsize=(9, 6))\n",
    "ax1 = fig.add_subplot(211)\n",
    "\n",
    "for legend in ['satisfactory', 'moderate', 'unhealthy']:\n",
    "    temp = pm25[pm25['level']==legend]\n",
    "    ax1.scatter(temp.index, temp['PM2.5avg'], \n",
    "                c=temp['color'], marker='.', label=legend)\n",
    "\n",
    "plt.title(\"PM2.5 level in Bangkok ($\\mu$g/m$^3$)\")\n",
    "plt.legend(loc='upper right')\n",
    "#plt.legend(['satisfactory', 'unhealthy for \\nsensitive group', 'unhealthy'], loc='upper right')\n",
    "\n",
    "\n",
    "ax1.axvspan('2016-11','2017-04', color='gray', alpha=0.2)\n",
    "#ax1.annotate('',xy = ('2016-11',70), xytext=('2017-04',70),\n",
    "#            arrowprops=dict(arrowstyle='<->', lw = 2))\n",
    "plt.text('2017-01', 75, r'Nov 2016 - Apr 2017 ',\n",
    "         {'color': 'k', 'fontsize': 16, 'ha': 'center'})\n",
    "\n",
    "ax1.axvspan('2017-12','2018-04', color='gray', alpha=0.2)\n",
    "#ax1.annotate('',xy = ('2017-11',70), xytext=('2018-04',70),\n",
    "#            arrowprops=dict(arrowstyle='<->', lw = 2))\n",
    "plt.text('2017-10', 75, r'Dec 2017 - Apr 2018 ',\n",
    "         {'color': 'k', 'fontsize': 16, 'ha': 'left'})\n",
    "\n",
    "ax1.axvspan('2018-11','2019-02', color='gray', alpha=0.2)\n",
    "\n",
    "ax1.xaxis.set_major_formatter(mdates.DateFormatter(\"%b\\n%Y\"))\n",
    "plt.xlim(pm25.index.min(), pm25.index.max())\n",
    "\n",
    "ax2 = fig.add_subplot(212)\n",
    "trend.plot('date', ['aqi_trend', 'pm25_trend'], kind='line',\n",
    "           label=['AQI search', 'PM2.5 search'], ax=ax2)\n",
    "plt.title('Google Search Frequency in Thailand')\n",
    "#ax2.xaxis.set_major_formatter(mdates.DateFormatter(\"%b\\n%Y\"))\n",
    "plt.xlim(pm25.index.min(), pm25.index.max())\n",
    "plt.tight_layout()"
   ]
  },
  {
   "cell_type": "markdown",
   "metadata": {
    "hidden": true
   },
   "source": [
    "The air pollution seem to be seasonal, with surge around winter seasion (Dec - Jan). In fact, the winter pollution exists since 2017, but public awareness has just increased recently.\n",
    "\n",
    "Is the problem getting worse every year?"
   ]
  },
  {
   "cell_type": "code",
   "execution_count": 23,
   "metadata": {
    "hidden": true
   },
   "outputs": [],
   "source": [
    "num_days = pd.DataFrame()\n",
    "# number of day per year with particle lever higher than limit (AQI 150)\n",
    "num_days['unhealthy'] = pm25[pm25['PM2.5avg'] > 55.4].resample('d').mean().groupby('Year').count()['DayofMonth']\n",
    "\n",
    "# number of day per year with particle lever higher than limit (AQI 100)\n",
    "num_days['moderate'] = pm25[pm25['PM2.5avg'] > 35.4].resample('d').mean().groupby('Year').count()['DayofMonth'] - num_days['unhealthy']\n",
    "num_days.index = num_days.index.astype(int)"
   ]
  },
  {
   "cell_type": "code",
   "execution_count": 24,
   "metadata": {
    "hidden": true
   },
   "outputs": [
    {
     "data": {
      "text/plain": [
       "Text(0.5, 1.0, 'numbers of bad air days')"
      ]
     },
     "execution_count": 24,
     "metadata": {},
     "output_type": "execute_result"
    },
    {
     "data": {
      "image/png": "[encoded data removed]",
      "text/plain": [
       "<Figure size 648x360 with 2 Axes>"
      ]
     },
     "metadata": {
      "needs_background": "light"
     },
     "output_type": "display_data"
    }
   ],
   "source": [
    "fig, ax = plt.subplots(1,2,figsize=(9,5))\n",
    "\n",
    "# find yearly PM2.5 average\n",
    "yearavg = pm25.groupby('Year').mean()['PM2.5avg']\n",
    "\n",
    "yearavg.plot(kind='bar', color ='green',ax=ax[0])\n",
    "ax[0].set_ylabel('PM2.5 level $\\mu$g/m$^3$')\n",
    "ax[0].set_title('yearly average')\n",
    "\n",
    "num_days[['moderate','unhealthy']].plot(kind='bar', stacked=True, color = ['orange','red'], ax=ax[1])\n",
    "ax[1].set_title('numbers of bad air days')"
   ]
  },
  {
   "cell_type": "code",
   "execution_count": 71,
   "metadata": {
    "hidden": true
   },
   "outputs": [
    {
     "name": "stdout",
     "output_type": "stream",
     "text": [
      "Year\n",
      "2016    24.376378\n",
      "2017    25.117491\n",
      "2018    25.037562\n",
      "2019    43.118296\n",
      "Name: PM2.5avg, dtype: float64\n"
     ]
    }
   ],
   "source": [
    "print(yearavg)"
   ]
  },
  {
   "cell_type": "markdown",
   "metadata": {
    "hidden": true
   },
   "source": [
    "The average for 2019 is high because we only have the winter data, which has high pollution.This set of data does not have data in Jan-Feb of 2016, and 2015, which explain why the number of day is lower in 2016. The year 2018 has 25 days with very high AQI (from the Jan-Feb and Dec). Without more data, it's hard to judge if the situation is getting worse. \n",
    "\n",
    "To summarize, the yearly average is not increasing, but the number of days with high AQI seem to be higher. Another way to see trend for time series data is to look at the rate of change, which is shown below. "
   ]
  },
  {
   "cell_type": "code",
   "execution_count": 588,
   "metadata": {
    "hidden": true,
    "scrolled": true
   },
   "outputs": [
    {
     "data": {
      "text/plain": [
       "(array([736420., 736511., 736603., 736695., 736785., 736876., 736968., 737060.]),\n",
       " <a list of 8 Text xticklabel objects>)"
      ]
     },
     "execution_count": 588,
     "metadata": {},
     "output_type": "execute_result"
    },
    {
     "data": {
      "image/png": "[encoded data removed]",
      "text/plain": [
       "<Figure size 432x288 with 1 Axes>"
      ]
     },
     "metadata": {
      "needs_background": "light"
     },
     "output_type": "display_data"
    }
   ],
   "source": [
    "plt.plot(pm25['PM2.5avg'].diff().rolling(24*30*12).mean())\n",
    "plt.xticks(rotation=45)"
   ]
  },
  {
   "cell_type": "markdown",
   "metadata": {
    "hidden": true
   },
   "source": [
    "The rate of change is around zero except at the very end. This confirm that the problem is about the same every year. \n",
    "\n",
    "Next, I will try another way to present the yearly trend. Since the pollution is seasonal around, winter, it's best to group the data by season rather than year."
   ]
  },
  {
   "cell_type": "code",
   "execution_count": 411,
   "metadata": {
    "hidden": true
   },
   "outputs": [
    {
     "data": {
      "text/plain": [
       "array(['other\\nseasons', 'winter\\n2016-2017', 'winter\\n2017-2018', 'winter\\n2018-2019'], dtype=object)"
      ]
     },
     "execution_count": 411,
     "metadata": {},
     "output_type": "execute_result"
    }
   ],
   "source": [
    "dayavg['season'].unique()"
   ]
  },
  {
   "cell_type": "code",
   "execution_count": 409,
   "metadata": {
    "hidden": true,
    "scrolled": true
   },
   "outputs": [
    {
     "data": {
      "text/html": [
       "<div>\n",
       "<style scoped>\n",
       "    .dataframe tbody tr th:only-of-type {\n",
       "        vertical-align: middle;\n",
       "    }\n",
       "\n",
       "    .dataframe tbody tr th {\n",
       "        vertical-align: top;\n",
       "    }\n",
       "\n",
       "    .dataframe thead th {\n",
       "        text-align: right;\n",
       "    }\n",
       "</style>\n",
       "<table border=\"1\" class=\"dataframe\">\n",
       "  <thead>\n",
       "    <tr style=\"text-align: right;\">\n",
       "      <th></th>\n",
       "      <th>PM2.5</th>\n",
       "      <th>season</th>\n",
       "      <th>level</th>\n",
       "    </tr>\n",
       "    <tr>\n",
       "      <th>Time</th>\n",
       "      <th></th>\n",
       "      <th></th>\n",
       "      <th></th>\n",
       "    </tr>\n",
       "  </thead>\n",
       "  <tbody>\n",
       "    <tr>\n",
       "      <th>2019-03-03</th>\n",
       "      <td>30.445833</td>\n",
       "      <td>winter\\n2018-2019</td>\n",
       "      <td>satisfactory</td>\n",
       "    </tr>\n",
       "    <tr>\n",
       "      <th>2019-03-04</th>\n",
       "      <td>25.304167</td>\n",
       "      <td>winter\\n2018-2019</td>\n",
       "      <td>satisfactory</td>\n",
       "    </tr>\n",
       "    <tr>\n",
       "      <th>2019-03-05</th>\n",
       "      <td>28.466667</td>\n",
       "      <td>winter\\n2018-2019</td>\n",
       "      <td>satisfactory</td>\n",
       "    </tr>\n",
       "    <tr>\n",
       "      <th>2019-03-06</th>\n",
       "      <td>31.725000</td>\n",
       "      <td>winter\\n2018-2019</td>\n",
       "      <td>satisfactory</td>\n",
       "    </tr>\n",
       "    <tr>\n",
       "      <th>2019-03-07</th>\n",
       "      <td>23.740000</td>\n",
       "      <td>winter\\n2018-2019</td>\n",
       "      <td>satisfactory</td>\n",
       "    </tr>\n",
       "  </tbody>\n",
       "</table>\n",
       "</div>"
      ],
      "text/plain": [
       "                PM2.5             season         level\n",
       "Time                                                  \n",
       "2019-03-03  30.445833  winter\\n2018-2019  satisfactory\n",
       "2019-03-04  25.304167  winter\\n2018-2019  satisfactory\n",
       "2019-03-05  28.466667  winter\\n2018-2019  satisfactory\n",
       "2019-03-06  31.725000  winter\\n2018-2019  satisfactory\n",
       "2019-03-07  23.740000  winter\\n2018-2019  satisfactory"
      ]
     },
     "execution_count": 409,
     "metadata": {},
     "output_type": "execute_result"
    }
   ],
   "source": [
    "dayavg = pm25['PM2.5'].resample('d').mean().to_frame()\n",
    "dayavg['season'] = 'other\\nseasons'\n",
    "dayavg.loc['2016-09':'2017-05','season'] = 'winter\\n2016-2017'\n",
    "dayavg.loc['2017-09':'2018-05','season'] = 'winter\\n2017-2018'\n",
    "dayavg.loc['2018-09':'2019-05','season'] = 'winter\\n2018-2019'\n",
    "\n",
    "dayavg['level'] = pd.cut(dayavg['PM2.5'],bins = [0, 35.5, 55.5, 150.4], \n",
    "                       labels=['satisfactory', 'moderate','unhealthy'],\n",
    "                      include_lowest=True, right=False)\n",
    "dayavg.tail()"
   ]
  },
  {
   "cell_type": "code",
   "execution_count": 126,
   "metadata": {
    "hidden": true
   },
   "outputs": [
    {
     "data": {
      "text/plain": [
       "<matplotlib.axes._subplots.AxesSubplot at 0x1e40253ab70>"
      ]
     },
     "execution_count": 126,
     "metadata": {},
     "output_type": "execute_result"
    },
    {
     "data": {
      "image/png": "[encoded data removed]",
      "text/plain": [
       "<Figure size 432x288 with 1 Axes>"
      ]
     },
     "metadata": {
      "needs_background": "light"
     },
     "output_type": "display_data"
    }
   ],
   "source": [
    "dayavg['PM2.5'].hist()"
   ]
  },
  {
   "cell_type": "code",
   "execution_count": 178,
   "metadata": {
    "hidden": true
   },
   "outputs": [
    {
     "data": {
      "text/html": [
       "<div>\n",
       "<style scoped>\n",
       "    .dataframe tbody tr th:only-of-type {\n",
       "        vertical-align: middle;\n",
       "    }\n",
       "\n",
       "    .dataframe tbody tr th {\n",
       "        vertical-align: top;\n",
       "    }\n",
       "\n",
       "    .dataframe thead th {\n",
       "        text-align: right;\n",
       "    }\n",
       "</style>\n",
       "<table border=\"1\" class=\"dataframe\">\n",
       "  <thead>\n",
       "    <tr style=\"text-align: right;\">\n",
       "      <th></th>\n",
       "      <th>moderate</th>\n",
       "      <th>unhealthy</th>\n",
       "    </tr>\n",
       "    <tr>\n",
       "      <th>season</th>\n",
       "      <th></th>\n",
       "      <th></th>\n",
       "    </tr>\n",
       "  </thead>\n",
       "  <tbody>\n",
       "    <tr>\n",
       "      <th>winter\\n2016-2017</th>\n",
       "      <td>51</td>\n",
       "      <td>9</td>\n",
       "    </tr>\n",
       "    <tr>\n",
       "      <th>winter\\n2017-2018</th>\n",
       "      <td>57</td>\n",
       "      <td>13</td>\n",
       "    </tr>\n",
       "    <tr>\n",
       "      <th>winter\\n2018-2019</th>\n",
       "      <td>32</td>\n",
       "      <td>11</td>\n",
       "    </tr>\n",
       "  </tbody>\n",
       "</table>\n",
       "</div>"
      ],
      "text/plain": [
       "                   moderate  unhealthy\n",
       "season                                \n",
       "winter\\n2016-2017        51          9\n",
       "winter\\n2017-2018        57         13\n",
       "winter\\n2018-2019        32         11"
      ]
     },
     "execution_count": 178,
     "metadata": {},
     "output_type": "execute_result"
    }
   ],
   "source": [
    "# calculate seasonal average and number of days with high pollutions\n",
    "numdays = pd.DataFrame()\n",
    "numdays = dayavg[['season','level','PM2.5']].groupby(['season','level'],\n",
    "                                                    as_index=False).count()\n",
    "\n",
    "numdays = numdays[numdays['level']!='satisfactory']\n",
    "numdays = numdays.dropna()\n",
    "numdays = pd.pivot_table(numdays,index='season',columns='level')\n",
    "numdays.columns = ['moderate','unhealthy']\n",
    "numdays.head()"
   ]
  },
  {
   "cell_type": "markdown",
   "metadata": {
    "hidden": true
   },
   "source": [
    "the number in 2019 is low due to lack of data from the future. I will use \n",
    "the average during march 08 - may 31 and add to the data. "
   ]
  },
  {
   "cell_type": "code",
   "execution_count": 211,
   "metadata": {
    "hidden": true
   },
   "outputs": [
    {
     "data": {
      "text/plain": [
       "satisfactory    66\n",
       "moderate        12\n",
       "unhealthy        1\n",
       "dtype: int32"
      ]
     },
     "execution_count": 211,
     "metadata": {},
     "output_type": "execute_result"
    }
   ],
   "source": [
    "temp=pd.concat([dayavg.loc['2016-03-08':'2016-05-31', 'level'].value_counts(),\n",
    " dayavg.loc['2017-03-08':'2017-05-31', 'level'].value_counts(),\n",
    "          dayavg.loc['2018-03-08':'2018-05-31', 'level'].value_counts()],axis=1)\n",
    "\n",
    "temp = temp.mean(axis=1).astype(int)\n",
    "temp"
   ]
  },
  {
   "cell_type": "code",
   "execution_count": 215,
   "metadata": {
    "hidden": true
   },
   "outputs": [],
   "source": [
    "numdays.iloc[-1,0] = numdays.iloc[-1,0]+ temp['moderate']\n",
    "numdays.iloc[-1,1] +=  temp['unhealthy']"
   ]
  },
  {
   "cell_type": "code",
   "execution_count": 412,
   "metadata": {
    "hidden": true
   },
   "outputs": [
    {
     "data": {
      "text/html": [
       "<div>\n",
       "<style scoped>\n",
       "    .dataframe tbody tr th:only-of-type {\n",
       "        vertical-align: middle;\n",
       "    }\n",
       "\n",
       "    .dataframe tbody tr th {\n",
       "        vertical-align: top;\n",
       "    }\n",
       "\n",
       "    .dataframe thead th {\n",
       "        text-align: right;\n",
       "    }\n",
       "</style>\n",
       "<table border=\"1\" class=\"dataframe\">\n",
       "  <thead>\n",
       "    <tr style=\"text-align: right;\">\n",
       "      <th></th>\n",
       "      <th>season</th>\n",
       "      <th>PM2.5mean</th>\n",
       "      <th>PM2.5std</th>\n",
       "      <th>color</th>\n",
       "    </tr>\n",
       "  </thead>\n",
       "  <tbody>\n",
       "    <tr>\n",
       "      <th>0</th>\n",
       "      <td>other\\nseasons</td>\n",
       "      <td>19.112784</td>\n",
       "      <td>8.002606</td>\n",
       "      <td>green</td>\n",
       "    </tr>\n",
       "    <tr>\n",
       "      <th>1</th>\n",
       "      <td>winter\\n2016-2017</td>\n",
       "      <td>28.765613</td>\n",
       "      <td>12.395808</td>\n",
       "      <td>green</td>\n",
       "    </tr>\n",
       "    <tr>\n",
       "      <th>2</th>\n",
       "      <td>winter\\n2017-2018</td>\n",
       "      <td>28.570890</td>\n",
       "      <td>13.535275</td>\n",
       "      <td>green</td>\n",
       "    </tr>\n",
       "    <tr>\n",
       "      <th>3</th>\n",
       "      <td>winter\\n2018-2019</td>\n",
       "      <td>29.876587</td>\n",
       "      <td>12.793924</td>\n",
       "      <td>green</td>\n",
       "    </tr>\n",
       "  </tbody>\n",
       "</table>\n",
       "</div>"
      ],
      "text/plain": [
       "              season  PM2.5mean   PM2.5std  color\n",
       "0     other\\nseasons  19.112784   8.002606  green\n",
       "1  winter\\n2016-2017  28.765613  12.395808  green\n",
       "2  winter\\n2017-2018  28.570890  13.535275  green\n",
       "3  winter\\n2018-2019  29.876587  12.793924  green"
      ]
     },
     "execution_count": 412,
     "metadata": {},
     "output_type": "execute_result"
    }
   ],
   "source": [
    "yearavg = dayavg[['season','PM2.5']].groupby('season', as_index=False).agg({'PM2.5':[np.mean,np.std]})\n",
    "yearavg['color'] = pd.cut(yearavg['PM2.5','mean'],bins = [0, 35.5, 55.5, 150.4], \n",
    "                       labels=['green', 'orange','red'], include_lowest=True, right=False).astype(str)\n",
    "yearavg.columns = [a+b for a,b in yearavg.columns]\n",
    "\n",
    "yearavg"
   ]
  },
  {
   "cell_type": "code",
   "execution_count": 400,
   "metadata": {
    "hidden": true
   },
   "outputs": [
    {
     "data": {
      "text/plain": [
       "['season', 'PM2.5mean', 'PM2.5std', 'color']"
      ]
     },
     "execution_count": 400,
     "metadata": {},
     "output_type": "execute_result"
    }
   ],
   "source": [
    "[a+b for a,b in yearavg.columns]"
   ]
  },
  {
   "cell_type": "code",
   "execution_count": 414,
   "metadata": {
    "hidden": true
   },
   "outputs": [
    {
     "data": {
      "image/png": "[encoded data removed]",
      "text/plain": [
       "<Figure size 792x288 with 2 Axes>"
      ]
     },
     "metadata": {
      "needs_background": "light"
     },
     "output_type": "display_data"
    }
   ],
   "source": [
    "fig, ax = plt.subplots(1,2,figsize=(11,4))\n",
    "\n",
    "yearavg.plot(x='season', y='PM2.5mean',yerr='PM2.5std', kind='bar', \n",
    "             edgecolor='black', color='green',ax=ax[0], legend=None)\n",
    "ax[0].set_ylabel('PM2.5 level $\\mu$g/m$^3$')\n",
    "ax[0].set_title('seasonal average')\n",
    "ax[0].tick_params(rotation=0)\n",
    "ax[0].xaxis.label.set_visible(False)\n",
    "\n",
    "numdays.plot(kind='bar',stacked=True, color = ['orange','red'], edgecolor='black', ax=ax[1])\n",
    "#sns.barplot(x='season',y='count',hue='level', data=numdays, stacked=True, ax=ax[1])\n",
    "ax[1].set_title('numbers of bad air days')\n",
    "ax[1].tick_params(rotation=0)\n",
    "ax[1].xaxis.label.set_visible(False)\n"
   ]
  },
  {
   "cell_type": "code",
   "execution_count": 218,
   "metadata": {
    "hidden": true
   },
   "outputs": [
    {
     "data": {
      "text/html": [
       "<div>\n",
       "<style scoped>\n",
       "    .dataframe tbody tr th:only-of-type {\n",
       "        vertical-align: middle;\n",
       "    }\n",
       "\n",
       "    .dataframe tbody tr th {\n",
       "        vertical-align: top;\n",
       "    }\n",
       "\n",
       "    .dataframe thead th {\n",
       "        text-align: right;\n",
       "    }\n",
       "</style>\n",
       "<table border=\"1\" class=\"dataframe\">\n",
       "  <thead>\n",
       "    <tr style=\"text-align: right;\">\n",
       "      <th></th>\n",
       "      <th>moderate</th>\n",
       "      <th>unhealthy</th>\n",
       "    </tr>\n",
       "    <tr>\n",
       "      <th>season</th>\n",
       "      <th></th>\n",
       "      <th></th>\n",
       "    </tr>\n",
       "  </thead>\n",
       "  <tbody>\n",
       "    <tr>\n",
       "      <th>winter\\n2016-2017</th>\n",
       "      <td>51</td>\n",
       "      <td>9</td>\n",
       "    </tr>\n",
       "    <tr>\n",
       "      <th>winter\\n2017-2018</th>\n",
       "      <td>57</td>\n",
       "      <td>13</td>\n",
       "    </tr>\n",
       "    <tr>\n",
       "      <th>winter\\n2018-2019</th>\n",
       "      <td>44</td>\n",
       "      <td>12</td>\n",
       "    </tr>\n",
       "  </tbody>\n",
       "</table>\n",
       "</div>"
      ],
      "text/plain": [
       "                   moderate  unhealthy\n",
       "season                                \n",
       "winter\\n2016-2017        51          9\n",
       "winter\\n2017-2018        57         13\n",
       "winter\\n2018-2019        44         12"
      ]
     },
     "execution_count": 218,
     "metadata": {},
     "output_type": "execute_result"
    }
   ],
   "source": [
    "numdays"
   ]
  },
  {
   "cell_type": "markdown",
   "metadata": {
    "hidden": true
   },
   "source": [
    "Bangkok is a tourist city, which month should you avoid going to Bangkok. If you are Bangkokians what is the best time to go for a jog? Is the air pollution better during the holiday when everyone is away?\n",
    "\n",
    "I am going to perform analysis for 2017 and 2018. First, separate a table for 2017 and 2018, and then create a daily average for each date of month."
   ]
  },
  {
   "cell_type": "code",
   "execution_count": 34,
   "metadata": {
    "hidden": true
   },
   "outputs": [
    {
     "name": "stdout",
     "output_type": "stream",
     "text": [
      "<class 'pandas.core.frame.DataFrame'>\n",
      "DatetimeIndex: 24130 entries, 2016-03-04 15:00:00 to 2019-03-07 04:00:00\n",
      "Data columns (total 9 columns):\n",
      "PM2.5         24130 non-null float64\n",
      "PM2.5avg      24130 non-null float64\n",
      "Year          24130 non-null int64\n",
      "Month         24130 non-null object\n",
      "DayofMonth    24130 non-null int64\n",
      "DayofWeek     24130 non-null object\n",
      "TimeofDay     24130 non-null object\n",
      "level         24130 non-null object\n",
      "color         24130 non-null object\n",
      "dtypes: float64(2), int64(2), object(5)\n",
      "memory usage: 2.5+ MB\n"
     ]
    }
   ],
   "source": [
    "pm25.info()"
   ]
  },
  {
   "cell_type": "code",
   "execution_count": 428,
   "metadata": {
    "hidden": true
   },
   "outputs": [],
   "source": [
    "pm25_2017 = pm25['2017']\n",
    "pm25_2018 = pm25['2018']"
   ]
  },
  {
   "cell_type": "code",
   "execution_count": 429,
   "metadata": {
    "hidden": true,
    "scrolled": true
   },
   "outputs": [],
   "source": [
    "date_month_2017 = pd.crosstab(pm25_2017['Month'], pm25_2017['DayofMonth'], pm25_2017['PM2.5avg'], aggfunc=np.mean)\n",
    "month_name=pd.date_range('2014-01','2014-12', freq='MS').strftime(\"%B\").tolist()\n",
    "date_month_2017 = date_month_2017.reindex(month_name)"
   ]
  },
  {
   "cell_type": "code",
   "execution_count": 430,
   "metadata": {
    "hidden": true
   },
   "outputs": [
    {
     "data": {
      "text/html": [
       "<div>\n",
       "<style scoped>\n",
       "    .dataframe tbody tr th:only-of-type {\n",
       "        vertical-align: middle;\n",
       "    }\n",
       "\n",
       "    .dataframe tbody tr th {\n",
       "        vertical-align: top;\n",
       "    }\n",
       "\n",
       "    .dataframe thead th {\n",
       "        text-align: right;\n",
       "    }\n",
       "</style>\n",
       "<table border=\"1\" class=\"dataframe\">\n",
       "  <thead>\n",
       "    <tr style=\"text-align: right;\">\n",
       "      <th>DayofMonth</th>\n",
       "      <th>1</th>\n",
       "      <th>2</th>\n",
       "      <th>3</th>\n",
       "      <th>4</th>\n",
       "      <th>5</th>\n",
       "      <th>6</th>\n",
       "      <th>7</th>\n",
       "      <th>8</th>\n",
       "      <th>9</th>\n",
       "      <th>10</th>\n",
       "      <th>...</th>\n",
       "      <th>22</th>\n",
       "      <th>23</th>\n",
       "      <th>24</th>\n",
       "      <th>25</th>\n",
       "      <th>26</th>\n",
       "      <th>27</th>\n",
       "      <th>28</th>\n",
       "      <th>29</th>\n",
       "      <th>30</th>\n",
       "      <th>31</th>\n",
       "    </tr>\n",
       "    <tr>\n",
       "      <th>Month</th>\n",
       "      <th></th>\n",
       "      <th></th>\n",
       "      <th></th>\n",
       "      <th></th>\n",
       "      <th></th>\n",
       "      <th></th>\n",
       "      <th></th>\n",
       "      <th></th>\n",
       "      <th></th>\n",
       "      <th></th>\n",
       "      <th></th>\n",
       "      <th></th>\n",
       "      <th></th>\n",
       "      <th></th>\n",
       "      <th></th>\n",
       "      <th></th>\n",
       "      <th></th>\n",
       "      <th></th>\n",
       "      <th></th>\n",
       "      <th></th>\n",
       "      <th></th>\n",
       "    </tr>\n",
       "  </thead>\n",
       "  <tbody>\n",
       "    <tr>\n",
       "      <th>January</th>\n",
       "      <td>26.188715</td>\n",
       "      <td>21.179167</td>\n",
       "      <td>20.485764</td>\n",
       "      <td>21.911458</td>\n",
       "      <td>26.305208</td>\n",
       "      <td>25.600694</td>\n",
       "      <td>27.596528</td>\n",
       "      <td>32.629167</td>\n",
       "      <td>NaN</td>\n",
       "      <td>NaN</td>\n",
       "      <td>...</td>\n",
       "      <td>26.099306</td>\n",
       "      <td>24.397656</td>\n",
       "      <td>30.672743</td>\n",
       "      <td>37.478646</td>\n",
       "      <td>36.815278</td>\n",
       "      <td>31.755035</td>\n",
       "      <td>30.134954</td>\n",
       "      <td>38.933553</td>\n",
       "      <td>44.263194</td>\n",
       "      <td>48.823958</td>\n",
       "    </tr>\n",
       "    <tr>\n",
       "      <th>February</th>\n",
       "      <td>44.708333</td>\n",
       "      <td>43.674638</td>\n",
       "      <td>34.771875</td>\n",
       "      <td>27.608507</td>\n",
       "      <td>34.921875</td>\n",
       "      <td>41.838368</td>\n",
       "      <td>45.634201</td>\n",
       "      <td>36.740399</td>\n",
       "      <td>36.043924</td>\n",
       "      <td>46.258333</td>\n",
       "      <td>...</td>\n",
       "      <td>34.183854</td>\n",
       "      <td>24.312500</td>\n",
       "      <td>16.761979</td>\n",
       "      <td>20.480556</td>\n",
       "      <td>22.173264</td>\n",
       "      <td>25.217882</td>\n",
       "      <td>45.363542</td>\n",
       "      <td>NaN</td>\n",
       "      <td>NaN</td>\n",
       "      <td>NaN</td>\n",
       "    </tr>\n",
       "    <tr>\n",
       "      <th>March</th>\n",
       "      <td>52.884375</td>\n",
       "      <td>52.621007</td>\n",
       "      <td>59.289757</td>\n",
       "      <td>56.183102</td>\n",
       "      <td>44.355254</td>\n",
       "      <td>39.864394</td>\n",
       "      <td>37.183854</td>\n",
       "      <td>35.740972</td>\n",
       "      <td>32.018229</td>\n",
       "      <td>26.337500</td>\n",
       "      <td>...</td>\n",
       "      <td>28.008507</td>\n",
       "      <td>28.348785</td>\n",
       "      <td>17.879861</td>\n",
       "      <td>19.900725</td>\n",
       "      <td>22.532986</td>\n",
       "      <td>21.077778</td>\n",
       "      <td>29.292187</td>\n",
       "      <td>34.711285</td>\n",
       "      <td>29.931944</td>\n",
       "      <td>19.481076</td>\n",
       "    </tr>\n",
       "    <tr>\n",
       "      <th>April</th>\n",
       "      <td>14.470312</td>\n",
       "      <td>19.842935</td>\n",
       "      <td>26.610590</td>\n",
       "      <td>37.460937</td>\n",
       "      <td>33.968576</td>\n",
       "      <td>34.481076</td>\n",
       "      <td>25.777976</td>\n",
       "      <td>NaN</td>\n",
       "      <td>NaN</td>\n",
       "      <td>NaN</td>\n",
       "      <td>...</td>\n",
       "      <td>34.656597</td>\n",
       "      <td>44.060307</td>\n",
       "      <td>40.371181</td>\n",
       "      <td>33.898958</td>\n",
       "      <td>32.803299</td>\n",
       "      <td>31.099826</td>\n",
       "      <td>30.104861</td>\n",
       "      <td>28.541146</td>\n",
       "      <td>31.427951</td>\n",
       "      <td>NaN</td>\n",
       "    </tr>\n",
       "    <tr>\n",
       "      <th>May</th>\n",
       "      <td>19.723090</td>\n",
       "      <td>14.684601</td>\n",
       "      <td>19.766667</td>\n",
       "      <td>22.557246</td>\n",
       "      <td>19.998611</td>\n",
       "      <td>23.216146</td>\n",
       "      <td>21.708507</td>\n",
       "      <td>16.574132</td>\n",
       "      <td>20.622049</td>\n",
       "      <td>18.831522</td>\n",
       "      <td>...</td>\n",
       "      <td>21.952431</td>\n",
       "      <td>26.578993</td>\n",
       "      <td>25.458333</td>\n",
       "      <td>18.023785</td>\n",
       "      <td>18.687847</td>\n",
       "      <td>19.546078</td>\n",
       "      <td>23.195660</td>\n",
       "      <td>14.970833</td>\n",
       "      <td>18.881944</td>\n",
       "      <td>22.692708</td>\n",
       "    </tr>\n",
       "    <tr>\n",
       "      <th>June</th>\n",
       "      <td>23.324094</td>\n",
       "      <td>19.736979</td>\n",
       "      <td>16.212153</td>\n",
       "      <td>12.963715</td>\n",
       "      <td>13.932118</td>\n",
       "      <td>12.734028</td>\n",
       "      <td>13.708854</td>\n",
       "      <td>14.748913</td>\n",
       "      <td>11.793297</td>\n",
       "      <td>18.038715</td>\n",
       "      <td>...</td>\n",
       "      <td>16.761632</td>\n",
       "      <td>15.415451</td>\n",
       "      <td>12.203993</td>\n",
       "      <td>13.359783</td>\n",
       "      <td>14.652778</td>\n",
       "      <td>14.896007</td>\n",
       "      <td>15.065972</td>\n",
       "      <td>16.526812</td>\n",
       "      <td>19.936285</td>\n",
       "      <td>NaN</td>\n",
       "    </tr>\n",
       "    <tr>\n",
       "      <th>July</th>\n",
       "      <td>19.809601</td>\n",
       "      <td>17.471875</td>\n",
       "      <td>15.485326</td>\n",
       "      <td>18.164410</td>\n",
       "      <td>19.745486</td>\n",
       "      <td>19.416493</td>\n",
       "      <td>16.140942</td>\n",
       "      <td>15.134201</td>\n",
       "      <td>14.564062</td>\n",
       "      <td>14.927381</td>\n",
       "      <td>...</td>\n",
       "      <td>17.012862</td>\n",
       "      <td>14.671920</td>\n",
       "      <td>17.653571</td>\n",
       "      <td>15.600521</td>\n",
       "      <td>13.964062</td>\n",
       "      <td>14.816304</td>\n",
       "      <td>15.596558</td>\n",
       "      <td>16.834028</td>\n",
       "      <td>21.505254</td>\n",
       "      <td>25.133333</td>\n",
       "    </tr>\n",
       "    <tr>\n",
       "      <th>August</th>\n",
       "      <td>27.968924</td>\n",
       "      <td>25.758160</td>\n",
       "      <td>22.667882</td>\n",
       "      <td>21.971377</td>\n",
       "      <td>21.398264</td>\n",
       "      <td>19.938021</td>\n",
       "      <td>16.441319</td>\n",
       "      <td>17.348958</td>\n",
       "      <td>17.513368</td>\n",
       "      <td>16.924826</td>\n",
       "      <td>...</td>\n",
       "      <td>13.851042</td>\n",
       "      <td>16.296007</td>\n",
       "      <td>17.014757</td>\n",
       "      <td>15.631597</td>\n",
       "      <td>14.400000</td>\n",
       "      <td>15.793182</td>\n",
       "      <td>13.343841</td>\n",
       "      <td>19.594618</td>\n",
       "      <td>25.519792</td>\n",
       "      <td>17.697917</td>\n",
       "    </tr>\n",
       "    <tr>\n",
       "      <th>September</th>\n",
       "      <td>18.014062</td>\n",
       "      <td>17.294375</td>\n",
       "      <td>15.744518</td>\n",
       "      <td>12.304340</td>\n",
       "      <td>12.365104</td>\n",
       "      <td>12.319129</td>\n",
       "      <td>12.403993</td>\n",
       "      <td>15.214015</td>\n",
       "      <td>19.090972</td>\n",
       "      <td>20.762083</td>\n",
       "      <td>...</td>\n",
       "      <td>24.179340</td>\n",
       "      <td>23.312500</td>\n",
       "      <td>21.299132</td>\n",
       "      <td>14.965799</td>\n",
       "      <td>11.197569</td>\n",
       "      <td>11.872826</td>\n",
       "      <td>14.443056</td>\n",
       "      <td>14.853819</td>\n",
       "      <td>23.052899</td>\n",
       "      <td>NaN</td>\n",
       "    </tr>\n",
       "    <tr>\n",
       "      <th>October</th>\n",
       "      <td>30.267029</td>\n",
       "      <td>24.944565</td>\n",
       "      <td>20.084601</td>\n",
       "      <td>17.035326</td>\n",
       "      <td>15.866406</td>\n",
       "      <td>18.530625</td>\n",
       "      <td>NaN</td>\n",
       "      <td>NaN</td>\n",
       "      <td>NaN</td>\n",
       "      <td>NaN</td>\n",
       "      <td>...</td>\n",
       "      <td>21.175725</td>\n",
       "      <td>17.046701</td>\n",
       "      <td>17.875347</td>\n",
       "      <td>18.820588</td>\n",
       "      <td>30.443640</td>\n",
       "      <td>29.958889</td>\n",
       "      <td>31.483152</td>\n",
       "      <td>39.876042</td>\n",
       "      <td>41.330903</td>\n",
       "      <td>37.988768</td>\n",
       "    </tr>\n",
       "    <tr>\n",
       "      <th>November</th>\n",
       "      <td>36.906076</td>\n",
       "      <td>37.854861</td>\n",
       "      <td>33.858681</td>\n",
       "      <td>41.866840</td>\n",
       "      <td>37.387674</td>\n",
       "      <td>30.828993</td>\n",
       "      <td>36.672222</td>\n",
       "      <td>32.021181</td>\n",
       "      <td>30.913889</td>\n",
       "      <td>22.482609</td>\n",
       "      <td>...</td>\n",
       "      <td>15.055254</td>\n",
       "      <td>16.956061</td>\n",
       "      <td>16.667424</td>\n",
       "      <td>18.666288</td>\n",
       "      <td>23.619965</td>\n",
       "      <td>20.761775</td>\n",
       "      <td>22.338068</td>\n",
       "      <td>21.127536</td>\n",
       "      <td>21.423732</td>\n",
       "      <td>NaN</td>\n",
       "    </tr>\n",
       "    <tr>\n",
       "      <th>December</th>\n",
       "      <td>24.781341</td>\n",
       "      <td>22.414583</td>\n",
       "      <td>23.754529</td>\n",
       "      <td>22.118576</td>\n",
       "      <td>18.231875</td>\n",
       "      <td>25.921528</td>\n",
       "      <td>29.123785</td>\n",
       "      <td>35.915972</td>\n",
       "      <td>25.938021</td>\n",
       "      <td>27.693403</td>\n",
       "      <td>...</td>\n",
       "      <td>49.164205</td>\n",
       "      <td>50.840761</td>\n",
       "      <td>53.707465</td>\n",
       "      <td>31.341319</td>\n",
       "      <td>42.974653</td>\n",
       "      <td>52.931884</td>\n",
       "      <td>28.033712</td>\n",
       "      <td>20.389236</td>\n",
       "      <td>18.022569</td>\n",
       "      <td>21.482465</td>\n",
       "    </tr>\n",
       "  </tbody>\n",
       "</table>\n",
       "<p>12 rows × 31 columns</p>\n",
       "</div>"
      ],
      "text/plain": [
       "DayofMonth         1          2          3          4          5          6   \\\n",
       "Month                                                                          \n",
       "January     26.188715  21.179167  20.485764  21.911458  26.305208  25.600694   \n",
       "February    44.708333  43.674638  34.771875  27.608507  34.921875  41.838368   \n",
       "March       52.884375  52.621007  59.289757  56.183102  44.355254  39.864394   \n",
       "April       14.470312  19.842935  26.610590  37.460937  33.968576  34.481076   \n",
       "May         19.723090  14.684601  19.766667  22.557246  19.998611  23.216146   \n",
       "June        23.324094  19.736979  16.212153  12.963715  13.932118  12.734028   \n",
       "July        19.809601  17.471875  15.485326  18.164410  19.745486  19.416493   \n",
       "August      27.968924  25.758160  22.667882  21.971377  21.398264  19.938021   \n",
       "September   18.014062  17.294375  15.744518  12.304340  12.365104  12.319129   \n",
       "October     30.267029  24.944565  20.084601  17.035326  15.866406  18.530625   \n",
       "November    36.906076  37.854861  33.858681  41.866840  37.387674  30.828993   \n",
       "December    24.781341  22.414583  23.754529  22.118576  18.231875  25.921528   \n",
       "\n",
       "DayofMonth         7          8          9          10  ...         22  \\\n",
       "Month                                                   ...              \n",
       "January     27.596528  32.629167        NaN        NaN  ...  26.099306   \n",
       "February    45.634201  36.740399  36.043924  46.258333  ...  34.183854   \n",
       "March       37.183854  35.740972  32.018229  26.337500  ...  28.008507   \n",
       "April       25.777976        NaN        NaN        NaN  ...  34.656597   \n",
       "May         21.708507  16.574132  20.622049  18.831522  ...  21.952431   \n",
       "June        13.708854  14.748913  11.793297  18.038715  ...  16.761632   \n",
       "July        16.140942  15.134201  14.564062  14.927381  ...  17.012862   \n",
       "August      16.441319  17.348958  17.513368  16.924826  ...  13.851042   \n",
       "September   12.403993  15.214015  19.090972  20.762083  ...  24.179340   \n",
       "October           NaN        NaN        NaN        NaN  ...  21.175725   \n",
       "November    36.672222  32.021181  30.913889  22.482609  ...  15.055254   \n",
       "December    29.123785  35.915972  25.938021  27.693403  ...  49.164205   \n",
       "\n",
       "DayofMonth         23         24         25         26         27         28  \\\n",
       "Month                                                                          \n",
       "January     24.397656  30.672743  37.478646  36.815278  31.755035  30.134954   \n",
       "February    24.312500  16.761979  20.480556  22.173264  25.217882  45.363542   \n",
       "March       28.348785  17.879861  19.900725  22.532986  21.077778  29.292187   \n",
       "April       44.060307  40.371181  33.898958  32.803299  31.099826  30.104861   \n",
       "May         26.578993  25.458333  18.023785  18.687847  19.546078  23.195660   \n",
       "June        15.415451  12.203993  13.359783  14.652778  14.896007  15.065972   \n",
       "July        14.671920  17.653571  15.600521  13.964062  14.816304  15.596558   \n",
       "August      16.296007  17.014757  15.631597  14.400000  15.793182  13.343841   \n",
       "September   23.312500  21.299132  14.965799  11.197569  11.872826  14.443056   \n",
       "October     17.046701  17.875347  18.820588  30.443640  29.958889  31.483152   \n",
       "November    16.956061  16.667424  18.666288  23.619965  20.761775  22.338068   \n",
       "December    50.840761  53.707465  31.341319  42.974653  52.931884  28.033712   \n",
       "\n",
       "DayofMonth         29         30         31  \n",
       "Month                                        \n",
       "January     38.933553  44.263194  48.823958  \n",
       "February          NaN        NaN        NaN  \n",
       "March       34.711285  29.931944  19.481076  \n",
       "April       28.541146  31.427951        NaN  \n",
       "May         14.970833  18.881944  22.692708  \n",
       "June        16.526812  19.936285        NaN  \n",
       "July        16.834028  21.505254  25.133333  \n",
       "August      19.594618  25.519792  17.697917  \n",
       "September   14.853819  23.052899        NaN  \n",
       "October     39.876042  41.330903  37.988768  \n",
       "November    21.127536  21.423732        NaN  \n",
       "December    20.389236  18.022569  21.482465  \n",
       "\n",
       "[12 rows x 31 columns]"
      ]
     },
     "execution_count": 430,
     "metadata": {},
     "output_type": "execute_result"
    }
   ],
   "source": [
    "date_month_2017"
   ]
  },
  {
   "cell_type": "code",
   "execution_count": 431,
   "metadata": {
    "hidden": true
   },
   "outputs": [],
   "source": [
    "date_month_2018 = pd.crosstab(pm25_2018['Month'], pm25_2018['DayofMonth'], pm25_2018['PM2.5avg'], aggfunc=np.mean)\n",
    "month_name = pd.date_range('2014-01','2014-12', freq='MS').strftime(\"%B\").tolist()\n",
    "date_month_2018 = date_month_2018.reindex(month_name)"
   ]
  },
  {
   "cell_type": "code",
   "execution_count": 495,
   "metadata": {
    "hidden": true,
    "scrolled": true
   },
   "outputs": [],
   "source": [
    "monthavg = pm25[['Month','PM2.5avg','color']].groupby('Month').mean()\n",
    "monthavg = monthavg.reindex(reversed(month_name))\n",
    "monthavg['color'] = pd.cut(monthavg['PM2.5avg'],bins = [0, 35.5, 55.5, 150.4], \n",
    "                       labels=['green', 'orange','red'],\n",
    "                      include_lowest=True, right=False).astype(str)"
   ]
  },
  {
   "cell_type": "code",
   "execution_count": 436,
   "metadata": {
    "hidden": true
   },
   "outputs": [
    {
     "data": {
      "image/png": "[encoded data removed]",
      "text/plain": [
       "<Figure size 720x360 with 4 Axes>"
      ]
     },
     "metadata": {
      "needs_background": "light"
     },
     "output_type": "display_data"
    }
   ],
   "source": [
    "colors = ['green','orange','red']\n",
    "levels = [0, 35.4, 55.4]\n",
    "cmap, norm = mpl.colors.from_levels_and_colors(levels,colors,'max')\n",
    "\n",
    "fig = plt.figure(figsize= (10,5))\n",
    "gs = GridSpec(1,10)\n",
    "ax1 = fig.add_subplot(gs[0:4])\n",
    "sns.heatmap(date_month_2017, cmap=cmap, norm=norm, linewidth=0.05,vmax=70, cbar=False, ax=ax1)\n",
    "ax1.yaxis.label.set_visible(False)\n",
    "\n",
    "plt.title('daily average in 2017')\n",
    "plt.xlabel('day of month')\n",
    "\n",
    "ax2 = fig.add_subplot(gs[4:8],sharey =ax1)\n",
    "ax2 = sns.heatmap(date_month_2018, cmap=cmap, norm=norm, linewidth=0.05,vmax=70, cbar=False)\n",
    "plt.title('daily average in 2018')\n",
    "plt.xlabel('day of month')\n",
    "ax2.get_yaxis().set_visible(False)\n",
    "#ax2.set_xticks(ax1.get_xticks())\n",
    "\n",
    "\n",
    "ax3 = fig.add_subplot(gs[8])\n",
    "monthavg = pm25[['Month','PM2.5avg']].groupby('Month').mean()\n",
    "monthavg = monthavg.reindex(reversed(month_name))\n",
    "monthavg['color'] = pd.cut(monthavg['PM2.5avg'],bins = [0, 35.5, 55.5, 150.4], \n",
    "                       labels=['green', 'orange','red'],\n",
    "                      include_lowest=True, right=False).astype(str)\n",
    "monthavg.plot(y='PM2.5avg', kind='barh',color = monthavg['color'], legend=False, ax=ax3,\n",
    "             edgecolor='black')\n",
    "ax3.get_yaxis().set_visible(False)\n",
    "plt.title('monthly \\n average')\n",
    "\n",
    "cmap2 = mpl.colors.ListedColormap(colors=['green','orange','red'])\n",
    "ax4 = fig.add_subplot(gs[9])\n",
    "ax4.set_aspect(30)\n",
    "cbar = mpl.colorbar.ColorbarBase(cmap=cmap2, ax=ax4)\n",
    "cbar.set_ticks([0.2, 0.5, 0.8])\n",
    "cbar.set_ticklabels(['satisfactory', 'moderate', 'unhealthy'])\n",
    "cbar.set_label('PM 2.5 level')\n",
    "\n",
    "plt.tight_layout()"
   ]
  },
  {
   "cell_type": "markdown",
   "metadata": {
    "hidden": true
   },
   "source": [
    "For both 2017 and 2018, the pollution starts around October and last until early March. So tourists should staying in Bangkok in these months. I know what you are thinking. \"Hey, those are my holiday! Where else I can go? May suggest Phuket, and Samui Island? The south of Thailand has low AQI all year long. We will answer this question later. "
   ]
  },
  {
   "cell_type": "code",
   "execution_count": 87,
   "metadata": {
    "hidden": true
   },
   "outputs": [
    {
     "data": {
      "text/html": [
       "<div>\n",
       "<style scoped>\n",
       "    .dataframe tbody tr th:only-of-type {\n",
       "        vertical-align: middle;\n",
       "    }\n",
       "\n",
       "    .dataframe tbody tr th {\n",
       "        vertical-align: top;\n",
       "    }\n",
       "\n",
       "    .dataframe thead th {\n",
       "        text-align: right;\n",
       "    }\n",
       "</style>\n",
       "<table border=\"1\" class=\"dataframe\">\n",
       "  <thead>\n",
       "    <tr style=\"text-align: right;\">\n",
       "      <th></th>\n",
       "      <th>PM2.5</th>\n",
       "      <th>PM2.5avg</th>\n",
       "      <th>Year</th>\n",
       "      <th>Month</th>\n",
       "      <th>DayofMonth</th>\n",
       "      <th>DayofWeek</th>\n",
       "      <th>TimeofDay</th>\n",
       "      <th>level</th>\n",
       "      <th>color</th>\n",
       "    </tr>\n",
       "    <tr>\n",
       "      <th>Time</th>\n",
       "      <th></th>\n",
       "      <th></th>\n",
       "      <th></th>\n",
       "      <th></th>\n",
       "      <th></th>\n",
       "      <th></th>\n",
       "      <th></th>\n",
       "      <th></th>\n",
       "      <th></th>\n",
       "    </tr>\n",
       "  </thead>\n",
       "  <tbody>\n",
       "    <tr>\n",
       "      <th>2018-02-01 00:00:00</th>\n",
       "      <td>18.6</td>\n",
       "      <td>24.445833</td>\n",
       "      <td>2018</td>\n",
       "      <td>February</td>\n",
       "      <td>1</td>\n",
       "      <td>Thursday</td>\n",
       "      <td>00:00:00</td>\n",
       "      <td>satisfactory</td>\n",
       "      <td>green</td>\n",
       "    </tr>\n",
       "    <tr>\n",
       "      <th>2018-02-01 01:00:00</th>\n",
       "      <td>17.5</td>\n",
       "      <td>23.945833</td>\n",
       "      <td>2018</td>\n",
       "      <td>February</td>\n",
       "      <td>1</td>\n",
       "      <td>Thursday</td>\n",
       "      <td>01:00:00</td>\n",
       "      <td>satisfactory</td>\n",
       "      <td>green</td>\n",
       "    </tr>\n",
       "    <tr>\n",
       "      <th>2018-02-01 02:00:00</th>\n",
       "      <td>16.7</td>\n",
       "      <td>23.570833</td>\n",
       "      <td>2018</td>\n",
       "      <td>February</td>\n",
       "      <td>1</td>\n",
       "      <td>Thursday</td>\n",
       "      <td>02:00:00</td>\n",
       "      <td>satisfactory</td>\n",
       "      <td>green</td>\n",
       "    </tr>\n",
       "    <tr>\n",
       "      <th>2018-02-01 03:00:00</th>\n",
       "      <td>14.6</td>\n",
       "      <td>23.045833</td>\n",
       "      <td>2018</td>\n",
       "      <td>February</td>\n",
       "      <td>1</td>\n",
       "      <td>Thursday</td>\n",
       "      <td>03:00:00</td>\n",
       "      <td>satisfactory</td>\n",
       "      <td>green</td>\n",
       "    </tr>\n",
       "    <tr>\n",
       "      <th>2018-02-01 04:00:00</th>\n",
       "      <td>23.1</td>\n",
       "      <td>23.133333</td>\n",
       "      <td>2018</td>\n",
       "      <td>February</td>\n",
       "      <td>1</td>\n",
       "      <td>Thursday</td>\n",
       "      <td>04:00:00</td>\n",
       "      <td>satisfactory</td>\n",
       "      <td>green</td>\n",
       "    </tr>\n",
       "  </tbody>\n",
       "</table>\n",
       "</div>"
      ],
      "text/plain": [
       "                     PM2.5   PM2.5avg  Year     Month  DayofMonth DayofWeek  \\\n",
       "Time                                                                          \n",
       "2018-02-01 00:00:00   18.6  24.445833  2018  February           1  Thursday   \n",
       "2018-02-01 01:00:00   17.5  23.945833  2018  February           1  Thursday   \n",
       "2018-02-01 02:00:00   16.7  23.570833  2018  February           1  Thursday   \n",
       "2018-02-01 03:00:00   14.6  23.045833  2018  February           1  Thursday   \n",
       "2018-02-01 04:00:00   23.1  23.133333  2018  February           1  Thursday   \n",
       "\n",
       "                    TimeofDay         level  color  \n",
       "Time                                                \n",
       "2018-02-01 00:00:00  00:00:00  satisfactory  green  \n",
       "2018-02-01 01:00:00  01:00:00  satisfactory  green  \n",
       "2018-02-01 02:00:00  02:00:00  satisfactory  green  \n",
       "2018-02-01 03:00:00  03:00:00  satisfactory  green  \n",
       "2018-02-01 04:00:00  04:00:00  satisfactory  green  "
      ]
     },
     "execution_count": 87,
     "metadata": {},
     "output_type": "execute_result"
    }
   ],
   "source": [
    "pm25_winter = pm25['2018-02']\n",
    "pm25_winter.head()"
   ]
  },
  {
   "cell_type": "code",
   "execution_count": 88,
   "metadata": {
    "hidden": true,
    "scrolled": true
   },
   "outputs": [
    {
     "data": {
      "text/html": [
       "<div>\n",
       "<style scoped>\n",
       "    .dataframe tbody tr th:only-of-type {\n",
       "        vertical-align: middle;\n",
       "    }\n",
       "\n",
       "    .dataframe tbody tr th {\n",
       "        vertical-align: top;\n",
       "    }\n",
       "\n",
       "    .dataframe thead th {\n",
       "        text-align: right;\n",
       "    }\n",
       "</style>\n",
       "<table border=\"1\" class=\"dataframe\">\n",
       "  <thead>\n",
       "    <tr style=\"text-align: right;\">\n",
       "      <th></th>\n",
       "      <th>0</th>\n",
       "      <th>1</th>\n",
       "      <th>2</th>\n",
       "      <th>3</th>\n",
       "      <th>4</th>\n",
       "      <th>5</th>\n",
       "      <th>6</th>\n",
       "      <th>7</th>\n",
       "      <th>8</th>\n",
       "      <th>9</th>\n",
       "      <th>...</th>\n",
       "      <th>14</th>\n",
       "      <th>15</th>\n",
       "      <th>16</th>\n",
       "      <th>17</th>\n",
       "      <th>18</th>\n",
       "      <th>19</th>\n",
       "      <th>20</th>\n",
       "      <th>21</th>\n",
       "      <th>22</th>\n",
       "      <th>23</th>\n",
       "    </tr>\n",
       "    <tr>\n",
       "      <th>DayofWeek</th>\n",
       "      <th></th>\n",
       "      <th></th>\n",
       "      <th></th>\n",
       "      <th></th>\n",
       "      <th></th>\n",
       "      <th></th>\n",
       "      <th></th>\n",
       "      <th></th>\n",
       "      <th></th>\n",
       "      <th></th>\n",
       "      <th></th>\n",
       "      <th></th>\n",
       "      <th></th>\n",
       "      <th></th>\n",
       "      <th></th>\n",
       "      <th></th>\n",
       "      <th></th>\n",
       "      <th></th>\n",
       "      <th></th>\n",
       "      <th></th>\n",
       "      <th></th>\n",
       "    </tr>\n",
       "  </thead>\n",
       "  <tbody>\n",
       "    <tr>\n",
       "      <th>Monday</th>\n",
       "      <td>44.295833</td>\n",
       "      <td>44.760417</td>\n",
       "      <td>45.240625</td>\n",
       "      <td>45.669792</td>\n",
       "      <td>45.933333</td>\n",
       "      <td>46.202083</td>\n",
       "      <td>46.604167</td>\n",
       "      <td>46.912500</td>\n",
       "      <td>47.011111</td>\n",
       "      <td>47.291667</td>\n",
       "      <td>...</td>\n",
       "      <td>46.645833</td>\n",
       "      <td>47.273958</td>\n",
       "      <td>47.329167</td>\n",
       "      <td>47.222917</td>\n",
       "      <td>52.098611</td>\n",
       "      <td>52.104167</td>\n",
       "      <td>51.986111</td>\n",
       "      <td>51.977778</td>\n",
       "      <td>51.701389</td>\n",
       "      <td>46.572917</td>\n",
       "    </tr>\n",
       "    <tr>\n",
       "      <th>Tuesday</th>\n",
       "      <td>46.283333</td>\n",
       "      <td>45.945833</td>\n",
       "      <td>49.776389</td>\n",
       "      <td>44.611458</td>\n",
       "      <td>43.536111</td>\n",
       "      <td>43.402083</td>\n",
       "      <td>42.721875</td>\n",
       "      <td>42.035417</td>\n",
       "      <td>41.353125</td>\n",
       "      <td>40.691667</td>\n",
       "      <td>...</td>\n",
       "      <td>37.426042</td>\n",
       "      <td>36.972917</td>\n",
       "      <td>36.561458</td>\n",
       "      <td>36.332292</td>\n",
       "      <td>36.102083</td>\n",
       "      <td>35.993750</td>\n",
       "      <td>35.938542</td>\n",
       "      <td>35.793750</td>\n",
       "      <td>35.671875</td>\n",
       "      <td>35.623958</td>\n",
       "    </tr>\n",
       "    <tr>\n",
       "      <th>Wednesday</th>\n",
       "      <td>35.537500</td>\n",
       "      <td>35.553125</td>\n",
       "      <td>35.892708</td>\n",
       "      <td>38.343056</td>\n",
       "      <td>38.758333</td>\n",
       "      <td>36.902083</td>\n",
       "      <td>37.364583</td>\n",
       "      <td>31.905556</td>\n",
       "      <td>38.758333</td>\n",
       "      <td>39.859375</td>\n",
       "      <td>...</td>\n",
       "      <td>38.837500</td>\n",
       "      <td>43.107292</td>\n",
       "      <td>43.772917</td>\n",
       "      <td>44.350000</td>\n",
       "      <td>36.306944</td>\n",
       "      <td>36.800000</td>\n",
       "      <td>37.175000</td>\n",
       "      <td>45.831250</td>\n",
       "      <td>46.578125</td>\n",
       "      <td>47.288542</td>\n",
       "    </tr>\n",
       "    <tr>\n",
       "      <th>Thursday</th>\n",
       "      <td>21.762500</td>\n",
       "      <td>39.286111</td>\n",
       "      <td>45.532292</td>\n",
       "      <td>45.663542</td>\n",
       "      <td>45.966667</td>\n",
       "      <td>54.919444</td>\n",
       "      <td>45.986458</td>\n",
       "      <td>46.118750</td>\n",
       "      <td>46.450000</td>\n",
       "      <td>55.890278</td>\n",
       "      <td>...</td>\n",
       "      <td>34.163889</td>\n",
       "      <td>34.254167</td>\n",
       "      <td>34.101389</td>\n",
       "      <td>45.435417</td>\n",
       "      <td>45.359375</td>\n",
       "      <td>45.482292</td>\n",
       "      <td>45.394792</td>\n",
       "      <td>45.475000</td>\n",
       "      <td>45.586458</td>\n",
       "      <td>45.615625</td>\n",
       "    </tr>\n",
       "    <tr>\n",
       "      <th>Friday</th>\n",
       "      <td>45.646875</td>\n",
       "      <td>45.546875</td>\n",
       "      <td>45.461458</td>\n",
       "      <td>45.420833</td>\n",
       "      <td>49.395833</td>\n",
       "      <td>44.873958</td>\n",
       "      <td>44.906250</td>\n",
       "      <td>44.826042</td>\n",
       "      <td>44.868750</td>\n",
       "      <td>44.720833</td>\n",
       "      <td>...</td>\n",
       "      <td>42.467708</td>\n",
       "      <td>42.042708</td>\n",
       "      <td>41.690625</td>\n",
       "      <td>41.488542</td>\n",
       "      <td>41.377083</td>\n",
       "      <td>41.287500</td>\n",
       "      <td>41.294792</td>\n",
       "      <td>41.401042</td>\n",
       "      <td>41.591667</td>\n",
       "      <td>41.806250</td>\n",
       "    </tr>\n",
       "  </tbody>\n",
       "</table>\n",
       "<p>5 rows × 24 columns</p>\n",
       "</div>"
      ],
      "text/plain": [
       "                  0          1          2          3          4          5   \\\n",
       "DayofWeek                                                                     \n",
       "Monday     44.295833  44.760417  45.240625  45.669792  45.933333  46.202083   \n",
       "Tuesday    46.283333  45.945833  49.776389  44.611458  43.536111  43.402083   \n",
       "Wednesday  35.537500  35.553125  35.892708  38.343056  38.758333  36.902083   \n",
       "Thursday   21.762500  39.286111  45.532292  45.663542  45.966667  54.919444   \n",
       "Friday     45.646875  45.546875  45.461458  45.420833  49.395833  44.873958   \n",
       "\n",
       "                  6          7          8          9   ...         14  \\\n",
       "DayofWeek                                              ...              \n",
       "Monday     46.604167  46.912500  47.011111  47.291667  ...  46.645833   \n",
       "Tuesday    42.721875  42.035417  41.353125  40.691667  ...  37.426042   \n",
       "Wednesday  37.364583  31.905556  38.758333  39.859375  ...  38.837500   \n",
       "Thursday   45.986458  46.118750  46.450000  55.890278  ...  34.163889   \n",
       "Friday     44.906250  44.826042  44.868750  44.720833  ...  42.467708   \n",
       "\n",
       "                  15         16         17         18         19         20  \\\n",
       "DayofWeek                                                                     \n",
       "Monday     47.273958  47.329167  47.222917  52.098611  52.104167  51.986111   \n",
       "Tuesday    36.972917  36.561458  36.332292  36.102083  35.993750  35.938542   \n",
       "Wednesday  43.107292  43.772917  44.350000  36.306944  36.800000  37.175000   \n",
       "Thursday   34.254167  34.101389  45.435417  45.359375  45.482292  45.394792   \n",
       "Friday     42.042708  41.690625  41.488542  41.377083  41.287500  41.294792   \n",
       "\n",
       "                  21         22         23  \n",
       "DayofWeek                                   \n",
       "Monday     51.977778  51.701389  46.572917  \n",
       "Tuesday    35.793750  35.671875  35.623958  \n",
       "Wednesday  45.831250  46.578125  47.288542  \n",
       "Thursday   45.475000  45.586458  45.615625  \n",
       "Friday     41.401042  41.591667  41.806250  \n",
       "\n",
       "[5 rows x 24 columns]"
      ]
     },
     "execution_count": 88,
     "metadata": {},
     "output_type": "execute_result"
    }
   ],
   "source": [
    "date_time_map = pd.crosstab(pm25_winter['DayofWeek'],pm25_winter['TimeofDay'], pm25_winter['PM2.5avg'], aggfunc=np.mean)\n",
    "day_name=pd.date_range('2019-03-04','2019-03-10', freq='D').strftime(\"%A\").tolist()\n",
    "date_time_map = date_time_map.reindex(day_name)\n",
    "date_time_map.columns = [int(column[:2]) for column in date_time_map.columns ]\n",
    "date_time_map.head()"
   ]
  },
  {
   "cell_type": "code",
   "execution_count": 111,
   "metadata": {
    "hidden": true
   },
   "outputs": [
    {
     "data": {
      "image/png": "[encoded data removed]",
      "text/plain": [
       "<Figure size 648x432 with 3 Axes>"
      ]
     },
     "metadata": {
      "needs_background": "light"
     },
     "output_type": "display_data"
    }
   ],
   "source": [
    "fig = plt.figure(figsize= (9,6))\n",
    "gs = GridSpec(2, 2, width_ratios=[8, 1], height_ratios=[4, 2])\n",
    "\n",
    "\n",
    "ax1 = fig.add_subplot(gs[0])\n",
    "ax1 = sns.heatmap(date_time_map, cmap='YlOrRd', linewidth=0.5, cbar=False)\n",
    "ax1.set_xlabel('Day of Week')\n",
    "plt.title('Hourly Average in Feb 2018 for Each day')\n",
    "ax1.yaxis.label.set_visible(False)\n",
    "\n",
    "ax4 = fig.add_subplot(gs[1])\n",
    "cbar = colorbar(ax1.get_children()[0], ax4)\n",
    "ax4.set_ylabel('PM 2.5 level')\n",
    "ax4.set_aspect(30)\n",
    "plt.subplots_adjust(wspace=0)\n",
    "\n",
    "ax2 = fig.add_subplot(gs[2], sharex=ax1)\n",
    "#plt.bar(date_time_map.mean().index, height=date_time_map.mean().values)\n",
    "date_time_map.mean().plot(ax=ax2, c='red')\n",
    "plt.ylabel('PM 2.5 $\\mu$g/m$^3$')\n",
    "plt.xlabel('Hour');\n",
    "plt.title('Hourly Average');\n",
    "#plt.tight_layout()"
   ]
  },
  {
   "cell_type": "markdown",
   "metadata": {
    "hidden": true
   },
   "source": [
    "What is the suggestion for the local Bangkokians? Is the morning Air or weekend better? What is the best time to go outside? Let's look at the hourly average in between Dec 2017 - Feb 2018."
   ]
  },
  {
   "cell_type": "code",
   "execution_count": 150,
   "metadata": {
    "hidden": true
   },
   "outputs": [
    {
     "data": {
      "text/html": [
       "<div>\n",
       "<style scoped>\n",
       "    .dataframe tbody tr th:only-of-type {\n",
       "        vertical-align: middle;\n",
       "    }\n",
       "\n",
       "    .dataframe tbody tr th {\n",
       "        vertical-align: top;\n",
       "    }\n",
       "\n",
       "    .dataframe thead th {\n",
       "        text-align: right;\n",
       "    }\n",
       "</style>\n",
       "<table border=\"1\" class=\"dataframe\">\n",
       "  <thead>\n",
       "    <tr style=\"text-align: right;\">\n",
       "      <th></th>\n",
       "      <th>0</th>\n",
       "      <th>1</th>\n",
       "      <th>2</th>\n",
       "      <th>3</th>\n",
       "      <th>4</th>\n",
       "      <th>5</th>\n",
       "      <th>6</th>\n",
       "      <th>7</th>\n",
       "      <th>8</th>\n",
       "      <th>9</th>\n",
       "      <th>...</th>\n",
       "      <th>14</th>\n",
       "      <th>15</th>\n",
       "      <th>16</th>\n",
       "      <th>17</th>\n",
       "      <th>18</th>\n",
       "      <th>19</th>\n",
       "      <th>20</th>\n",
       "      <th>21</th>\n",
       "      <th>22</th>\n",
       "      <th>23</th>\n",
       "    </tr>\n",
       "    <tr>\n",
       "      <th>DayofWeek</th>\n",
       "      <th></th>\n",
       "      <th></th>\n",
       "      <th></th>\n",
       "      <th></th>\n",
       "      <th></th>\n",
       "      <th></th>\n",
       "      <th></th>\n",
       "      <th></th>\n",
       "      <th></th>\n",
       "      <th></th>\n",
       "      <th></th>\n",
       "      <th></th>\n",
       "      <th></th>\n",
       "      <th></th>\n",
       "      <th></th>\n",
       "      <th></th>\n",
       "      <th></th>\n",
       "      <th></th>\n",
       "      <th></th>\n",
       "      <th></th>\n",
       "      <th></th>\n",
       "    </tr>\n",
       "  </thead>\n",
       "  <tbody>\n",
       "    <tr>\n",
       "      <th>Monday</th>\n",
       "      <td>38.397917</td>\n",
       "      <td>38.834470</td>\n",
       "      <td>38.887121</td>\n",
       "      <td>38.911742</td>\n",
       "      <td>38.847727</td>\n",
       "      <td>40.005903</td>\n",
       "      <td>38.664394</td>\n",
       "      <td>38.547727</td>\n",
       "      <td>38.434848</td>\n",
       "      <td>38.375379</td>\n",
       "      <td>...</td>\n",
       "      <td>37.286667</td>\n",
       "      <td>37.136250</td>\n",
       "      <td>38.437500</td>\n",
       "      <td>38.388636</td>\n",
       "      <td>38.361742</td>\n",
       "      <td>38.328788</td>\n",
       "      <td>38.277273</td>\n",
       "      <td>38.220833</td>\n",
       "      <td>38.167803</td>\n",
       "      <td>38.189773</td>\n",
       "    </tr>\n",
       "    <tr>\n",
       "      <th>Tuesday</th>\n",
       "      <td>38.191667</td>\n",
       "      <td>39.219167</td>\n",
       "      <td>37.892045</td>\n",
       "      <td>35.173333</td>\n",
       "      <td>36.884259</td>\n",
       "      <td>39.072917</td>\n",
       "      <td>38.819167</td>\n",
       "      <td>38.559167</td>\n",
       "      <td>36.362500</td>\n",
       "      <td>36.226136</td>\n",
       "      <td>...</td>\n",
       "      <td>34.942803</td>\n",
       "      <td>34.640530</td>\n",
       "      <td>34.380682</td>\n",
       "      <td>34.105682</td>\n",
       "      <td>33.895455</td>\n",
       "      <td>33.711742</td>\n",
       "      <td>33.562121</td>\n",
       "      <td>34.463889</td>\n",
       "      <td>35.182500</td>\n",
       "      <td>35.097917</td>\n",
       "    </tr>\n",
       "    <tr>\n",
       "      <th>Wednesday</th>\n",
       "      <td>33.178409</td>\n",
       "      <td>32.990152</td>\n",
       "      <td>32.782955</td>\n",
       "      <td>32.587500</td>\n",
       "      <td>32.402273</td>\n",
       "      <td>32.295076</td>\n",
       "      <td>32.239015</td>\n",
       "      <td>32.277273</td>\n",
       "      <td>32.332955</td>\n",
       "      <td>32.510606</td>\n",
       "      <td>...</td>\n",
       "      <td>33.269697</td>\n",
       "      <td>33.304167</td>\n",
       "      <td>33.332197</td>\n",
       "      <td>33.433712</td>\n",
       "      <td>33.573864</td>\n",
       "      <td>33.804545</td>\n",
       "      <td>34.073485</td>\n",
       "      <td>34.335227</td>\n",
       "      <td>34.602652</td>\n",
       "      <td>34.764015</td>\n",
       "    </tr>\n",
       "    <tr>\n",
       "      <th>Thursday</th>\n",
       "      <td>34.902273</td>\n",
       "      <td>35.078409</td>\n",
       "      <td>35.266288</td>\n",
       "      <td>35.501136</td>\n",
       "      <td>35.701136</td>\n",
       "      <td>37.002083</td>\n",
       "      <td>34.576667</td>\n",
       "      <td>35.083796</td>\n",
       "      <td>35.942424</td>\n",
       "      <td>35.946970</td>\n",
       "      <td>...</td>\n",
       "      <td>35.779167</td>\n",
       "      <td>35.778030</td>\n",
       "      <td>36.710185</td>\n",
       "      <td>34.672685</td>\n",
       "      <td>34.609722</td>\n",
       "      <td>33.862917</td>\n",
       "      <td>35.605303</td>\n",
       "      <td>33.871250</td>\n",
       "      <td>36.014394</td>\n",
       "      <td>34.518333</td>\n",
       "    </tr>\n",
       "    <tr>\n",
       "      <th>Friday</th>\n",
       "      <td>35.315278</td>\n",
       "      <td>35.786111</td>\n",
       "      <td>36.272222</td>\n",
       "      <td>36.763426</td>\n",
       "      <td>36.785417</td>\n",
       "      <td>37.360417</td>\n",
       "      <td>38.298148</td>\n",
       "      <td>38.750926</td>\n",
       "      <td>38.311458</td>\n",
       "      <td>40.642187</td>\n",
       "      <td>...</td>\n",
       "      <td>40.720833</td>\n",
       "      <td>40.765741</td>\n",
       "      <td>40.857407</td>\n",
       "      <td>45.556548</td>\n",
       "      <td>43.598958</td>\n",
       "      <td>42.589583</td>\n",
       "      <td>42.618229</td>\n",
       "      <td>41.492593</td>\n",
       "      <td>41.568981</td>\n",
       "      <td>41.623611</td>\n",
       "    </tr>\n",
       "  </tbody>\n",
       "</table>\n",
       "<p>5 rows × 24 columns</p>\n",
       "</div>"
      ],
      "text/plain": [
       "                  0          1          2          3          4          5   \\\n",
       "DayofWeek                                                                     \n",
       "Monday     38.397917  38.834470  38.887121  38.911742  38.847727  40.005903   \n",
       "Tuesday    38.191667  39.219167  37.892045  35.173333  36.884259  39.072917   \n",
       "Wednesday  33.178409  32.990152  32.782955  32.587500  32.402273  32.295076   \n",
       "Thursday   34.902273  35.078409  35.266288  35.501136  35.701136  37.002083   \n",
       "Friday     35.315278  35.786111  36.272222  36.763426  36.785417  37.360417   \n",
       "\n",
       "                  6          7          8          9   ...         14  \\\n",
       "DayofWeek                                              ...              \n",
       "Monday     38.664394  38.547727  38.434848  38.375379  ...  37.286667   \n",
       "Tuesday    38.819167  38.559167  36.362500  36.226136  ...  34.942803   \n",
       "Wednesday  32.239015  32.277273  32.332955  32.510606  ...  33.269697   \n",
       "Thursday   34.576667  35.083796  35.942424  35.946970  ...  35.779167   \n",
       "Friday     38.298148  38.750926  38.311458  40.642187  ...  40.720833   \n",
       "\n",
       "                  15         16         17         18         19         20  \\\n",
       "DayofWeek                                                                     \n",
       "Monday     37.136250  38.437500  38.388636  38.361742  38.328788  38.277273   \n",
       "Tuesday    34.640530  34.380682  34.105682  33.895455  33.711742  33.562121   \n",
       "Wednesday  33.304167  33.332197  33.433712  33.573864  33.804545  34.073485   \n",
       "Thursday   35.778030  36.710185  34.672685  34.609722  33.862917  35.605303   \n",
       "Friday     40.765741  40.857407  45.556548  43.598958  42.589583  42.618229   \n",
       "\n",
       "                  21         22         23  \n",
       "DayofWeek                                   \n",
       "Monday     38.220833  38.167803  38.189773  \n",
       "Tuesday    34.463889  35.182500  35.097917  \n",
       "Wednesday  34.335227  34.602652  34.764015  \n",
       "Thursday   33.871250  36.014394  34.518333  \n",
       "Friday     41.492593  41.568981  41.623611  \n",
       "\n",
       "[5 rows x 24 columns]"
      ]
     },
     "execution_count": 150,
     "metadata": {},
     "output_type": "execute_result"
    }
   ],
   "source": [
    "#Select the time range\n",
    "pm25_winter_2018 = pm25['2018-12':'2019-02']\n",
    "#genrate table between average time of day and day of week\n",
    "date_time_map = pd.crosstab(pm25_winter_2018['DayofWeek'],pm25_winter_2018['TimeofDay'], pm25_winter_2018['PM2.5avg'], aggfunc=np.mean)\n",
    "#create string of Monday to Sunday\n",
    "day_name=pd.date_range('2019-03-04','2019-03-10', freq='D').strftime(\"%A\").tolist()\n",
    "#reindex to give index order \n",
    "date_time_map = date_time_map.reindex(day_name)\n",
    "date_time_map.columns = [int(column[:2]) for column in date_time_map.columns.values ]\n",
    "date_time_map.head()"
   ]
  },
  {
   "cell_type": "code",
   "execution_count": 151,
   "metadata": {
    "hidden": true
   },
   "outputs": [
    {
     "data": {
      "image/png": "[encoded data removed]",
      "text/plain": [
       "<Figure size 648x432 with 4 Axes>"
      ]
     },
     "metadata": {
      "needs_background": "light"
     },
     "output_type": "display_data"
    }
   ],
   "source": [
    "fig = plt.figure(figsize= (9,6))\n",
    "gs = GridSpec(2, 3, width_ratios=[8, 3, 2], height_ratios=[4, 2])\n",
    "\n",
    "#colors = ['green','orange','red']\n",
    "#levels = [0, 35.4, 55.4]\n",
    "#cmap, norm = mpl.colors.from_levels_and_colors(levels,colors,'max')\n",
    "\n",
    "ax1 = fig.add_subplot(gs[0])\n",
    "ax1 = sns.heatmap(date_time_map, cmap='autumn_r', linewidth=0.5, cbar=False)\n",
    "plt.title('hourly average in winter 2018')\n",
    "ax1.yaxis.label.set_visible(False)\n",
    "\n",
    "ax4 = fig.add_subplot(gs[1])\n",
    "cbar = colorbar(ax1.get_children()[0], ax4)\n",
    "ax4.set_ylabel('PM 2.5 level')\n",
    "ax4.set_aspect(30)\n",
    "plt.subplots_adjust(wspace=0)\n",
    "\n",
    "ax3 = fig.add_subplot(gs[2])\n",
    "ax3.plot(date_time_map.mean(axis=1), day_name,c='red')\n",
    "ax3.yaxis.set_visible(False)\n",
    "plt.title('day of week\\n variation')\n",
    "\n",
    "ax2 = fig.add_subplot(gs[3], sharex=ax1)\n",
    "#plt.bar(date_time_map.mean().index, height=date_time_map.mean().values)\n",
    "date_time_map.mean().plot(ax=ax2, c='red')\n",
    "plt.ylabel('PM 2.5 $\\mu$g/m$^3$')\n",
    "plt.xlabel('hour');\n",
    "#plt.tight_layout()"
   ]
  },
  {
   "cell_type": "markdown",
   "metadata": {
    "hidden": true
   },
   "source": [
    "Morning air is not better. The better time is in in the late afternoon. Weekend is not significantly better compared to the weekdays. \n",
    "\n",
    "For the above analysis, I need to show two separate plots. I am going to try another way to put both winter 2018 and 2019 into the same graph."
   ]
  },
  {
   "cell_type": "code",
   "execution_count": 282,
   "metadata": {
    "hidden": true
   },
   "outputs": [],
   "source": [
    "winterdata = pd.DataFrame(columns=pm25.columns)\n",
    "periods = [('2016-12','2017-02'),('2017-12','2018-02'), ('2018-12','2019-02')]\n",
    "for start,stop in periods:\n",
    "    winterdata = pd.concat([winterdata, pm25[start:stop]])\n",
    "\n",
    "winterdata['month-year'] = winterdata.index.strftime('%b-%Y')\n",
    "winterdata['TimeofDay'] = [int(time[:2]) for time in winterdata['TimeofDay'].values]"
   ]
  },
  {
   "cell_type": "code",
   "execution_count": 283,
   "metadata": {
    "hidden": true
   },
   "outputs": [
    {
     "data": {
      "text/html": [
       "<div>\n",
       "<style scoped>\n",
       "    .dataframe tbody tr th:only-of-type {\n",
       "        vertical-align: middle;\n",
       "    }\n",
       "\n",
       "    .dataframe tbody tr th {\n",
       "        vertical-align: top;\n",
       "    }\n",
       "\n",
       "    .dataframe thead th {\n",
       "        text-align: right;\n",
       "    }\n",
       "</style>\n",
       "<table border=\"1\" class=\"dataframe\">\n",
       "  <thead>\n",
       "    <tr style=\"text-align: right;\">\n",
       "      <th></th>\n",
       "      <th>PM2.5</th>\n",
       "      <th>PM2.5avg</th>\n",
       "      <th>Year</th>\n",
       "      <th>Month</th>\n",
       "      <th>DayofMonth</th>\n",
       "      <th>DayofWeek</th>\n",
       "      <th>TimeofDay</th>\n",
       "      <th>level</th>\n",
       "      <th>color</th>\n",
       "      <th>season</th>\n",
       "      <th>is_weekend</th>\n",
       "    </tr>\n",
       "  </thead>\n",
       "  <tbody>\n",
       "    <tr>\n",
       "      <th>2016-12-01 00:00:00</th>\n",
       "      <td>32.4</td>\n",
       "      <td>28.600000</td>\n",
       "      <td>2016</td>\n",
       "      <td>December</td>\n",
       "      <td>1</td>\n",
       "      <td>Thursday</td>\n",
       "      <td>0</td>\n",
       "      <td>satisfactory</td>\n",
       "      <td>green</td>\n",
       "      <td>winter\\n2016-2017</td>\n",
       "      <td>weekday</td>\n",
       "    </tr>\n",
       "    <tr>\n",
       "      <th>2016-12-01 01:00:00</th>\n",
       "      <td>30.0</td>\n",
       "      <td>28.270833</td>\n",
       "      <td>2016</td>\n",
       "      <td>December</td>\n",
       "      <td>1</td>\n",
       "      <td>Thursday</td>\n",
       "      <td>1</td>\n",
       "      <td>satisfactory</td>\n",
       "      <td>green</td>\n",
       "      <td>winter\\n2016-2017</td>\n",
       "      <td>weekday</td>\n",
       "    </tr>\n",
       "    <tr>\n",
       "      <th>2016-12-01 02:00:00</th>\n",
       "      <td>31.7</td>\n",
       "      <td>27.837500</td>\n",
       "      <td>2016</td>\n",
       "      <td>December</td>\n",
       "      <td>1</td>\n",
       "      <td>Thursday</td>\n",
       "      <td>2</td>\n",
       "      <td>satisfactory</td>\n",
       "      <td>green</td>\n",
       "      <td>winter\\n2016-2017</td>\n",
       "      <td>weekday</td>\n",
       "    </tr>\n",
       "    <tr>\n",
       "      <th>2016-12-01 03:00:00</th>\n",
       "      <td>28.6</td>\n",
       "      <td>27.437500</td>\n",
       "      <td>2016</td>\n",
       "      <td>December</td>\n",
       "      <td>1</td>\n",
       "      <td>Thursday</td>\n",
       "      <td>3</td>\n",
       "      <td>satisfactory</td>\n",
       "      <td>green</td>\n",
       "      <td>winter\\n2016-2017</td>\n",
       "      <td>weekday</td>\n",
       "    </tr>\n",
       "    <tr>\n",
       "      <th>2016-12-01 04:00:00</th>\n",
       "      <td>31.3</td>\n",
       "      <td>27.195833</td>\n",
       "      <td>2016</td>\n",
       "      <td>December</td>\n",
       "      <td>1</td>\n",
       "      <td>Thursday</td>\n",
       "      <td>4</td>\n",
       "      <td>satisfactory</td>\n",
       "      <td>green</td>\n",
       "      <td>winter\\n2016-2017</td>\n",
       "      <td>weekday</td>\n",
       "    </tr>\n",
       "  </tbody>\n",
       "</table>\n",
       "</div>"
      ],
      "text/plain": [
       "                     PM2.5   PM2.5avg  Year     Month DayofMonth DayofWeek  \\\n",
       "2016-12-01 00:00:00   32.4  28.600000  2016  December          1  Thursday   \n",
       "2016-12-01 01:00:00   30.0  28.270833  2016  December          1  Thursday   \n",
       "2016-12-01 02:00:00   31.7  27.837500  2016  December          1  Thursday   \n",
       "2016-12-01 03:00:00   28.6  27.437500  2016  December          1  Thursday   \n",
       "2016-12-01 04:00:00   31.3  27.195833  2016  December          1  Thursday   \n",
       "\n",
       "                     TimeofDay         level  color             season  \\\n",
       "2016-12-01 00:00:00          0  satisfactory  green  winter\\n2016-2017   \n",
       "2016-12-01 01:00:00          1  satisfactory  green  winter\\n2016-2017   \n",
       "2016-12-01 02:00:00          2  satisfactory  green  winter\\n2016-2017   \n",
       "2016-12-01 03:00:00          3  satisfactory  green  winter\\n2016-2017   \n",
       "2016-12-01 04:00:00          4  satisfactory  green  winter\\n2016-2017   \n",
       "\n",
       "                    is_weekend  \n",
       "2016-12-01 00:00:00    weekday  \n",
       "2016-12-01 01:00:00    weekday  \n",
       "2016-12-01 02:00:00    weekday  \n",
       "2016-12-01 03:00:00    weekday  \n",
       "2016-12-01 04:00:00    weekday  "
      ]
     },
     "execution_count": 283,
     "metadata": {},
     "output_type": "execute_result"
    }
   ],
   "source": [
    "winterdata.head()"
   ]
  },
  {
   "cell_type": "code",
   "execution_count": 421,
   "metadata": {
    "hidden": true
   },
   "outputs": [
    {
     "data": {
      "text/html": [
       "<div>\n",
       "<style scoped>\n",
       "    .dataframe tbody tr th:only-of-type {\n",
       "        vertical-align: middle;\n",
       "    }\n",
       "\n",
       "    .dataframe tbody tr th {\n",
       "        vertical-align: top;\n",
       "    }\n",
       "\n",
       "    .dataframe thead th {\n",
       "        text-align: right;\n",
       "    }\n",
       "</style>\n",
       "<table border=\"1\" class=\"dataframe\">\n",
       "  <thead>\n",
       "    <tr style=\"text-align: right;\">\n",
       "      <th></th>\n",
       "      <th>PM2.5</th>\n",
       "      <th>Year</th>\n",
       "      <th>Month</th>\n",
       "      <th>DayofWeek</th>\n",
       "      <th>season</th>\n",
       "      <th>is_weekend</th>\n",
       "      <th>month-year</th>\n",
       "    </tr>\n",
       "  </thead>\n",
       "  <tbody>\n",
       "    <tr>\n",
       "      <th>2019-02-24</th>\n",
       "      <td>26.308333</td>\n",
       "      <td>2019</td>\n",
       "      <td>Feb</td>\n",
       "      <td>Sunday</td>\n",
       "      <td>winter\\n2018-2019</td>\n",
       "      <td>weekend</td>\n",
       "      <td>Feb\\n2019</td>\n",
       "    </tr>\n",
       "    <tr>\n",
       "      <th>2019-02-25</th>\n",
       "      <td>26.690909</td>\n",
       "      <td>2019</td>\n",
       "      <td>Feb</td>\n",
       "      <td>Monday</td>\n",
       "      <td>winter\\n2018-2019</td>\n",
       "      <td>weekday</td>\n",
       "      <td>Feb\\n2019</td>\n",
       "    </tr>\n",
       "    <tr>\n",
       "      <th>2019-02-26</th>\n",
       "      <td>26.856522</td>\n",
       "      <td>2019</td>\n",
       "      <td>Feb</td>\n",
       "      <td>Tuesday</td>\n",
       "      <td>winter\\n2018-2019</td>\n",
       "      <td>weekday</td>\n",
       "      <td>Feb\\n2019</td>\n",
       "    </tr>\n",
       "    <tr>\n",
       "      <th>2019-02-27</th>\n",
       "      <td>27.254167</td>\n",
       "      <td>2019</td>\n",
       "      <td>Feb</td>\n",
       "      <td>Wednesday</td>\n",
       "      <td>winter\\n2018-2019</td>\n",
       "      <td>weekday</td>\n",
       "      <td>Feb\\n2019</td>\n",
       "    </tr>\n",
       "    <tr>\n",
       "      <th>2019-02-28</th>\n",
       "      <td>31.720833</td>\n",
       "      <td>2019</td>\n",
       "      <td>Feb</td>\n",
       "      <td>Thursday</td>\n",
       "      <td>winter\\n2018-2019</td>\n",
       "      <td>weekday</td>\n",
       "      <td>Feb\\n2019</td>\n",
       "    </tr>\n",
       "  </tbody>\n",
       "</table>\n",
       "</div>"
      ],
      "text/plain": [
       "                PM2.5  Year Month  DayofWeek             season is_weekend  \\\n",
       "2019-02-24  26.308333  2019   Feb     Sunday  winter\\n2018-2019    weekend   \n",
       "2019-02-25  26.690909  2019   Feb     Monday  winter\\n2018-2019    weekday   \n",
       "2019-02-26  26.856522  2019   Feb    Tuesday  winter\\n2018-2019    weekday   \n",
       "2019-02-27  27.254167  2019   Feb  Wednesday  winter\\n2018-2019    weekday   \n",
       "2019-02-28  31.720833  2019   Feb   Thursday  winter\\n2018-2019    weekday   \n",
       "\n",
       "           month-year  \n",
       "2019-02-24  Feb\\n2019  \n",
       "2019-02-25  Feb\\n2019  \n",
       "2019-02-26  Feb\\n2019  \n",
       "2019-02-27  Feb\\n2019  \n",
       "2019-02-28  Feb\\n2019  "
      ]
     },
     "execution_count": 421,
     "metadata": {},
     "output_type": "execute_result"
    }
   ],
   "source": [
    "dayavg_decFeb = winterdata.resample('d').agg({\n",
    "    'PM2.5':'mean','Year':'last','Month':'last','DayofWeek':'last',\n",
    "    'season':'last','is_weekend':'last'\n",
    "})\n",
    "dayavg['level'] = pd.cut(dayavg_decFeb['PM2.5'],bins = [0, 35.5, 55.5, 150.4], \n",
    "                       labels=['satisfactory', 'moderate','unhealthy'],\n",
    "                      include_lowest=True, right=False).astype(str)\n",
    "dayavg_decFeb['month-year'] = dayavg_decFeb.index.strftime('%b\\n%Y')\n",
    "dayavg_decFeb['Month'] = dayavg_decFeb.index.strftime('%b')\n",
    "dayavg_decFeb.tail()"
   ]
  },
  {
   "cell_type": "code",
   "execution_count": 425,
   "metadata": {
    "hidden": true,
    "scrolled": true
   },
   "outputs": [],
   "source": [
    "day_map = pd.pivot_table(dayavg_decFeb, index='DayofWeek',columns=['month-year'],values='PM2.5',\n",
    "              aggfunc='mean')\n",
    "day_name=pd.date_range('2019-03-04','2019-03-10', freq='D').strftime(\"%A\").tolist()\n",
    "day_map = day_map.reindex(['Dec\\n2016', 'Jan\\n2017','Feb\\n2017', 'Dec\\n2017',\n",
    "                      'Jan\\n2018', 'Feb\\n2018',  'Dec\\n2018', 'Jan\\n2019','Feb\\n2019'], axis=1)\n",
    "day_map = day_map.reindex(day_name)"
   ]
  },
  {
   "cell_type": "code",
   "execution_count": 423,
   "metadata": {
    "hidden": true
   },
   "outputs": [
    {
     "data": {
      "text/plain": [
       "Index(['Dec\\n2016', 'Dec\\n2017', 'Dec\\n2018', 'Feb\\n2017', 'Feb\\n2018',\n",
       "       'Feb\\n2019', 'Jan\\n2017', 'Jan\\n2018', 'Jan\\n2019'],\n",
       "      dtype='object', name='month-year')"
      ]
     },
     "execution_count": 423,
     "metadata": {},
     "output_type": "execute_result"
    }
   ],
   "source": [
    "day_map.columns"
   ]
  },
  {
   "cell_type": "code",
   "execution_count": 427,
   "metadata": {
    "hidden": true,
    "scrolled": true
   },
   "outputs": [
    {
     "data": {
      "text/plain": [
       "Text(0.5, 1.0, 'daly average in winter')"
      ]
     },
     "execution_count": 427,
     "metadata": {},
     "output_type": "execute_result"
    },
    {
     "data": {
      "image/png": "[encoded data removed]",
      "text/plain": [
       "<Figure size 648x288 with 2 Axes>"
      ]
     },
     "metadata": {
      "needs_background": "light"
     },
     "output_type": "display_data"
    }
   ],
   "source": [
    "fig = plt.figure(figsize= (9,4))\n",
    "gs = GridSpec(1, 2, width_ratios=[4,1])\n",
    "ax1 = fig.add_subplot(gs[0])\n",
    "sns.heatmap(day_map,cmap='autumn_r', linewidth=0.5,ax=ax1,\n",
    "           cbar_kws={'label': 'PM 2.5 level'})\n",
    "ax1.yaxis.label.set_visible(False)\n",
    "ax1.xaxis.label.set_visible(False)\n",
    "plt.title('daly average in winter')\n"
   ]
  },
  {
   "cell_type": "markdown",
   "metadata": {
    "hidden": true
   },
   "source": [
    "No pattern. To confirm that there is not trend for day of week, using lineplot."
   ]
  },
  {
   "cell_type": "code",
   "execution_count": 442,
   "metadata": {
    "hidden": true,
    "scrolled": true
   },
   "outputs": [
    {
     "data": {
      "text/plain": [
       "<matplotlib.axes._subplots.AxesSubplot at 0x1e417132f60>"
      ]
     },
     "execution_count": 442,
     "metadata": {},
     "output_type": "execute_result"
    },
    {
     "data": {
      "image/png": "[encoded data removed]",
      "text/plain": [
       "<Figure size 432x288 with 1 Axes>"
      ]
     },
     "metadata": {
      "needs_background": "light"
     },
     "output_type": "display_data"
    }
   ],
   "source": [
    "sns.lineplot(data=dayavg_decFeb, x='DayofWeek',y='PM2.5', hue='month-year',\n",
    "            legend=False)"
   ]
  },
  {
   "cell_type": "code",
   "execution_count": 477,
   "metadata": {
    "hidden": true,
    "scrolled": true
   },
   "outputs": [],
   "source": [
    "day_map_norm = day_map/day_map.max()"
   ]
  },
  {
   "cell_type": "code",
   "execution_count": 478,
   "metadata": {
    "hidden": true
   },
   "outputs": [
    {
     "data": {
      "text/plain": [
       "Text(0.5, 1.0, 'daly average in winter')"
      ]
     },
     "execution_count": 478,
     "metadata": {},
     "output_type": "execute_result"
    },
    {
     "data": {
      "image/png": "[encoded data removed]",
      "text/plain": [
       "<Figure size 648x288 with 2 Axes>"
      ]
     },
     "metadata": {
      "needs_background": "light"
     },
     "output_type": "display_data"
    }
   ],
   "source": [
    "fig = plt.figure(figsize= (9,4))\n",
    "gs = GridSpec(1, 2, width_ratios=[4,1])\n",
    "ax1 = fig.add_subplot(gs[0])\n",
    "sns.heatmap(day_map_norm,cmap='autumn_r', linewidth=0.5,ax=ax1,\n",
    "           cbar_kws={'label': 'normalized PM 2.5 level'})\n",
    "ax1.yaxis.label.set_visible(False)\n",
    "ax1.xaxis.label.set_visible(False)\n",
    "plt.title('daly average in winter')"
   ]
  },
  {
   "cell_type": "markdown",
   "metadata": {
    "hidden": true
   },
   "source": [
    "One thing I learn from exploring this data, is too much averaging can make your trend go away. To look at a trend for time of day, I need to look at the raw plot vs time, instead of the average hours value."
   ]
  },
  {
   "cell_type": "code",
   "execution_count": 493,
   "metadata": {
    "hidden": true
   },
   "outputs": [],
   "source": [
    "day_map_norm_melt = pd.melt(day_map_norm.reset_index(),id_vars='DayofWeek')"
   ]
  },
  {
   "cell_type": "code",
   "execution_count": 491,
   "metadata": {
    "hidden": true
   },
   "outputs": [
    {
     "data": {
      "text/html": [
       "<div>\n",
       "<style scoped>\n",
       "    .dataframe tbody tr th:only-of-type {\n",
       "        vertical-align: middle;\n",
       "    }\n",
       "\n",
       "    .dataframe tbody tr th {\n",
       "        vertical-align: top;\n",
       "    }\n",
       "\n",
       "    .dataframe thead th {\n",
       "        text-align: right;\n",
       "    }\n",
       "</style>\n",
       "<table border=\"1\" class=\"dataframe\">\n",
       "  <thead>\n",
       "    <tr style=\"text-align: right;\">\n",
       "      <th></th>\n",
       "      <th>DayofWeek</th>\n",
       "      <th>month-year</th>\n",
       "      <th>value</th>\n",
       "    </tr>\n",
       "  </thead>\n",
       "  <tbody>\n",
       "    <tr>\n",
       "      <th>0</th>\n",
       "      <td>Monday</td>\n",
       "      <td>Dec\\n2016</td>\n",
       "      <td>0.889537</td>\n",
       "    </tr>\n",
       "    <tr>\n",
       "      <th>1</th>\n",
       "      <td>Tuesday</td>\n",
       "      <td>Dec\\n2016</td>\n",
       "      <td>0.851834</td>\n",
       "    </tr>\n",
       "    <tr>\n",
       "      <th>2</th>\n",
       "      <td>Wednesday</td>\n",
       "      <td>Dec\\n2016</td>\n",
       "      <td>1.000000</td>\n",
       "    </tr>\n",
       "    <tr>\n",
       "      <th>3</th>\n",
       "      <td>Thursday</td>\n",
       "      <td>Dec\\n2016</td>\n",
       "      <td>0.704397</td>\n",
       "    </tr>\n",
       "    <tr>\n",
       "      <th>4</th>\n",
       "      <td>Friday</td>\n",
       "      <td>Dec\\n2016</td>\n",
       "      <td>0.683375</td>\n",
       "    </tr>\n",
       "  </tbody>\n",
       "</table>\n",
       "</div>"
      ],
      "text/plain": [
       "   DayofWeek month-year     value\n",
       "0     Monday  Dec\\n2016  0.889537\n",
       "1    Tuesday  Dec\\n2016  0.851834\n",
       "2  Wednesday  Dec\\n2016  1.000000\n",
       "3   Thursday  Dec\\n2016  0.704397\n",
       "4     Friday  Dec\\n2016  0.683375"
      ]
     },
     "execution_count": 491,
     "metadata": {},
     "output_type": "execute_result"
    }
   ],
   "source": [
    "day_map_norm_melt.head()"
   ]
  },
  {
   "cell_type": "code",
   "execution_count": 494,
   "metadata": {
    "hidden": true
   },
   "outputs": [
    {
     "data": {
      "text/plain": [
       "<matplotlib.axes._subplots.AxesSubplot at 0x1e413f7dc18>"
      ]
     },
     "execution_count": 494,
     "metadata": {},
     "output_type": "execute_result"
    },
    {
     "data": {
      "image/png": "[encoded data removed]",
      "text/plain": [
       "<Figure size 432x288 with 1 Axes>"
      ]
     },
     "metadata": {
      "needs_background": "light"
     },
     "output_type": "display_data"
    }
   ],
   "source": [
    "sns.lineplot(data=day_map_norm_melt, x='DayofWeek',y='value', hue='month-year',\n",
    "            legend=False)"
   ]
  },
  {
   "cell_type": "code",
   "execution_count": 446,
   "metadata": {
    "hidden": true
   },
   "outputs": [
    {
     "data": {
      "text/html": [
       "<div>\n",
       "<style scoped>\n",
       "    .dataframe tbody tr th:only-of-type {\n",
       "        vertical-align: middle;\n",
       "    }\n",
       "\n",
       "    .dataframe tbody tr th {\n",
       "        vertical-align: top;\n",
       "    }\n",
       "\n",
       "    .dataframe thead th {\n",
       "        text-align: right;\n",
       "    }\n",
       "</style>\n",
       "<table border=\"1\" class=\"dataframe\">\n",
       "  <thead>\n",
       "    <tr style=\"text-align: right;\">\n",
       "      <th></th>\n",
       "      <th>PM2.5</th>\n",
       "      <th>PM2.5avg</th>\n",
       "      <th>Year</th>\n",
       "      <th>Month</th>\n",
       "      <th>DayofMonth</th>\n",
       "      <th>DayofWeek</th>\n",
       "      <th>TimeofDay</th>\n",
       "      <th>level</th>\n",
       "      <th>color</th>\n",
       "      <th>season</th>\n",
       "      <th>is_weekend</th>\n",
       "      <th>month-year</th>\n",
       "    </tr>\n",
       "  </thead>\n",
       "  <tbody>\n",
       "    <tr>\n",
       "      <th>2016-12-01 00:00:00</th>\n",
       "      <td>32.4</td>\n",
       "      <td>28.600000</td>\n",
       "      <td>2016</td>\n",
       "      <td>December</td>\n",
       "      <td>1</td>\n",
       "      <td>Thursday</td>\n",
       "      <td>0</td>\n",
       "      <td>satisfactory</td>\n",
       "      <td>green</td>\n",
       "      <td>winter\\n2016-2017</td>\n",
       "      <td>weekday</td>\n",
       "      <td>Dec-2016</td>\n",
       "    </tr>\n",
       "    <tr>\n",
       "      <th>2016-12-01 01:00:00</th>\n",
       "      <td>30.0</td>\n",
       "      <td>28.270833</td>\n",
       "      <td>2016</td>\n",
       "      <td>December</td>\n",
       "      <td>1</td>\n",
       "      <td>Thursday</td>\n",
       "      <td>1</td>\n",
       "      <td>satisfactory</td>\n",
       "      <td>green</td>\n",
       "      <td>winter\\n2016-2017</td>\n",
       "      <td>weekday</td>\n",
       "      <td>Dec-2016</td>\n",
       "    </tr>\n",
       "    <tr>\n",
       "      <th>2016-12-01 02:00:00</th>\n",
       "      <td>31.7</td>\n",
       "      <td>27.837500</td>\n",
       "      <td>2016</td>\n",
       "      <td>December</td>\n",
       "      <td>1</td>\n",
       "      <td>Thursday</td>\n",
       "      <td>2</td>\n",
       "      <td>satisfactory</td>\n",
       "      <td>green</td>\n",
       "      <td>winter\\n2016-2017</td>\n",
       "      <td>weekday</td>\n",
       "      <td>Dec-2016</td>\n",
       "    </tr>\n",
       "    <tr>\n",
       "      <th>2016-12-01 03:00:00</th>\n",
       "      <td>28.6</td>\n",
       "      <td>27.437500</td>\n",
       "      <td>2016</td>\n",
       "      <td>December</td>\n",
       "      <td>1</td>\n",
       "      <td>Thursday</td>\n",
       "      <td>3</td>\n",
       "      <td>satisfactory</td>\n",
       "      <td>green</td>\n",
       "      <td>winter\\n2016-2017</td>\n",
       "      <td>weekday</td>\n",
       "      <td>Dec-2016</td>\n",
       "    </tr>\n",
       "    <tr>\n",
       "      <th>2016-12-01 04:00:00</th>\n",
       "      <td>31.3</td>\n",
       "      <td>27.195833</td>\n",
       "      <td>2016</td>\n",
       "      <td>December</td>\n",
       "      <td>1</td>\n",
       "      <td>Thursday</td>\n",
       "      <td>4</td>\n",
       "      <td>satisfactory</td>\n",
       "      <td>green</td>\n",
       "      <td>winter\\n2016-2017</td>\n",
       "      <td>weekday</td>\n",
       "      <td>Dec-2016</td>\n",
       "    </tr>\n",
       "  </tbody>\n",
       "</table>\n",
       "</div>"
      ],
      "text/plain": [
       "                     PM2.5   PM2.5avg  Year     Month DayofMonth DayofWeek  \\\n",
       "2016-12-01 00:00:00   32.4  28.600000  2016  December          1  Thursday   \n",
       "2016-12-01 01:00:00   30.0  28.270833  2016  December          1  Thursday   \n",
       "2016-12-01 02:00:00   31.7  27.837500  2016  December          1  Thursday   \n",
       "2016-12-01 03:00:00   28.6  27.437500  2016  December          1  Thursday   \n",
       "2016-12-01 04:00:00   31.3  27.195833  2016  December          1  Thursday   \n",
       "\n",
       "                     TimeofDay         level  color             season  \\\n",
       "2016-12-01 00:00:00          0  satisfactory  green  winter\\n2016-2017   \n",
       "2016-12-01 01:00:00          1  satisfactory  green  winter\\n2016-2017   \n",
       "2016-12-01 02:00:00          2  satisfactory  green  winter\\n2016-2017   \n",
       "2016-12-01 03:00:00          3  satisfactory  green  winter\\n2016-2017   \n",
       "2016-12-01 04:00:00          4  satisfactory  green  winter\\n2016-2017   \n",
       "\n",
       "                    is_weekend month-year  \n",
       "2016-12-01 00:00:00    weekday   Dec-2016  \n",
       "2016-12-01 01:00:00    weekday   Dec-2016  \n",
       "2016-12-01 02:00:00    weekday   Dec-2016  \n",
       "2016-12-01 03:00:00    weekday   Dec-2016  \n",
       "2016-12-01 04:00:00    weekday   Dec-2016  "
      ]
     },
     "execution_count": 446,
     "metadata": {},
     "output_type": "execute_result"
    }
   ],
   "source": [
    "winterdata.head()"
   ]
  },
  {
   "cell_type": "code",
   "execution_count": 466,
   "metadata": {
    "hidden": true
   },
   "outputs": [
    {
     "data": {
      "text/html": [
       "<div>\n",
       "<style scoped>\n",
       "    .dataframe tbody tr th:only-of-type {\n",
       "        vertical-align: middle;\n",
       "    }\n",
       "\n",
       "    .dataframe tbody tr th {\n",
       "        vertical-align: top;\n",
       "    }\n",
       "\n",
       "    .dataframe thead th {\n",
       "        text-align: right;\n",
       "    }\n",
       "</style>\n",
       "<table border=\"1\" class=\"dataframe\">\n",
       "  <thead>\n",
       "    <tr style=\"text-align: right;\">\n",
       "      <th></th>\n",
       "      <th>month-year</th>\n",
       "      <th>TimeofDay</th>\n",
       "      <th>PM2.5</th>\n",
       "      <th>DayofWeek</th>\n",
       "    </tr>\n",
       "  </thead>\n",
       "  <tbody>\n",
       "    <tr>\n",
       "      <th>0</th>\n",
       "      <td>Dec-2016</td>\n",
       "      <td>0</td>\n",
       "      <td>50.903226</td>\n",
       "      <td>Saturday</td>\n",
       "    </tr>\n",
       "    <tr>\n",
       "      <th>1</th>\n",
       "      <td>Dec-2016</td>\n",
       "      <td>1</td>\n",
       "      <td>49.022581</td>\n",
       "      <td>Saturday</td>\n",
       "    </tr>\n",
       "    <tr>\n",
       "      <th>2</th>\n",
       "      <td>Dec-2016</td>\n",
       "      <td>2</td>\n",
       "      <td>50.461290</td>\n",
       "      <td>Saturday</td>\n",
       "    </tr>\n",
       "    <tr>\n",
       "      <th>3</th>\n",
       "      <td>Dec-2016</td>\n",
       "      <td>3</td>\n",
       "      <td>47.529032</td>\n",
       "      <td>Saturday</td>\n",
       "    </tr>\n",
       "    <tr>\n",
       "      <th>4</th>\n",
       "      <td>Dec-2016</td>\n",
       "      <td>4</td>\n",
       "      <td>45.174194</td>\n",
       "      <td>Saturday</td>\n",
       "    </tr>\n",
       "  </tbody>\n",
       "</table>\n",
       "</div>"
      ],
      "text/plain": [
       "  month-year  TimeofDay      PM2.5 DayofWeek\n",
       "0   Dec-2016          0  50.903226  Saturday\n",
       "1   Dec-2016          1  49.022581  Saturday\n",
       "2   Dec-2016          2  50.461290  Saturday\n",
       "3   Dec-2016          3  47.529032  Saturday\n",
       "4   Dec-2016          4  45.174194  Saturday"
      ]
     },
     "execution_count": 466,
     "metadata": {},
     "output_type": "execute_result"
    }
   ],
   "source": [
    "hourlyavg_win = winterdata.groupby(['month-year','TimeofDay'],as_index=False).agg({'PM2.5':'mean','DayofWeek':'last'})\n",
    "\n",
    "monthyear_sorter = ['Dec\\n2016', 'Jan\\n2017','Feb\\n2017', 'Dec\\n2017',\n",
    "                      'Jan\\n2018', 'Feb\\n2018',  'Dec\\n2018', 'Jan\\n2019','Feb\\n2019']\n",
    "day_name=pd.date_range('2019-03-04','2019-03-10', freq='D').strftime(\"%A\").tolist()\n",
    "\n",
    "hourlyavg_win = hourlyavg_win.sort_values(['month-year','DayofWeek'],ascending=[monthyear_sorter,day_name])\n",
    "hourlyavg_win.head()"
   ]
  },
  {
   "cell_type": "code",
   "execution_count": 460,
   "metadata": {
    "hidden": true
   },
   "outputs": [
    {
     "data": {
      "text/html": [
       "<div>\n",
       "<style scoped>\n",
       "    .dataframe tbody tr th:only-of-type {\n",
       "        vertical-align: middle;\n",
       "    }\n",
       "\n",
       "    .dataframe tbody tr th {\n",
       "        vertical-align: top;\n",
       "    }\n",
       "\n",
       "    .dataframe thead th {\n",
       "        text-align: right;\n",
       "    }\n",
       "</style>\n",
       "<table border=\"1\" class=\"dataframe\">\n",
       "  <thead>\n",
       "    <tr style=\"text-align: right;\">\n",
       "      <th></th>\n",
       "      <th>month-year</th>\n",
       "      <th>TimeofDay</th>\n",
       "      <th>PM2.5</th>\n",
       "      <th>DayofWeek</th>\n",
       "    </tr>\n",
       "  </thead>\n",
       "  <tbody>\n",
       "    <tr>\n",
       "      <th>0</th>\n",
       "      <td>Dec-2016</td>\n",
       "      <td>0</td>\n",
       "      <td>50.903226</td>\n",
       "      <td>Saturday</td>\n",
       "    </tr>\n",
       "    <tr>\n",
       "      <th>1</th>\n",
       "      <td>Dec-2016</td>\n",
       "      <td>1</td>\n",
       "      <td>49.022581</td>\n",
       "      <td>Saturday</td>\n",
       "    </tr>\n",
       "    <tr>\n",
       "      <th>2</th>\n",
       "      <td>Dec-2016</td>\n",
       "      <td>2</td>\n",
       "      <td>50.461290</td>\n",
       "      <td>Saturday</td>\n",
       "    </tr>\n",
       "    <tr>\n",
       "      <th>3</th>\n",
       "      <td>Dec-2016</td>\n",
       "      <td>3</td>\n",
       "      <td>47.529032</td>\n",
       "      <td>Saturday</td>\n",
       "    </tr>\n",
       "    <tr>\n",
       "      <th>4</th>\n",
       "      <td>Dec-2016</td>\n",
       "      <td>4</td>\n",
       "      <td>45.174194</td>\n",
       "      <td>Saturday</td>\n",
       "    </tr>\n",
       "  </tbody>\n",
       "</table>\n",
       "</div>"
      ],
      "text/plain": [
       "  month-year  TimeofDay      PM2.5 DayofWeek\n",
       "0   Dec-2016          0  50.903226  Saturday\n",
       "1   Dec-2016          1  49.022581  Saturday\n",
       "2   Dec-2016          2  50.461290  Saturday\n",
       "3   Dec-2016          3  47.529032  Saturday\n",
       "4   Dec-2016          4  45.174194  Saturday"
      ]
     },
     "execution_count": 460,
     "metadata": {},
     "output_type": "execute_result"
    }
   ],
   "source": [
    "hourlyavg_win.head()"
   ]
  },
  {
   "cell_type": "code",
   "execution_count": 464,
   "metadata": {
    "hidden": true
   },
   "outputs": [
    {
     "data": {
      "text/plain": [
       "<matplotlib.axes._subplots.AxesSubplot at 0x1e41785d710>"
      ]
     },
     "execution_count": 464,
     "metadata": {},
     "output_type": "execute_result"
    },
    {
     "data": {
      "image/png": "[encoded data removed]",
      "text/plain": [
       "<Figure size 504x288 with 1 Axes>"
      ]
     },
     "metadata": {
      "needs_background": "light"
     },
     "output_type": "display_data"
    }
   ],
   "source": [
    "fig = plt.figure(figsize=(7,4))\n",
    "sns.lineplot(data=hourlyavg_win, x='TimeofDay',y='PM2.5',hue='month-year')"
   ]
  },
  {
   "cell_type": "code",
   "execution_count": 474,
   "metadata": {
    "hidden": true
   },
   "outputs": [
    {
     "data": {
      "text/plain": [
       "Text(0, 0.5, 'PM2.5 $\\\\mu g/m^3$')"
      ]
     },
     "execution_count": 474,
     "metadata": {},
     "output_type": "execute_result"
    },
    {
     "data": {
      "image/png": "[encoded data removed]",
      "text/plain": [
       "<Figure size 504x288 with 1 Axes>"
      ]
     },
     "metadata": {
      "needs_background": "light"
     },
     "output_type": "display_data"
    }
   ],
   "source": [
    "fig = plt.figure(figsize=(7,4))\n",
    "sns.lineplot(data=winterdata, x='TimeofDay',y='PM2.5',hue='month-year')\n",
    "plt.legend(bbox_to_anchor=(1.02, 1))\n",
    "plt.xlabel('hour')\n",
    "plt.ylabel('PM2.5 $\\mu g/m^3$')"
   ]
  },
  {
   "cell_type": "markdown",
   "metadata": {
    "heading_collapsed": true
   },
   "source": [
    "# Maps\n",
    "\n",
    "1. Extract city name, region name and the lattitude and logtitude from all data files, and convert to Mercator system. \n",
    "2. Collect data from all files in a single DataFrame and save it\n",
    "3. Get the names of all BKK neighbor province\n",
    "4. Display the data on a map. I use tile from Stamen.\n",
    "5. Build interactive plot for each months\n"
   ]
  },
  {
   "cell_type": "markdown",
   "metadata": {
    "heading_collapsed": true,
    "hidden": true
   },
   "source": [
    "## 1. Extract city name, region name and the lattitude and logtitude from all data files, and convert to Mercator system. \n",
    "\n",
    "I am going to use Bokeh geographical map, which use Mercator coordinate system. "
   ]
  },
  {
   "cell_type": "code",
   "execution_count": 385,
   "metadata": {
    "hidden": true
   },
   "outputs": [],
   "source": [
    "import re"
   ]
  },
  {
   "cell_type": "code",
   "execution_count": 443,
   "metadata": {
    "hidden": true
   },
   "outputs": [],
   "source": [
    "#Extract geospatial data \n",
    "def geo_info(filename):\n",
    "    with open(filename,'r') as f:\n",
    "        data = f.read()\n",
    "        city = re.search('City: (.+)', data).group(1)\n",
    "        region = re.search('Region: (.+)', data).group(1)\n",
    "        pop = re.search('Population: (\\w+)', data).group(1)    \n",
    "        lat = re.search('Latitude: (\\d+.\\d+)', data).group(1)\n",
    "        lng = re.search('Longitude: (\\d+.\\d+)', data).group(1)  \n",
    "    return [city, region, pop, lat, lng]\n"
   ]
  },
  {
   "cell_type": "code",
   "execution_count": 444,
   "metadata": {
    "hidden": true
   },
   "outputs": [],
   "source": [
    "region_info = []\n",
    "for filename in glob('data/*.txt'):\n",
    "    info = geo_info(filename)\n",
    "    region_info.append(info)\n",
    "    "
   ]
  },
  {
   "cell_type": "code",
   "execution_count": 445,
   "metadata": {
    "hidden": true
   },
   "outputs": [],
   "source": [
    "region_df = pd.DataFrame(region_info, columns=['City','Region', 'Population','Latitude','Longitude'])"
   ]
  },
  {
   "cell_type": "code",
   "execution_count": 635,
   "metadata": {
    "hidden": true
   },
   "outputs": [
    {
     "data": {
      "text/html": [
       "<div>\n",
       "<style scoped>\n",
       "    .dataframe tbody tr th:only-of-type {\n",
       "        vertical-align: middle;\n",
       "    }\n",
       "\n",
       "    .dataframe tbody tr th {\n",
       "        vertical-align: top;\n",
       "    }\n",
       "\n",
       "    .dataframe thead th {\n",
       "        text-align: right;\n",
       "    }\n",
       "</style>\n",
       "<table border=\"1\" class=\"dataframe\">\n",
       "  <thead>\n",
       "    <tr style=\"text-align: right;\">\n",
       "      <th></th>\n",
       "      <th>City</th>\n",
       "      <th>Region</th>\n",
       "      <th>Population</th>\n",
       "      <th>Latitude</th>\n",
       "      <th>Longitude</th>\n",
       "      <th>x_mer</th>\n",
       "      <th>y_mer</th>\n",
       "    </tr>\n",
       "  </thead>\n",
       "  <tbody>\n",
       "    <tr>\n",
       "      <th>0</th>\n",
       "      <td>Bangkok</td>\n",
       "      <td>Bangkok</td>\n",
       "      <td>5104476</td>\n",
       "      <td>13.7540</td>\n",
       "      <td>100.5014</td>\n",
       "      <td>1.118776e+07</td>\n",
       "      <td>1.649990e+06</td>\n",
       "    </tr>\n",
       "    <tr>\n",
       "      <th>1</th>\n",
       "      <td>Bang Kruai</td>\n",
       "      <td>Nonthaburi</td>\n",
       "      <td>78305</td>\n",
       "      <td>13.8050</td>\n",
       "      <td>100.4728</td>\n",
       "      <td>1.118458e+07</td>\n",
       "      <td>1.655825e+06</td>\n",
       "    </tr>\n",
       "    <tr>\n",
       "      <th>2</th>\n",
       "      <td>Ban Lam Luk Ka</td>\n",
       "      <td>Pathum Thani</td>\n",
       "      <td>60700</td>\n",
       "      <td>13.9774</td>\n",
       "      <td>100.7778</td>\n",
       "      <td>1.121853e+07</td>\n",
       "      <td>1.675559e+06</td>\n",
       "    </tr>\n",
       "    <tr>\n",
       "      <th>3</th>\n",
       "      <td>Ban Mai</td>\n",
       "      <td>Songkhla</td>\n",
       "      <td>86899</td>\n",
       "      <td>7.2041</td>\n",
       "      <td>100.5451</td>\n",
       "      <td>1.119263e+07</td>\n",
       "      <td>9.103199e+05</td>\n",
       "    </tr>\n",
       "    <tr>\n",
       "      <th>4</th>\n",
       "      <td>Ban Pong</td>\n",
       "      <td>Ratchaburi</td>\n",
       "      <td>57559</td>\n",
       "      <td>13.8163</td>\n",
       "      <td>99.8774</td>\n",
       "      <td>1.111830e+07</td>\n",
       "      <td>1.657118e+06</td>\n",
       "    </tr>\n",
       "  </tbody>\n",
       "</table>\n",
       "</div>"
      ],
      "text/plain": [
       "             City        Region  Population  Latitude  Longitude  \\\n",
       "0         Bangkok       Bangkok     5104476   13.7540   100.5014   \n",
       "1      Bang Kruai    Nonthaburi       78305   13.8050   100.4728   \n",
       "2  Ban Lam Luk Ka  Pathum Thani       60700   13.9774   100.7778   \n",
       "3         Ban Mai      Songkhla       86899    7.2041   100.5451   \n",
       "4        Ban Pong    Ratchaburi       57559   13.8163    99.8774   \n",
       "\n",
       "          x_mer         y_mer  \n",
       "0  1.118776e+07  1.649990e+06  \n",
       "1  1.118458e+07  1.655825e+06  \n",
       "2  1.121853e+07  1.675559e+06  \n",
       "3  1.119263e+07  9.103199e+05  \n",
       "4  1.111830e+07  1.657118e+06  "
      ]
     },
     "execution_count": 635,
     "metadata": {},
     "output_type": "execute_result"
    }
   ],
   "source": [
    "region_df.head()"
   ]
  },
  {
   "cell_type": "code",
   "execution_count": 520,
   "metadata": {
    "hidden": true
   },
   "outputs": [],
   "source": [
    "#from https://wiki.openstreetmap.org/wiki/Mercator\n",
    "import math\n",
    "\n",
    "def merc_x(lon):\n",
    "  r_major = 6378137.000\n",
    "  return r_major*math.radians(lon)\n",
    "\n",
    "def merc_y(lat):\n",
    "    lat += 0.08\n",
    "    if lat>89.5:lat=89.5\n",
    "    if lat<-89.5:lat=-89.5\n",
    "    r_major=6378137.000\n",
    "    r_minor=6356752.3142\n",
    "    temp=r_minor/r_major\n",
    "    eccent=math.sqrt(1-temp**2)\n",
    "    phi=math.radians(lat)\n",
    "    sinphi=math.sin(phi)\n",
    "    con=eccent*sinphi\n",
    "    com=eccent/2\n",
    "    con=((1.0-con)/(1.0+con))**com\n",
    "    ts=math.tan((math.pi/2-phi)/2)/con\n",
    "    y=0-r_major*math.log(ts)\n",
    "    return y"
   ]
  },
  {
   "cell_type": "code",
   "execution_count": 683,
   "metadata": {
    "hidden": true
   },
   "outputs": [],
   "source": [
    "region_df['x_mer']= region_df.Longitude.apply(merc_x)\n",
    "region_df['y_mer']= region_df.Latitude.apply(merc_y)"
   ]
  },
  {
   "cell_type": "code",
   "execution_count": 649,
   "metadata": {
    "hidden": true
   },
   "outputs": [
    {
     "data": {
      "text/html": [
       "<div>\n",
       "<style scoped>\n",
       "    .dataframe tbody tr th:only-of-type {\n",
       "        vertical-align: middle;\n",
       "    }\n",
       "\n",
       "    .dataframe tbody tr th {\n",
       "        vertical-align: top;\n",
       "    }\n",
       "\n",
       "    .dataframe thead th {\n",
       "        text-align: right;\n",
       "    }\n",
       "</style>\n",
       "<table border=\"1\" class=\"dataframe\">\n",
       "  <thead>\n",
       "    <tr style=\"text-align: right;\">\n",
       "      <th></th>\n",
       "      <th>City</th>\n",
       "      <th>Region</th>\n",
       "      <th>Population</th>\n",
       "      <th>Latitude</th>\n",
       "      <th>Longitude</th>\n",
       "      <th>x_mer</th>\n",
       "      <th>y_mer</th>\n",
       "    </tr>\n",
       "  </thead>\n",
       "  <tbody>\n",
       "    <tr>\n",
       "      <th>count</th>\n",
       "      <td>56</td>\n",
       "      <td>56</td>\n",
       "      <td>5.600000e+01</td>\n",
       "      <td>56.000000</td>\n",
       "      <td>56.000000</td>\n",
       "      <td>5.600000e+01</td>\n",
       "      <td>5.600000e+01</td>\n",
       "    </tr>\n",
       "    <tr>\n",
       "      <th>unique</th>\n",
       "      <td>56</td>\n",
       "      <td>41</td>\n",
       "      <td>NaN</td>\n",
       "      <td>NaN</td>\n",
       "      <td>NaN</td>\n",
       "      <td>NaN</td>\n",
       "      <td>NaN</td>\n",
       "    </tr>\n",
       "    <tr>\n",
       "      <th>top</th>\n",
       "      <td>Pak Kret</td>\n",
       "      <td>Nonthaburi</td>\n",
       "      <td>NaN</td>\n",
       "      <td>NaN</td>\n",
       "      <td>NaN</td>\n",
       "      <td>NaN</td>\n",
       "      <td>NaN</td>\n",
       "    </tr>\n",
       "    <tr>\n",
       "      <th>freq</th>\n",
       "      <td>1</td>\n",
       "      <td>3</td>\n",
       "      <td>NaN</td>\n",
       "      <td>NaN</td>\n",
       "      <td>NaN</td>\n",
       "      <td>NaN</td>\n",
       "      <td>NaN</td>\n",
       "    </tr>\n",
       "    <tr>\n",
       "      <th>mean</th>\n",
       "      <td>NaN</td>\n",
       "      <td>NaN</td>\n",
       "      <td>1.956620e+05</td>\n",
       "      <td>13.554377</td>\n",
       "      <td>100.738621</td>\n",
       "      <td>1.121417e+07</td>\n",
       "      <td>1.572554e+06</td>\n",
       "    </tr>\n",
       "    <tr>\n",
       "      <th>std</th>\n",
       "      <td>NaN</td>\n",
       "      <td>NaN</td>\n",
       "      <td>6.713606e+05</td>\n",
       "      <td>3.231692</td>\n",
       "      <td>1.311508</td>\n",
       "      <td>1.459965e+05</td>\n",
       "      <td>3.675895e+05</td>\n",
       "    </tr>\n",
       "    <tr>\n",
       "      <th>min</th>\n",
       "      <td>NaN</td>\n",
       "      <td>NaN</td>\n",
       "      <td>5.000000e+04</td>\n",
       "      <td>6.540000</td>\n",
       "      <td>98.398100</td>\n",
       "      <td>1.095363e+07</td>\n",
       "      <td>7.804353e+05</td>\n",
       "    </tr>\n",
       "    <tr>\n",
       "      <th>25%</th>\n",
       "      <td>NaN</td>\n",
       "      <td>NaN</td>\n",
       "      <td>5.834075e+04</td>\n",
       "      <td>12.677275</td>\n",
       "      <td>99.953025</td>\n",
       "      <td>1.112672e+07</td>\n",
       "      <td>1.470258e+06</td>\n",
       "    </tr>\n",
       "    <tr>\n",
       "      <th>50%</th>\n",
       "      <td>NaN</td>\n",
       "      <td>NaN</td>\n",
       "      <td>8.311300e+04</td>\n",
       "      <td>13.840150</td>\n",
       "      <td>100.524200</td>\n",
       "      <td>1.119030e+07</td>\n",
       "      <td>1.602694e+06</td>\n",
       "    </tr>\n",
       "    <tr>\n",
       "      <th>75%</th>\n",
       "      <td>NaN</td>\n",
       "      <td>NaN</td>\n",
       "      <td>1.237000e+05</td>\n",
       "      <td>15.731150</td>\n",
       "      <td>101.027775</td>\n",
       "      <td>1.124636e+07</td>\n",
       "      <td>1.819571e+06</td>\n",
       "    </tr>\n",
       "    <tr>\n",
       "      <th>max</th>\n",
       "      <td>NaN</td>\n",
       "      <td>NaN</td>\n",
       "      <td>5.104476e+06</td>\n",
       "      <td>19.908600</td>\n",
       "      <td>104.848700</td>\n",
       "      <td>1.167170e+07</td>\n",
       "      <td>2.306605e+06</td>\n",
       "    </tr>\n",
       "  </tbody>\n",
       "</table>\n",
       "</div>"
      ],
      "text/plain": [
       "            City      Region    Population   Latitude   Longitude  \\\n",
       "count         56          56  5.600000e+01  56.000000   56.000000   \n",
       "unique        56          41           NaN        NaN         NaN   \n",
       "top     Pak Kret  Nonthaburi           NaN        NaN         NaN   \n",
       "freq           1           3           NaN        NaN         NaN   \n",
       "mean         NaN         NaN  1.956620e+05  13.554377  100.738621   \n",
       "std          NaN         NaN  6.713606e+05   3.231692    1.311508   \n",
       "min          NaN         NaN  5.000000e+04   6.540000   98.398100   \n",
       "25%          NaN         NaN  5.834075e+04  12.677275   99.953025   \n",
       "50%          NaN         NaN  8.311300e+04  13.840150  100.524200   \n",
       "75%          NaN         NaN  1.237000e+05  15.731150  101.027775   \n",
       "max          NaN         NaN  5.104476e+06  19.908600  104.848700   \n",
       "\n",
       "               x_mer         y_mer  \n",
       "count   5.600000e+01  5.600000e+01  \n",
       "unique           NaN           NaN  \n",
       "top              NaN           NaN  \n",
       "freq             NaN           NaN  \n",
       "mean    1.121417e+07  1.572554e+06  \n",
       "std     1.459965e+05  3.675895e+05  \n",
       "min     1.095363e+07  7.804353e+05  \n",
       "25%     1.112672e+07  1.470258e+06  \n",
       "50%     1.119030e+07  1.602694e+06  \n",
       "75%     1.124636e+07  1.819571e+06  \n",
       "max     1.167170e+07  2.306605e+06  "
      ]
     },
     "execution_count": 649,
     "metadata": {},
     "output_type": "execute_result"
    }
   ],
   "source": [
    "region_df.describe(include='all')"
   ]
  },
  {
   "cell_type": "code",
   "execution_count": 453,
   "metadata": {
    "hidden": true
   },
   "outputs": [
    {
     "data": {
      "text/html": [
       "<div>\n",
       "<style scoped>\n",
       "    .dataframe tbody tr th:only-of-type {\n",
       "        vertical-align: middle;\n",
       "    }\n",
       "\n",
       "    .dataframe tbody tr th {\n",
       "        vertical-align: top;\n",
       "    }\n",
       "\n",
       "    .dataframe thead th {\n",
       "        text-align: right;\n",
       "    }\n",
       "</style>\n",
       "<table border=\"1\" class=\"dataframe\">\n",
       "  <thead>\n",
       "    <tr style=\"text-align: right;\">\n",
       "      <th></th>\n",
       "      <th>City</th>\n",
       "      <th>Region</th>\n",
       "      <th>Population</th>\n",
       "      <th>Latitude</th>\n",
       "      <th>Longitude</th>\n",
       "    </tr>\n",
       "  </thead>\n",
       "  <tbody>\n",
       "    <tr>\n",
       "      <th>1</th>\n",
       "      <td>Bang Kruai</td>\n",
       "      <td>Nonthaburi</td>\n",
       "      <td>78305</td>\n",
       "      <td>13.805</td>\n",
       "      <td>100.4728</td>\n",
       "    </tr>\n",
       "    <tr>\n",
       "      <th>25</th>\n",
       "      <td>Mueang Nonthaburi</td>\n",
       "      <td>Nonthaburi</td>\n",
       "      <td>291555</td>\n",
       "      <td>13.8607</td>\n",
       "      <td>100.5148</td>\n",
       "    </tr>\n",
       "    <tr>\n",
       "      <th>31</th>\n",
       "      <td>Pak Kret</td>\n",
       "      <td>Nonthaburi</td>\n",
       "      <td>182926</td>\n",
       "      <td>13.913</td>\n",
       "      <td>100.4988</td>\n",
       "    </tr>\n",
       "  </tbody>\n",
       "</table>\n",
       "</div>"
      ],
      "text/plain": [
       "                 City      Region Population Latitude Longitude\n",
       "1          Bang Kruai  Nonthaburi      78305   13.805  100.4728\n",
       "25  Mueang Nonthaburi  Nonthaburi     291555  13.8607  100.5148\n",
       "31           Pak Kret  Nonthaburi     182926   13.913  100.4988"
      ]
     },
     "execution_count": 453,
     "metadata": {},
     "output_type": "execute_result"
    }
   ],
   "source": [
    "region_df.query('Region == \"Nonthaburi\"')"
   ]
  },
  {
   "cell_type": "code",
   "execution_count": 78,
   "metadata": {
    "hidden": true
   },
   "outputs": [],
   "source": [
    "region_df['Region'] = region_df['Region'].str.replace('TH.S','Chonburi')\n",
    "region_df['Region'] = region_df['Region'].str.replace('Changwat','')"
   ]
  },
  {
   "cell_type": "code",
   "execution_count": 79,
   "metadata": {
    "hidden": true
   },
   "outputs": [],
   "source": [
    "region_df.to_csv('data/region_info.csv', index=False)"
   ]
  },
  {
   "cell_type": "code",
   "execution_count": 10,
   "metadata": {
    "hidden": true
   },
   "outputs": [],
   "source": [
    "region_df = pd.read_csv('data/region_info.csv')"
   ]
  },
  {
   "cell_type": "markdown",
   "metadata": {
    "heading_collapsed": true,
    "hidden": true
   },
   "source": [
    "## 2. Collect data from all files in a single DataFrame and save it"
   ]
  },
  {
   "cell_type": "code",
   "execution_count": 454,
   "metadata": {
    "hidden": true
   },
   "outputs": [],
   "source": [
    "def read_pm(filename):\n",
    "    pm25 = pd.read_csv(filename, sep='\\t', header=None, skiprows=10)\n",
    "    #assemble datetime column \n",
    "    pm25['Time'] = pd.to_datetime({'year': pm25[0], 'month': pm25[1], 'day':pm25[2],'hour': pm25[3]})\n",
    "    #convert time zone\n",
    "    pm25['Time'] = pm25['Time'].dt.tz_localize('UTC').dt.tz_convert('Asia/Bangkok')\n",
    "    pm25['Time'] = pm25['Time'].dt.tz_localize(None)\n",
    "    pm25=pm25.drop([0,1,2,3,5,6],axis=1)\n",
    "    pm25.columns = ['PM2.5', 'Time']\n",
    "    \n",
    "    city = geo_info(filename)[0]\n",
    "    pm25['city'] = city\n",
    "    \n",
    "    return pm25"
   ]
  },
  {
   "cell_type": "code",
   "execution_count": 465,
   "metadata": {
    "hidden": true
   },
   "outputs": [],
   "source": [
    "pm25_all = pd.DataFrame()\n",
    "for filename in glob('data/*.txt'):\n",
    "    pm25_region = read_pm(filename)\n",
    "    pm25_all = pm25_all.append(pm25_region,ignore_index=True)\n"
   ]
  },
  {
   "cell_type": "code",
   "execution_count": 469,
   "metadata": {
    "hidden": true
   },
   "outputs": [],
   "source": [
    "pm25_all.to_csv('data/pm25_all.csv', index=False)"
   ]
  },
  {
   "cell_type": "code",
   "execution_count": 20,
   "metadata": {
    "hidden": true
   },
   "outputs": [],
   "source": [
    "pm25_all = pd.read_csv('data/pm25_all.csv')\n",
    "pm25_all['Time'] = pd.to_datetime(pm25_all['Time'])"
   ]
  },
  {
   "cell_type": "code",
   "execution_count": 23,
   "metadata": {
    "hidden": true
   },
   "outputs": [
    {
     "name": "stdout",
     "output_type": "stream",
     "text": [
      "<class 'pandas.core.frame.DataFrame'>\n",
      "RangeIndex: 1249843 entries, 0 to 1249842\n",
      "Data columns (total 3 columns):\n",
      "PM2.5    1249843 non-null float64\n",
      "Time     1249843 non-null datetime64[ns]\n",
      "city     1249843 non-null object\n",
      "dtypes: datetime64[ns](1), float64(1), object(1)\n",
      "memory usage: 28.6+ MB\n"
     ]
    }
   ],
   "source": [
    "pm25_all.info()"
   ]
  },
  {
   "cell_type": "markdown",
   "metadata": {
    "heading_collapsed": true,
    "hidden": true
   },
   "source": [
    "## 3. Get the names of all Bangkok neighbor provinces"
   ]
  },
  {
   "cell_type": "code",
   "execution_count": 383,
   "metadata": {
    "hidden": true
   },
   "outputs": [],
   "source": [
    "# Obtain all province in BKK neighbors\n",
    "bkk_nei = ['Bangkok']\n",
    "with open('data/Bangkok.neighbors.json') as json_file:  \n",
    "    data = json.load(json_file)\n",
    "    for vec in data:\n",
    "        bkk_nei.append(vec[1])\n",
    "\n",
    "#remove province not in the proximity of BKK \n",
    "bkk_nei = bkk_nei[:8]"
   ]
  },
  {
   "cell_type": "code",
   "execution_count": 384,
   "metadata": {
    "hidden": true
   },
   "outputs": [
    {
     "data": {
      "text/plain": [
       "['Bangkok',\n",
       " 'Nonthaburi',\n",
       " 'Samut_Prakan',\n",
       " 'Samut_Sakhon',\n",
       " 'Pathum_Thani',\n",
       " 'Nakhon_Pathom',\n",
       " 'Phra_Nakhon_Si_Ayutthaya',\n",
       " 'Ratchaburi']"
      ]
     },
     "execution_count": 384,
     "metadata": {},
     "output_type": "execute_result"
    }
   ],
   "source": [
    "bkk_nei"
   ]
  },
  {
   "cell_type": "code",
   "execution_count": 4,
   "metadata": {
    "hidden": true
   },
   "outputs": [],
   "source": [
    "# load the region info and pm25 records\n",
    "region_df = pd.read_csv('data/region_info.csv')\n",
    "\n",
    "pm25_all = pd.read_csv('data/pm25_all.csv')\n",
    "pm25_all['Time'] = pd.to_datetime(pm25_all['Time'])\n",
    "pm25_all.set_index('Time',inplace=True)"
   ]
  },
  {
   "cell_type": "markdown",
   "metadata": {
    "heading_collapsed": true,
    "hidden": true
   },
   "source": [
    "## 4. Display the data on a map. \n",
    "\n",
    "I use tile from Stamen."
   ]
  },
  {
   "cell_type": "code",
   "execution_count": 40,
   "metadata": {
    "hidden": true
   },
   "outputs": [],
   "source": [
    "#pm25_all.set_index('Time', inplace=True)\n",
    "pm25_all_jan19 = pm25_all['2019-01']"
   ]
  },
  {
   "cell_type": "code",
   "execution_count": 41,
   "metadata": {
    "hidden": true
   },
   "outputs": [],
   "source": [
    "reg_monthavg = pm25_all_jan19.groupby('city', as_index=False).mean()\n",
    "reg_monthavg = reg_monthavg.merge(region_df, left_on ='city', right_on='City').drop('city',axis=1)"
   ]
  },
  {
   "cell_type": "code",
   "execution_count": 42,
   "metadata": {
    "hidden": true
   },
   "outputs": [],
   "source": [
    "reg_monthavg['level'] = pd.cut(reg_monthavg['PM2.5'],bins = [0, 35.5, 55.5, 150.4], \n",
    "                       labels=['satisfactory', 'moderate','unhealthy'],\n",
    "                      include_lowest=True, right=False)\n",
    "reg_monthavg['size'] = [25 if x=='Bangkok' else 20 for x in reg_monthavg.City]"
   ]
  },
  {
   "cell_type": "code",
   "execution_count": 38,
   "metadata": {
    "hidden": true
   },
   "outputs": [
    {
     "data": {
      "text/html": [
       "<div>\n",
       "<style scoped>\n",
       "    .dataframe tbody tr th:only-of-type {\n",
       "        vertical-align: middle;\n",
       "    }\n",
       "\n",
       "    .dataframe tbody tr th {\n",
       "        vertical-align: top;\n",
       "    }\n",
       "\n",
       "    .dataframe thead th {\n",
       "        text-align: right;\n",
       "    }\n",
       "</style>\n",
       "<table border=\"1\" class=\"dataframe\">\n",
       "  <thead>\n",
       "    <tr style=\"text-align: right;\">\n",
       "      <th></th>\n",
       "      <th>PM2.5</th>\n",
       "      <th>City</th>\n",
       "      <th>Region</th>\n",
       "      <th>Population</th>\n",
       "      <th>Latitude</th>\n",
       "      <th>Longitude</th>\n",
       "      <th>x_mer</th>\n",
       "      <th>y_mer</th>\n",
       "      <th>level</th>\n",
       "      <th>size</th>\n",
       "    </tr>\n",
       "  </thead>\n",
       "  <tbody>\n",
       "    <tr>\n",
       "      <th>0</th>\n",
       "      <td>33.498706</td>\n",
       "      <td>Ban Lam Luk Ka</td>\n",
       "      <td>Pathum Thani</td>\n",
       "      <td>60700</td>\n",
       "      <td>13.9774</td>\n",
       "      <td>100.7778</td>\n",
       "      <td>1.121853e+07</td>\n",
       "      <td>1.570430e+06</td>\n",
       "      <td>satisfactory</td>\n",
       "      <td>20</td>\n",
       "    </tr>\n",
       "    <tr>\n",
       "      <th>1</th>\n",
       "      <td>11.950485</td>\n",
       "      <td>Ban Mai</td>\n",
       "      <td>Songkhla</td>\n",
       "      <td>86899</td>\n",
       "      <td>7.2041</td>\n",
       "      <td>100.5451</td>\n",
       "      <td>1.119263e+07</td>\n",
       "      <td>8.076416e+05</td>\n",
       "      <td>satisfactory</td>\n",
       "      <td>20</td>\n",
       "    </tr>\n",
       "    <tr>\n",
       "      <th>2</th>\n",
       "      <td>39.884466</td>\n",
       "      <td>Ban Pong</td>\n",
       "      <td>Ratchaburi</td>\n",
       "      <td>57559</td>\n",
       "      <td>13.8163</td>\n",
       "      <td>99.8774</td>\n",
       "      <td>1.111830e+07</td>\n",
       "      <td>1.552066e+06</td>\n",
       "      <td>moderate</td>\n",
       "      <td>20</td>\n",
       "    </tr>\n",
       "    <tr>\n",
       "      <th>3</th>\n",
       "      <td>16.423948</td>\n",
       "      <td>Ban Talat Yai</td>\n",
       "      <td>Phuket</td>\n",
       "      <td>52192</td>\n",
       "      <td>7.8848</td>\n",
       "      <td>98.4001</td>\n",
       "      <td>1.095385e+07</td>\n",
       "      <td>8.835903e+05</td>\n",
       "      <td>satisfactory</td>\n",
       "      <td>20</td>\n",
       "    </tr>\n",
       "    <tr>\n",
       "      <th>4</th>\n",
       "      <td>37.358900</td>\n",
       "      <td>Bang Kruai</td>\n",
       "      <td>Nonthaburi</td>\n",
       "      <td>78305</td>\n",
       "      <td>13.8050</td>\n",
       "      <td>100.4728</td>\n",
       "      <td>1.118458e+07</td>\n",
       "      <td>1.550779e+06</td>\n",
       "      <td>moderate</td>\n",
       "      <td>20</td>\n",
       "    </tr>\n",
       "    <tr>\n",
       "      <th>5</th>\n",
       "      <td>35.795146</td>\n",
       "      <td>Bangkok</td>\n",
       "      <td>Bangkok</td>\n",
       "      <td>5104476</td>\n",
       "      <td>13.7540</td>\n",
       "      <td>100.5014</td>\n",
       "      <td>1.118776e+07</td>\n",
       "      <td>1.544968e+06</td>\n",
       "      <td>moderate</td>\n",
       "      <td>25</td>\n",
       "    </tr>\n",
       "    <tr>\n",
       "      <th>6</th>\n",
       "      <td>30.250647</td>\n",
       "      <td>Chaiyaphum</td>\n",
       "      <td>Chaiyaphum</td>\n",
       "      <td>58350</td>\n",
       "      <td>15.8105</td>\n",
       "      <td>102.0288</td>\n",
       "      <td>1.135779e+07</td>\n",
       "      <td>1.780353e+06</td>\n",
       "      <td>satisfactory</td>\n",
       "      <td>20</td>\n",
       "    </tr>\n",
       "    <tr>\n",
       "      <th>7</th>\n",
       "      <td>23.726699</td>\n",
       "      <td>Chanthaburi</td>\n",
       "      <td>Chanthaburi</td>\n",
       "      <td>99819</td>\n",
       "      <td>12.6096</td>\n",
       "      <td>102.1045</td>\n",
       "      <td>1.136622e+07</td>\n",
       "      <td>1.414911e+06</td>\n",
       "      <td>satisfactory</td>\n",
       "      <td>20</td>\n",
       "    </tr>\n",
       "  </tbody>\n",
       "</table>\n",
       "</div>"
      ],
      "text/plain": [
       "       PM2.5            City        Region  Population  Latitude  Longitude  \\\n",
       "0  33.498706  Ban Lam Luk Ka  Pathum Thani       60700   13.9774   100.7778   \n",
       "1  11.950485         Ban Mai      Songkhla       86899    7.2041   100.5451   \n",
       "2  39.884466        Ban Pong    Ratchaburi       57559   13.8163    99.8774   \n",
       "3  16.423948   Ban Talat Yai        Phuket       52192    7.8848    98.4001   \n",
       "4  37.358900      Bang Kruai    Nonthaburi       78305   13.8050   100.4728   \n",
       "5  35.795146         Bangkok       Bangkok     5104476   13.7540   100.5014   \n",
       "6  30.250647      Chaiyaphum    Chaiyaphum       58350   15.8105   102.0288   \n",
       "7  23.726699     Chanthaburi   Chanthaburi       99819   12.6096   102.1045   \n",
       "\n",
       "          x_mer         y_mer         level  size  \n",
       "0  1.121853e+07  1.570430e+06  satisfactory    20  \n",
       "1  1.119263e+07  8.076416e+05  satisfactory    20  \n",
       "2  1.111830e+07  1.552066e+06      moderate    20  \n",
       "3  1.095385e+07  8.835903e+05  satisfactory    20  \n",
       "4  1.118458e+07  1.550779e+06      moderate    20  \n",
       "5  1.118776e+07  1.544968e+06      moderate    25  \n",
       "6  1.135779e+07  1.780353e+06  satisfactory    20  \n",
       "7  1.136622e+07  1.414911e+06  satisfactory    20  "
      ]
     },
     "execution_count": 38,
     "metadata": {},
     "output_type": "execute_result"
    }
   ],
   "source": [
    "reg_monthavg.head(8)"
   ]
  },
  {
   "cell_type": "code",
   "execution_count": 3,
   "metadata": {
    "hidden": true
   },
   "outputs": [],
   "source": [
    "from bokeh.io import output_file, output_notebook, show, reset_output,export_png\n",
    "from bokeh.models import (\n",
    "  GMapPlot, GMapOptions, ColumnDataSource, Circle, LogColorMapper, BasicTicker, ColorBar,\n",
    "    DataRange1d, PanTool, WheelZoomTool, BoxSelectTool, CategoricalColorMapper, Slider, DateRangeSlider\n",
    ")\n",
    "from bokeh.models.mappers import ColorMapper, LinearColorMapper\n",
    "from bokeh.palettes import Viridis5\n",
    "from bokeh.plotting import figure, show, output_file\n",
    "from bokeh.tile_providers import STAMEN_TERRAIN,CARTODBPOSITRON_RETINA\n",
    "from bokeh.layouts import widgetbox\n"
   ]
  },
  {
   "cell_type": "code",
   "execution_count": 5,
   "metadata": {
    "hidden": true
   },
   "outputs": [
    {
     "data": {
      "text/html": [
       "\n",
       "    <div class=\"bk-root\">\n",
       "        <a href=\"https://bokeh.pydata.org\" target=\"_blank\" class=\"bk-logo bk-logo-small bk-logo-notebook\"></a>\n",
       "        <span id=\"1003\">Loading BokehJS ...</span>\n",
       "    </div>"
      ]
     },
     "metadata": {},
     "output_type": "display_data"
    },
    {
     "data": {
      "application/javascript": [
       "\n",
       "(function(root) {\n",
       "  function now() {\n",
       "    return new Date();\n",
       "  }\n",
       "\n",
       "  var force = true;\n",
       "\n",
       "  if (typeof (root._bokeh_onload_callbacks) === \"undefined\" || force === true) {\n",
       "    root._bokeh_onload_callbacks = [];\n",
       "    root._bokeh_is_loading = undefined;\n",
       "  }\n",
       "\n",
       "  var JS_MIME_TYPE = 'application/javascript';\n",
       "  var HTML_MIME_TYPE = 'text/html';\n",
       "  var EXEC_MIME_TYPE = 'application/vnd.bokehjs_exec.v0+json';\n",
       "  var CLASS_NAME = 'output_bokeh rendered_html';\n",
       "\n",
       "  /**\n",
       "   * Render data to the DOM node\n",
       "   */\n",
       "  function render(props, node) {\n",
       "    var script = document.createElement(\"script\");\n",
       "    node.appendChild(script);\n",
       "  }\n",
       "\n",
       "  /**\n",
       "   * Handle when an output is cleared or removed\n",
       "   */\n",
       "  function handleClearOutput(event, handle) {\n",
       "    var cell = handle.cell;\n",
       "\n",
       "    var id = cell.output_area._bokeh_element_id;\n",
       "    var server_id = cell.output_area._bokeh_server_id;\n",
       "    // Clean up Bokeh references\n",
       "    if (id != null && id in Bokeh.index) {\n",
       "      Bokeh.index[id].model.document.clear();\n",
       "      delete Bokeh.index[id];\n",
       "    }\n",
       "\n",
       "    if (server_id !== undefined) {\n",
       "      // Clean up Bokeh references\n",
       "      var cmd = \"from bokeh.io.state import curstate; print(curstate().uuid_to_server['\" + server_id + \"'].get_sessions()[0].document.roots[0]._id)\";\n",
       "      cell.notebook.kernel.execute(cmd, {\n",
       "        iopub: {\n",
       "          output: function(msg) {\n",
       "            var id = msg.content.text.trim();\n",
       "            if (id in Bokeh.index) {\n",
       "              Bokeh.index[id].model.document.clear();\n",
       "              delete Bokeh.index[id];\n",
       "            }\n",
       "          }\n",
       "        }\n",
       "      });\n",
       "      // Destroy server and session\n",
       "      var cmd = \"import bokeh.io.notebook as ion; ion.destroy_server('\" + server_id + \"')\";\n",
       "      cell.notebook.kernel.execute(cmd);\n",
       "    }\n",
       "  }\n",
       "\n",
       "  /**\n",
       "   * Handle when a new output is added\n",
       "   */\n",
       "  function handleAddOutput(event, handle) {\n",
       "    var output_area = handle.output_area;\n",
       "    var output = handle.output;\n",
       "\n",
       "    // limit handleAddOutput to display_data with EXEC_MIME_TYPE content only\n",
       "    if ((output.output_type != \"display_data\") || (!output.data.hasOwnProperty(EXEC_MIME_TYPE))) {\n",
       "      return\n",
       "    }\n",
       "\n",
       "    var toinsert = output_area.element.find(\".\" + CLASS_NAME.split(' ')[0]);\n",
       "\n",
       "    if (output.metadata[EXEC_MIME_TYPE][\"id\"] !== undefined) {\n",
       "      toinsert[toinsert.length - 1].firstChild.textContent = output.data[JS_MIME_TYPE];\n",
       "      // store reference to embed id on output_area\n",
       "      output_area._bokeh_element_id = output.metadata[EXEC_MIME_TYPE][\"id\"];\n",
       "    }\n",
       "    if (output.metadata[EXEC_MIME_TYPE][\"server_id\"] !== undefined) {\n",
       "      var bk_div = document.createElement(\"div\");\n",
       "      bk_div.innerHTML = output.data[HTML_MIME_TYPE];\n",
       "      var script_attrs = bk_div.children[0].attributes;\n",
       "      for (var i = 0; i < script_attrs.length; i++) {\n",
       "        toinsert[toinsert.length - 1].firstChild.setAttribute(script_attrs[i].name, script_attrs[i].value);\n",
       "      }\n",
       "      // store reference to server id on output_area\n",
       "      output_area._bokeh_server_id = output.metadata[EXEC_MIME_TYPE][\"server_id\"];\n",
       "    }\n",
       "  }\n",
       "\n",
       "  function register_renderer(events, OutputArea) {\n",
       "\n",
       "    function append_mime(data, metadata, element) {\n",
       "      // create a DOM node to render to\n",
       "      var toinsert = this.create_output_subarea(\n",
       "        metadata,\n",
       "        CLASS_NAME,\n",
       "        EXEC_MIME_TYPE\n",
       "      );\n",
       "      this.keyboard_manager.register_events(toinsert);\n",
       "      // Render to node\n",
       "      var props = {data: data, metadata: metadata[EXEC_MIME_TYPE]};\n",
       "      render(props, toinsert[toinsert.length - 1]);\n",
       "      element.append(toinsert);\n",
       "      return toinsert\n",
       "    }\n",
       "\n",
       "    /* Handle when an output is cleared or removed */\n",
       "    events.on('clear_output.CodeCell', handleClearOutput);\n",
       "    events.on('delete.Cell', handleClearOutput);\n",
       "\n",
       "    /* Handle when a new output is added */\n",
       "    events.on('output_added.OutputArea', handleAddOutput);\n",
       "\n",
       "    /**\n",
       "     * Register the mime type and append_mime function with output_area\n",
       "     */\n",
       "    OutputArea.prototype.register_mime_type(EXEC_MIME_TYPE, append_mime, {\n",
       "      /* Is output safe? */\n",
       "      safe: true,\n",
       "      /* Index of renderer in `output_area.display_order` */\n",
       "      index: 0\n",
       "    });\n",
       "  }\n",
       "\n",
       "  // register the mime type if in Jupyter Notebook environment and previously unregistered\n",
       "  if (root.Jupyter !== undefined) {\n",
       "    var events = require('base/js/events');\n",
       "    var OutputArea = require('notebook/js/outputarea').OutputArea;\n",
       "\n",
       "    if (OutputArea.prototype.mime_types().indexOf(EXEC_MIME_TYPE) == -1) {\n",
       "      register_renderer(events, OutputArea);\n",
       "    }\n",
       "  }\n",
       "\n",
       "  \n",
       "  if (typeof (root._bokeh_timeout) === \"undefined\" || force === true) {\n",
       "    root._bokeh_timeout = Date.now() + 5000;\n",
       "    root._bokeh_failed_load = false;\n",
       "  }\n",
       "\n",
       "  var NB_LOAD_WARNING = {'data': {'text/html':\n",
       "     \"<div style='background-color: #fdd'>\\n\"+\n",
       "     \"<p>\\n\"+\n",
       "     \"BokehJS does not appear to have successfully loaded. If loading BokehJS from CDN, this \\n\"+\n",
       "     \"may be due to a slow or bad network connection. Possible fixes:\\n\"+\n",
       "     \"</p>\\n\"+\n",
       "     \"<ul>\\n\"+\n",
       "     \"<li>re-rerun `output_notebook()` to attempt to load from CDN again, or</li>\\n\"+\n",
       "     \"<li>use INLINE resources instead, as so:</li>\\n\"+\n",
       "     \"</ul>\\n\"+\n",
       "     \"<code>\\n\"+\n",
       "     \"from bokeh.resources import INLINE\\n\"+\n",
       "     \"output_notebook(resources=INLINE)\\n\"+\n",
       "     \"</code>\\n\"+\n",
       "     \"</div>\"}};\n",
       "\n",
       "  function display_loaded() {\n",
       "    var el = document.getElementById(\"1003\");\n",
       "    if (el != null) {\n",
       "      el.textContent = \"BokehJS is loading...\";\n",
       "    }\n",
       "    if (root.Bokeh !== undefined) {\n",
       "      if (el != null) {\n",
       "        el.textContent = \"BokehJS \" + root.Bokeh.version + \" successfully loaded.\";\n",
       "      }\n",
       "    } else if (Date.now() < root._bokeh_timeout) {\n",
       "      setTimeout(display_loaded, 100)\n",
       "    }\n",
       "  }\n",
       "\n",
       "\n",
       "  function run_callbacks() {\n",
       "    try {\n",
       "      root._bokeh_onload_callbacks.forEach(function(callback) { callback() });\n",
       "    }\n",
       "    finally {\n",
       "      delete root._bokeh_onload_callbacks\n",
       "    }\n",
       "    console.info(\"Bokeh: all callbacks have finished\");\n",
       "  }\n",
       "\n",
       "  function load_libs(js_urls, callback) {\n",
       "    root._bokeh_onload_callbacks.push(callback);\n",
       "    if (root._bokeh_is_loading > 0) {\n",
       "      console.log(\"Bokeh: BokehJS is being loaded, scheduling callback at\", now());\n",
       "      return null;\n",
       "    }\n",
       "    if (js_urls == null || js_urls.length === 0) {\n",
       "      run_callbacks();\n",
       "      return null;\n",
       "    }\n",
       "    console.log(\"Bokeh: BokehJS not loaded, scheduling load and callback at\", now());\n",
       "    root._bokeh_is_loading = js_urls.length;\n",
       "    for (var i = 0; i < js_urls.length; i++) {\n",
       "      var url = js_urls[i];\n",
       "      var s = document.createElement('script');\n",
       "      s.src = url;\n",
       "      s.async = false;\n",
       "      s.onreadystatechange = s.onload = function() {\n",
       "        root._bokeh_is_loading--;\n",
       "        if (root._bokeh_is_loading === 0) {\n",
       "          console.log(\"Bokeh: all BokehJS libraries loaded\");\n",
       "          run_callbacks()\n",
       "        }\n",
       "      };\n",
       "      s.onerror = function() {\n",
       "        console.warn(\"failed to load library \" + url);\n",
       "      };\n",
       "      console.log(\"Bokeh: injecting script tag for BokehJS library: \", url);\n",
       "      document.getElementsByTagName(\"head\")[0].appendChild(s);\n",
       "    }\n",
       "  };var element = document.getElementById(\"1003\");\n",
       "  if (element == null) {\n",
       "    console.log(\"Bokeh: ERROR: autoload.js configured with elementid '1003' but no matching script tag was found. \")\n",
       "    return false;\n",
       "  }\n",
       "\n",
       "  var js_urls = [\"https://cdn.pydata.org/bokeh/release/bokeh-1.0.4.min.js\", \"https://cdn.pydata.org/bokeh/release/bokeh-widgets-1.0.4.min.js\", \"https://cdn.pydata.org/bokeh/release/bokeh-tables-1.0.4.min.js\", \"https://cdn.pydata.org/bokeh/release/bokeh-gl-1.0.4.min.js\"];\n",
       "\n",
       "  var inline_js = [\n",
       "    function(Bokeh) {\n",
       "      Bokeh.set_log_level(\"info\");\n",
       "    },\n",
       "    \n",
       "    function(Bokeh) {\n",
       "      \n",
       "    },\n",
       "    function(Bokeh) {\n",
       "      console.log(\"Bokeh: injecting CSS: https://cdn.pydata.org/bokeh/release/bokeh-1.0.4.min.css\");\n",
       "      Bokeh.embed.inject_css(\"https://cdn.pydata.org/bokeh/release/bokeh-1.0.4.min.css\");\n",
       "      console.log(\"Bokeh: injecting CSS: https://cdn.pydata.org/bokeh/release/bokeh-widgets-1.0.4.min.css\");\n",
       "      Bokeh.embed.inject_css(\"https://cdn.pydata.org/bokeh/release/bokeh-widgets-1.0.4.min.css\");\n",
       "      console.log(\"Bokeh: injecting CSS: https://cdn.pydata.org/bokeh/release/bokeh-tables-1.0.4.min.css\");\n",
       "      Bokeh.embed.inject_css(\"https://cdn.pydata.org/bokeh/release/bokeh-tables-1.0.4.min.css\");\n",
       "    }\n",
       "  ];\n",
       "\n",
       "  function run_inline_js() {\n",
       "    \n",
       "    if ((root.Bokeh !== undefined) || (force === true)) {\n",
       "      for (var i = 0; i < inline_js.length; i++) {\n",
       "        inline_js[i].call(root, root.Bokeh);\n",
       "      }if (force === true) {\n",
       "        display_loaded();\n",
       "      }} else if (Date.now() < root._bokeh_timeout) {\n",
       "      setTimeout(run_inline_js, 100);\n",
       "    } else if (!root._bokeh_failed_load) {\n",
       "      console.log(\"Bokeh: BokehJS failed to load within specified timeout.\");\n",
       "      root._bokeh_failed_load = true;\n",
       "    } else if (force !== true) {\n",
       "      var cell = $(document.getElementById(\"1003\")).parents('.cell').data().cell;\n",
       "      cell.output_area.append_execute_result(NB_LOAD_WARNING)\n",
       "    }\n",
       "\n",
       "  }\n",
       "\n",
       "  if (root._bokeh_is_loading === 0) {\n",
       "    console.log(\"Bokeh: BokehJS loaded, going straight to plotting\");\n",
       "    run_inline_js();\n",
       "  } else {\n",
       "    load_libs(js_urls, function() {\n",
       "      console.log(\"Bokeh: BokehJS plotting callback run at\", now());\n",
       "      run_inline_js();\n",
       "    });\n",
       "  }\n",
       "}(window));"
      ],
      "application/vnd.bokehjs_load.v0+json": "\n(function(root) {\n  function now() {\n    return new Date();\n  }\n\n  var force = true;\n\n  if (typeof (root._bokeh_onload_callbacks) === \"undefined\" || force === true) {\n    root._bokeh_onload_callbacks = [];\n    root._bokeh_is_loading = undefined;\n  }\n\n  \n\n  \n  if (typeof (root._bokeh_timeout) === \"undefined\" || force === true) {\n    root._bokeh_timeout = Date.now() + 5000;\n    root._bokeh_failed_load = false;\n  }\n\n  var NB_LOAD_WARNING = {'data': {'text/html':\n     \"<div style='background-color: #fdd'>\\n\"+\n     \"<p>\\n\"+\n     \"BokehJS does not appear to have successfully loaded. If loading BokehJS from CDN, this \\n\"+\n     \"may be due to a slow or bad network connection. Possible fixes:\\n\"+\n     \"</p>\\n\"+\n     \"<ul>\\n\"+\n     \"<li>re-rerun `output_notebook()` to attempt to load from CDN again, or</li>\\n\"+\n     \"<li>use INLINE resources instead, as so:</li>\\n\"+\n     \"</ul>\\n\"+\n     \"<code>\\n\"+\n     \"from bokeh.resources import INLINE\\n\"+\n     \"output_notebook(resources=INLINE)\\n\"+\n     \"</code>\\n\"+\n     \"</div>\"}};\n\n  function display_loaded() {\n    var el = document.getElementById(\"1003\");\n    if (el != null) {\n      el.textContent = \"BokehJS is loading...\";\n    }\n    if (root.Bokeh !== undefined) {\n      if (el != null) {\n        el.textContent = \"BokehJS \" + root.Bokeh.version + \" successfully loaded.\";\n      }\n    } else if (Date.now() < root._bokeh_timeout) {\n      setTimeout(display_loaded, 100)\n    }\n  }\n\n\n  function run_callbacks() {\n    try {\n      root._bokeh_onload_callbacks.forEach(function(callback) { callback() });\n    }\n    finally {\n      delete root._bokeh_onload_callbacks\n    }\n    console.info(\"Bokeh: all callbacks have finished\");\n  }\n\n  function load_libs(js_urls, callback) {\n    root._bokeh_onload_callbacks.push(callback);\n    if (root._bokeh_is_loading > 0) {\n      console.log(\"Bokeh: BokehJS is being loaded, scheduling callback at\", now());\n      return null;\n    }\n    if (js_urls == null || js_urls.length === 0) {\n      run_callbacks();\n      return null;\n    }\n    console.log(\"Bokeh: BokehJS not loaded, scheduling load and callback at\", now());\n    root._bokeh_is_loading = js_urls.length;\n    for (var i = 0; i < js_urls.length; i++) {\n      var url = js_urls[i];\n      var s = document.createElement('script');\n      s.src = url;\n      s.async = false;\n      s.onreadystatechange = s.onload = function() {\n        root._bokeh_is_loading--;\n        if (root._bokeh_is_loading === 0) {\n          console.log(\"Bokeh: all BokehJS libraries loaded\");\n          run_callbacks()\n        }\n      };\n      s.onerror = function() {\n        console.warn(\"failed to load library \" + url);\n      };\n      console.log(\"Bokeh: injecting script tag for BokehJS library: \", url);\n      document.getElementsByTagName(\"head\")[0].appendChild(s);\n    }\n  };var element = document.getElementById(\"1003\");\n  if (element == null) {\n    console.log(\"Bokeh: ERROR: autoload.js configured with elementid '1003' but no matching script tag was found. \")\n    return false;\n  }\n\n  var js_urls = [\"https://cdn.pydata.org/bokeh/release/bokeh-1.0.4.min.js\", \"https://cdn.pydata.org/bokeh/release/bokeh-widgets-1.0.4.min.js\", \"https://cdn.pydata.org/bokeh/release/bokeh-tables-1.0.4.min.js\", \"https://cdn.pydata.org/bokeh/release/bokeh-gl-1.0.4.min.js\"];\n\n  var inline_js = [\n    function(Bokeh) {\n      Bokeh.set_log_level(\"info\");\n    },\n    \n    function(Bokeh) {\n      \n    },\n    function(Bokeh) {\n      console.log(\"Bokeh: injecting CSS: https://cdn.pydata.org/bokeh/release/bokeh-1.0.4.min.css\");\n      Bokeh.embed.inject_css(\"https://cdn.pydata.org/bokeh/release/bokeh-1.0.4.min.css\");\n      console.log(\"Bokeh: injecting CSS: https://cdn.pydata.org/bokeh/release/bokeh-widgets-1.0.4.min.css\");\n      Bokeh.embed.inject_css(\"https://cdn.pydata.org/bokeh/release/bokeh-widgets-1.0.4.min.css\");\n      console.log(\"Bokeh: injecting CSS: https://cdn.pydata.org/bokeh/release/bokeh-tables-1.0.4.min.css\");\n      Bokeh.embed.inject_css(\"https://cdn.pydata.org/bokeh/release/bokeh-tables-1.0.4.min.css\");\n    }\n  ];\n\n  function run_inline_js() {\n    \n    if ((root.Bokeh !== undefined) || (force === true)) {\n      for (var i = 0; i < inline_js.length; i++) {\n        inline_js[i].call(root, root.Bokeh);\n      }if (force === true) {\n        display_loaded();\n      }} else if (Date.now() < root._bokeh_timeout) {\n      setTimeout(run_inline_js, 100);\n    } else if (!root._bokeh_failed_load) {\n      console.log(\"Bokeh: BokehJS failed to load within specified timeout.\");\n      root._bokeh_failed_load = true;\n    } else if (force !== true) {\n      var cell = $(document.getElementById(\"1003\")).parents('.cell').data().cell;\n      cell.output_area.append_execute_result(NB_LOAD_WARNING)\n    }\n\n  }\n\n  if (root._bokeh_is_loading === 0) {\n    console.log(\"Bokeh: BokehJS loaded, going straight to plotting\");\n    run_inline_js();\n  } else {\n    load_libs(js_urls, function() {\n      console.log(\"Bokeh: BokehJS plotting callback run at\", now());\n      run_inline_js();\n    });\n  }\n}(window));"
     },
     "metadata": {},
     "output_type": "display_data"
    }
   ],
   "source": [
    "output_notebook()"
   ]
  },
  {
   "cell_type": "code",
   "execution_count": 32,
   "metadata": {
    "hidden": true
   },
   "outputs": [
    {
     "name": "stdout",
     "output_type": "stream",
     "text": [
      "11187764.672011103 1544967.9205643306 100000.0 100000.0\n"
     ]
    }
   ],
   "source": [
    "[[bkk_x, bkk_y]]= region_df.query('City == \"Bangkok\"')[['x_mer','y_mer']].values\n",
    "stepx = 1E5\n",
    "stepy = stepx\n",
    "\n",
    "print(bkk_x,bkk_y,stepx,stepy)"
   ]
  },
  {
   "cell_type": "code",
   "execution_count": 45,
   "metadata": {
    "hidden": true,
    "scrolled": true
   },
   "outputs": [
    {
     "data": {
      "text/html": [
       "\n",
       "\n",
       "\n",
       "\n",
       "\n",
       "\n",
       "  <div class=\"bk-root\" id=\"f533b890-765f-44ce-a5fc-2e34c1f3eed1\" data-root-id=\"7062\"></div>\n"
      ]
     },
     "metadata": {},
     "output_type": "display_data"
    },
    {
     "data": {
      "application/javascript": [
       "(function(root) {\n",
       "  function embed_document(root) {\n",
       "    \n",
       "  var docs_json = {\"d3c508a5-5b37-416c-a2e9-c5b9aa1e2f90\":{\"roots\":{\"references\":[{\"attributes\":{\"below\":[{\"id\":\"7072\",\"type\":\"MercatorAxis\"}],\"left\":[{\"id\":\"7081\",\"type\":\"MercatorAxis\"}],\"renderers\":[{\"id\":\"7072\",\"type\":\"MercatorAxis\"},{\"id\":\"7080\",\"type\":\"Grid\"},{\"id\":\"7081\",\"type\":\"MercatorAxis\"},{\"id\":\"7089\",\"type\":\"Grid\"},{\"id\":\"7098\",\"type\":\"BoxAnnotation\"},{\"id\":\"7105\",\"type\":\"TileRenderer\"},{\"id\":\"7120\",\"type\":\"Legend\"},{\"id\":\"7112\",\"type\":\"GlyphRenderer\"}],\"title\":{\"id\":\"7061\",\"type\":\"Title\"},\"toolbar\":{\"id\":\"7096\",\"type\":\"Toolbar\"},\"x_range\":{\"id\":\"7064\",\"type\":\"Range1d\"},\"x_scale\":{\"id\":\"7068\",\"type\":\"LinearScale\"},\"y_range\":{\"id\":\"7066\",\"type\":\"Range1d\"},\"y_scale\":{\"id\":\"7070\",\"type\":\"LinearScale\"}},\"id\":\"7062\",\"subtype\":\"Figure\",\"type\":\"Plot\"},{\"attributes\":{},\"id\":\"7094\",\"type\":\"ResetTool\"},{\"attributes\":{\"plot\":{\"id\":\"7062\",\"subtype\":\"Figure\",\"type\":\"Plot\"},\"ticker\":{\"id\":\"7073\",\"type\":\"MercatorTicker\"}},\"id\":\"7080\",\"type\":\"Grid\"},{\"attributes\":{\"callback\":null,\"end\":1644967.9205643306,\"start\":1444967.9205643306},\"id\":\"7066\",\"type\":\"Range1d\"},{\"attributes\":{\"callback\":null,\"end\":11337764.672011103,\"start\":11087764.672011103},\"id\":\"7064\",\"type\":\"Range1d\"},{\"attributes\":{},\"id\":\"7070\",\"type\":\"LinearScale\"},{\"attributes\":{\"label\":{\"field\":\"level\"},\"renderers\":[{\"id\":\"7112\",\"type\":\"GlyphRenderer\"}]},\"id\":\"7121\",\"type\":\"LegendItem\"},{\"attributes\":{\"fill_alpha\":{\"value\":0.1},\"fill_color\":{\"value\":\"#1f77b4\"},\"line_alpha\":{\"value\":0.1},\"line_color\":{\"value\":\"#1f77b4\"},\"size\":{\"field\":\"size\",\"units\":\"screen\"},\"x\":{\"field\":\"x_mer\"},\"y\":{\"field\":\"y_mer\"}},\"id\":\"7111\",\"type\":\"Circle\"},{\"attributes\":{},\"id\":\"7091\",\"type\":\"WheelZoomTool\"},{\"attributes\":{\"factors\":[\"satisfactory\",\"moderate\",\"unhealthy\"],\"palette\":[\"green\",\"orange\",\"red\"]},\"id\":\"7108\",\"type\":\"CategoricalColorMapper\"},{\"attributes\":{},\"id\":\"7152\",\"type\":\"UnionRenderers\"},{\"attributes\":{},\"id\":\"7093\",\"type\":\"SaveTool\"},{\"attributes\":{\"fill_alpha\":{\"value\":0.7},\"fill_color\":{\"field\":\"level\",\"transform\":{\"id\":\"7108\",\"type\":\"CategoricalColorMapper\"}},\"line_alpha\":{\"value\":0.7},\"line_color\":{\"field\":\"level\",\"transform\":{\"id\":\"7108\",\"type\":\"CategoricalColorMapper\"}},\"size\":{\"field\":\"size\",\"units\":\"screen\"},\"x\":{\"field\":\"x_mer\"},\"y\":{\"field\":\"y_mer\"}},\"id\":\"7110\",\"type\":\"Circle\"},{\"attributes\":{\"callback\":null,\"data\":{\"City\":[\"Ban Lam Luk Ka\",\"Ban Mai\",\"Ban Pong\",\"Ban Talat Yai\",\"Bang Kruai\",\"Bangkok\",\"Chaiyaphum\",\"Chanthaburi\",\"Chiang Mai\",\"Chiang Rai\",\"Chon Buri\",\"Chumphon\",\"Hat Yai\",\"Hua Hin\",\"Kalasin\",\"Kamphaeng Phet\",\"Kanchanaburi\",\"Khlong Luang\",\"Khon Kaen\",\"Klaeng\",\"Ko Samui\",\"Krathum Baen\",\"Lampang\",\"Lop Buri\",\"Maha Sarakham\",\"Mueang Nonthaburi\",\"Nakhon Pathom\",\"Nakhon Ratchasima\",\"Nakhon Sawan\",\"Nakhon Si Thammarat\",\"Nong Khai\",\"Pak Kret\",\"Phatthaya\",\"Phetchabun\",\"Phitsanulok\",\"Phra Nakhon Si Ayutthaya\",\"Phra Phutthabat\",\"Phra Pradaeng\",\"Phuket\",\"Ratchaburi\",\"Rayong\",\"Sakon Nakhon\",\"Samut Prakan\",\"Samut Sakhon\",\"Saraburi\",\"Sattahip\",\"Si Racha\",\"Songkhla\",\"Suphan Buri\",\"Surat Thani\",\"Tha Maka\",\"Trang\",\"Ubon Ratchathani\",\"Udon Thani\",\"Uttaradit\",\"Yala\"],\"Latitude\":{\"__ndarray__\":\"hjjWxW30K0BUdCSX/9AcQBlz1xLyoStA0gDeAgmKH0Bcj8L1KJwrQDZeukkMgitA5dAi2/meL0CASL99HTgpQCfChqdXyjJARiV1AproM0DvOEVHcrkqQCBB8WPM/SRARiV1ApoIHECHp1fKMiQpQHS1FfvLbjBA6+I2GsB7MEDD0ytlGQIsQDcawFsgISxAih9j7lpyMEDlYaHWNI8pQDXvOEVHEiNAH/RsVn1OK0Dtnjws1EoyQA3gLZCgmC1AAU2EDU8vMECbVZ+rrbgrQGuad5yioytAVHQkl//wLUB/+zpwzmgvQK62Yn/Z3SBAN4lBYOXgMUD6fmq8dNMrQK62Yn/Z3SlAJQaBlUNrMEClvcEXJtMwQKMBvAUStCxA3pOHhVpzLUD+1HjpJlErQDlFR3L5jx9AwoanV8oSK0Bbsb/snlwpQH4dOGdEKTFAUPwYc9cyK0C4HoXrURgrQOLplbIMES1A2ht8YTJVKUBiodY071gqQHrHKTqSyxxAwoanV8ryLEDWVuwvu0ciQM3MzMzMzCtAKA8LtaY5HkCZu5aQD3ouQHzysFBrajFAqmBUUiegMUApXI/C9SgaQA==\",\"dtype\":\"float64\",\"shape\":[56]},\"Longitude\":{\"__ndarray__\":\"C7WmeccxWUAtQxzr4iJZQKpgVFIn+FhAS8gHPZuZWEAgY+5aQh5ZQLmNBvAWIFlA/Yf029eBWUCmm8QgsIZZQMIXJlMFv1hA4XoUrkf1WEBt5/up8T5ZQNbFbTSAy1hANIC3QIIeWUDo2az6XP1YQNUJaCJs4FlATDeJQWDhWEBlGeJYF+NYQG/whclUKVlAWmQ730+1WUDMf0i/fWlZQIC3QILi+1hAW7G/7J4QWUAB3gIJit9YQGDl0CLbKVlAEHo2qz7TWUDF/rJ78iBZQJ/Nqs/VAllASgwCK4eGWUC4QILixwhZQMRCrWne/VhAc2iR7XyvWUCrz9VW7B9ZQKMjufyHOFlANe84RUdKWUC4rwPnjBBZQHctIR/0JFlAQs9m1ecyWUBSSZ2AJiJZQGgibHh6mVhA8WPMXUv0WECNl24Sg1BZQCh+jLlrCVpALpCg+DEmWUDhC5OpghFZQJEPejarOllAduCcEaU5WUCPU3QklztZQGB2Tx4WJllAj+TyH9IHWUAMk6mCUdVYQPd14JwR8VhAkDF3LSHnWEBfB84ZUTZaQEp7gy9MsllAINJvXwcGWUBZF7fRAFJZQA==\",\"dtype\":\"float64\",\"shape\":[56]},\"PM2.5\":{\"__ndarray__\":\"pzvIp9bLRkCaH0IXkzswQH8udCJWV0xAmf35cBrCNUDEi5CcugVIQNuvNwschkZAfjD5bpW1QkAdonsbK1JBQK2lBHID7zlADpTYA3D+MkD33683CxxFQKqQeGT+0z1AcmDpJAeWL0BR6eBL17NGQPecqvugr0BAA7f8qt4fREBBV42UppNLQE/M/nw4TUdA5/UZdNUIQUCJgHRWiw9CQPoMumqktDdAp660QyknTEBYuzp5FRw+QHEcx3Ecx0hAcoQx4hvsQEB1A+87/NxHQEkesqN/JUxAta+d8D8GQ0AWITl1C8NFQL+m7R4aDjRAzP58OA2hPkBpqD42oWxIQLLkbkjot0RAygs3o7HVQkBJXRx6ZK5CQOcpTyxV+0dAAtV6GaYFSUB3SOj3ngBJQOYjwEaX4DVAoXGCrJUcTUDymrZ7aDhCQFroULWTfEBArbXfyA/BR0AQnw0i1dRMQA2fDSLVFEdAg8VtEi7zQ0CWX9X7W0xEQJWeAjeDQzBAJU5DqKRbSUCwsr7cpyM0QMa+KbUR+UtAG8NWc8uFMEDZcpU0qllAQKWM3y715D9ARHRvY0W6QEB8OQxWZJAyQA==\",\"dtype\":\"float64\",\"shape\":[56]},\"Population\":[60700,86899,57559,52192,78305,5104476,58350,99819,200952,78756,219164,55835,191696,50456,55102,58787,63699,118551,147579,55619,50000,72819,156139,57761,51584,291555,117927,208781,91802,120836,63609,182926,97296,50656,103427,81962,57008,171333,89072,92448,106737,76237,388920,63498,67763,65444,178916,84264,53399,127201,52907,66713,122533,247231,58313,93558],\"Region\":[\"Pathum Thani\",\"Songkhla\",\"Ratchaburi\",\"Phuket\",\"Nonthaburi\",\"Bangkok\",\"Chaiyaphum\",\"Chanthaburi\",\"Chiang Mai\",\"Chiang Rai\",\"Chon Buri\",\"Chumphon\",\"Songkhla\",\"Prachuap Khiri Khan\",\"Kalasin\",\"Kamphaeng Phet\",\"Kanchanaburi\",\"Pathum Thani\",\"Khon Kaen\",\"Rayong\",\"Surat Thani\",\"Samut Sakhon\",\"Lampang\",\"Lop Buri\",\"Maha Sarakham\",\"Nonthaburi\",\"Nakhon Pathom\",\"Nakhon Ratchasima\",\"Nakhon Sawan\",\"Nakhon Si Thammarat\",\"Nong Khai\",\"Nonthaburi\",\"TH.S\",\"Phetchabun\",\"Phitsanulok\",\"Phra Nakhon Si Ayutthaya\",\"Sara Buri\",\"Samut Prakan\",\"Phuket\",\"Ratchaburi\",\"Rayong\",\"Sakon Nakhon\",\"Samut Prakan\",\"Samut Sakhon\",\"Sara Buri\",\"Chon Buri\",\"Chon Buri\",\"Songkhla\",\"Suphan Buri\",\"Surat Thani\",\"Kanchanaburi\",\"Trang\",\"Changwat Ubon Ratchathani\",\"Changwat Udon Thani\",\"Uttaradit\",\"Yala\"],\"index\":[0,1,2,3,4,5,6,7,8,9,10,11,12,13,14,15,16,17,18,19,20,21,22,23,24,25,26,27,28,29,30,31,32,33,34,35,36,37,38,39,40,41,42,43,44,45,46,47,48,49,50,51,52,53,54,55],\"level\":[\"moderate\",\"satisfactory\",\"unhealthy\",\"satisfactory\",\"moderate\",\"moderate\",\"moderate\",\"satisfactory\",\"satisfactory\",\"satisfactory\",\"moderate\",\"satisfactory\",\"satisfactory\",\"moderate\",\"satisfactory\",\"moderate\",\"moderate\",\"moderate\",\"satisfactory\",\"moderate\",\"satisfactory\",\"unhealthy\",\"satisfactory\",\"moderate\",\"satisfactory\",\"moderate\",\"unhealthy\",\"moderate\",\"moderate\",\"satisfactory\",\"satisfactory\",\"moderate\",\"moderate\",\"moderate\",\"moderate\",\"moderate\",\"moderate\",\"moderate\",\"satisfactory\",\"unhealthy\",\"moderate\",\"satisfactory\",\"moderate\",\"unhealthy\",\"moderate\",\"moderate\",\"moderate\",\"satisfactory\",\"moderate\",\"satisfactory\",\"unhealthy\",\"satisfactory\",\"satisfactory\",\"satisfactory\",\"satisfactory\",\"satisfactory\"],\"size\":[20,20,20,20,20,25,20,20,20,20,20,20,20,20,20,20,20,20,20,20,20,20,20,20,20,20,20,20,20,20,20,20,20,20,20,20,20,20,20,20,20,20,20,20,20,20,20,20,20,20,20,20,20,20,20,20],\"x_mer\":{\"__ndarray__\":\"OPMirMxlZUHhJq6qJlllQZ+F6anbNGVBDA3VII/kZEGcCOidOFVlQW4dgZXGVmVBF/H9QcypZUG7klOe6a1lQUR2z8xVBGVB4VwR4moyZUEmf435+nBlQbPVbjbvDmVBWy6U4m5VZUH7++tWSDllQQ4ML8Af+mVBvNV+VoMhZUGZOxdC+CJlQWl/m+afXmVBirtLpoLVZUFmP9+fHZVlQU/hjecGOGVBSOYIWKNJZUGj06z68x9lQQOA1wASX2VBkqVSqu7uZUFcUE0LgVdlQaByDBHuPWVB12bE1MatZUGrf6HD+kJlQcA0fUS2OWVBvUrwY5DQZUFEBLlnolZlQfzIvLKIa2VBQPZeT5t6ZUFCtJYJlEllQeWGgR7oWmVBuhNGk8FmZUEtkBulhlhlQYqDYkxz5GRBb6DSl5QxZUGxuPWf5n9lQZp/sKjxHGZBXlalEfZbZUGYu/HCZEplQQtbAnVZbWVB8g5u0XpsZUG60gfVIW5lQa+U3WneW2VBU3hGCipCZUF8oozDRRdlQYh9v0fXLmVBgxRoSmYmZUEBaJ78EkNmQbsuj0Hz0mVBJvMCbKRAZUHprcXXKoFlQQ==\",\"dtype\":\"float64\",\"shape\":[56]},\"y_mer\":{\"__ndarray__\":\"V/RHW372N0FlJ4g7s6UoQYDSbCzCrjdBCIdopQz3KkHwuNCLuqk3QZ4aqusHkzdB5qIl84AqO0FMzW1q/5Y1QXibZlUXOEBB7g2+mVw4QUGCSOxD0+Q2Qc2zj/l68jFBpsEeNkn7J0G0A7NMxYU1QYjzQOGOQjxB36kFj15ZPEGb/zA3YwI4QZybp1tjHThBdiLy59JIPEEM2hnOW+I1QTP9+6o2TTBBpjK/kDpmN0E9r2ga/4w/Qcjk3ce+ZDlBaqSSztfSO0GAL+gjhsI3QY5A4zc6sDdBD046svKxOUEYDB2B+vo6QUzS0P3i1SxBn8IG7sPQPkEIKViuz9k3Qav8uSx0JjZB7BVQglY8PEGr79Lvb/M8QXCqLJNcnThBbGTrejNEOUFQgh60img3QeKrNfob/CpBkV/ifGAyN0H+73mDlLY1QfQBPXOGiz1BV4IvOTZON0GLlB22LTc3QTHVYF1s7jhBSxm0FyiwNUGcu0iqHZE2QaH1MH0VoShBKZQE/wjUOEH/m3iM8z8vQQYFhLcF1DdBEjcZrpXYKUEcSRJj0Ck6Qa18eKHF/j1BLIrB9vFdPkG4En5Ts2MmQQ==\",\"dtype\":\"float64\",\"shape\":[56]}},\"selected\":{\"id\":\"7153\",\"type\":\"Selection\"},\"selection_policy\":{\"id\":\"7152\",\"type\":\"UnionRenderers\"}},\"id\":\"7107\",\"type\":\"ColumnDataSource\"},{\"attributes\":{\"formatter\":{\"id\":\"7084\",\"type\":\"MercatorTickFormatter\"},\"plot\":{\"id\":\"7062\",\"subtype\":\"Figure\",\"type\":\"Plot\"},\"ticker\":{\"id\":\"7082\",\"type\":\"MercatorTicker\"}},\"id\":\"7081\",\"type\":\"MercatorAxis\"},{\"attributes\":{\"overlay\":{\"id\":\"7098\",\"type\":\"BoxAnnotation\"}},\"id\":\"7092\",\"type\":\"BoxZoomTool\"},{\"attributes\":{},\"id\":\"7090\",\"type\":\"PanTool\"},{\"attributes\":{\"plot\":null,\"text\":\"PM 2.5 Pollution January 2019\"},\"id\":\"7061\",\"type\":\"Title\"},{\"attributes\":{\"dimension\":\"lon\"},\"id\":\"7075\",\"type\":\"MercatorTickFormatter\"},{\"attributes\":{\"attribution\":\"Map tiles by <a href=\\\"https://stamen.com\\\">Stamen Design</a>, under <a href=\\\"https://creativecommons.org/licenses/by/3.0\\\">CC BY 3.0</a>. Data by <a href=\\\"https://openstreetmap.org\\\">OpenStreetMap</a>, under <a href=\\\"https://creativecommons.org/licenses/by-sa/3.0\\\">CC BY SA</a>.\",\"url\":\"http://tile.stamen.com/terrain/{Z}/{X}/{Y}.png\"},\"id\":\"1699\",\"type\":\"WMTSTileSource\"},{\"attributes\":{},\"id\":\"7153\",\"type\":\"Selection\"},{\"attributes\":{\"tile_source\":{\"id\":\"1699\",\"type\":\"WMTSTileSource\"}},\"id\":\"7105\",\"type\":\"TileRenderer\"},{\"attributes\":{\"source\":{\"id\":\"7107\",\"type\":\"ColumnDataSource\"}},\"id\":\"7113\",\"type\":\"CDSView\"},{\"attributes\":{\"dimension\":\"lon\"},\"id\":\"7073\",\"type\":\"MercatorTicker\"},{\"attributes\":{\"dimension\":\"lat\"},\"id\":\"7082\",\"type\":\"MercatorTicker\"},{\"attributes\":{\"data_source\":{\"id\":\"7107\",\"type\":\"ColumnDataSource\"},\"glyph\":{\"id\":\"7110\",\"type\":\"Circle\"},\"hover_glyph\":null,\"muted_glyph\":null,\"nonselection_glyph\":{\"id\":\"7111\",\"type\":\"Circle\"},\"selection_glyph\":null,\"view\":{\"id\":\"7113\",\"type\":\"CDSView\"}},\"id\":\"7112\",\"type\":\"GlyphRenderer\"},{\"attributes\":{\"dimension\":\"lat\"},\"id\":\"7084\",\"type\":\"MercatorTickFormatter\"},{\"attributes\":{\"dimension\":1,\"plot\":{\"id\":\"7062\",\"subtype\":\"Figure\",\"type\":\"Plot\"},\"ticker\":{\"id\":\"7082\",\"type\":\"MercatorTicker\"}},\"id\":\"7089\",\"type\":\"Grid\"},{\"attributes\":{\"bottom_units\":\"screen\",\"fill_alpha\":{\"value\":0.5},\"fill_color\":{\"value\":\"lightgrey\"},\"left_units\":\"screen\",\"level\":\"overlay\",\"line_alpha\":{\"value\":1.0},\"line_color\":{\"value\":\"black\"},\"line_dash\":[4,4],\"line_width\":{\"value\":2},\"plot\":null,\"render_mode\":\"css\",\"right_units\":\"screen\",\"top_units\":\"screen\"},\"id\":\"7098\",\"type\":\"BoxAnnotation\"},{\"attributes\":{\"formatter\":{\"id\":\"7075\",\"type\":\"MercatorTickFormatter\"},\"plot\":{\"id\":\"7062\",\"subtype\":\"Figure\",\"type\":\"Plot\"},\"ticker\":{\"id\":\"7073\",\"type\":\"MercatorTicker\"}},\"id\":\"7072\",\"type\":\"MercatorAxis\"},{\"attributes\":{},\"id\":\"7068\",\"type\":\"LinearScale\"},{\"attributes\":{\"active_drag\":\"auto\",\"active_inspect\":\"auto\",\"active_multi\":null,\"active_scroll\":\"auto\",\"active_tap\":\"auto\",\"tools\":[{\"id\":\"7090\",\"type\":\"PanTool\"},{\"id\":\"7091\",\"type\":\"WheelZoomTool\"},{\"id\":\"7092\",\"type\":\"BoxZoomTool\"},{\"id\":\"7093\",\"type\":\"SaveTool\"},{\"id\":\"7094\",\"type\":\"ResetTool\"},{\"id\":\"7095\",\"type\":\"HelpTool\"}]},\"id\":\"7096\",\"type\":\"Toolbar\"},{\"attributes\":{},\"id\":\"7095\",\"type\":\"HelpTool\"},{\"attributes\":{\"items\":[{\"id\":\"7121\",\"type\":\"LegendItem\"}],\"plot\":{\"id\":\"7062\",\"subtype\":\"Figure\",\"type\":\"Plot\"}},\"id\":\"7120\",\"type\":\"Legend\"}],\"root_ids\":[\"7062\"]},\"title\":\"Bokeh Application\",\"version\":\"1.0.4\"}};\n",
       "  var render_items = [{\"docid\":\"d3c508a5-5b37-416c-a2e9-c5b9aa1e2f90\",\"roots\":{\"7062\":\"f533b890-765f-44ce-a5fc-2e34c1f3eed1\"}}];\n",
       "  root.Bokeh.embed.embed_items_notebook(docs_json, render_items);\n",
       "\n",
       "  }\n",
       "  if (root.Bokeh !== undefined) {\n",
       "    embed_document(root);\n",
       "  } else {\n",
       "    var attempts = 0;\n",
       "    var timer = setInterval(function(root) {\n",
       "      if (root.Bokeh !== undefined) {\n",
       "        embed_document(root);\n",
       "        clearInterval(timer);\n",
       "      }\n",
       "      attempts++;\n",
       "      if (attempts > 100) {\n",
       "        console.log(\"Bokeh: ERROR: Unable to run BokehJS code because BokehJS library is missing\");\n",
       "        clearInterval(timer);\n",
       "      }\n",
       "    }, 10, root)\n",
       "  }\n",
       "})(window);"
      ],
      "application/vnd.bokehjs_exec.v0+json": ""
     },
     "metadata": {
      "application/vnd.bokehjs_exec.v0+json": {
       "id": "7062"
      }
     },
     "output_type": "display_data"
    }
   ],
   "source": [
    "# range bounds supplied in web mercator coordinates\n",
    "p = figure(x_range=(bkk_x-stepx,bkk_x+1.5*stepx), y_range=(bkk_y-stepy, bkk_y+stepy),\n",
    "           x_axis_type=\"mercator\", y_axis_type=\"mercator\",\n",
    "          title = 'PM 2.5 Pollution January 2019')\n",
    "p.add_tile(STAMEN_TERRAIN)\n",
    "\n",
    "source = ColumnDataSource(reg_monthavg)\n",
    "color_mapper = CategoricalColorMapper(factors=['satisfactory', 'moderate', 'unhealthy'],\n",
    "                                      palette=['green', 'orange', 'red'])\n",
    "\n",
    "p.circle(source=source, x='x_mer',y='y_mer', size='size', alpha=0.7,\n",
    "        color=dict(field='level',transform=color_mapper), legend='level')\n",
    "\n",
    "\n",
    "show(p)"
   ]
  },
  {
   "cell_type": "code",
   "execution_count": 51,
   "metadata": {
    "hidden": true
   },
   "outputs": [
    {
     "data": {
      "text/plain": [
       "'C:\\\\Users\\\\Benny\\\\Documents\\\\Fern\\\\BKK-AQI\\\\bkk_jan2019.png'"
      ]
     },
     "execution_count": 51,
     "metadata": {},
     "output_type": "execute_result"
    }
   ],
   "source": [
    "export_png(p,filename='bkk_jan2019.png')"
   ]
  },
  {
   "cell_type": "markdown",
   "metadata": {
    "hidden": true
   },
   "source": [
    "## 5. Building interactive maps \n",
    "- Seasonal air pollution for the entire country\n",
    "- which province has the highest air pollutions?\n",
    "- turn the maps into gif"
   ]
  },
  {
   "cell_type": "code",
   "execution_count": 20,
   "metadata": {
    "hidden": true
   },
   "outputs": [],
   "source": [
    "from bokeh.io import output_file, output_notebook, show,curdoc, reset_output,export_png\n",
    "from bokeh.models import (\n",
    "  GMapPlot, GMapOptions, ColumnDataSource, Circle, LogColorMapper, BasicTicker, ColorBar,\n",
    "    DataRange1d, PanTool, WheelZoomTool, BoxSelectTool, CategoricalColorMapper, Slider, DateRangeSlider,\n",
    "    DateSlider, SingleIntervalTicker, LinearAxis,Legend, LegendItem\n",
    ")\n",
    "from bokeh.models.mappers import ColorMapper, LinearColorMapper\n",
    "from bokeh.palettes import Viridis5\n",
    "from bokeh.plotting import figure, show, output_file\n",
    "from bokeh.tile_providers import STAMEN_TERRAIN,CARTODBPOSITRON_RETINA\n",
    "from bokeh.layouts import widgetbox,row, column, gridplot"
   ]
  },
  {
   "cell_type": "code",
   "execution_count": 10,
   "metadata": {
    "hidden": true
   },
   "outputs": [
    {
     "data": {
      "text/html": [
       "<div>\n",
       "<style scoped>\n",
       "    .dataframe tbody tr th:only-of-type {\n",
       "        vertical-align: middle;\n",
       "    }\n",
       "\n",
       "    .dataframe tbody tr th {\n",
       "        vertical-align: top;\n",
       "    }\n",
       "\n",
       "    .dataframe thead th {\n",
       "        text-align: right;\n",
       "    }\n",
       "</style>\n",
       "<table border=\"1\" class=\"dataframe\">\n",
       "  <thead>\n",
       "    <tr style=\"text-align: right;\">\n",
       "      <th></th>\n",
       "      <th>PM2.5</th>\n",
       "      <th>Time</th>\n",
       "      <th>city</th>\n",
       "    </tr>\n",
       "  </thead>\n",
       "  <tbody>\n",
       "    <tr>\n",
       "      <th>0</th>\n",
       "      <td>62.9</td>\n",
       "      <td>2016-03-03 15:00:00</td>\n",
       "      <td>Bangkok</td>\n",
       "    </tr>\n",
       "    <tr>\n",
       "      <th>1</th>\n",
       "      <td>62.9</td>\n",
       "      <td>2016-03-03 16:00:00</td>\n",
       "      <td>Bangkok</td>\n",
       "    </tr>\n",
       "    <tr>\n",
       "      <th>2</th>\n",
       "      <td>55.5</td>\n",
       "      <td>2016-03-03 17:00:00</td>\n",
       "      <td>Bangkok</td>\n",
       "    </tr>\n",
       "    <tr>\n",
       "      <th>3</th>\n",
       "      <td>55.5</td>\n",
       "      <td>2016-03-03 18:00:00</td>\n",
       "      <td>Bangkok</td>\n",
       "    </tr>\n",
       "    <tr>\n",
       "      <th>4</th>\n",
       "      <td>47.9</td>\n",
       "      <td>2016-03-03 19:00:00</td>\n",
       "      <td>Bangkok</td>\n",
       "    </tr>\n",
       "  </tbody>\n",
       "</table>\n",
       "</div>"
      ],
      "text/plain": [
       "   PM2.5                Time     city\n",
       "0   62.9 2016-03-03 15:00:00  Bangkok\n",
       "1   62.9 2016-03-03 16:00:00  Bangkok\n",
       "2   55.5 2016-03-03 17:00:00  Bangkok\n",
       "3   55.5 2016-03-03 18:00:00  Bangkok\n",
       "4   47.9 2016-03-03 19:00:00  Bangkok"
      ]
     },
     "execution_count": 10,
     "metadata": {},
     "output_type": "execute_result"
    }
   ],
   "source": [
    "region_df = pd.read_csv('data/region_info.csv')\n",
    "pm25_all = pd.read_csv('data/pm25_all.csv').dropna()\n",
    "pm25_all['Time'] = pd.to_datetime(pm25_all['Time'])\n",
    "pm25_all.head()"
   ]
  },
  {
   "cell_type": "code",
   "execution_count": 11,
   "metadata": {
    "hidden": true
   },
   "outputs": [
    {
     "data": {
      "text/html": [
       "<div>\n",
       "<style scoped>\n",
       "    .dataframe tbody tr th:only-of-type {\n",
       "        vertical-align: middle;\n",
       "    }\n",
       "\n",
       "    .dataframe tbody tr th {\n",
       "        vertical-align: top;\n",
       "    }\n",
       "\n",
       "    .dataframe thead th {\n",
       "        text-align: right;\n",
       "    }\n",
       "</style>\n",
       "<table border=\"1\" class=\"dataframe\">\n",
       "  <thead>\n",
       "    <tr style=\"text-align: right;\">\n",
       "      <th></th>\n",
       "      <th>PM2.5</th>\n",
       "      <th>Time</th>\n",
       "      <th>city</th>\n",
       "      <th>month</th>\n",
       "      <th>year</th>\n",
       "    </tr>\n",
       "  </thead>\n",
       "  <tbody>\n",
       "    <tr>\n",
       "      <th>0</th>\n",
       "      <td>62.9</td>\n",
       "      <td>2016-03-03 15:00:00</td>\n",
       "      <td>Bangkok</td>\n",
       "      <td>2016-03</td>\n",
       "      <td>2016</td>\n",
       "    </tr>\n",
       "    <tr>\n",
       "      <th>1</th>\n",
       "      <td>62.9</td>\n",
       "      <td>2016-03-03 16:00:00</td>\n",
       "      <td>Bangkok</td>\n",
       "      <td>2016-03</td>\n",
       "      <td>2016</td>\n",
       "    </tr>\n",
       "    <tr>\n",
       "      <th>2</th>\n",
       "      <td>55.5</td>\n",
       "      <td>2016-03-03 17:00:00</td>\n",
       "      <td>Bangkok</td>\n",
       "      <td>2016-03</td>\n",
       "      <td>2016</td>\n",
       "    </tr>\n",
       "    <tr>\n",
       "      <th>3</th>\n",
       "      <td>55.5</td>\n",
       "      <td>2016-03-03 18:00:00</td>\n",
       "      <td>Bangkok</td>\n",
       "      <td>2016-03</td>\n",
       "      <td>2016</td>\n",
       "    </tr>\n",
       "    <tr>\n",
       "      <th>4</th>\n",
       "      <td>47.9</td>\n",
       "      <td>2016-03-03 19:00:00</td>\n",
       "      <td>Bangkok</td>\n",
       "      <td>2016-03</td>\n",
       "      <td>2016</td>\n",
       "    </tr>\n",
       "  </tbody>\n",
       "</table>\n",
       "</div>"
      ],
      "text/plain": [
       "   PM2.5                Time     city    month  year\n",
       "0   62.9 2016-03-03 15:00:00  Bangkok  2016-03  2016\n",
       "1   62.9 2016-03-03 16:00:00  Bangkok  2016-03  2016\n",
       "2   55.5 2016-03-03 17:00:00  Bangkok  2016-03  2016\n",
       "3   55.5 2016-03-03 18:00:00  Bangkok  2016-03  2016\n",
       "4   47.9 2016-03-03 19:00:00  Bangkok  2016-03  2016"
      ]
     },
     "execution_count": 11,
     "metadata": {},
     "output_type": "execute_result"
    }
   ],
   "source": [
    "pm25_all['month'] = pm25_all['Time'].dt.to_period('M')\n",
    "pm25_all['year'] = pm25_all['Time'].dt.to_period('Y')\n",
    "pm25_all.head()"
   ]
  },
  {
   "cell_type": "code",
   "execution_count": 12,
   "metadata": {
    "hidden": true
   },
   "outputs": [
    {
     "data": {
      "text/html": [
       "<div>\n",
       "<style scoped>\n",
       "    .dataframe tbody tr th:only-of-type {\n",
       "        vertical-align: middle;\n",
       "    }\n",
       "\n",
       "    .dataframe tbody tr th {\n",
       "        vertical-align: top;\n",
       "    }\n",
       "\n",
       "    .dataframe thead th {\n",
       "        text-align: right;\n",
       "    }\n",
       "</style>\n",
       "<table border=\"1\" class=\"dataframe\">\n",
       "  <thead>\n",
       "    <tr style=\"text-align: right;\">\n",
       "      <th></th>\n",
       "      <th>month</th>\n",
       "      <th>PM2.5</th>\n",
       "      <th>Region</th>\n",
       "      <th>x_mer</th>\n",
       "      <th>y_mer</th>\n",
       "      <th>level</th>\n",
       "    </tr>\n",
       "  </thead>\n",
       "  <tbody>\n",
       "    <tr>\n",
       "      <th>1841</th>\n",
       "      <td>2019-02</td>\n",
       "      <td>17.980260</td>\n",
       "      <td>Yala</td>\n",
       "      <td>1.127458e+07</td>\n",
       "      <td>733657.663071</td>\n",
       "      <td>satisfactory</td>\n",
       "    </tr>\n",
       "    <tr>\n",
       "      <th>1840</th>\n",
       "      <td>2019-01</td>\n",
       "      <td>18.564031</td>\n",
       "      <td>Yala</td>\n",
       "      <td>1.127458e+07</td>\n",
       "      <td>733657.663071</td>\n",
       "      <td>satisfactory</td>\n",
       "    </tr>\n",
       "    <tr>\n",
       "      <th>1839</th>\n",
       "      <td>2018-12</td>\n",
       "      <td>14.292233</td>\n",
       "      <td>Yala</td>\n",
       "      <td>1.127458e+07</td>\n",
       "      <td>733657.663071</td>\n",
       "      <td>satisfactory</td>\n",
       "    </tr>\n",
       "    <tr>\n",
       "      <th>1838</th>\n",
       "      <td>2018-11</td>\n",
       "      <td>16.203863</td>\n",
       "      <td>Yala</td>\n",
       "      <td>1.127458e+07</td>\n",
       "      <td>733657.663071</td>\n",
       "      <td>satisfactory</td>\n",
       "    </tr>\n",
       "    <tr>\n",
       "      <th>1823</th>\n",
       "      <td>2017-08</td>\n",
       "      <td>16.498505</td>\n",
       "      <td>Yala</td>\n",
       "      <td>1.127458e+07</td>\n",
       "      <td>733657.663071</td>\n",
       "      <td>satisfactory</td>\n",
       "    </tr>\n",
       "  </tbody>\n",
       "</table>\n",
       "</div>"
      ],
      "text/plain": [
       "        month      PM2.5 Region         x_mer          y_mer         level\n",
       "1841  2019-02  17.980260   Yala  1.127458e+07  733657.663071  satisfactory\n",
       "1840  2019-01  18.564031   Yala  1.127458e+07  733657.663071  satisfactory\n",
       "1839  2018-12  14.292233   Yala  1.127458e+07  733657.663071  satisfactory\n",
       "1838  2018-11  16.203863   Yala  1.127458e+07  733657.663071  satisfactory\n",
       "1823  2017-08  16.498505   Yala  1.127458e+07  733657.663071  satisfactory"
      ]
     },
     "execution_count": 12,
     "metadata": {},
     "output_type": "execute_result"
    }
   ],
   "source": [
    "monthly_all = pm25_all.groupby(['month','city'],as_index=False).mean()\n",
    "#monthly_all['month'] = monthly_all['month'].values.astype('datetime64[M]')\n",
    "monthly_all['city'] = monthly_all['city'].astype('category')\n",
    "monthly_all = monthly_all.merge(region_df, left_on=['city'], right_on='City')\n",
    "monthly_all['level'] = pd.cut(monthly_all['PM2.5'],bins = [0, 35.5, 55.5, 150.4], \n",
    "                       labels=['satisfactory', 'moderate','unhealthy'],\n",
    "                      include_lowest=True, right=False)\n",
    "monthly_all = monthly_all.drop(['city','City','Population','Latitude','Longitude'],axis=1)\n",
    "monthly_all.sort_values('y_mer',ascending=False,inplace=True)\n",
    "monthly_all.tail()"
   ]
  },
  {
   "cell_type": "code",
   "execution_count": 13,
   "metadata": {
    "hidden": true
   },
   "outputs": [],
   "source": [
    "month_min = monthly_all['month'].min().strftime('%Y-%m')\n",
    "month_max = monthly_all['month'].max().strftime('%Y-%m')\n",
    "[[bkk_x, bkk_y]]= region_df.query('City == \"Bangkok\"')[['x_mer','y_mer']].values\n",
    "stepx = 3E5\n",
    "stepy = 3*stepx"
   ]
  },
  {
   "cell_type": "code",
   "execution_count": 21,
   "metadata": {
    "hidden": true
   },
   "outputs": [],
   "source": [
    "reset_output()"
   ]
  },
  {
   "cell_type": "code",
   "execution_count": 22,
   "metadata": {
    "hidden": true
   },
   "outputs": [
    {
     "data": {
      "text/html": [
       "\n",
       "    <div class=\"bk-root\">\n",
       "        <a href=\"https://bokeh.pydata.org\" target=\"_blank\" class=\"bk-logo bk-logo-small bk-logo-notebook\"></a>\n",
       "        <span id=\"1008\">Loading BokehJS ...</span>\n",
       "    </div>"
      ]
     },
     "metadata": {},
     "output_type": "display_data"
    },
    {
     "data": {
      "application/javascript": [
       "\n",
       "(function(root) {\n",
       "  function now() {\n",
       "    return new Date();\n",
       "  }\n",
       "\n",
       "  var force = true;\n",
       "\n",
       "  if (typeof (root._bokeh_onload_callbacks) === \"undefined\" || force === true) {\n",
       "    root._bokeh_onload_callbacks = [];\n",
       "    root._bokeh_is_loading = undefined;\n",
       "  }\n",
       "\n",
       "  var JS_MIME_TYPE = 'application/javascript';\n",
       "  var HTML_MIME_TYPE = 'text/html';\n",
       "  var EXEC_MIME_TYPE = 'application/vnd.bokehjs_exec.v0+json';\n",
       "  var CLASS_NAME = 'output_bokeh rendered_html';\n",
       "\n",
       "  /**\n",
       "   * Render data to the DOM node\n",
       "   */\n",
       "  function render(props, node) {\n",
       "    var script = document.createElement(\"script\");\n",
       "    node.appendChild(script);\n",
       "  }\n",
       "\n",
       "  /**\n",
       "   * Handle when an output is cleared or removed\n",
       "   */\n",
       "  function handleClearOutput(event, handle) {\n",
       "    var cell = handle.cell;\n",
       "\n",
       "    var id = cell.output_area._bokeh_element_id;\n",
       "    var server_id = cell.output_area._bokeh_server_id;\n",
       "    // Clean up Bokeh references\n",
       "    if (id != null && id in Bokeh.index) {\n",
       "      Bokeh.index[id].model.document.clear();\n",
       "      delete Bokeh.index[id];\n",
       "    }\n",
       "\n",
       "    if (server_id !== undefined) {\n",
       "      // Clean up Bokeh references\n",
       "      var cmd = \"from bokeh.io.state import curstate; print(curstate().uuid_to_server['\" + server_id + \"'].get_sessions()[0].document.roots[0]._id)\";\n",
       "      cell.notebook.kernel.execute(cmd, {\n",
       "        iopub: {\n",
       "          output: function(msg) {\n",
       "            var id = msg.content.text.trim();\n",
       "            if (id in Bokeh.index) {\n",
       "              Bokeh.index[id].model.document.clear();\n",
       "              delete Bokeh.index[id];\n",
       "            }\n",
       "          }\n",
       "        }\n",
       "      });\n",
       "      // Destroy server and session\n",
       "      var cmd = \"import bokeh.io.notebook as ion; ion.destroy_server('\" + server_id + \"')\";\n",
       "      cell.notebook.kernel.execute(cmd);\n",
       "    }\n",
       "  }\n",
       "\n",
       "  /**\n",
       "   * Handle when a new output is added\n",
       "   */\n",
       "  function handleAddOutput(event, handle) {\n",
       "    var output_area = handle.output_area;\n",
       "    var output = handle.output;\n",
       "\n",
       "    // limit handleAddOutput to display_data with EXEC_MIME_TYPE content only\n",
       "    if ((output.output_type != \"display_data\") || (!output.data.hasOwnProperty(EXEC_MIME_TYPE))) {\n",
       "      return\n",
       "    }\n",
       "\n",
       "    var toinsert = output_area.element.find(\".\" + CLASS_NAME.split(' ')[0]);\n",
       "\n",
       "    if (output.metadata[EXEC_MIME_TYPE][\"id\"] !== undefined) {\n",
       "      toinsert[toinsert.length - 1].firstChild.textContent = output.data[JS_MIME_TYPE];\n",
       "      // store reference to embed id on output_area\n",
       "      output_area._bokeh_element_id = output.metadata[EXEC_MIME_TYPE][\"id\"];\n",
       "    }\n",
       "    if (output.metadata[EXEC_MIME_TYPE][\"server_id\"] !== undefined) {\n",
       "      var bk_div = document.createElement(\"div\");\n",
       "      bk_div.innerHTML = output.data[HTML_MIME_TYPE];\n",
       "      var script_attrs = bk_div.children[0].attributes;\n",
       "      for (var i = 0; i < script_attrs.length; i++) {\n",
       "        toinsert[toinsert.length - 1].firstChild.setAttribute(script_attrs[i].name, script_attrs[i].value);\n",
       "      }\n",
       "      // store reference to server id on output_area\n",
       "      output_area._bokeh_server_id = output.metadata[EXEC_MIME_TYPE][\"server_id\"];\n",
       "    }\n",
       "  }\n",
       "\n",
       "  function register_renderer(events, OutputArea) {\n",
       "\n",
       "    function append_mime(data, metadata, element) {\n",
       "      // create a DOM node to render to\n",
       "      var toinsert = this.create_output_subarea(\n",
       "        metadata,\n",
       "        CLASS_NAME,\n",
       "        EXEC_MIME_TYPE\n",
       "      );\n",
       "      this.keyboard_manager.register_events(toinsert);\n",
       "      // Render to node\n",
       "      var props = {data: data, metadata: metadata[EXEC_MIME_TYPE]};\n",
       "      render(props, toinsert[toinsert.length - 1]);\n",
       "      element.append(toinsert);\n",
       "      return toinsert\n",
       "    }\n",
       "\n",
       "    /* Handle when an output is cleared or removed */\n",
       "    events.on('clear_output.CodeCell', handleClearOutput);\n",
       "    events.on('delete.Cell', handleClearOutput);\n",
       "\n",
       "    /* Handle when a new output is added */\n",
       "    events.on('output_added.OutputArea', handleAddOutput);\n",
       "\n",
       "    /**\n",
       "     * Register the mime type and append_mime function with output_area\n",
       "     */\n",
       "    OutputArea.prototype.register_mime_type(EXEC_MIME_TYPE, append_mime, {\n",
       "      /* Is output safe? */\n",
       "      safe: true,\n",
       "      /* Index of renderer in `output_area.display_order` */\n",
       "      index: 0\n",
       "    });\n",
       "  }\n",
       "\n",
       "  // register the mime type if in Jupyter Notebook environment and previously unregistered\n",
       "  if (root.Jupyter !== undefined) {\n",
       "    var events = require('base/js/events');\n",
       "    var OutputArea = require('notebook/js/outputarea').OutputArea;\n",
       "\n",
       "    if (OutputArea.prototype.mime_types().indexOf(EXEC_MIME_TYPE) == -1) {\n",
       "      register_renderer(events, OutputArea);\n",
       "    }\n",
       "  }\n",
       "\n",
       "  \n",
       "  if (typeof (root._bokeh_timeout) === \"undefined\" || force === true) {\n",
       "    root._bokeh_timeout = Date.now() + 5000;\n",
       "    root._bokeh_failed_load = false;\n",
       "  }\n",
       "\n",
       "  var NB_LOAD_WARNING = {'data': {'text/html':\n",
       "     \"<div style='background-color: #fdd'>\\n\"+\n",
       "     \"<p>\\n\"+\n",
       "     \"BokehJS does not appear to have successfully loaded. If loading BokehJS from CDN, this \\n\"+\n",
       "     \"may be due to a slow or bad network connection. Possible fixes:\\n\"+\n",
       "     \"</p>\\n\"+\n",
       "     \"<ul>\\n\"+\n",
       "     \"<li>re-rerun `output_notebook()` to attempt to load from CDN again, or</li>\\n\"+\n",
       "     \"<li>use INLINE resources instead, as so:</li>\\n\"+\n",
       "     \"</ul>\\n\"+\n",
       "     \"<code>\\n\"+\n",
       "     \"from bokeh.resources import INLINE\\n\"+\n",
       "     \"output_notebook(resources=INLINE)\\n\"+\n",
       "     \"</code>\\n\"+\n",
       "     \"</div>\"}};\n",
       "\n",
       "  function display_loaded() {\n",
       "    var el = document.getElementById(\"1008\");\n",
       "    if (el != null) {\n",
       "      el.textContent = \"BokehJS is loading...\";\n",
       "    }\n",
       "    if (root.Bokeh !== undefined) {\n",
       "      if (el != null) {\n",
       "        el.textContent = \"BokehJS \" + root.Bokeh.version + \" successfully loaded.\";\n",
       "      }\n",
       "    } else if (Date.now() < root._bokeh_timeout) {\n",
       "      setTimeout(display_loaded, 100)\n",
       "    }\n",
       "  }\n",
       "\n",
       "\n",
       "  function run_callbacks() {\n",
       "    try {\n",
       "      root._bokeh_onload_callbacks.forEach(function(callback) { callback() });\n",
       "    }\n",
       "    finally {\n",
       "      delete root._bokeh_onload_callbacks\n",
       "    }\n",
       "    console.info(\"Bokeh: all callbacks have finished\");\n",
       "  }\n",
       "\n",
       "  function load_libs(js_urls, callback) {\n",
       "    root._bokeh_onload_callbacks.push(callback);\n",
       "    if (root._bokeh_is_loading > 0) {\n",
       "      console.log(\"Bokeh: BokehJS is being loaded, scheduling callback at\", now());\n",
       "      return null;\n",
       "    }\n",
       "    if (js_urls == null || js_urls.length === 0) {\n",
       "      run_callbacks();\n",
       "      return null;\n",
       "    }\n",
       "    console.log(\"Bokeh: BokehJS not loaded, scheduling load and callback at\", now());\n",
       "    root._bokeh_is_loading = js_urls.length;\n",
       "    for (var i = 0; i < js_urls.length; i++) {\n",
       "      var url = js_urls[i];\n",
       "      var s = document.createElement('script');\n",
       "      s.src = url;\n",
       "      s.async = false;\n",
       "      s.onreadystatechange = s.onload = function() {\n",
       "        root._bokeh_is_loading--;\n",
       "        if (root._bokeh_is_loading === 0) {\n",
       "          console.log(\"Bokeh: all BokehJS libraries loaded\");\n",
       "          run_callbacks()\n",
       "        }\n",
       "      };\n",
       "      s.onerror = function() {\n",
       "        console.warn(\"failed to load library \" + url);\n",
       "      };\n",
       "      console.log(\"Bokeh: injecting script tag for BokehJS library: \", url);\n",
       "      document.getElementsByTagName(\"head\")[0].appendChild(s);\n",
       "    }\n",
       "  };var element = document.getElementById(\"1008\");\n",
       "  if (element == null) {\n",
       "    console.log(\"Bokeh: ERROR: autoload.js configured with elementid '1008' but no matching script tag was found. \")\n",
       "    return false;\n",
       "  }\n",
       "\n",
       "  var js_urls = [\"https://cdn.pydata.org/bokeh/release/bokeh-1.0.4.min.js\", \"https://cdn.pydata.org/bokeh/release/bokeh-widgets-1.0.4.min.js\", \"https://cdn.pydata.org/bokeh/release/bokeh-tables-1.0.4.min.js\", \"https://cdn.pydata.org/bokeh/release/bokeh-gl-1.0.4.min.js\"];\n",
       "\n",
       "  var inline_js = [\n",
       "    function(Bokeh) {\n",
       "      Bokeh.set_log_level(\"info\");\n",
       "    },\n",
       "    \n",
       "    function(Bokeh) {\n",
       "      \n",
       "    },\n",
       "    function(Bokeh) {\n",
       "      console.log(\"Bokeh: injecting CSS: https://cdn.pydata.org/bokeh/release/bokeh-1.0.4.min.css\");\n",
       "      Bokeh.embed.inject_css(\"https://cdn.pydata.org/bokeh/release/bokeh-1.0.4.min.css\");\n",
       "      console.log(\"Bokeh: injecting CSS: https://cdn.pydata.org/bokeh/release/bokeh-widgets-1.0.4.min.css\");\n",
       "      Bokeh.embed.inject_css(\"https://cdn.pydata.org/bokeh/release/bokeh-widgets-1.0.4.min.css\");\n",
       "      console.log(\"Bokeh: injecting CSS: https://cdn.pydata.org/bokeh/release/bokeh-tables-1.0.4.min.css\");\n",
       "      Bokeh.embed.inject_css(\"https://cdn.pydata.org/bokeh/release/bokeh-tables-1.0.4.min.css\");\n",
       "    }\n",
       "  ];\n",
       "\n",
       "  function run_inline_js() {\n",
       "    \n",
       "    if ((root.Bokeh !== undefined) || (force === true)) {\n",
       "      for (var i = 0; i < inline_js.length; i++) {\n",
       "        inline_js[i].call(root, root.Bokeh);\n",
       "      }if (force === true) {\n",
       "        display_loaded();\n",
       "      }} else if (Date.now() < root._bokeh_timeout) {\n",
       "      setTimeout(run_inline_js, 100);\n",
       "    } else if (!root._bokeh_failed_load) {\n",
       "      console.log(\"Bokeh: BokehJS failed to load within specified timeout.\");\n",
       "      root._bokeh_failed_load = true;\n",
       "    } else if (force !== true) {\n",
       "      var cell = $(document.getElementById(\"1008\")).parents('.cell').data().cell;\n",
       "      cell.output_area.append_execute_result(NB_LOAD_WARNING)\n",
       "    }\n",
       "\n",
       "  }\n",
       "\n",
       "  if (root._bokeh_is_loading === 0) {\n",
       "    console.log(\"Bokeh: BokehJS loaded, going straight to plotting\");\n",
       "    run_inline_js();\n",
       "  } else {\n",
       "    load_libs(js_urls, function() {\n",
       "      console.log(\"Bokeh: BokehJS plotting callback run at\", now());\n",
       "      run_inline_js();\n",
       "    });\n",
       "  }\n",
       "}(window));"
      ],
      "application/vnd.bokehjs_load.v0+json": "\n(function(root) {\n  function now() {\n    return new Date();\n  }\n\n  var force = true;\n\n  if (typeof (root._bokeh_onload_callbacks) === \"undefined\" || force === true) {\n    root._bokeh_onload_callbacks = [];\n    root._bokeh_is_loading = undefined;\n  }\n\n  \n\n  \n  if (typeof (root._bokeh_timeout) === \"undefined\" || force === true) {\n    root._bokeh_timeout = Date.now() + 5000;\n    root._bokeh_failed_load = false;\n  }\n\n  var NB_LOAD_WARNING = {'data': {'text/html':\n     \"<div style='background-color: #fdd'>\\n\"+\n     \"<p>\\n\"+\n     \"BokehJS does not appear to have successfully loaded. If loading BokehJS from CDN, this \\n\"+\n     \"may be due to a slow or bad network connection. Possible fixes:\\n\"+\n     \"</p>\\n\"+\n     \"<ul>\\n\"+\n     \"<li>re-rerun `output_notebook()` to attempt to load from CDN again, or</li>\\n\"+\n     \"<li>use INLINE resources instead, as so:</li>\\n\"+\n     \"</ul>\\n\"+\n     \"<code>\\n\"+\n     \"from bokeh.resources import INLINE\\n\"+\n     \"output_notebook(resources=INLINE)\\n\"+\n     \"</code>\\n\"+\n     \"</div>\"}};\n\n  function display_loaded() {\n    var el = document.getElementById(\"1008\");\n    if (el != null) {\n      el.textContent = \"BokehJS is loading...\";\n    }\n    if (root.Bokeh !== undefined) {\n      if (el != null) {\n        el.textContent = \"BokehJS \" + root.Bokeh.version + \" successfully loaded.\";\n      }\n    } else if (Date.now() < root._bokeh_timeout) {\n      setTimeout(display_loaded, 100)\n    }\n  }\n\n\n  function run_callbacks() {\n    try {\n      root._bokeh_onload_callbacks.forEach(function(callback) { callback() });\n    }\n    finally {\n      delete root._bokeh_onload_callbacks\n    }\n    console.info(\"Bokeh: all callbacks have finished\");\n  }\n\n  function load_libs(js_urls, callback) {\n    root._bokeh_onload_callbacks.push(callback);\n    if (root._bokeh_is_loading > 0) {\n      console.log(\"Bokeh: BokehJS is being loaded, scheduling callback at\", now());\n      return null;\n    }\n    if (js_urls == null || js_urls.length === 0) {\n      run_callbacks();\n      return null;\n    }\n    console.log(\"Bokeh: BokehJS not loaded, scheduling load and callback at\", now());\n    root._bokeh_is_loading = js_urls.length;\n    for (var i = 0; i < js_urls.length; i++) {\n      var url = js_urls[i];\n      var s = document.createElement('script');\n      s.src = url;\n      s.async = false;\n      s.onreadystatechange = s.onload = function() {\n        root._bokeh_is_loading--;\n        if (root._bokeh_is_loading === 0) {\n          console.log(\"Bokeh: all BokehJS libraries loaded\");\n          run_callbacks()\n        }\n      };\n      s.onerror = function() {\n        console.warn(\"failed to load library \" + url);\n      };\n      console.log(\"Bokeh: injecting script tag for BokehJS library: \", url);\n      document.getElementsByTagName(\"head\")[0].appendChild(s);\n    }\n  };var element = document.getElementById(\"1008\");\n  if (element == null) {\n    console.log(\"Bokeh: ERROR: autoload.js configured with elementid '1008' but no matching script tag was found. \")\n    return false;\n  }\n\n  var js_urls = [\"https://cdn.pydata.org/bokeh/release/bokeh-1.0.4.min.js\", \"https://cdn.pydata.org/bokeh/release/bokeh-widgets-1.0.4.min.js\", \"https://cdn.pydata.org/bokeh/release/bokeh-tables-1.0.4.min.js\", \"https://cdn.pydata.org/bokeh/release/bokeh-gl-1.0.4.min.js\"];\n\n  var inline_js = [\n    function(Bokeh) {\n      Bokeh.set_log_level(\"info\");\n    },\n    \n    function(Bokeh) {\n      \n    },\n    function(Bokeh) {\n      console.log(\"Bokeh: injecting CSS: https://cdn.pydata.org/bokeh/release/bokeh-1.0.4.min.css\");\n      Bokeh.embed.inject_css(\"https://cdn.pydata.org/bokeh/release/bokeh-1.0.4.min.css\");\n      console.log(\"Bokeh: injecting CSS: https://cdn.pydata.org/bokeh/release/bokeh-widgets-1.0.4.min.css\");\n      Bokeh.embed.inject_css(\"https://cdn.pydata.org/bokeh/release/bokeh-widgets-1.0.4.min.css\");\n      console.log(\"Bokeh: injecting CSS: https://cdn.pydata.org/bokeh/release/bokeh-tables-1.0.4.min.css\");\n      Bokeh.embed.inject_css(\"https://cdn.pydata.org/bokeh/release/bokeh-tables-1.0.4.min.css\");\n    }\n  ];\n\n  function run_inline_js() {\n    \n    if ((root.Bokeh !== undefined) || (force === true)) {\n      for (var i = 0; i < inline_js.length; i++) {\n        inline_js[i].call(root, root.Bokeh);\n      }if (force === true) {\n        display_loaded();\n      }} else if (Date.now() < root._bokeh_timeout) {\n      setTimeout(run_inline_js, 100);\n    } else if (!root._bokeh_failed_load) {\n      console.log(\"Bokeh: BokehJS failed to load within specified timeout.\");\n      root._bokeh_failed_load = true;\n    } else if (force !== true) {\n      var cell = $(document.getElementById(\"1008\")).parents('.cell').data().cell;\n      cell.output_area.append_execute_result(NB_LOAD_WARNING)\n    }\n\n  }\n\n  if (root._bokeh_is_loading === 0) {\n    console.log(\"Bokeh: BokehJS loaded, going straight to plotting\");\n    run_inline_js();\n  } else {\n    load_libs(js_urls, function() {\n      console.log(\"Bokeh: BokehJS plotting callback run at\", now());\n      run_inline_js();\n    });\n  }\n}(window));"
     },
     "metadata": {},
     "output_type": "display_data"
    }
   ],
   "source": [
    "output_notebook()"
   ]
  },
  {
   "cell_type": "code",
   "execution_count": 23,
   "metadata": {
    "hidden": true
   },
   "outputs": [],
   "source": [
    "def plot_monthly(doc):\n",
    "\n",
    "    p = figure(x_range=(bkk_x-0.3*stepx, bkk_x+stepx), y_range=(bkk_y-stepy, bkk_y+stepy),\n",
    "               x_axis_type=\"mercator\", y_axis_type=\"mercator\",\n",
    "               title='PM 2.5 Pollution', plot_width=450, plot_height=600)\n",
    "    p.add_tile(STAMEN_TERRAIN)\n",
    "\n",
    "    source = ColumnDataSource(monthly_all[monthly_all['month'] == '2019-03'])\n",
    "    color_mapper = CategoricalColorMapper(factors=['satisfactory', 'moderate', 'unhealthy'],\n",
    "                                          palette=['green', 'orange', 'red'])\n",
    "\n",
    "    r = p.circle(source=source, x='x_mer', y='y_mer', size=15, alpha=0.7,\n",
    "                 color=dict(field='level', transform=color_mapper))\n",
    "    \n",
    "    legend = Legend(items=[LegendItem(label=dict(field='level'), renderers=[r])], location=\"bottom_right\")\n",
    "\n",
    "    \n",
    "    p.add_layout(legend)\n",
    "\n",
    "    p2 = figure(y_range=monthly_all['Region'].iloc[::-1].unique(), x_range=(0, 70),\n",
    "                plot_width=200, plot_height=600, toolbar_location=None)\n",
    "\n",
    "    p2.xaxis.major_label_orientation = math.pi/2\n",
    "    p2.xaxis.ticker = [0, 20, 40, 60]\n",
    "\n",
    "    p2.hbar(y='Region', right='PM2.5', height=0.5, source=source,\n",
    "            color=dict(field='level', transform=color_mapper))\n",
    "\n",
    "    def callback(attr, old, new):\n",
    "        data = monthly_all[monthly_all['month'] == new]\n",
    "        source.data = ColumnDataSource(data=data).data\n",
    "\n",
    "    slider = DateSlider(title='Month of Year', start=month_min, end=month_max, step=1,\n",
    "                        value=month_min, format='%B %Y')\n",
    "    slider.on_change('value', callback)\n",
    "\n",
    "    layout = column(widgetbox(slider), row(p2, p))\n",
    "    doc.add_root(layout)"
   ]
  },
  {
   "cell_type": "code",
   "execution_count": 27,
   "metadata": {
    "hidden": true
   },
   "outputs": [
    {
     "data": {
      "application/vnd.bokehjs_exec.v0+json": "",
      "text/html": [
       "\n",
       "<script src=\"http://localhost:52726/autoload.js?bokeh-autoload-element=2079&bokeh-absolute-url=http://localhost:52726&resources=none\" id=\"2079\"></script>"
      ]
     },
     "metadata": {
      "application/vnd.bokehjs_exec.v0+json": {
       "server_id": "9b850b43722c4a0d8bd54880bde01146"
      }
     },
     "output_type": "display_data"
    }
   ],
   "source": [
    "show(plot_monthly)"
   ]
  },
  {
   "cell_type": "code",
   "execution_count": 51,
   "metadata": {
    "hidden": true
   },
   "outputs": [],
   "source": [
    "def show_monthly(monthly_all, month):\n",
    "\n",
    "    p = figure(x_range=(bkk_x-0.3*stepx, bkk_x+stepx), y_range=(bkk_y-stepy, bkk_y+stepy),\n",
    "               x_axis_type=\"mercator\", y_axis_type=\"mercator\",\n",
    "               title='PM 2.5 Pollution in '+month.strftime('%B %Y'), plot_width=450, plot_height=600)\n",
    "    p.add_tile(STAMEN_TERRAIN)\n",
    "\n",
    "    source = ColumnDataSource(monthly_all[monthly_all['month'] == month])\n",
    "    color_mapper = CategoricalColorMapper(factors=['satisfactory', 'moderate', 'unhealthy'],\n",
    "                                          palette=['green', 'orange', 'red'])\n",
    "\n",
    "    r = p.circle(source=source, x='x_mer', y='y_mer', size=15, alpha=0.7,\n",
    "                 color=dict(field='level', transform=color_mapper))\n",
    "    \n",
    "    legend = Legend(items=[LegendItem(label=dict(field='level'), renderers=[r])], location=\"bottom_right\")\n",
    "\n",
    "    \n",
    "    p.add_layout(legend)\n",
    "\n",
    "    p2 = figure(y_range=monthly_all['Region'].iloc[::-1].unique(), x_range=(0, 70),\n",
    "                plot_width=200, plot_height=600, toolbar_location=None)\n",
    "\n",
    "    p2.xaxis.major_label_orientation = math.pi/2\n",
    "    p2.xaxis.ticker = [0, 20, 40, 60]\n",
    "\n",
    "    p2.hbar(y='Region', right='PM2.5', height=0.5, source=source,\n",
    "            color=dict(field='level', transform=color_mapper))\n",
    "\n",
    "    layout = row(p2, p)\n",
    "    month = month.strftime('%Y-%m')\n",
    "    export_png(layout,filename='monthly_map/'+month+'monthly_map.png')"
   ]
  },
  {
   "cell_type": "code",
   "execution_count": 52,
   "metadata": {
    "hidden": true,
    "scrolled": true
   },
   "outputs": [],
   "source": [
    "for month in monthly_all['month'].unique():\n",
    "    show_monthly(monthly_all, month)"
   ]
  },
  {
   "cell_type": "code",
   "execution_count": 6,
   "metadata": {
    "hidden": true
   },
   "outputs": [],
   "source": [
    "from glob import glob\n",
    "import imageio"
   ]
  },
  {
   "cell_type": "code",
   "execution_count": 8,
   "metadata": {
    "hidden": true
   },
   "outputs": [],
   "source": [
    "filenames = glob('monthly_map/*.png')"
   ]
  },
  {
   "cell_type": "code",
   "execution_count": 9,
   "metadata": {
    "hidden": true,
    "scrolled": true
   },
   "outputs": [],
   "source": [
    "images = []\n",
    "for filename in filenames:\n",
    "    images.append(imageio.imread(filename))\n",
    "imageio.mimsave('monthly_map/monthly_map.gif', images, duration=0.5)"
   ]
  },
  {
   "cell_type": "code",
   "execution_count": 14,
   "metadata": {
    "hidden": true
   },
   "outputs": [
    {
     "data": {
      "text/html": [
       "<div>\n",
       "<style scoped>\n",
       "    .dataframe tbody tr th:only-of-type {\n",
       "        vertical-align: middle;\n",
       "    }\n",
       "\n",
       "    .dataframe tbody tr th {\n",
       "        vertical-align: top;\n",
       "    }\n",
       "\n",
       "    .dataframe thead th {\n",
       "        text-align: right;\n",
       "    }\n",
       "</style>\n",
       "<table border=\"1\" class=\"dataframe\">\n",
       "  <thead>\n",
       "    <tr style=\"text-align: right;\">\n",
       "      <th></th>\n",
       "      <th>index</th>\n",
       "      <th>year</th>\n",
       "      <th>PM2.5</th>\n",
       "      <th>Time</th>\n",
       "      <th>month</th>\n",
       "      <th>Region</th>\n",
       "      <th>x_mer</th>\n",
       "      <th>y_mer</th>\n",
       "      <th>level</th>\n",
       "    </tr>\n",
       "  </thead>\n",
       "  <tbody>\n",
       "    <tr>\n",
       "      <th>106</th>\n",
       "      <td>45</td>\n",
       "      <td>2017</td>\n",
       "      <td>59.2</td>\n",
       "      <td>2017-12-31 23:00:00</td>\n",
       "      <td>2017-12</td>\n",
       "      <td>Chumphon</td>\n",
       "      <td>1.104063e+07</td>\n",
       "      <td>1.176187e+06</td>\n",
       "      <td>unhealthy</td>\n",
       "    </tr>\n",
       "    <tr>\n",
       "      <th>107</th>\n",
       "      <td>6</td>\n",
       "      <td>2018</td>\n",
       "      <td>59.2</td>\n",
       "      <td>2018-12-31 23:00:00</td>\n",
       "      <td>2018-12</td>\n",
       "      <td>Songkhla</td>\n",
       "      <td>1.119263e+07</td>\n",
       "      <td>8.076416e+05</td>\n",
       "      <td>unhealthy</td>\n",
       "    </tr>\n",
       "    <tr>\n",
       "      <th>108</th>\n",
       "      <td>118</td>\n",
       "      <td>2018</td>\n",
       "      <td>58.3</td>\n",
       "      <td>2018-12-31 23:00:00</td>\n",
       "      <td>2018-12</td>\n",
       "      <td>Nakhon Si Thammarat</td>\n",
       "      <td>1.112824e+07</td>\n",
       "      <td>9.448815e+05</td>\n",
       "      <td>unhealthy</td>\n",
       "    </tr>\n",
       "    <tr>\n",
       "      <th>109</th>\n",
       "      <td>205</td>\n",
       "      <td>2017</td>\n",
       "      <td>52.8</td>\n",
       "      <td>2017-12-31 23:00:00</td>\n",
       "      <td>2017-12</td>\n",
       "      <td>Trang</td>\n",
       "      <td>1.108869e+07</td>\n",
       "      <td>8.469228e+05</td>\n",
       "      <td>moderate</td>\n",
       "    </tr>\n",
       "    <tr>\n",
       "      <th>110</th>\n",
       "      <td>206</td>\n",
       "      <td>2018</td>\n",
       "      <td>44.8</td>\n",
       "      <td>2018-12-31 23:00:00</td>\n",
       "      <td>2018-12</td>\n",
       "      <td>Trang</td>\n",
       "      <td>1.108869e+07</td>\n",
       "      <td>8.469228e+05</td>\n",
       "      <td>moderate</td>\n",
       "    </tr>\n",
       "  </tbody>\n",
       "</table>\n",
       "</div>"
      ],
      "text/plain": [
       "     index  year  PM2.5                Time    month               Region  \\\n",
       "106     45  2017   59.2 2017-12-31 23:00:00  2017-12             Chumphon   \n",
       "107      6  2018   59.2 2018-12-31 23:00:00  2018-12             Songkhla   \n",
       "108    118  2018   58.3 2018-12-31 23:00:00  2018-12  Nakhon Si Thammarat   \n",
       "109    205  2017   52.8 2017-12-31 23:00:00  2017-12                Trang   \n",
       "110    206  2018   44.8 2018-12-31 23:00:00  2018-12                Trang   \n",
       "\n",
       "            x_mer         y_mer      level  \n",
       "106  1.104063e+07  1.176187e+06  unhealthy  \n",
       "107  1.119263e+07  8.076416e+05  unhealthy  \n",
       "108  1.112824e+07  9.448815e+05  unhealthy  \n",
       "109  1.108869e+07  8.469228e+05   moderate  \n",
       "110  1.108869e+07  8.469228e+05   moderate  "
      ]
     },
     "execution_count": 14,
     "metadata": {},
     "output_type": "execute_result"
    }
   ],
   "source": [
    "yearly_all = pm25_all.groupby(['year','city'], as_index=False).max()\n",
    "yearly_all['year'] = yearly_all['year'].values.astype(str)\n",
    "yearly_all['city'] = yearly_all['city'].astype('category')\n",
    "yearly_all = yearly_all.merge(region_df,left_on='city',right_on='City')\n",
    "yearly_all['level'] = pd.cut(yearly_all['PM2.5'],bins = [0, 35.5, 55.5, 150.4], \n",
    "                       labels=['satisfactory', 'moderate','unhealthy'],\n",
    "                      include_lowest=True, right=False)\n",
    "yearly_all = yearly_all.drop(['city','Population','Latitude','Longitude','City'],axis=1)\n",
    "\n",
    "# drop the value in 2016 and 2019 due to incomplete data \n",
    "yearly_all = yearly_all.drop(yearly_all.loc[yearly_all['year'].isin(['2016','2019'])].index)\n",
    "yearly_all.sort_values('PM2.5',ascending=False,inplace=True)\n",
    "yearly_all.reset_index(inplace=True)\n",
    "yearly_all.tail()"
   ]
  },
  {
   "cell_type": "code",
   "execution_count": 15,
   "metadata": {
    "hidden": true
   },
   "outputs": [
    {
     "data": {
      "text/html": [
       "<div>\n",
       "<style scoped>\n",
       "    .dataframe tbody tr th:only-of-type {\n",
       "        vertical-align: middle;\n",
       "    }\n",
       "\n",
       "    .dataframe tbody tr th {\n",
       "        vertical-align: top;\n",
       "    }\n",
       "\n",
       "    .dataframe thead th {\n",
       "        text-align: right;\n",
       "    }\n",
       "</style>\n",
       "<table border=\"1\" class=\"dataframe\">\n",
       "  <thead>\n",
       "    <tr style=\"text-align: right;\">\n",
       "      <th></th>\n",
       "      <th>year</th>\n",
       "      <th>Region</th>\n",
       "      <th>PM2.5</th>\n",
       "      <th>month</th>\n",
       "      <th>x_mer</th>\n",
       "      <th>y_mer</th>\n",
       "    </tr>\n",
       "  </thead>\n",
       "  <tbody>\n",
       "    <tr>\n",
       "      <th>59</th>\n",
       "      <td>2017</td>\n",
       "      <td>Nakhon Si Thammarat</td>\n",
       "      <td>22.758319</td>\n",
       "      <td>2017-12</td>\n",
       "      <td>1.112824e+07</td>\n",
       "      <td>944881.495734</td>\n",
       "    </tr>\n",
       "    <tr>\n",
       "      <th>77</th>\n",
       "      <td>2017</td>\n",
       "      <td>Trang</td>\n",
       "      <td>22.458169</td>\n",
       "      <td>2017-12</td>\n",
       "      <td>1.108869e+07</td>\n",
       "      <td>846922.840036</td>\n",
       "    </tr>\n",
       "    <tr>\n",
       "      <th>118</th>\n",
       "      <td>2018</td>\n",
       "      <td>Trang</td>\n",
       "      <td>21.950633</td>\n",
       "      <td>2018-12</td>\n",
       "      <td>1.108869e+07</td>\n",
       "      <td>846922.840036</td>\n",
       "    </tr>\n",
       "    <tr>\n",
       "      <th>66</th>\n",
       "      <td>2017</td>\n",
       "      <td>Phuket</td>\n",
       "      <td>21.274390</td>\n",
       "      <td>2017-12</td>\n",
       "      <td>1.095385e+07</td>\n",
       "      <td>884237.988691</td>\n",
       "    </tr>\n",
       "    <tr>\n",
       "      <th>115</th>\n",
       "      <td>2018</td>\n",
       "      <td>Songkhla</td>\n",
       "      <td>21.247627</td>\n",
       "      <td>2018-12</td>\n",
       "      <td>1.119820e+07</td>\n",
       "      <td>807641.616273</td>\n",
       "    </tr>\n",
       "  </tbody>\n",
       "</table>\n",
       "</div>"
      ],
      "text/plain": [
       "     year               Region      PM2.5    month         x_mer  \\\n",
       "59   2017  Nakhon Si Thammarat  22.758319  2017-12  1.112824e+07   \n",
       "77   2017                Trang  22.458169  2017-12  1.108869e+07   \n",
       "118  2018                Trang  21.950633  2018-12  1.108869e+07   \n",
       "66   2017               Phuket  21.274390  2017-12  1.095385e+07   \n",
       "115  2018             Songkhla  21.247627  2018-12  1.119820e+07   \n",
       "\n",
       "             y_mer  \n",
       "59   944881.495734  \n",
       "77   846922.840036  \n",
       "118  846922.840036  \n",
       "66   884237.988691  \n",
       "115  807641.616273  "
      ]
     },
     "execution_count": 15,
     "metadata": {},
     "output_type": "execute_result"
    }
   ],
   "source": [
    "monthly_all['year'] = monthly_all['month'].dt.strftime('%Y')\n",
    "yearly_all = monthly_all.groupby(['year','Region'], as_index=False).max()\n",
    "yearly_all.sort_values('PM2.5',ascending=False,inplace=True)\n",
    "\n",
    "# drop the value in 2016 and 2019 due to incomplete data \n",
    "yearly_all = yearly_all.drop(yearly_all.loc[yearly_all['year'].isin(['2016','2019'])].index)\n",
    "\n",
    "yearly_all.tail()"
   ]
  },
  {
   "cell_type": "code",
   "execution_count": 16,
   "metadata": {
    "hidden": true
   },
   "outputs": [],
   "source": [
    "yearly_all = yearly_all[yearly_all['Region']!=' Ubon Ratchathani']"
   ]
  },
  {
   "cell_type": "code",
   "execution_count": 20,
   "metadata": {
    "hidden": true,
    "scrolled": true
   },
   "outputs": [
    {
     "name": "stderr",
     "output_type": "stream",
     "text": [
      "C:\\Users\\Benny\\Anaconda3\\envs\\fastai\\lib\\site-packages\\matplotlib\\figure.py:98: MatplotlibDeprecationWarning: \n",
      "Adding an axes using the same arguments as a previous axes currently reuses the earlier instance.  In a future version, a new instance will always be created and returned.  Meanwhile, this warning can be suppressed, and the future behavior ensured, by passing a unique label to each axes instance.\n",
      "  \"Adding an axes using the same arguments as a previous axes \"\n"
     ]
    },
    {
     "data": {
      "image/png": "[encoded data removed]",
      "text/plain": [
       "<Figure size 720x216 with 1 Axes>"
      ]
     },
     "metadata": {
      "needs_background": "light"
     },
     "output_type": "display_data"
    }
   ],
   "source": [
    "f = plt.figure(figsize=(10,3))\n",
    "\n",
    "plt.axhline(55, color='red', alpha=0.5, linestyle='--')\n",
    "plt.axhline(35, color='orange', alpha=0.5,linestyle='--')\n",
    "\n",
    "g = sns.barplot(x=\"Region\", y=\"PM2.5\", hue='year', data=yearly_all)\n",
    "plt.legend(loc= 'upper right')\n",
    "plt.xticks(rotation=90, fontsize=9)\n",
    "ax1 = plt.axes()\n",
    "ax1.xaxis.label.set_visible(False)\n",
    "\n",
    "plt.annotate('southern provices\\n has the best air quality',xycoords='axes fraction',\n",
    "              textcoords='axes fraction',\n",
    "             xy = (0.95,0.35), xytext=(0.8,0.5), arrowprops=dict(arrowstyle='->', lw = 2))\n",
    "\n",
    "plt.annotate('northern provices\\n are worse than Bangkok',xycoords='axes fraction',\n",
    "              textcoords='axes fraction',\n",
    "             xy = (0.1,0.8), xytext=(0.15,0.85), arrowprops=dict(arrowstyle='->', lw = 2))\n",
    "\n",
    "plt.annotate('Bangkok',xycoords='axes fraction',xy = (0.72,0.6),\n",
    "            textcoords='axes fraction', xytext=(0.68,0.85),\n",
    "            arrowprops=dict(arrowstyle='->', lw = 2))\n",
    "plt.title('Maximum Particle Pollution')\n",
    "plt.show(g)"
   ]
  },
  {
   "cell_type": "code",
   "execution_count": 309,
   "metadata": {
    "hidden": true
   },
   "outputs": [
    {
     "data": {
      "text/html": [
       "\n",
       "\n",
       "\n",
       "\n",
       "\n",
       "\n",
       "  <div class=\"bk-root\" id=\"d1a6b1d9-5ade-4406-9648-dd876fcc0772\" data-root-id=\"69356\"></div>\n"
      ]
     },
     "metadata": {},
     "output_type": "display_data"
    },
    {
     "data": {
      "application/javascript": [
       "(function(root) {\n",
       "  function embed_document(root) {\n",
       "    \n",
       "  var docs_json = {\"fb5a668f-38bd-4431-b00d-a7b662c35bef\":{\"roots\":{\"references\":[{\"attributes\":{\"below\":[{\"id\":\"69365\",\"type\":\"LinearAxis\"}],\"left\":[{\"id\":\"69370\",\"type\":\"CategoricalAxis\"}],\"plot_width\":200,\"renderers\":[{\"id\":\"69365\",\"type\":\"LinearAxis\"},{\"id\":\"69369\",\"type\":\"Grid\"},{\"id\":\"69370\",\"type\":\"CategoricalAxis\"},{\"id\":\"69373\",\"type\":\"Grid\"},{\"id\":\"69382\",\"type\":\"BoxAnnotation\"},{\"id\":\"69393\",\"type\":\"GlyphRenderer\"}],\"title\":{\"id\":\"69602\",\"type\":\"Title\"},\"toolbar\":{\"id\":\"69380\",\"type\":\"Toolbar\"},\"toolbar_location\":null,\"x_range\":{\"id\":\"69357\",\"type\":\"DataRange1d\"},\"x_scale\":{\"id\":\"69361\",\"type\":\"LinearScale\"},\"y_range\":{\"id\":\"69359\",\"type\":\"FactorRange\"},\"y_scale\":{\"id\":\"69363\",\"type\":\"CategoricalScale\"}},\"id\":\"69356\",\"subtype\":\"Figure\",\"type\":\"Plot\"},{\"attributes\":{},\"id\":\"69363\",\"type\":\"CategoricalScale\"},{\"attributes\":{},\"id\":\"69609\",\"type\":\"Selection\"},{\"attributes\":{\"overlay\":{\"id\":\"69382\",\"type\":\"BoxAnnotation\"}},\"id\":\"69376\",\"type\":\"BoxZoomTool\"},{\"attributes\":{},\"id\":\"69374\",\"type\":\"PanTool\"},{\"attributes\":{\"plot\":{\"id\":\"69356\",\"subtype\":\"Figure\",\"type\":\"Plot\"},\"ticker\":{\"id\":\"69366\",\"type\":\"BasicTicker\"}},\"id\":\"69369\",\"type\":\"Grid\"},{\"attributes\":{},\"id\":\"69378\",\"type\":\"ResetTool\"},{\"attributes\":{\"active_drag\":\"auto\",\"active_inspect\":\"auto\",\"active_multi\":null,\"active_scroll\":\"auto\",\"active_tap\":\"auto\",\"tools\":[{\"id\":\"69374\",\"type\":\"PanTool\"},{\"id\":\"69375\",\"type\":\"WheelZoomTool\"},{\"id\":\"69376\",\"type\":\"BoxZoomTool\"},{\"id\":\"69377\",\"type\":\"SaveTool\"},{\"id\":\"69378\",\"type\":\"ResetTool\"},{\"id\":\"69379\",\"type\":\"HelpTool\"}]},\"id\":\"69380\",\"type\":\"Toolbar\"},{\"attributes\":{},\"id\":\"69375\",\"type\":\"WheelZoomTool\"},{\"attributes\":{\"plot\":null,\"text\":\"\"},\"id\":\"69602\",\"type\":\"Title\"},{\"attributes\":{\"source\":{\"id\":\"69389\",\"type\":\"ColumnDataSource\"}},\"id\":\"69394\",\"type\":\"CDSView\"},{\"attributes\":{\"callback\":null},\"id\":\"69357\",\"type\":\"DataRange1d\"},{\"attributes\":{\"dimension\":1,\"plot\":{\"id\":\"69356\",\"subtype\":\"Figure\",\"type\":\"Plot\"},\"ticker\":{\"id\":\"69371\",\"type\":\"CategoricalTicker\"}},\"id\":\"69373\",\"type\":\"Grid\"},{\"attributes\":{\"data_source\":{\"id\":\"69389\",\"type\":\"ColumnDataSource\"},\"glyph\":{\"id\":\"69391\",\"type\":\"HBar\"},\"hover_glyph\":null,\"muted_glyph\":null,\"nonselection_glyph\":{\"id\":\"69392\",\"type\":\"HBar\"},\"selection_glyph\":null,\"view\":{\"id\":\"69394\",\"type\":\"CDSView\"}},\"id\":\"69393\",\"type\":\"GlyphRenderer\"},{\"attributes\":{\"bottom_units\":\"screen\",\"fill_alpha\":{\"value\":0.5},\"fill_color\":{\"value\":\"lightgrey\"},\"left_units\":\"screen\",\"level\":\"overlay\",\"line_alpha\":{\"value\":1.0},\"line_color\":{\"value\":\"black\"},\"line_dash\":[4,4],\"line_width\":{\"value\":2},\"plot\":null,\"render_mode\":\"css\",\"right_units\":\"screen\",\"top_units\":\"screen\"},\"id\":\"69382\",\"type\":\"BoxAnnotation\"},{\"attributes\":{\"fill_alpha\":{\"value\":0.1},\"fill_color\":{\"value\":\"#1f77b4\"},\"height\":{\"value\":0.5},\"line_alpha\":{\"value\":0.1},\"line_color\":{\"value\":\"#1f77b4\"},\"right\":{\"field\":\"PM2.5\"},\"y\":{\"field\":\"City\"}},\"id\":\"69392\",\"type\":\"HBar\"},{\"attributes\":{\"formatter\":{\"id\":\"69604\",\"type\":\"BasicTickFormatter\"},\"plot\":{\"id\":\"69356\",\"subtype\":\"Figure\",\"type\":\"Plot\"},\"ticker\":{\"id\":\"69366\",\"type\":\"BasicTicker\"}},\"id\":\"69365\",\"type\":\"LinearAxis\"},{\"attributes\":{},\"id\":\"69604\",\"type\":\"BasicTickFormatter\"},{\"attributes\":{},\"id\":\"69377\",\"type\":\"SaveTool\"},{\"attributes\":{},\"id\":\"69608\",\"type\":\"UnionRenderers\"},{\"attributes\":{\"callback\":null,\"data\":{\"City\":[\"Chiang Rai\",\"Chiang Mai\",\"Lampang\",\"Nong Khai\",\"Uttaradit\",\"Udon Thani\",\"Sakon Nakhon\",\"Phitsanulok\",\"Kamphaeng Phet\",\"Khon Kaen\",\"Kalasin\",\"Phetchabun\",\"Maha Sarakham\",\"Chaiyaphum\",\"Nakhon Sawan\",\"Ubon Ratchathani\",\"Nakhon Ratchasima\",\"Lop Buri\",\"Phra Phutthabat\",\"Saraburi\",\"Suphan Buri\",\"Phra Nakhon Si Ayutthaya\",\"Khlong Luang\",\"Kanchanaburi\",\"Ban Lam Luk Ka\",\"Pak Kret\",\"Tha Maka\",\"Mueang Nonthaburi\",\"Nakhon Pathom\",\"Ban Pong\",\"Bang Kruai\",\"Bangkok\",\"Phra Pradaeng\",\"Krathum Baen\",\"Samut Prakan\",\"Samut Sakhon\",\"Ratchaburi\",\"Chon Buri\",\"Si Racha\",\"Phatthaya\",\"Klaeng\",\"Rayong\",\"Sattahip\",\"Chanthaburi\",\"Hua Hin\",\"Chumphon\",\"Ko Samui\",\"Surat Thani\",\"Nakhon Si Thammarat\",\"Phuket\",\"Ban Talat Yai\",\"Trang\",\"Ban Mai\",\"Songkhla\",\"Hat Yai\",\"Yala\"],\"PM2.5\":{\"__ndarray__\":\"0JaRYruaSUA7S9jNb2FEQAg33r6k+UlAT2QgvT/XSEBDa7RGa/RGQM8xrxfE00lAGJ1jXi9IRkBP6Dssn+lFQCwjxXa1KURAMafg5RQ8TkCe77B8ph5JQFXoOyyf6UZAfoflM/WASUBJsV1t+u9GQIefis4xb0NAS5pbJ1FJQUDHQHp/rpVBQNv03yOHBENA51Iu5VIuQ0B53FnCbr5AQFVVVVVVlUFAa7RGa7RGQEBOeyID6X09QFb4qegcs0JA0fM8z/M8PEAlxXa16b88QFg+Uw+sbkFAikoWQLjxO0DIpVzKpRxAQDjevqS5tUBArItxhkJfPECDcYZC32E9QN9xZwm7+T1AA20ZKbarPUAREREREZE5QOXOEnbzWztAZ8MR057IP0DicWcJu/k2QKU9kYH0fjZARmu0Rmu0NECiTFzp3gA1QGfDEdOeyDFA6Dssn6mHM0DIV3zFV/w2QPhEBtL7czlAaSj0HZbPOkCTx50l7OY5QIY6qIM6qDtAI9x4+5JmOkAR6qAO6mBCQPaCeBrMSkJANXGlewNKOUDaWcJufos2QIyIiIiIiDZApnsDysQVNkDj9YJ4Gkw5QA==\",\"dtype\":\"float64\",\"shape\":[56]},\"index\":[369,332,724,1008,1805,1768,1406,1156,508,613,471,1119,792,258,940,1968,903,761,1230,1517,1628,1193,582,545,36,1045,1702,829,866,110,184,221,1267,687,1443,1480,1341,1870,1954,1082,650,1378,1554,295,1898,406,1926,1665,977,1304,147,1739,73,1591,443,1842],\"level\":[\"moderate\",\"moderate\",\"moderate\",\"moderate\",\"moderate\",\"moderate\",\"moderate\",\"moderate\",\"moderate\",\"unhealthy\",\"moderate\",\"moderate\",\"moderate\",\"moderate\",\"moderate\",\"satisfactory\",\"satisfactory\",\"moderate\",\"moderate\",\"satisfactory\",\"satisfactory\",\"satisfactory\",\"satisfactory\",\"moderate\",\"satisfactory\",\"satisfactory\",\"satisfactory\",\"satisfactory\",\"satisfactory\",\"satisfactory\",\"satisfactory\",\"satisfactory\",\"satisfactory\",\"satisfactory\",\"satisfactory\",\"satisfactory\",\"satisfactory\",\"satisfactory\",\"satisfactory\",\"satisfactory\",\"satisfactory\",\"satisfactory\",\"satisfactory\",\"satisfactory\",\"satisfactory\",\"satisfactory\",\"satisfactory\",\"satisfactory\",\"satisfactory\",\"moderate\",\"moderate\",\"satisfactory\",\"satisfactory\",\"satisfactory\",\"satisfactory\",\"satisfactory\"],\"month\":[1551398400000.0,1551398400000.0,1551398400000.0,1551398400000.0,1551398400000.0,1551398400000.0,1551398400000.0,1551398400000.0,1551398400000.0,1551398400000.0,1551398400000.0,1551398400000.0,1551398400000.0,1551398400000.0,1551398400000.0,1551398400000.0,1551398400000.0,1551398400000.0,1551398400000.0,1551398400000.0,1551398400000.0,1551398400000.0,1551398400000.0,1551398400000.0,1551398400000.0,1551398400000.0,1551398400000.0,1551398400000.0,1551398400000.0,1551398400000.0,1551398400000.0,1551398400000.0,1551398400000.0,1551398400000.0,1551398400000.0,1551398400000.0,1551398400000.0,1551398400000.0,1551398400000.0,1551398400000.0,1551398400000.0,1551398400000.0,1551398400000.0,1551398400000.0,1551398400000.0,1551398400000.0,1551398400000.0,1551398400000.0,1551398400000.0,1551398400000.0,1551398400000.0,1551398400000.0,1551398400000.0,1551398400000.0,1551398400000.0,1551398400000.0],\"x_mer\":{\"__ndarray__\":\"4VwR4moyZUFEds/MVQRlQaPTrPrzH2VBvUrwY5DQZUEm8wJspEBlQbsuj0Hz0mVBmn+wqPEcZkFCtJYJlEllQbzVflaDIWVBirtLpoLVZUEODC/AH/plQUD2Xk+bemVBkqVSqu7uZUEX8f1BzKllQat/ocP6QmVBAWie/BJDZkHXZsTUxq1lQQOA1wASX2VBuhNGk8FmZUELWwJ1WW1lQVN4RgoqQmVB5YaBHuhaZUFpf5vmn15lQZk7F0L4ImVBOPMirMxlZUFEBLlnolZlQYh9v0fXLmVBXFBNC4FXZUGgcgwR7j1lQZ+F6anbNGVBnAjonThVZUFuHYGVxlZlQS2QG6WGWGVBSOYIWKNJZUFeVqUR9ltlQZi78cJkSmVBb6DSl5QxZUEmf435+nBlQbrSB9UhbmVB/Mi8sohrZUFmP9+fHZVlQbG49Z/mf2VB8g5u0XpsZUG7klOe6a1lQfv761ZIOWVBs9VuNu8OZUFP4Y3nBjhlQXyijMNFF2VBwDR9RLY5ZUGKg2JMc+RkQQwN1SCP5GRBgxRoSmYmZUHhJq6qJlllQa+U3WneW2VBWy6U4m5VZUHprcXXKoFlQQ==\",\"dtype\":\"float64\",\"shape\":[56]},\"y_mer\":{\"__ndarray__\":\"7g2+mVw4QUF4m2ZVFzhAQT2vaBr/jD9Bn8IG7sPQPkEsisH28V0+Qa18eKHF/j1B9AE9c4aLPUGr79Lvb/M8Qd+pBY9eWTxBdiLy59JIPEGI80DhjkI8QewVUIJWPDxBaqSSztfSO0HmoiXzgCo7QRgMHYH6+jpBHEkSY9ApOkEPTjqy8rE5Qcjk3ce+ZDlBbGTrejNEOUEx1WBdbO44QSmUBP8I1DhBcKosk1ydOEGcm6dbYx04QZv/MDdjAjhBV/RHW372N0EIKViuz9k3QQYFhLcF1DdBgC/oI4bCN0GOQOM3OrA3QYDSbCzCrjdB8LjQi7qpN0GeGqrrB5M3QVCCHrSKaDdBpjK/kDpmN0FXgi85Nk43QYuUHbYtNzdBkV/ifGAyN0GCSOxD0+Q2QZy7SKodkTZBq/y5LHQmNkEM2hnOW+I1Qf7veYOUtjVBSxm0FyiwNUFMzW1q/5Y1QbQDs0zFhTVBzbOP+XryMUEz/fuqNk0wQf+beIzzPy9BTNLQ/eLVLEHiqzX6G/wqQQiHaKUM9ypBEjcZrpXYKUFlJ4g7s6UoQaH1MH0VoShBpsEeNkn7J0G4En5Ts2MmQQ==\",\"dtype\":\"float64\",\"shape\":[56]}},\"selected\":{\"id\":\"69609\",\"type\":\"Selection\"},\"selection_policy\":{\"id\":\"69608\",\"type\":\"UnionRenderers\"}},\"id\":\"69389\",\"type\":\"ColumnDataSource\"},{\"attributes\":{\"fill_color\":{\"value\":\"#1f77b4\"},\"height\":{\"value\":0.5},\"line_color\":{\"value\":\"#1f77b4\"},\"right\":{\"field\":\"PM2.5\"},\"y\":{\"field\":\"City\"}},\"id\":\"69391\",\"type\":\"HBar\"},{\"attributes\":{},\"id\":\"69366\",\"type\":\"BasicTicker\"},{\"attributes\":{\"callback\":null,\"factors\":[\"Chiang Rai\",\"Chiang Mai\",\"Lampang\",\"Nong Khai\",\"Uttaradit\",\"Udon Thani\",\"Sakon Nakhon\",\"Phitsanulok\",\"Kamphaeng Phet\",\"Khon Kaen\",\"Kalasin\",\"Phetchabun\",\"Maha Sarakham\",\"Chaiyaphum\",\"Nakhon Sawan\",\"Ubon Ratchathani\",\"Nakhon Ratchasima\",\"Lop Buri\",\"Phra Phutthabat\",\"Saraburi\",\"Suphan Buri\",\"Phra Nakhon Si Ayutthaya\",\"Khlong Luang\",\"Kanchanaburi\",\"Ban Lam Luk Ka\",\"Pak Kret\",\"Tha Maka\",\"Mueang Nonthaburi\",\"Nakhon Pathom\",\"Ban Pong\",\"Bang Kruai\",\"Bangkok\",\"Phra Pradaeng\",\"Krathum Baen\",\"Samut Prakan\",\"Samut Sakhon\",\"Ratchaburi\",\"Chon Buri\",\"Si Racha\",\"Phatthaya\",\"Klaeng\",\"Rayong\",\"Sattahip\",\"Chanthaburi\",\"Hua Hin\",\"Chumphon\",\"Ko Samui\",\"Surat Thani\",\"Nakhon Si Thammarat\",\"Phuket\",\"Ban Talat Yai\",\"Trang\",\"Ban Mai\",\"Songkhla\",\"Hat Yai\",\"Yala\"]},\"id\":\"69359\",\"type\":\"FactorRange\"},{\"attributes\":{\"formatter\":{\"id\":\"69606\",\"type\":\"CategoricalTickFormatter\"},\"plot\":{\"id\":\"69356\",\"subtype\":\"Figure\",\"type\":\"Plot\"},\"ticker\":{\"id\":\"69371\",\"type\":\"CategoricalTicker\"}},\"id\":\"69370\",\"type\":\"CategoricalAxis\"},{\"attributes\":{},\"id\":\"69371\",\"type\":\"CategoricalTicker\"},{\"attributes\":{},\"id\":\"69361\",\"type\":\"LinearScale\"},{\"attributes\":{},\"id\":\"69379\",\"type\":\"HelpTool\"},{\"attributes\":{},\"id\":\"69606\",\"type\":\"CategoricalTickFormatter\"}],\"root_ids\":[\"69356\"]},\"title\":\"Bokeh Application\",\"version\":\"1.0.4\"}};\n",
       "  var render_items = [{\"docid\":\"fb5a668f-38bd-4431-b00d-a7b662c35bef\",\"roots\":{\"69356\":\"d1a6b1d9-5ade-4406-9648-dd876fcc0772\"}}];\n",
       "  root.Bokeh.embed.embed_items_notebook(docs_json, render_items);\n",
       "\n",
       "  }\n",
       "  if (root.Bokeh !== undefined) {\n",
       "    embed_document(root);\n",
       "  } else {\n",
       "    var attempts = 0;\n",
       "    var timer = setInterval(function(root) {\n",
       "      if (root.Bokeh !== undefined) {\n",
       "        embed_document(root);\n",
       "        clearInterval(timer);\n",
       "      }\n",
       "      attempts++;\n",
       "      if (attempts > 100) {\n",
       "        console.log(\"Bokeh: ERROR: Unable to run BokehJS code because BokehJS library is missing\");\n",
       "        clearInterval(timer);\n",
       "      }\n",
       "    }, 10, root)\n",
       "  }\n",
       "})(window);"
      ],
      "application/vnd.bokehjs_exec.v0+json": ""
     },
     "metadata": {
      "application/vnd.bokehjs_exec.v0+json": {
       "id": "69356"
      }
     },
     "output_type": "display_data"
    }
   ],
   "source": [
    "p2 = figure(y_range=monthly_all['City'].unique(), \n",
    "                plot_width=200, plot_height=600,toolbar_location=None)\n",
    "source = ColumnDataSource(monthly_all[monthly_all['month'] == '2019-03'])\n",
    "    \n",
    "p2.hbar(y='City',right= 'PM2.5', height=0.5, source=source)\n",
    "\n",
    "\n",
    "show(p2)"
   ]
  },
  {
   "cell_type": "code",
   "execution_count": null,
   "metadata": {
    "hidden": true
   },
   "outputs": [],
   "source": []
  }
 ],
 "metadata": {
  "kernelspec": {
   "display_name": "Python 3",
   "language": "python",
   "name": "python3"
  },
  "language_info": {
   "codemirror_mode": {
    "name": "ipython",
    "version": 3
   },
   "file_extension": ".py",
   "mimetype": "text/x-python",
   "name": "python",
   "nbconvert_exporter": "python",
   "pygments_lexer": "ipython3",
   "version": "3.6.8"
  }
 },
 "nbformat": 4,
 "nbformat_minor": 2
}
