{
 "cells": [
  {
   "cell_type": "markdown",
   "metadata": {},
   "source": [
    "# Visualize Air Pollution in Bangkok"
   ]
  },
  {
   "cell_type": "markdown",
   "metadata": {},
   "source": [
    "## Background\n",
    "\n",
    "Air pollution is a pollution threat in many Asian countries. Being informed about the current outdoor air quality helps you protect yourself. Recently, Thai people become more concern about local air pollution due to the high level of pollution in Bangkok in winter of 2019. Air polution is reported as air quality index (AQI). The high AQI mean bad air pollution. The major pollutant was the small size particle pollution (PM2.5). Still there are a lot of misconceptions and debates about the causes of the pollution and degree of hazard of particles. \n",
    "\n",
    "This notebook tried a way to answer answer some of the questions about air pollution through data visualization. Moreover, it includes how to generate these vizs are generated so that the same method can be applied to your local air quality measurement. I was inspired by the work from  a Facebook post by [Data-addict] (https://scontent-sjc3-1.xx.fbcdn.net/v/t1.0-9/34398114_426447444494150_7618108699801812992_n.png?_nc_cat=108&_nc_ht=scontent-sjc3-1.xx&oh=0ac2b42de652b994d8f1994ecb835418&oe=5CF14B7F)"
   ]
  },
  {
   "cell_type": "code",
   "execution_count": 182,
   "metadata": {},
   "outputs": [],
   "source": [
    "import sys\n",
    "sys.path.append(r'C:\\Users\\Benny\\fastai\\old')\n",
    "from pathlib import Path\n",
    "from fastai.imports import *\n",
    "import seaborn as sns\n",
    "\n",
    "import statsmodels.api as sm\n",
    "import datetime "
   ]
  },
  {
   "cell_type": "code",
   "execution_count": 2,
   "metadata": {},
   "outputs": [],
   "source": [
    "trend_aqi = pd.read_csv('data/google_trend_aqi.csv', infer_datetime_format=True,\n",
    "                       skiprows=3, names= ['date','aqi_trend'])\n",
    "trend_pm25 = pd.read_csv('data/google_trend_pm25.csv', infer_datetime_format=True,\n",
    "                       skiprows=3, names= ['date','pm25_trend'])\n",
    "\n",
    "trend = trend_aqi.merge(trend_pm25, on=['date'], how ='outer')"
   ]
  },
  {
   "cell_type": "code",
   "execution_count": 3,
   "metadata": {},
   "outputs": [
    {
     "data": {
      "text/html": [
       "<div>\n",
       "<style scoped>\n",
       "    .dataframe tbody tr th:only-of-type {\n",
       "        vertical-align: middle;\n",
       "    }\n",
       "\n",
       "    .dataframe tbody tr th {\n",
       "        vertical-align: top;\n",
       "    }\n",
       "\n",
       "    .dataframe thead th {\n",
       "        text-align: right;\n",
       "    }\n",
       "</style>\n",
       "<table border=\"1\" class=\"dataframe\">\n",
       "  <thead>\n",
       "    <tr style=\"text-align: right;\">\n",
       "      <th></th>\n",
       "      <th>date</th>\n",
       "      <th>aqi_trend</th>\n",
       "      <th>pm25_trend</th>\n",
       "    </tr>\n",
       "  </thead>\n",
       "  <tbody>\n",
       "    <tr>\n",
       "      <th>0</th>\n",
       "      <td>2014-02-23</td>\n",
       "      <td>0</td>\n",
       "      <td>&lt;1</td>\n",
       "    </tr>\n",
       "    <tr>\n",
       "      <th>1</th>\n",
       "      <td>2014-03-02</td>\n",
       "      <td>&lt;1</td>\n",
       "      <td>&lt;1</td>\n",
       "    </tr>\n",
       "    <tr>\n",
       "      <th>2</th>\n",
       "      <td>2014-03-09</td>\n",
       "      <td>1</td>\n",
       "      <td>0</td>\n",
       "    </tr>\n",
       "    <tr>\n",
       "      <th>3</th>\n",
       "      <td>2014-03-16</td>\n",
       "      <td>1</td>\n",
       "      <td>&lt;1</td>\n",
       "    </tr>\n",
       "    <tr>\n",
       "      <th>4</th>\n",
       "      <td>2014-03-23</td>\n",
       "      <td>1</td>\n",
       "      <td>&lt;1</td>\n",
       "    </tr>\n",
       "  </tbody>\n",
       "</table>\n",
       "</div>"
      ],
      "text/plain": [
       "         date aqi_trend pm25_trend\n",
       "0  2014-02-23         0         <1\n",
       "1  2014-03-02        <1         <1\n",
       "2  2014-03-09         1          0\n",
       "3  2014-03-16         1         <1\n",
       "4  2014-03-23         1         <1"
      ]
     },
     "execution_count": 3,
     "metadata": {},
     "output_type": "execute_result"
    }
   ],
   "source": [
    "trend.head()"
   ]
  },
  {
   "cell_type": "code",
   "execution_count": 4,
   "metadata": {},
   "outputs": [
    {
     "data": {
      "text/html": [
       "<div>\n",
       "<style scoped>\n",
       "    .dataframe tbody tr th:only-of-type {\n",
       "        vertical-align: middle;\n",
       "    }\n",
       "\n",
       "    .dataframe tbody tr th {\n",
       "        vertical-align: top;\n",
       "    }\n",
       "\n",
       "    .dataframe thead th {\n",
       "        text-align: right;\n",
       "    }\n",
       "</style>\n",
       "<table border=\"1\" class=\"dataframe\">\n",
       "  <thead>\n",
       "    <tr style=\"text-align: right;\">\n",
       "      <th></th>\n",
       "      <th>date</th>\n",
       "      <th>aqi_trend</th>\n",
       "      <th>pm25_trend</th>\n",
       "    </tr>\n",
       "  </thead>\n",
       "  <tbody>\n",
       "    <tr>\n",
       "      <th>256</th>\n",
       "      <td>2019-01-20</td>\n",
       "      <td>61</td>\n",
       "      <td>40</td>\n",
       "    </tr>\n",
       "    <tr>\n",
       "      <th>257</th>\n",
       "      <td>2019-01-27</td>\n",
       "      <td>100</td>\n",
       "      <td>100</td>\n",
       "    </tr>\n",
       "    <tr>\n",
       "      <th>258</th>\n",
       "      <td>2019-02-03</td>\n",
       "      <td>58</td>\n",
       "      <td>49</td>\n",
       "    </tr>\n",
       "    <tr>\n",
       "      <th>259</th>\n",
       "      <td>2019-02-10</td>\n",
       "      <td>38</td>\n",
       "      <td>26</td>\n",
       "    </tr>\n",
       "    <tr>\n",
       "      <th>260</th>\n",
       "      <td>2019-02-17</td>\n",
       "      <td>32</td>\n",
       "      <td>15</td>\n",
       "    </tr>\n",
       "  </tbody>\n",
       "</table>\n",
       "</div>"
      ],
      "text/plain": [
       "           date aqi_trend pm25_trend\n",
       "256  2019-01-20        61         40\n",
       "257  2019-01-27       100        100\n",
       "258  2019-02-03        58         49\n",
       "259  2019-02-10        38         26\n",
       "260  2019-02-17        32         15"
      ]
     },
     "execution_count": 4,
     "metadata": {},
     "output_type": "execute_result"
    }
   ],
   "source": [
    "trend.tail()"
   ]
  },
  {
   "cell_type": "code",
   "execution_count": 5,
   "metadata": {},
   "outputs": [],
   "source": [
    "trend['date'] =  pd.to_datetime(trend['date'],yearfirst=True)\n"
   ]
  },
  {
   "cell_type": "code",
   "execution_count": 6,
   "metadata": {},
   "outputs": [],
   "source": [
    "trend['aqi_trend'] = trend['aqi_trend'].str.replace('<1','0')\n",
    "trend['pm25_trend'] = trend['pm25_trend'].str.replace('<1','0')\n"
   ]
  },
  {
   "cell_type": "code",
   "execution_count": 7,
   "metadata": {},
   "outputs": [],
   "source": [
    "trend[['aqi_trend', 'pm25_trend']] = trend[[\n",
    "    'aqi_trend', 'pm25_trend']].astype(np.int32)"
   ]
  },
  {
   "cell_type": "code",
   "execution_count": 8,
   "metadata": {
    "scrolled": true
   },
   "outputs": [
    {
     "name": "stdout",
     "output_type": "stream",
     "text": [
      "<class 'pandas.core.frame.DataFrame'>\n",
      "Int64Index: 261 entries, 0 to 260\n",
      "Data columns (total 3 columns):\n",
      "date          261 non-null datetime64[ns]\n",
      "aqi_trend     261 non-null int32\n",
      "pm25_trend    261 non-null int32\n",
      "dtypes: datetime64[ns](1), int32(2)\n",
      "memory usage: 6.1 KB\n"
     ]
    }
   ],
   "source": [
    "trend.info()"
   ]
  },
  {
   "cell_type": "markdown",
   "metadata": {},
   "source": [
    "As mentioned above, more people are aware of the air pollution problem, how do I know that ? There are surge of Google search for the words 'PM2.5' and 'AQI' in Thailand around 2019. "
   ]
  },
  {
   "cell_type": "code",
   "execution_count": 11,
   "metadata": {
    "scrolled": false
   },
   "outputs": [
    {
     "data": {
      "text/plain": [
       "Text(0.5, 1.0, 'Google Search Frequency in Thailand')"
      ]
     },
     "execution_count": 11,
     "metadata": {},
     "output_type": "execute_result"
    },
    {
     "data": {
      "image/png": "[encoded data removed]",
      "text/plain": [
       "<Figure size 648x216 with 1 Axes>"
      ]
     },
     "metadata": {
      "needs_background": "light"
     },
     "output_type": "display_data"
    }
   ],
   "source": [
    "trend.plot('date', ['aqi_trend', 'pm25_trend'], kind='line',\n",
    "           label=['AQI','PM2.5'], xlim=['2015-01-01', '2019-02-07'],\n",
    "          figsize=(9,3))\n",
    "plt.title('Google Search Frequency in Thailand')"
   ]
  },
  {
   "cell_type": "markdown",
   "metadata": {},
   "source": [
    "How AQI are calculated? That depends on the law in different countries. They mostly divided into four pollutants source: ground level ozone(O3), particle pollution (PM2.5 and PM10), toxic gas (NO2, CO, SO2). The table below shows different pollutants from various stations in Thailand on February 2, 2019. There are level of CO, NO2, O3, SO2, PM10 and PM2.5. Most level are normal except, high level of PM2.5 in some region. \n",
    "\n",
    "PM2.5 are particle of size smaller than 2.5 micron. PM2.5 concentation higher than 35 ug/m3 is considered moderate (giving AQI 100) and above 55.4 ug/m3 is consider unhealthy (AQI 150). Since AQI is calculated from the highest level of pollutant aveage over 24 hours([1](https://airnow.gov/index.cfm?action=aqi_brochure.index)), we focus this notebook on PM 2.5 data. \n",
    "\n",
    "What cause high air pollution in Bangkok last winter? The sources of PM2.5 particle can be car engine, power plants, and agricultural waste burning. There are number of theories: still wind, old diesel cars, near by power plants, and agricultural burning from other provinces. Let's try to answer some of these questions through visualization. "
   ]
  },
  {
   "cell_type": "markdown",
   "metadata": {},
   "source": [
    "![AQI report Thailand](data/aqi_2019_02_19.png)"
   ]
  },
  {
   "cell_type": "markdown",
   "metadata": {},
   "source": [
    "The government official website only provides a month historical data. I use the PM 2.5 from Berkeley Earth [website](http://berkeleyearth.lbl.gov/air-quality/maps/cities/Thailand/). Detail about how to use Python to scrap this data can be found in this [notebook](https://github.com/worasom/aqi_thailand/blob/master/webscraping-PM25.ipynb). Also if you are interested in scrapping the data from the government website, you may find this [notebook](https://github.com/worasom/aqi_thailand/blob/master/webscraping-AQI.ipynb) useful."
   ]
  },
  {
   "cell_type": "code",
   "execution_count": 255,
   "metadata": {},
   "outputs": [
    {
     "name": "stdout",
     "output_type": "stream",
     "text": [
      "% Country: Thailand\n",
      "\n",
      "% City: Bangkok\n",
      "\n",
      "% City (ASCII): Bangkok\n",
      "\n",
      "% Region: Bangkok\n",
      "\n",
      "% Region (ASCII): Bangkok\n",
      "\n",
      "% Population: 5104476\n",
      "\n",
      "% Latitude: 13.754\n",
      "\n",
      "% Longitude: 100.5014\n",
      "\n",
      "% Time Zone: Asia/Bangkok\n",
      "\n",
      "% Year, Month, Day, UTC Hour, PM2.5, PM10_mask, Retrospective\n",
      "\n",
      "2016\t3\t3\t8\t62.9\t1.00\t0\n",
      "\n",
      "2016\t3\t3\t9\t62.9\t1.00\t0\n",
      "\n"
     ]
    }
   ],
   "source": [
    "# inspecting the top of the files \n",
    "with open('data/Bangkok.txt','r') as f:\n",
    "    for i in range(12):\n",
    "        print(f.readline())"
   ]
  },
  {
   "cell_type": "code",
   "execution_count": 294,
   "metadata": {},
   "outputs": [],
   "source": [
    "pm25 = pd.read_csv('data/Bangkok.txt', sep='\\t', \n",
    "                   header=None, skiprows=10)"
   ]
  },
  {
   "cell_type": "code",
   "execution_count": 295,
   "metadata": {},
   "outputs": [
    {
     "data": {
      "text/html": [
       "<div>\n",
       "<style scoped>\n",
       "    .dataframe tbody tr th:only-of-type {\n",
       "        vertical-align: middle;\n",
       "    }\n",
       "\n",
       "    .dataframe tbody tr th {\n",
       "        vertical-align: top;\n",
       "    }\n",
       "\n",
       "    .dataframe thead th {\n",
       "        text-align: right;\n",
       "    }\n",
       "</style>\n",
       "<table border=\"1\" class=\"dataframe\">\n",
       "  <thead>\n",
       "    <tr style=\"text-align: right;\">\n",
       "      <th></th>\n",
       "      <th>0</th>\n",
       "      <th>1</th>\n",
       "      <th>2</th>\n",
       "      <th>3</th>\n",
       "      <th>4</th>\n",
       "      <th>5</th>\n",
       "      <th>6</th>\n",
       "    </tr>\n",
       "  </thead>\n",
       "  <tbody>\n",
       "    <tr>\n",
       "      <th>0</th>\n",
       "      <td>2016</td>\n",
       "      <td>3</td>\n",
       "      <td>3</td>\n",
       "      <td>8</td>\n",
       "      <td>62.9</td>\n",
       "      <td>1.0</td>\n",
       "      <td>0</td>\n",
       "    </tr>\n",
       "    <tr>\n",
       "      <th>1</th>\n",
       "      <td>2016</td>\n",
       "      <td>3</td>\n",
       "      <td>3</td>\n",
       "      <td>9</td>\n",
       "      <td>62.9</td>\n",
       "      <td>1.0</td>\n",
       "      <td>0</td>\n",
       "    </tr>\n",
       "    <tr>\n",
       "      <th>2</th>\n",
       "      <td>2016</td>\n",
       "      <td>3</td>\n",
       "      <td>3</td>\n",
       "      <td>10</td>\n",
       "      <td>55.5</td>\n",
       "      <td>1.0</td>\n",
       "      <td>0</td>\n",
       "    </tr>\n",
       "    <tr>\n",
       "      <th>3</th>\n",
       "      <td>2016</td>\n",
       "      <td>3</td>\n",
       "      <td>3</td>\n",
       "      <td>11</td>\n",
       "      <td>55.5</td>\n",
       "      <td>1.0</td>\n",
       "      <td>0</td>\n",
       "    </tr>\n",
       "    <tr>\n",
       "      <th>4</th>\n",
       "      <td>2016</td>\n",
       "      <td>3</td>\n",
       "      <td>3</td>\n",
       "      <td>12</td>\n",
       "      <td>47.9</td>\n",
       "      <td>1.0</td>\n",
       "      <td>0</td>\n",
       "    </tr>\n",
       "  </tbody>\n",
       "</table>\n",
       "</div>"
      ],
      "text/plain": [
       "      0  1  2   3     4    5  6\n",
       "0  2016  3  3   8  62.9  1.0  0\n",
       "1  2016  3  3   9  62.9  1.0  0\n",
       "2  2016  3  3  10  55.5  1.0  0\n",
       "3  2016  3  3  11  55.5  1.0  0\n",
       "4  2016  3  3  12  47.9  1.0  0"
      ]
     },
     "execution_count": 295,
     "metadata": {},
     "output_type": "execute_result"
    }
   ],
   "source": [
    "pm25.head()"
   ]
  },
  {
   "cell_type": "code",
   "execution_count": 296,
   "metadata": {},
   "outputs": [],
   "source": [
    "#assemble datetime column \n",
    "pm25['Time'] = pd.to_datetime({'year': pm25[0], 'month': pm25[1], 'day':pm25[2],'hour': pm25[3]})"
   ]
  },
  {
   "cell_type": "code",
   "execution_count": 297,
   "metadata": {
    "scrolled": true
   },
   "outputs": [
    {
     "data": {
      "text/html": [
       "<div>\n",
       "<style scoped>\n",
       "    .dataframe tbody tr th:only-of-type {\n",
       "        vertical-align: middle;\n",
       "    }\n",
       "\n",
       "    .dataframe tbody tr th {\n",
       "        vertical-align: top;\n",
       "    }\n",
       "\n",
       "    .dataframe thead th {\n",
       "        text-align: right;\n",
       "    }\n",
       "</style>\n",
       "<table border=\"1\" class=\"dataframe\">\n",
       "  <thead>\n",
       "    <tr style=\"text-align: right;\">\n",
       "      <th></th>\n",
       "      <th>0</th>\n",
       "      <th>1</th>\n",
       "      <th>2</th>\n",
       "      <th>3</th>\n",
       "      <th>4</th>\n",
       "      <th>5</th>\n",
       "      <th>6</th>\n",
       "      <th>Time</th>\n",
       "    </tr>\n",
       "  </thead>\n",
       "  <tbody>\n",
       "    <tr>\n",
       "      <th>0</th>\n",
       "      <td>2016</td>\n",
       "      <td>3</td>\n",
       "      <td>3</td>\n",
       "      <td>8</td>\n",
       "      <td>62.9</td>\n",
       "      <td>1.0</td>\n",
       "      <td>0</td>\n",
       "      <td>2016-03-03 08:00:00</td>\n",
       "    </tr>\n",
       "    <tr>\n",
       "      <th>1</th>\n",
       "      <td>2016</td>\n",
       "      <td>3</td>\n",
       "      <td>3</td>\n",
       "      <td>9</td>\n",
       "      <td>62.9</td>\n",
       "      <td>1.0</td>\n",
       "      <td>0</td>\n",
       "      <td>2016-03-03 09:00:00</td>\n",
       "    </tr>\n",
       "    <tr>\n",
       "      <th>2</th>\n",
       "      <td>2016</td>\n",
       "      <td>3</td>\n",
       "      <td>3</td>\n",
       "      <td>10</td>\n",
       "      <td>55.5</td>\n",
       "      <td>1.0</td>\n",
       "      <td>0</td>\n",
       "      <td>2016-03-03 10:00:00</td>\n",
       "    </tr>\n",
       "    <tr>\n",
       "      <th>3</th>\n",
       "      <td>2016</td>\n",
       "      <td>3</td>\n",
       "      <td>3</td>\n",
       "      <td>11</td>\n",
       "      <td>55.5</td>\n",
       "      <td>1.0</td>\n",
       "      <td>0</td>\n",
       "      <td>2016-03-03 11:00:00</td>\n",
       "    </tr>\n",
       "    <tr>\n",
       "      <th>4</th>\n",
       "      <td>2016</td>\n",
       "      <td>3</td>\n",
       "      <td>3</td>\n",
       "      <td>12</td>\n",
       "      <td>47.9</td>\n",
       "      <td>1.0</td>\n",
       "      <td>0</td>\n",
       "      <td>2016-03-03 12:00:00</td>\n",
       "    </tr>\n",
       "  </tbody>\n",
       "</table>\n",
       "</div>"
      ],
      "text/plain": [
       "      0  1  2   3     4    5  6                Time\n",
       "0  2016  3  3   8  62.9  1.0  0 2016-03-03 08:00:00\n",
       "1  2016  3  3   9  62.9  1.0  0 2016-03-03 09:00:00\n",
       "2  2016  3  3  10  55.5  1.0  0 2016-03-03 10:00:00\n",
       "3  2016  3  3  11  55.5  1.0  0 2016-03-03 11:00:00\n",
       "4  2016  3  3  12  47.9  1.0  0 2016-03-03 12:00:00"
      ]
     },
     "execution_count": 297,
     "metadata": {},
     "output_type": "execute_result"
    }
   ],
   "source": [
    "pm25.head()"
   ]
  },
  {
   "cell_type": "code",
   "execution_count": 298,
   "metadata": {},
   "outputs": [
    {
     "name": "stdout",
     "output_type": "stream",
     "text": [
      "<class 'pandas.core.frame.DataFrame'>\n",
      "RangeIndex: 23667 entries, 0 to 23666\n",
      "Data columns (total 8 columns):\n",
      "0       23667 non-null int64\n",
      "1       23667 non-null int64\n",
      "2       23667 non-null int64\n",
      "3       23667 non-null int64\n",
      "4       23667 non-null float64\n",
      "5       23667 non-null float64\n",
      "6       23667 non-null int64\n",
      "Time    23667 non-null datetime64[ns]\n",
      "dtypes: datetime64[ns](1), float64(2), int64(5)\n",
      "memory usage: 1.4 MB\n"
     ]
    }
   ],
   "source": [
    "pm25.info()"
   ]
  },
  {
   "cell_type": "code",
   "execution_count": 299,
   "metadata": {},
   "outputs": [],
   "source": [
    "#convert time zone\n",
    "pm25['Time'] = pm25['Time'].dt.tz_localize('UTC').dt.tz_convert('Asia/Bangkok')\n",
    "pm25['Time'] = pm25['Time'].dt.tz_localize(None)"
   ]
  },
  {
   "cell_type": "code",
   "execution_count": 300,
   "metadata": {},
   "outputs": [
    {
     "data": {
      "text/html": [
       "<div>\n",
       "<style scoped>\n",
       "    .dataframe tbody tr th:only-of-type {\n",
       "        vertical-align: middle;\n",
       "    }\n",
       "\n",
       "    .dataframe tbody tr th {\n",
       "        vertical-align: top;\n",
       "    }\n",
       "\n",
       "    .dataframe thead th {\n",
       "        text-align: right;\n",
       "    }\n",
       "</style>\n",
       "<table border=\"1\" class=\"dataframe\">\n",
       "  <thead>\n",
       "    <tr style=\"text-align: right;\">\n",
       "      <th></th>\n",
       "      <th>0</th>\n",
       "      <th>1</th>\n",
       "      <th>2</th>\n",
       "      <th>3</th>\n",
       "      <th>4</th>\n",
       "      <th>5</th>\n",
       "      <th>6</th>\n",
       "      <th>Time</th>\n",
       "    </tr>\n",
       "  </thead>\n",
       "  <tbody>\n",
       "    <tr>\n",
       "      <th>0</th>\n",
       "      <td>2016</td>\n",
       "      <td>3</td>\n",
       "      <td>3</td>\n",
       "      <td>8</td>\n",
       "      <td>62.9</td>\n",
       "      <td>1.0</td>\n",
       "      <td>0</td>\n",
       "      <td>2016-03-03 15:00:00</td>\n",
       "    </tr>\n",
       "    <tr>\n",
       "      <th>1</th>\n",
       "      <td>2016</td>\n",
       "      <td>3</td>\n",
       "      <td>3</td>\n",
       "      <td>9</td>\n",
       "      <td>62.9</td>\n",
       "      <td>1.0</td>\n",
       "      <td>0</td>\n",
       "      <td>2016-03-03 16:00:00</td>\n",
       "    </tr>\n",
       "    <tr>\n",
       "      <th>2</th>\n",
       "      <td>2016</td>\n",
       "      <td>3</td>\n",
       "      <td>3</td>\n",
       "      <td>10</td>\n",
       "      <td>55.5</td>\n",
       "      <td>1.0</td>\n",
       "      <td>0</td>\n",
       "      <td>2016-03-03 17:00:00</td>\n",
       "    </tr>\n",
       "    <tr>\n",
       "      <th>3</th>\n",
       "      <td>2016</td>\n",
       "      <td>3</td>\n",
       "      <td>3</td>\n",
       "      <td>11</td>\n",
       "      <td>55.5</td>\n",
       "      <td>1.0</td>\n",
       "      <td>0</td>\n",
       "      <td>2016-03-03 18:00:00</td>\n",
       "    </tr>\n",
       "    <tr>\n",
       "      <th>4</th>\n",
       "      <td>2016</td>\n",
       "      <td>3</td>\n",
       "      <td>3</td>\n",
       "      <td>12</td>\n",
       "      <td>47.9</td>\n",
       "      <td>1.0</td>\n",
       "      <td>0</td>\n",
       "      <td>2016-03-03 19:00:00</td>\n",
       "    </tr>\n",
       "  </tbody>\n",
       "</table>\n",
       "</div>"
      ],
      "text/plain": [
       "      0  1  2   3     4    5  6                Time\n",
       "0  2016  3  3   8  62.9  1.0  0 2016-03-03 15:00:00\n",
       "1  2016  3  3   9  62.9  1.0  0 2016-03-03 16:00:00\n",
       "2  2016  3  3  10  55.5  1.0  0 2016-03-03 17:00:00\n",
       "3  2016  3  3  11  55.5  1.0  0 2016-03-03 18:00:00\n",
       "4  2016  3  3  12  47.9  1.0  0 2016-03-03 19:00:00"
      ]
     },
     "execution_count": 300,
     "metadata": {},
     "output_type": "execute_result"
    }
   ],
   "source": [
    "pm25.head()"
   ]
  },
  {
   "cell_type": "code",
   "execution_count": 301,
   "metadata": {},
   "outputs": [],
   "source": [
    "pm25=pm25.drop([0,1,2,3,5,6],axis=1)"
   ]
  },
  {
   "cell_type": "code",
   "execution_count": 302,
   "metadata": {},
   "outputs": [],
   "source": [
    "pm25.columns = ['PM2.5', 'Time']\n",
    "pm25[['Time','PM2.5']].to_csv('data/bkk_pm25.csv',index=False)"
   ]
  },
  {
   "cell_type": "markdown",
   "metadata": {},
   "source": [
    "## Exploratory Data Analaysis"
   ]
  },
  {
   "cell_type": "markdown",
   "metadata": {},
   "source": [
    "In this section, I use exploratory data analysis and feature engineering to answer the following questions:\n",
    "\n",
    "* Is the problem getting worse?\n",
    "* Which months have the highest level of PM2.5 in Bangkok? \n",
    "* What time has the highest pollution?\n",
    "* Is the pollution lower during the holiday?"
   ]
  },
  {
   "cell_type": "code",
   "execution_count": 529,
   "metadata": {},
   "outputs": [
    {
     "data": {
      "text/html": [
       "<div>\n",
       "<style scoped>\n",
       "    .dataframe tbody tr th:only-of-type {\n",
       "        vertical-align: middle;\n",
       "    }\n",
       "\n",
       "    .dataframe tbody tr th {\n",
       "        vertical-align: top;\n",
       "    }\n",
       "\n",
       "    .dataframe thead th {\n",
       "        text-align: right;\n",
       "    }\n",
       "</style>\n",
       "<table border=\"1\" class=\"dataframe\">\n",
       "  <thead>\n",
       "    <tr style=\"text-align: right;\">\n",
       "      <th></th>\n",
       "      <th>Time</th>\n",
       "      <th>PM2.5</th>\n",
       "    </tr>\n",
       "  </thead>\n",
       "  <tbody>\n",
       "    <tr>\n",
       "      <th>0</th>\n",
       "      <td>2016-03-03 15:00:00</td>\n",
       "      <td>62.9</td>\n",
       "    </tr>\n",
       "    <tr>\n",
       "      <th>1</th>\n",
       "      <td>2016-03-03 16:00:00</td>\n",
       "      <td>62.9</td>\n",
       "    </tr>\n",
       "    <tr>\n",
       "      <th>2</th>\n",
       "      <td>2016-03-03 17:00:00</td>\n",
       "      <td>55.5</td>\n",
       "    </tr>\n",
       "    <tr>\n",
       "      <th>3</th>\n",
       "      <td>2016-03-03 18:00:00</td>\n",
       "      <td>55.5</td>\n",
       "    </tr>\n",
       "    <tr>\n",
       "      <th>4</th>\n",
       "      <td>2016-03-03 19:00:00</td>\n",
       "      <td>47.9</td>\n",
       "    </tr>\n",
       "  </tbody>\n",
       "</table>\n",
       "</div>"
      ],
      "text/plain": [
       "                  Time  PM2.5\n",
       "0  2016-03-03 15:00:00   62.9\n",
       "1  2016-03-03 16:00:00   62.9\n",
       "2  2016-03-03 17:00:00   55.5\n",
       "3  2016-03-03 18:00:00   55.5\n",
       "4  2016-03-03 19:00:00   47.9"
      ]
     },
     "execution_count": 529,
     "metadata": {},
     "output_type": "execute_result"
    }
   ],
   "source": [
    "pm25 = pd.read_csv('data/bkk_pm25.csv')\n",
    "pm25.head()"
   ]
  },
  {
   "cell_type": "code",
   "execution_count": 530,
   "metadata": {},
   "outputs": [
    {
     "name": "stdout",
     "output_type": "stream",
     "text": [
      "<class 'pandas.core.frame.DataFrame'>\n",
      "RangeIndex: 23667 entries, 0 to 23666\n",
      "Data columns (total 2 columns):\n",
      "Time     23667 non-null datetime64[ns]\n",
      "PM2.5    23667 non-null float64\n",
      "dtypes: datetime64[ns](1), float64(1)\n",
      "memory usage: 369.9 KB\n"
     ]
    }
   ],
   "source": [
    "pm25['Time'] = pd.to_datetime(pm25['Time'])\n",
    "pm25.info()"
   ]
  },
  {
   "cell_type": "code",
   "execution_count": 531,
   "metadata": {},
   "outputs": [],
   "source": [
    "pm25['PM2.5avg'] = pm25['PM2.5'].rolling(24).mean()\n",
    "pm25 = pm25.dropna()"
   ]
  },
  {
   "cell_type": "code",
   "execution_count": 535,
   "metadata": {},
   "outputs": [
    {
     "data": {
      "text/html": [
       "<div>\n",
       "<style scoped>\n",
       "    .dataframe tbody tr th:only-of-type {\n",
       "        vertical-align: middle;\n",
       "    }\n",
       "\n",
       "    .dataframe tbody tr th {\n",
       "        vertical-align: top;\n",
       "    }\n",
       "\n",
       "    .dataframe thead th {\n",
       "        text-align: right;\n",
       "    }\n",
       "</style>\n",
       "<table border=\"1\" class=\"dataframe\">\n",
       "  <thead>\n",
       "    <tr style=\"text-align: right;\">\n",
       "      <th></th>\n",
       "      <th>Time</th>\n",
       "      <th>PM2.5</th>\n",
       "      <th>PM2.5avg</th>\n",
       "    </tr>\n",
       "  </thead>\n",
       "  <tbody>\n",
       "    <tr>\n",
       "      <th>23</th>\n",
       "      <td>2016-03-04 15:00:00</td>\n",
       "      <td>34.2</td>\n",
       "      <td>43.520833</td>\n",
       "    </tr>\n",
       "    <tr>\n",
       "      <th>24</th>\n",
       "      <td>2016-03-04 16:00:00</td>\n",
       "      <td>35.0</td>\n",
       "      <td>42.358333</td>\n",
       "    </tr>\n",
       "    <tr>\n",
       "      <th>25</th>\n",
       "      <td>2016-03-04 17:00:00</td>\n",
       "      <td>30.0</td>\n",
       "      <td>40.987500</td>\n",
       "    </tr>\n",
       "    <tr>\n",
       "      <th>26</th>\n",
       "      <td>2016-03-04 18:00:00</td>\n",
       "      <td>25.6</td>\n",
       "      <td>39.741667</td>\n",
       "    </tr>\n",
       "    <tr>\n",
       "      <th>27</th>\n",
       "      <td>2016-03-04 19:00:00</td>\n",
       "      <td>32.1</td>\n",
       "      <td>38.766667</td>\n",
       "    </tr>\n",
       "  </tbody>\n",
       "</table>\n",
       "</div>"
      ],
      "text/plain": [
       "                  Time  PM2.5   PM2.5avg\n",
       "23 2016-03-04 15:00:00   34.2  43.520833\n",
       "24 2016-03-04 16:00:00   35.0  42.358333\n",
       "25 2016-03-04 17:00:00   30.0  40.987500\n",
       "26 2016-03-04 18:00:00   25.6  39.741667\n",
       "27 2016-03-04 19:00:00   32.1  38.766667"
      ]
     },
     "execution_count": 535,
     "metadata": {},
     "output_type": "execute_result"
    }
   ],
   "source": [
    "pm25.head()"
   ]
  },
  {
   "cell_type": "code",
   "execution_count": 533,
   "metadata": {},
   "outputs": [],
   "source": [
    "import matplotlib.dates as mdates\n",
    "import matplotlib as mpl"
   ]
  },
  {
   "cell_type": "code",
   "execution_count": 540,
   "metadata": {},
   "outputs": [
    {
     "data": {
      "image/png": "[encoded data removed]",
      "text/plain": [
       "<Figure size 648x432 with 2 Axes>"
      ]
     },
     "metadata": {
      "needs_background": "light"
     },
     "output_type": "display_data"
    }
   ],
   "source": [
    "fig = plt.figure(figsize=(9, 6))\n",
    "ax1 = fig.add_subplot(211)\n",
    "ax1.plot_date(pm25['Time'], pm25['PM2.5avg'], c='skyblue', marker='.')\n",
    "ax1.plot_date(pm25[pm25['PM2.5avg'] >= 35]['Time'],\n",
    "              pm25[pm25['PM2.5avg'] >= 35]['PM2.5avg'], c='orange', marker='.')\n",
    "ax1.plot_date(pm25[pm25['PM2.5avg'] >= 55.4]['Time'],\n",
    "              pm25[pm25['PM2.5avg'] >= 55.4]['PM2.5avg'], c='red', marker='.')\n",
    "plt.title(\"PM 2.5 level in Bangkok (ug/m3)\")\n",
    "plt.legend(['normal', 'unhealthy for \\nsensitive group', 'unhealthy'], loc='upper right')\n",
    "ax1.xaxis.set_major_formatter(mdates.DateFormatter(\"%b\\n%Y\"))\n",
    "plt.xlim(pm25['Time'].min(), pm25['Time'].max())\n",
    "# ax1.set_xticklabels([])\n",
    "# ax1.xaxis.set_visible(False)\n",
    "\n",
    "ax2 = fig.add_subplot(212)\n",
    "trend.plot('date', ['aqi_trend', 'pm25_trend'], kind='line',\n",
    "           label=['AQI search', 'PM2.5 search'], ax=ax2)\n",
    "plt.title('Google Search Frequency in Thailand')\n",
    "plt.xlim(pm25['Time'].min(), pm25['Time'].max())\n",
    "#ax2.xaxis.set_major_formatter(mdates.DateFormatter(\"%b\\n%Y\"))\n",
    "plt.tight_layout()"
   ]
  },
  {
   "cell_type": "code",
   "execution_count": 541,
   "metadata": {},
   "outputs": [],
   "source": [
    "pm25 = pm25.set_index('Time')"
   ]
  },
  {
   "cell_type": "code",
   "execution_count": 561,
   "metadata": {},
   "outputs": [
    {
     "name": "stdout",
     "output_type": "stream",
     "text": [
      "<class 'pandas.core.frame.DataFrame'>\n",
      "DatetimeIndex: 23644 entries, 2016-03-04 15:00:00 to 2019-02-14 03:00:00\n",
      "Data columns (total 6 columns):\n",
      "PM2.5         23644 non-null float64\n",
      "PM2.5avg      23644 non-null float64\n",
      "Year          23644 non-null int64\n",
      "Month         23644 non-null object\n",
      "DayofMonth    23644 non-null int64\n",
      "DayofWeek     23644 non-null object\n",
      "dtypes: float64(2), int64(2), object(2)\n",
      "memory usage: 1.9+ MB\n"
     ]
    },
    {
     "data": {
      "text/plain": [
       "(                     PM2.5   PM2.5avg  Year  Month  DayofMonth DayofWeek\n",
       " Time                                                                    \n",
       " 2016-03-04 15:00:00   34.2  43.520833  2016  March           4    Friday\n",
       " 2016-03-04 16:00:00   35.0  42.358333  2016  March           4    Friday\n",
       " 2016-03-04 17:00:00   30.0  40.987500  2016  March           4    Friday\n",
       " 2016-03-04 18:00:00   25.6  39.741667  2016  March           4    Friday\n",
       " 2016-03-04 19:00:00   32.1  38.766667  2016  March           4    Friday,\n",
       " None)"
      ]
     },
     "execution_count": 561,
     "metadata": {},
     "output_type": "execute_result"
    }
   ],
   "source": [
    "# featuare engineering \n",
    "pm25['Year'] = pm25.index.year\n",
    "pm25['Month'] = pm25.index.strftime('%B')\n",
    "pm25['DayofMonth'] = pm25.index.day\n",
    "pm25['DayofWeek'] = pm25.index.strftime('%A')\n",
    "pm25.head(), pm25.info()"
   ]
  },
  {
   "cell_type": "markdown",
   "metadata": {},
   "source": [
    "The air pollution seem to be seasonal, with surge around winter seasion (Dec - Jan). In fact, the winter pollution exists since 2017, but public awareness has just increased recently.\n",
    "\n",
    "Is the problem getting worse every year?"
   ]
  },
  {
   "cell_type": "code",
   "execution_count": 555,
   "metadata": {},
   "outputs": [
    {
     "data": {
      "text/plain": [
       "Year\n",
       "2016    24.376378\n",
       "2017    25.117491\n",
       "2018    25.037562\n",
       "2019    43.118296\n",
       "Name: PM2.5avg, dtype: float64"
      ]
     },
     "execution_count": 555,
     "metadata": {},
     "output_type": "execute_result"
    }
   ],
   "source": [
    "# find yearly PM2.5 average\n",
    "pm25.groupby('Year').mean()['PM2.5avg']"
   ]
  },
  {
   "cell_type": "code",
   "execution_count": 560,
   "metadata": {},
   "outputs": [
    {
     "data": {
      "text/html": [
       "<div>\n",
       "<style scoped>\n",
       "    .dataframe tbody tr th:only-of-type {\n",
       "        vertical-align: middle;\n",
       "    }\n",
       "\n",
       "    .dataframe tbody tr th {\n",
       "        vertical-align: top;\n",
       "    }\n",
       "\n",
       "    .dataframe thead th {\n",
       "        text-align: right;\n",
       "    }\n",
       "</style>\n",
       "<table border=\"1\" class=\"dataframe\">\n",
       "  <thead>\n",
       "    <tr style=\"text-align: right;\">\n",
       "      <th></th>\n",
       "      <th>PM2.5</th>\n",
       "      <th>PM2.5avg</th>\n",
       "      <th>DayofMonth</th>\n",
       "    </tr>\n",
       "    <tr>\n",
       "      <th>Year</th>\n",
       "      <th></th>\n",
       "      <th></th>\n",
       "      <th></th>\n",
       "    </tr>\n",
       "  </thead>\n",
       "  <tbody>\n",
       "    <tr>\n",
       "      <th>2016.0</th>\n",
       "      <td>57</td>\n",
       "      <td>57</td>\n",
       "      <td>57</td>\n",
       "    </tr>\n",
       "    <tr>\n",
       "      <th>2017.0</th>\n",
       "      <td>79</td>\n",
       "      <td>79</td>\n",
       "      <td>79</td>\n",
       "    </tr>\n",
       "    <tr>\n",
       "      <th>2018.0</th>\n",
       "      <td>88</td>\n",
       "      <td>88</td>\n",
       "      <td>88</td>\n",
       "    </tr>\n",
       "    <tr>\n",
       "      <th>2019.0</th>\n",
       "      <td>27</td>\n",
       "      <td>27</td>\n",
       "      <td>27</td>\n",
       "    </tr>\n",
       "  </tbody>\n",
       "</table>\n",
       "</div>"
      ],
      "text/plain": [
       "        PM2.5  PM2.5avg  DayofMonth\n",
       "Year                               \n",
       "2016.0     57        57          57\n",
       "2017.0     79        79          79\n",
       "2018.0     88        88          88\n",
       "2019.0     27        27          27"
      ]
     },
     "execution_count": 560,
     "metadata": {},
     "output_type": "execute_result"
    }
   ],
   "source": [
    "# number of day per year with particle lever higher than limit\n",
    "pm25[pm25['PM2.5avg'] > 35].resample('d').mean().groupby('Year').count()"
   ]
  },
  {
   "cell_type": "markdown",
   "metadata": {},
   "source": [
    "The average for 2019 is high because we only have the winter data, which has high pollution. This set of data does not have data in Jan-Feb of 2016. This explains why the count is lower. \n",
    "\n",
    "Overall, look like the problem is not getting worse after all. To confirm this, let's look at the rate of change, which is another way to see trend for time series data. "
   ]
  },
  {
   "cell_type": "code",
   "execution_count": 527,
   "metadata": {
    "scrolled": true
   },
   "outputs": [
    {
     "data": {
      "text/plain": [
       "[<matplotlib.lines.Line2D at 0x20fcbe114e0>]"
      ]
     },
     "execution_count": 527,
     "metadata": {},
     "output_type": "execute_result"
    },
    {
     "data": {
      "image/png": "[encoded data removed]",
      "text/plain": [
       "<Figure size 432x288 with 1 Axes>"
      ]
     },
     "metadata": {
      "needs_background": "light"
     },
     "output_type": "display_data"
    }
   ],
   "source": [
    "plt.plot(pm25['PM2.5avg'].diff().rolling(24*30*12).mean())"
   ]
  },
  {
   "cell_type": "markdown",
   "metadata": {},
   "source": [
    "The rate of change is around zero except at the very end. This confirm that the problem is about the same every year. \n",
    "\n",
    "Bangkok is a tourist city, which month should you avoid going to Bangkok. If you are Bangkokians what is the best time to go for a jog? Is the air pollution better during the holiday when everyone is away?"
   ]
  },
  {
   "cell_type": "code",
   "execution_count": 568,
   "metadata": {},
   "outputs": [
    {
     "name": "stdout",
     "output_type": "stream",
     "text": [
      "<class 'pandas.core.frame.DataFrame'>\n",
      "DatetimeIndex: 23644 entries, 2016-03-04 15:00:00 to 2019-02-14 03:00:00\n",
      "Data columns (total 6 columns):\n",
      "PM2.5         23644 non-null float64\n",
      "PM2.5avg      23644 non-null float64\n",
      "Year          23644 non-null int64\n",
      "Month         23644 non-null object\n",
      "DayofMonth    23644 non-null int64\n",
      "DayofWeek     23644 non-null object\n",
      "dtypes: float64(2), int64(2), object(2)\n",
      "memory usage: 1.9+ MB\n"
     ]
    }
   ],
   "source": [
    "pm25.info()"
   ]
  },
  {
   "cell_type": "code",
   "execution_count": 572,
   "metadata": {
    "scrolled": true
   },
   "outputs": [],
   "source": [
    "date_month_map = pd.crosstab(pm25['Month'], pm25['DayofMonth'], pm25['PM2.5avg'], aggfunc=np.mean)\n",
    "month_name=pd.date_range('2014-01','2014-12', freq='MS').strftime(\"%B\").tolist()\n",
    "date_month_map = date_month_map.reindex(month_name)"
   ]
  },
  {
   "cell_type": "code",
   "execution_count": 573,
   "metadata": {},
   "outputs": [
    {
     "data": {
      "text/html": [
       "<div>\n",
       "<style scoped>\n",
       "    .dataframe tbody tr th:only-of-type {\n",
       "        vertical-align: middle;\n",
       "    }\n",
       "\n",
       "    .dataframe tbody tr th {\n",
       "        vertical-align: top;\n",
       "    }\n",
       "\n",
       "    .dataframe thead th {\n",
       "        text-align: right;\n",
       "    }\n",
       "</style>\n",
       "<table border=\"1\" class=\"dataframe\">\n",
       "  <thead>\n",
       "    <tr style=\"text-align: right;\">\n",
       "      <th>DayofMonth</th>\n",
       "      <th>1</th>\n",
       "      <th>2</th>\n",
       "      <th>3</th>\n",
       "      <th>4</th>\n",
       "      <th>5</th>\n",
       "      <th>6</th>\n",
       "      <th>7</th>\n",
       "      <th>8</th>\n",
       "      <th>9</th>\n",
       "      <th>10</th>\n",
       "      <th>...</th>\n",
       "      <th>22</th>\n",
       "      <th>23</th>\n",
       "      <th>24</th>\n",
       "      <th>25</th>\n",
       "      <th>26</th>\n",
       "      <th>27</th>\n",
       "      <th>28</th>\n",
       "      <th>29</th>\n",
       "      <th>30</th>\n",
       "      <th>31</th>\n",
       "    </tr>\n",
       "    <tr>\n",
       "      <th>Month</th>\n",
       "      <th></th>\n",
       "      <th></th>\n",
       "      <th></th>\n",
       "      <th></th>\n",
       "      <th></th>\n",
       "      <th></th>\n",
       "      <th></th>\n",
       "      <th></th>\n",
       "      <th></th>\n",
       "      <th></th>\n",
       "      <th></th>\n",
       "      <th></th>\n",
       "      <th></th>\n",
       "      <th></th>\n",
       "      <th></th>\n",
       "      <th></th>\n",
       "      <th></th>\n",
       "      <th></th>\n",
       "      <th></th>\n",
       "      <th></th>\n",
       "      <th></th>\n",
       "    </tr>\n",
       "  </thead>\n",
       "  <tbody>\n",
       "    <tr>\n",
       "      <th>January</th>\n",
       "      <td>24.791667</td>\n",
       "      <td>23.341204</td>\n",
       "      <td>24.659954</td>\n",
       "      <td>28.017312</td>\n",
       "      <td>31.562269</td>\n",
       "      <td>38.960662</td>\n",
       "      <td>39.846009</td>\n",
       "      <td>33.909149</td>\n",
       "      <td>20.361775</td>\n",
       "      <td>25.523785</td>\n",
       "      <td>...</td>\n",
       "      <td>51.797917</td>\n",
       "      <td>42.682474</td>\n",
       "      <td>42.005340</td>\n",
       "      <td>43.346429</td>\n",
       "      <td>41.670486</td>\n",
       "      <td>33.694263</td>\n",
       "      <td>29.938225</td>\n",
       "      <td>30.535026</td>\n",
       "      <td>32.370052</td>\n",
       "      <td>33.980440</td>\n",
       "    </tr>\n",
       "    <tr>\n",
       "      <th>February</th>\n",
       "      <td>32.041667</td>\n",
       "      <td>40.262500</td>\n",
       "      <td>41.744184</td>\n",
       "      <td>38.406649</td>\n",
       "      <td>47.535638</td>\n",
       "      <td>48.282986</td>\n",
       "      <td>52.512784</td>\n",
       "      <td>55.965891</td>\n",
       "      <td>47.166793</td>\n",
       "      <td>41.762153</td>\n",
       "      <td>...</td>\n",
       "      <td>27.366033</td>\n",
       "      <td>22.841580</td>\n",
       "      <td>21.730469</td>\n",
       "      <td>26.169792</td>\n",
       "      <td>26.369048</td>\n",
       "      <td>27.253457</td>\n",
       "      <td>38.769022</td>\n",
       "      <td>NaN</td>\n",
       "      <td>NaN</td>\n",
       "      <td>NaN</td>\n",
       "    </tr>\n",
       "    <tr>\n",
       "      <th>March</th>\n",
       "      <td>40.948090</td>\n",
       "      <td>39.750521</td>\n",
       "      <td>43.545380</td>\n",
       "      <td>39.714750</td>\n",
       "      <td>34.859155</td>\n",
       "      <td>31.882262</td>\n",
       "      <td>32.204405</td>\n",
       "      <td>31.371009</td>\n",
       "      <td>28.304636</td>\n",
       "      <td>28.355026</td>\n",
       "      <td>...</td>\n",
       "      <td>32.704687</td>\n",
       "      <td>39.426852</td>\n",
       "      <td>42.799363</td>\n",
       "      <td>41.591432</td>\n",
       "      <td>32.851643</td>\n",
       "      <td>30.887563</td>\n",
       "      <td>38.104225</td>\n",
       "      <td>41.233920</td>\n",
       "      <td>36.388484</td>\n",
       "      <td>30.750121</td>\n",
       "    </tr>\n",
       "    <tr>\n",
       "      <th>April</th>\n",
       "      <td>28.121701</td>\n",
       "      <td>28.305242</td>\n",
       "      <td>29.971412</td>\n",
       "      <td>33.260563</td>\n",
       "      <td>30.385764</td>\n",
       "      <td>33.950579</td>\n",
       "      <td>32.791212</td>\n",
       "      <td>26.009115</td>\n",
       "      <td>29.545833</td>\n",
       "      <td>37.735243</td>\n",
       "      <td>...</td>\n",
       "      <td>27.453345</td>\n",
       "      <td>30.381503</td>\n",
       "      <td>32.842525</td>\n",
       "      <td>29.045958</td>\n",
       "      <td>26.545070</td>\n",
       "      <td>26.373846</td>\n",
       "      <td>26.100998</td>\n",
       "      <td>24.280035</td>\n",
       "      <td>26.540278</td>\n",
       "      <td>NaN</td>\n",
       "    </tr>\n",
       "    <tr>\n",
       "      <th>May</th>\n",
       "      <td>18.564331</td>\n",
       "      <td>13.246190</td>\n",
       "      <td>15.884742</td>\n",
       "      <td>17.569324</td>\n",
       "      <td>16.209028</td>\n",
       "      <td>17.925231</td>\n",
       "      <td>16.574306</td>\n",
       "      <td>15.590893</td>\n",
       "      <td>17.332523</td>\n",
       "      <td>15.193192</td>\n",
       "      <td>...</td>\n",
       "      <td>16.973900</td>\n",
       "      <td>19.681884</td>\n",
       "      <td>19.562621</td>\n",
       "      <td>14.608160</td>\n",
       "      <td>15.044155</td>\n",
       "      <td>16.216795</td>\n",
       "      <td>20.512619</td>\n",
       "      <td>17.403588</td>\n",
       "      <td>17.073553</td>\n",
       "      <td>18.459144</td>\n",
       "    </tr>\n",
       "    <tr>\n",
       "      <th>June</th>\n",
       "      <td>19.518349</td>\n",
       "      <td>17.635857</td>\n",
       "      <td>15.698333</td>\n",
       "      <td>12.158951</td>\n",
       "      <td>13.273472</td>\n",
       "      <td>13.461553</td>\n",
       "      <td>14.286845</td>\n",
       "      <td>14.475000</td>\n",
       "      <td>12.877574</td>\n",
       "      <td>15.132721</td>\n",
       "      <td>...</td>\n",
       "      <td>17.570129</td>\n",
       "      <td>18.222976</td>\n",
       "      <td>15.489345</td>\n",
       "      <td>12.783392</td>\n",
       "      <td>13.502836</td>\n",
       "      <td>14.920481</td>\n",
       "      <td>15.427523</td>\n",
       "      <td>15.932943</td>\n",
       "      <td>18.424933</td>\n",
       "      <td>NaN</td>\n",
       "    </tr>\n",
       "    <tr>\n",
       "      <th>July</th>\n",
       "      <td>17.026119</td>\n",
       "      <td>14.554977</td>\n",
       "      <td>15.759096</td>\n",
       "      <td>17.488512</td>\n",
       "      <td>18.633782</td>\n",
       "      <td>16.289352</td>\n",
       "      <td>15.111111</td>\n",
       "      <td>15.261534</td>\n",
       "      <td>15.619776</td>\n",
       "      <td>16.879042</td>\n",
       "      <td>...</td>\n",
       "      <td>14.868015</td>\n",
       "      <td>13.662265</td>\n",
       "      <td>16.730760</td>\n",
       "      <td>17.921159</td>\n",
       "      <td>16.340856</td>\n",
       "      <td>15.890317</td>\n",
       "      <td>15.028631</td>\n",
       "      <td>16.059954</td>\n",
       "      <td>17.223155</td>\n",
       "      <td>19.082465</td>\n",
       "    </tr>\n",
       "    <tr>\n",
       "      <th>August</th>\n",
       "      <td>19.154988</td>\n",
       "      <td>19.198333</td>\n",
       "      <td>18.803580</td>\n",
       "      <td>17.290000</td>\n",
       "      <td>17.423090</td>\n",
       "      <td>16.517361</td>\n",
       "      <td>15.701215</td>\n",
       "      <td>16.616377</td>\n",
       "      <td>16.492766</td>\n",
       "      <td>16.870350</td>\n",
       "      <td>...</td>\n",
       "      <td>17.832755</td>\n",
       "      <td>18.684918</td>\n",
       "      <td>19.572403</td>\n",
       "      <td>16.530298</td>\n",
       "      <td>16.660000</td>\n",
       "      <td>16.345714</td>\n",
       "      <td>14.629812</td>\n",
       "      <td>18.424941</td>\n",
       "      <td>18.879754</td>\n",
       "      <td>14.305282</td>\n",
       "    </tr>\n",
       "    <tr>\n",
       "      <th>September</th>\n",
       "      <td>15.323415</td>\n",
       "      <td>15.502267</td>\n",
       "      <td>13.140741</td>\n",
       "      <td>12.391406</td>\n",
       "      <td>11.868721</td>\n",
       "      <td>12.503925</td>\n",
       "      <td>14.283095</td>\n",
       "      <td>16.957675</td>\n",
       "      <td>20.450758</td>\n",
       "      <td>20.230804</td>\n",
       "      <td>...</td>\n",
       "      <td>21.512031</td>\n",
       "      <td>22.913393</td>\n",
       "      <td>20.289336</td>\n",
       "      <td>16.928212</td>\n",
       "      <td>16.164286</td>\n",
       "      <td>13.251995</td>\n",
       "      <td>13.674413</td>\n",
       "      <td>17.317882</td>\n",
       "      <td>18.985681</td>\n",
       "      <td>NaN</td>\n",
       "    </tr>\n",
       "    <tr>\n",
       "      <th>October</th>\n",
       "      <td>19.186913</td>\n",
       "      <td>19.482619</td>\n",
       "      <td>21.637679</td>\n",
       "      <td>24.375664</td>\n",
       "      <td>20.729973</td>\n",
       "      <td>20.913235</td>\n",
       "      <td>17.816489</td>\n",
       "      <td>20.993528</td>\n",
       "      <td>20.853646</td>\n",
       "      <td>22.751910</td>\n",
       "      <td>...</td>\n",
       "      <td>17.479524</td>\n",
       "      <td>16.839468</td>\n",
       "      <td>20.090119</td>\n",
       "      <td>22.060108</td>\n",
       "      <td>25.134699</td>\n",
       "      <td>22.625336</td>\n",
       "      <td>24.084903</td>\n",
       "      <td>26.042391</td>\n",
       "      <td>26.819850</td>\n",
       "      <td>25.274531</td>\n",
       "    </tr>\n",
       "    <tr>\n",
       "      <th>November</th>\n",
       "      <td>27.953462</td>\n",
       "      <td>31.224679</td>\n",
       "      <td>31.637681</td>\n",
       "      <td>37.483568</td>\n",
       "      <td>37.795544</td>\n",
       "      <td>37.767262</td>\n",
       "      <td>40.160298</td>\n",
       "      <td>28.873591</td>\n",
       "      <td>24.455847</td>\n",
       "      <td>23.412500</td>\n",
       "      <td>...</td>\n",
       "      <td>30.230303</td>\n",
       "      <td>31.226964</td>\n",
       "      <td>21.397564</td>\n",
       "      <td>25.105896</td>\n",
       "      <td>28.008988</td>\n",
       "      <td>23.675059</td>\n",
       "      <td>21.261310</td>\n",
       "      <td>22.938358</td>\n",
       "      <td>28.378638</td>\n",
       "      <td>NaN</td>\n",
       "    </tr>\n",
       "    <tr>\n",
       "      <th>December</th>\n",
       "      <td>31.203095</td>\n",
       "      <td>29.059954</td>\n",
       "      <td>27.323239</td>\n",
       "      <td>29.366377</td>\n",
       "      <td>26.969853</td>\n",
       "      <td>26.576691</td>\n",
       "      <td>32.932928</td>\n",
       "      <td>35.531250</td>\n",
       "      <td>31.949531</td>\n",
       "      <td>35.453403</td>\n",
       "      <td>...</td>\n",
       "      <td>53.738718</td>\n",
       "      <td>45.183260</td>\n",
       "      <td>46.805751</td>\n",
       "      <td>41.672359</td>\n",
       "      <td>45.995423</td>\n",
       "      <td>46.379529</td>\n",
       "      <td>28.777778</td>\n",
       "      <td>27.547049</td>\n",
       "      <td>25.619705</td>\n",
       "      <td>29.663450</td>\n",
       "    </tr>\n",
       "  </tbody>\n",
       "</table>\n",
       "<p>12 rows × 31 columns</p>\n",
       "</div>"
      ],
      "text/plain": [
       "DayofMonth         1          2          3          4          5          6   \\\n",
       "Month                                                                          \n",
       "January     24.791667  23.341204  24.659954  28.017312  31.562269  38.960662   \n",
       "February    32.041667  40.262500  41.744184  38.406649  47.535638  48.282986   \n",
       "March       40.948090  39.750521  43.545380  39.714750  34.859155  31.882262   \n",
       "April       28.121701  28.305242  29.971412  33.260563  30.385764  33.950579   \n",
       "May         18.564331  13.246190  15.884742  17.569324  16.209028  17.925231   \n",
       "June        19.518349  17.635857  15.698333  12.158951  13.273472  13.461553   \n",
       "July        17.026119  14.554977  15.759096  17.488512  18.633782  16.289352   \n",
       "August      19.154988  19.198333  18.803580  17.290000  17.423090  16.517361   \n",
       "September   15.323415  15.502267  13.140741  12.391406  11.868721  12.503925   \n",
       "October     19.186913  19.482619  21.637679  24.375664  20.729973  20.913235   \n",
       "November    27.953462  31.224679  31.637681  37.483568  37.795544  37.767262   \n",
       "December    31.203095  29.059954  27.323239  29.366377  26.969853  26.576691   \n",
       "\n",
       "DayofMonth         7          8          9          10  ...         22  \\\n",
       "Month                                                   ...              \n",
       "January     39.846009  33.909149  20.361775  25.523785  ...  51.797917   \n",
       "February    52.512784  55.965891  47.166793  41.762153  ...  27.366033   \n",
       "March       32.204405  31.371009  28.304636  28.355026  ...  32.704687   \n",
       "April       32.791212  26.009115  29.545833  37.735243  ...  27.453345   \n",
       "May         16.574306  15.590893  17.332523  15.193192  ...  16.973900   \n",
       "June        14.286845  14.475000  12.877574  15.132721  ...  17.570129   \n",
       "July        15.111111  15.261534  15.619776  16.879042  ...  14.868015   \n",
       "August      15.701215  16.616377  16.492766  16.870350  ...  17.832755   \n",
       "September   14.283095  16.957675  20.450758  20.230804  ...  21.512031   \n",
       "October     17.816489  20.993528  20.853646  22.751910  ...  17.479524   \n",
       "November    40.160298  28.873591  24.455847  23.412500  ...  30.230303   \n",
       "December    32.932928  35.531250  31.949531  35.453403  ...  53.738718   \n",
       "\n",
       "DayofMonth         23         24         25         26         27         28  \\\n",
       "Month                                                                          \n",
       "January     42.682474  42.005340  43.346429  41.670486  33.694263  29.938225   \n",
       "February    22.841580  21.730469  26.169792  26.369048  27.253457  38.769022   \n",
       "March       39.426852  42.799363  41.591432  32.851643  30.887563  38.104225   \n",
       "April       30.381503  32.842525  29.045958  26.545070  26.373846  26.100998   \n",
       "May         19.681884  19.562621  14.608160  15.044155  16.216795  20.512619   \n",
       "June        18.222976  15.489345  12.783392  13.502836  14.920481  15.427523   \n",
       "July        13.662265  16.730760  17.921159  16.340856  15.890317  15.028631   \n",
       "August      18.684918  19.572403  16.530298  16.660000  16.345714  14.629812   \n",
       "September   22.913393  20.289336  16.928212  16.164286  13.251995  13.674413   \n",
       "October     16.839468  20.090119  22.060108  25.134699  22.625336  24.084903   \n",
       "November    31.226964  21.397564  25.105896  28.008988  23.675059  21.261310   \n",
       "December    45.183260  46.805751  41.672359  45.995423  46.379529  28.777778   \n",
       "\n",
       "DayofMonth         29         30         31  \n",
       "Month                                        \n",
       "January     30.535026  32.370052  33.980440  \n",
       "February          NaN        NaN        NaN  \n",
       "March       41.233920  36.388484  30.750121  \n",
       "April       24.280035  26.540278        NaN  \n",
       "May         17.403588  17.073553  18.459144  \n",
       "June        15.932943  18.424933        NaN  \n",
       "July        16.059954  17.223155  19.082465  \n",
       "August      18.424941  18.879754  14.305282  \n",
       "September   17.317882  18.985681        NaN  \n",
       "October     26.042391  26.819850  25.274531  \n",
       "November    22.938358  28.378638        NaN  \n",
       "December    27.547049  25.619705  29.663450  \n",
       "\n",
       "[12 rows x 31 columns]"
      ]
     },
     "execution_count": 573,
     "metadata": {},
     "output_type": "execute_result"
    }
   ],
   "source": [
    "date_month_map"
   ]
  },
  {
   "cell_type": "code",
   "execution_count": 574,
   "metadata": {},
   "outputs": [
    {
     "data": {
      "text/plain": [
       "Text(0.5, 15.0, 'Day of Month')"
      ]
     },
     "execution_count": 574,
     "metadata": {},
     "output_type": "execute_result"
    },
    {
     "data": {
      "image/png": "[encoded data removed]",
      "text/plain": [
       "<Figure size 432x288 with 2 Axes>"
      ]
     },
     "metadata": {
      "needs_background": "light"
     },
     "output_type": "display_data"
    }
   ],
   "source": [
    "colors = ['skyblue','orange','red']\n",
    "levels = [0, 35, 55.4]\n",
    "cmap, norm = mpl.colors.from_levels_and_colors(levels,colors,'min')\n",
    "sns.heatmap(date_month_map, cmap=cmap)\n",
    "plt.xlabel('Day of Month')"
   ]
  },
  {
   "cell_type": "code",
   "execution_count": null,
   "metadata": {},
   "outputs": [],
   "source": []
  },
  {
   "cell_type": "code",
   "execution_count": 122,
   "metadata": {},
   "outputs": [],
   "source": [
    "pm25['PM2.5avg']= pm25['PM2.5'].rolling(24*14, min_periods=0).mean()"
   ]
  },
  {
   "cell_type": "code",
   "execution_count": 123,
   "metadata": {},
   "outputs": [
    {
     "data": {
      "text/plain": [
       "<matplotlib.axes._subplots.AxesSubplot at 0x20fa51a3ba8>"
      ]
     },
     "execution_count": 123,
     "metadata": {},
     "output_type": "execute_result"
    },
    {
     "data": {
      "image/png": "[encoded data removed]",
      "text/plain": [
       "<Figure size 432x288 with 1 Axes>"
      ]
     },
     "metadata": {
      "needs_background": "light"
     },
     "output_type": "display_data"
    }
   ],
   "source": [
    "pm25.plot('TimeStamp','PM2.5avg')"
   ]
  },
  {
   "cell_type": "code",
   "execution_count": 150,
   "metadata": {},
   "outputs": [],
   "source": [
    "pm25['dayOfWeek'] = pm25['TimeStamp'].dt.strftime('%A')"
   ]
  },
  {
   "cell_type": "code",
   "execution_count": 195,
   "metadata": {},
   "outputs": [
    {
     "data": {
      "text/html": [
       "<div>\n",
       "<style scoped>\n",
       "    .dataframe tbody tr th:only-of-type {\n",
       "        vertical-align: middle;\n",
       "    }\n",
       "\n",
       "    .dataframe tbody tr th {\n",
       "        vertical-align: top;\n",
       "    }\n",
       "\n",
       "    .dataframe thead th {\n",
       "        text-align: right;\n",
       "    }\n",
       "</style>\n",
       "<table border=\"1\" class=\"dataframe\">\n",
       "  <thead>\n",
       "    <tr style=\"text-align: right;\">\n",
       "      <th></th>\n",
       "      <th>const</th>\n",
       "      <th>PM2.5</th>\n",
       "      <th>TimeStamp</th>\n",
       "      <th>PM2.5avg</th>\n",
       "      <th>Timedelta</th>\n",
       "      <th>dayOfWeek</th>\n",
       "    </tr>\n",
       "  </thead>\n",
       "  <tbody>\n",
       "    <tr>\n",
       "      <th>0</th>\n",
       "      <td>1.0</td>\n",
       "      <td>62.9</td>\n",
       "      <td>2016-03-03 15:00:00+07:00</td>\n",
       "      <td>62.900000</td>\n",
       "      <td>0.0</td>\n",
       "      <td>Thursday</td>\n",
       "    </tr>\n",
       "    <tr>\n",
       "      <th>1</th>\n",
       "      <td>1.0</td>\n",
       "      <td>62.9</td>\n",
       "      <td>2016-03-03 16:00:00+07:00</td>\n",
       "      <td>62.900000</td>\n",
       "      <td>1.0</td>\n",
       "      <td>Thursday</td>\n",
       "    </tr>\n",
       "    <tr>\n",
       "      <th>2</th>\n",
       "      <td>1.0</td>\n",
       "      <td>55.5</td>\n",
       "      <td>2016-03-03 17:00:00+07:00</td>\n",
       "      <td>60.433333</td>\n",
       "      <td>2.0</td>\n",
       "      <td>Thursday</td>\n",
       "    </tr>\n",
       "    <tr>\n",
       "      <th>3</th>\n",
       "      <td>1.0</td>\n",
       "      <td>55.5</td>\n",
       "      <td>2016-03-03 18:00:00+07:00</td>\n",
       "      <td>59.200000</td>\n",
       "      <td>3.0</td>\n",
       "      <td>Thursday</td>\n",
       "    </tr>\n",
       "    <tr>\n",
       "      <th>4</th>\n",
       "      <td>1.0</td>\n",
       "      <td>47.9</td>\n",
       "      <td>2016-03-03 19:00:00+07:00</td>\n",
       "      <td>56.940000</td>\n",
       "      <td>4.0</td>\n",
       "      <td>Thursday</td>\n",
       "    </tr>\n",
       "  </tbody>\n",
       "</table>\n",
       "</div>"
      ],
      "text/plain": [
       "   const  PM2.5                 TimeStamp   PM2.5avg  Timedelta dayOfWeek\n",
       "0    1.0   62.9 2016-03-03 15:00:00+07:00  62.900000        0.0  Thursday\n",
       "1    1.0   62.9 2016-03-03 16:00:00+07:00  62.900000        1.0  Thursday\n",
       "2    1.0   55.5 2016-03-03 17:00:00+07:00  60.433333        2.0  Thursday\n",
       "3    1.0   55.5 2016-03-03 18:00:00+07:00  59.200000        3.0  Thursday\n",
       "4    1.0   47.9 2016-03-03 19:00:00+07:00  56.940000        4.0  Thursday"
      ]
     },
     "execution_count": 195,
     "metadata": {},
     "output_type": "execute_result"
    }
   ],
   "source": [
    "pm25['Timedelta'] = (pm25['TimeStamp'] - pm25['TimeStamp'].min())/datetime.timedelta(hours=1)\n",
    "pm25.head()"
   ]
  },
  {
   "cell_type": "code",
   "execution_count": 172,
   "metadata": {},
   "outputs": [],
   "source": [
    "coeff, V = np.polyfit(pm25['Timedelta'], pm25['PM2.5'],1, cov=True)\n",
    "p = np.poly1d(coeff)\n",
    "y_pred = p(pm25['Timedelta'])"
   ]
  },
  {
   "cell_type": "code",
   "execution_count": 181,
   "metadata": {},
   "outputs": [
    {
     "data": {
      "text/plain": [
       "(array([ 0.0001 , 24.13695]), array([0.00001, 0.1828 ]))"
      ]
     },
     "execution_count": 181,
     "metadata": {},
     "output_type": "execute_result"
    }
   ],
   "source": [
    "coeff, np.sqrt(np.diag(V))"
   ]
  },
  {
   "cell_type": "code",
   "execution_count": 156,
   "metadata": {},
   "outputs": [
    {
     "name": "stdout",
     "output_type": "stream",
     "text": [
      "<class 'pandas.core.frame.DataFrame'>\n",
      "RangeIndex: 23667 entries, 0 to 23666\n",
      "Data columns (total 5 columns):\n",
      "PM2.5        23667 non-null float64\n",
      "TimeStamp    23667 non-null datetime64[ns, Asia/Bangkok]\n",
      "PM2.5avg     23667 non-null float64\n",
      "Timedelta    23667 non-null timedelta64[ns]\n",
      "dayOfWeek    23667 non-null object\n",
      "dtypes: datetime64[ns, Asia/Bangkok](1), float64(2), object(1), timedelta64[ns](1)\n",
      "memory usage: 924.6+ KB\n"
     ]
    }
   ],
   "source": [
    "pm25.info()"
   ]
  },
  {
   "cell_type": "code",
   "execution_count": 177,
   "metadata": {},
   "outputs": [
    {
     "data": {
      "text/plain": [
       "3.5892524722261356e-07"
      ]
     },
     "execution_count": 177,
     "metadata": {},
     "output_type": "execute_result"
    }
   ],
   "source": [
    "np.var(pm25['PM2.5'])/len(pm25)**2"
   ]
  },
  {
   "cell_type": "code",
   "execution_count": 229,
   "metadata": {},
   "outputs": [],
   "source": [
    "pm25 = sm.add_constant(pm25)\n",
    "est = sm.OLS(pm25['PM2.5avg'], sm.add_constant(pm25['Timedelta'])).fit()"
   ]
  },
  {
   "cell_type": "code",
   "execution_count": 230,
   "metadata": {},
   "outputs": [],
   "source": [
    "from statsmodels.sandbox.regression.predstd import wls_prediction_std\n",
    "\n",
    "prstd, iv_l, iv_u = wls_prediction_std(est)"
   ]
  },
  {
   "cell_type": "code",
   "execution_count": 240,
   "metadata": {},
   "outputs": [
    {
     "data": {
      "image/png": "[encoded data removed]",
      "text/plain": [
       "<Figure size 432x288 with 1 Axes>"
      ]
     },
     "metadata": {
      "needs_background": "light"
     },
     "output_type": "display_data"
    }
   ],
   "source": [
    "fig, ax = plt.subplots()\n",
    "ax.plot(pm25['TimeStamp'], pm25['PM2.5'], label ='Data', alpha=0.5)\n",
    "ax.plot(pm25['TimeStamp'], est.fittedvalues, 'b')\n",
    "ax.plot(pm25['TimeStamp'], iv_l, 'b--')\n",
    "ax.plot(pm25['TimeStamp'], iv_u, 'b--')\n",
    "plt.axhline(y=35, color='r',label='unhealthly')\n",
    "legend = ax.legend(loc=\"best\")"
   ]
  },
  {
   "cell_type": "code",
   "execution_count": 242,
   "metadata": {},
   "outputs": [
    {
     "name": "stderr",
     "output_type": "stream",
     "text": [
      "C:\\Users\\Benny\\Anaconda3\\envs\\fastai\\lib\\site-packages\\seaborn\\regression.py:223: FutureWarning: Converting timezone-aware DatetimeArray to timezone-naive ndarray with 'datetime64[ns]' dtype. In the future, this will return an ndarray with 'object' dtype where each element is a 'pandas.Timestamp' with the correct 'tz'.\n",
      "\tTo accept the future behavior, pass 'dtype=object'.\n",
      "\tTo keep the old behavior, pass 'dtype=\"datetime64[ns]\"'.\n",
      "  X, y = np.c_[np.ones(len(self.x)), self.x], self.y\n"
     ]
    },
    {
     "ename": "TypeError",
     "evalue": "invalid type promotion",
     "output_type": "error",
     "traceback": [
      "\u001b[1;31m---------------------------------------------------------------------------\u001b[0m",
      "\u001b[1;31mTypeError\u001b[0m                                 Traceback (most recent call last)",
      "\u001b[1;32m<ipython-input-242-2a86519f93f7>\u001b[0m in \u001b[0;36m<module>\u001b[1;34m\u001b[0m\n\u001b[1;32m----> 1\u001b[1;33m \u001b[0msns\u001b[0m\u001b[1;33m.\u001b[0m\u001b[0mlmplot\u001b[0m\u001b[1;33m(\u001b[0m\u001b[0my\u001b[0m\u001b[1;33m=\u001b[0m\u001b[1;34m'PM2.5'\u001b[0m\u001b[1;33m,\u001b[0m \u001b[0mx\u001b[0m\u001b[1;33m=\u001b[0m\u001b[1;34m'TimeStamp'\u001b[0m\u001b[1;33m,\u001b[0m \u001b[0mdata\u001b[0m\u001b[1;33m=\u001b[0m\u001b[0mpm25\u001b[0m\u001b[1;33m)\u001b[0m\u001b[1;33m\u001b[0m\u001b[1;33m\u001b[0m\u001b[0m\n\u001b[0m",
      "\u001b[1;32m~\\Anaconda3\\envs\\fastai\\lib\\site-packages\\seaborn\\regression.py\u001b[0m in \u001b[0;36mlmplot\u001b[1;34m(x, y, data, hue, col, row, palette, col_wrap, height, aspect, markers, sharex, sharey, hue_order, col_order, row_order, legend, legend_out, x_estimator, x_bins, x_ci, scatter, fit_reg, ci, n_boot, units, order, logistic, lowess, robust, logx, x_partial, y_partial, truncate, x_jitter, y_jitter, scatter_kws, line_kws, size)\u001b[0m\n\u001b[0;32m    587\u001b[0m         \u001b[0mscatter_kws\u001b[0m\u001b[1;33m=\u001b[0m\u001b[0mscatter_kws\u001b[0m\u001b[1;33m,\u001b[0m \u001b[0mline_kws\u001b[0m\u001b[1;33m=\u001b[0m\u001b[0mline_kws\u001b[0m\u001b[1;33m,\u001b[0m\u001b[1;33m\u001b[0m\u001b[1;33m\u001b[0m\u001b[0m\n\u001b[0;32m    588\u001b[0m         )\n\u001b[1;32m--> 589\u001b[1;33m     \u001b[0mfacets\u001b[0m\u001b[1;33m.\u001b[0m\u001b[0mmap_dataframe\u001b[0m\u001b[1;33m(\u001b[0m\u001b[0mregplot\u001b[0m\u001b[1;33m,\u001b[0m \u001b[0mx\u001b[0m\u001b[1;33m,\u001b[0m \u001b[0my\u001b[0m\u001b[1;33m,\u001b[0m \u001b[1;33m**\u001b[0m\u001b[0mregplot_kws\u001b[0m\u001b[1;33m)\u001b[0m\u001b[1;33m\u001b[0m\u001b[1;33m\u001b[0m\u001b[0m\n\u001b[0m\u001b[0;32m    590\u001b[0m \u001b[1;33m\u001b[0m\u001b[0m\n\u001b[0;32m    591\u001b[0m     \u001b[1;31m# Add a legend\u001b[0m\u001b[1;33m\u001b[0m\u001b[1;33m\u001b[0m\u001b[1;33m\u001b[0m\u001b[0m\n",
      "\u001b[1;32m~\\Anaconda3\\envs\\fastai\\lib\\site-packages\\seaborn\\axisgrid.py\u001b[0m in \u001b[0;36mmap_dataframe\u001b[1;34m(self, func, *args, **kwargs)\u001b[0m\n\u001b[0;32m    818\u001b[0m \u001b[1;33m\u001b[0m\u001b[0m\n\u001b[0;32m    819\u001b[0m             \u001b[1;31m# Draw the plot\u001b[0m\u001b[1;33m\u001b[0m\u001b[1;33m\u001b[0m\u001b[1;33m\u001b[0m\u001b[0m\n\u001b[1;32m--> 820\u001b[1;33m             \u001b[0mself\u001b[0m\u001b[1;33m.\u001b[0m\u001b[0m_facet_plot\u001b[0m\u001b[1;33m(\u001b[0m\u001b[0mfunc\u001b[0m\u001b[1;33m,\u001b[0m \u001b[0max\u001b[0m\u001b[1;33m,\u001b[0m \u001b[0margs\u001b[0m\u001b[1;33m,\u001b[0m \u001b[0mkwargs\u001b[0m\u001b[1;33m)\u001b[0m\u001b[1;33m\u001b[0m\u001b[1;33m\u001b[0m\u001b[0m\n\u001b[0m\u001b[0;32m    821\u001b[0m \u001b[1;33m\u001b[0m\u001b[0m\n\u001b[0;32m    822\u001b[0m         \u001b[1;31m# Finalize the annotations and layout\u001b[0m\u001b[1;33m\u001b[0m\u001b[1;33m\u001b[0m\u001b[1;33m\u001b[0m\u001b[0m\n",
      "\u001b[1;32m~\\Anaconda3\\envs\\fastai\\lib\\site-packages\\seaborn\\axisgrid.py\u001b[0m in \u001b[0;36m_facet_plot\u001b[1;34m(self, func, ax, plot_args, plot_kwargs)\u001b[0m\n\u001b[0;32m    836\u001b[0m \u001b[1;33m\u001b[0m\u001b[0m\n\u001b[0;32m    837\u001b[0m         \u001b[1;31m# Draw the plot\u001b[0m\u001b[1;33m\u001b[0m\u001b[1;33m\u001b[0m\u001b[1;33m\u001b[0m\u001b[0m\n\u001b[1;32m--> 838\u001b[1;33m         \u001b[0mfunc\u001b[0m\u001b[1;33m(\u001b[0m\u001b[1;33m*\u001b[0m\u001b[0mplot_args\u001b[0m\u001b[1;33m,\u001b[0m \u001b[1;33m**\u001b[0m\u001b[0mplot_kwargs\u001b[0m\u001b[1;33m)\u001b[0m\u001b[1;33m\u001b[0m\u001b[1;33m\u001b[0m\u001b[0m\n\u001b[0m\u001b[0;32m    839\u001b[0m \u001b[1;33m\u001b[0m\u001b[0m\n\u001b[0;32m    840\u001b[0m         \u001b[1;31m# Sort out the supporting information\u001b[0m\u001b[1;33m\u001b[0m\u001b[1;33m\u001b[0m\u001b[1;33m\u001b[0m\u001b[0m\n",
      "\u001b[1;32m~\\Anaconda3\\envs\\fastai\\lib\\site-packages\\seaborn\\regression.py\u001b[0m in \u001b[0;36mregplot\u001b[1;34m(x, y, data, x_estimator, x_bins, x_ci, scatter, fit_reg, ci, n_boot, units, order, logistic, lowess, robust, logx, x_partial, y_partial, truncate, dropna, x_jitter, y_jitter, label, color, marker, scatter_kws, line_kws, ax)\u001b[0m\n\u001b[0;32m    787\u001b[0m     \u001b[0mscatter_kws\u001b[0m\u001b[1;33m[\u001b[0m\u001b[1;34m\"marker\"\u001b[0m\u001b[1;33m]\u001b[0m \u001b[1;33m=\u001b[0m \u001b[0mmarker\u001b[0m\u001b[1;33m\u001b[0m\u001b[1;33m\u001b[0m\u001b[0m\n\u001b[0;32m    788\u001b[0m     \u001b[0mline_kws\u001b[0m \u001b[1;33m=\u001b[0m \u001b[1;33m{\u001b[0m\u001b[1;33m}\u001b[0m \u001b[1;32mif\u001b[0m \u001b[0mline_kws\u001b[0m \u001b[1;32mis\u001b[0m \u001b[1;32mNone\u001b[0m \u001b[1;32melse\u001b[0m \u001b[0mcopy\u001b[0m\u001b[1;33m.\u001b[0m\u001b[0mcopy\u001b[0m\u001b[1;33m(\u001b[0m\u001b[0mline_kws\u001b[0m\u001b[1;33m)\u001b[0m\u001b[1;33m\u001b[0m\u001b[1;33m\u001b[0m\u001b[0m\n\u001b[1;32m--> 789\u001b[1;33m     \u001b[0mplotter\u001b[0m\u001b[1;33m.\u001b[0m\u001b[0mplot\u001b[0m\u001b[1;33m(\u001b[0m\u001b[0max\u001b[0m\u001b[1;33m,\u001b[0m \u001b[0mscatter_kws\u001b[0m\u001b[1;33m,\u001b[0m \u001b[0mline_kws\u001b[0m\u001b[1;33m)\u001b[0m\u001b[1;33m\u001b[0m\u001b[1;33m\u001b[0m\u001b[0m\n\u001b[0m\u001b[0;32m    790\u001b[0m     \u001b[1;32mreturn\u001b[0m \u001b[0max\u001b[0m\u001b[1;33m\u001b[0m\u001b[1;33m\u001b[0m\u001b[0m\n\u001b[0;32m    791\u001b[0m \u001b[1;33m\u001b[0m\u001b[0m\n",
      "\u001b[1;32m~\\Anaconda3\\envs\\fastai\\lib\\site-packages\\seaborn\\regression.py\u001b[0m in \u001b[0;36mplot\u001b[1;34m(self, ax, scatter_kws, line_kws)\u001b[0m\n\u001b[0;32m    342\u001b[0m             \u001b[0mself\u001b[0m\u001b[1;33m.\u001b[0m\u001b[0mscatterplot\u001b[0m\u001b[1;33m(\u001b[0m\u001b[0max\u001b[0m\u001b[1;33m,\u001b[0m \u001b[0mscatter_kws\u001b[0m\u001b[1;33m)\u001b[0m\u001b[1;33m\u001b[0m\u001b[1;33m\u001b[0m\u001b[0m\n\u001b[0;32m    343\u001b[0m         \u001b[1;32mif\u001b[0m \u001b[0mself\u001b[0m\u001b[1;33m.\u001b[0m\u001b[0mfit_reg\u001b[0m\u001b[1;33m:\u001b[0m\u001b[1;33m\u001b[0m\u001b[1;33m\u001b[0m\u001b[0m\n\u001b[1;32m--> 344\u001b[1;33m             \u001b[0mself\u001b[0m\u001b[1;33m.\u001b[0m\u001b[0mlineplot\u001b[0m\u001b[1;33m(\u001b[0m\u001b[0max\u001b[0m\u001b[1;33m,\u001b[0m \u001b[0mline_kws\u001b[0m\u001b[1;33m)\u001b[0m\u001b[1;33m\u001b[0m\u001b[1;33m\u001b[0m\u001b[0m\n\u001b[0m\u001b[0;32m    345\u001b[0m \u001b[1;33m\u001b[0m\u001b[0m\n\u001b[0;32m    346\u001b[0m         \u001b[1;31m# Label the axes\u001b[0m\u001b[1;33m\u001b[0m\u001b[1;33m\u001b[0m\u001b[1;33m\u001b[0m\u001b[0m\n",
      "\u001b[1;32m~\\Anaconda3\\envs\\fastai\\lib\\site-packages\\seaborn\\regression.py\u001b[0m in \u001b[0;36mlineplot\u001b[1;34m(self, ax, kws)\u001b[0m\n\u001b[0;32m    387\u001b[0m \u001b[1;33m\u001b[0m\u001b[0m\n\u001b[0;32m    388\u001b[0m         \u001b[1;31m# Fit the regression model\u001b[0m\u001b[1;33m\u001b[0m\u001b[1;33m\u001b[0m\u001b[1;33m\u001b[0m\u001b[0m\n\u001b[1;32m--> 389\u001b[1;33m         \u001b[0mgrid\u001b[0m\u001b[1;33m,\u001b[0m \u001b[0myhat\u001b[0m\u001b[1;33m,\u001b[0m \u001b[0merr_bands\u001b[0m \u001b[1;33m=\u001b[0m \u001b[0mself\u001b[0m\u001b[1;33m.\u001b[0m\u001b[0mfit_regression\u001b[0m\u001b[1;33m(\u001b[0m\u001b[0max\u001b[0m\u001b[1;33m)\u001b[0m\u001b[1;33m\u001b[0m\u001b[1;33m\u001b[0m\u001b[0m\n\u001b[0m\u001b[0;32m    390\u001b[0m \u001b[1;33m\u001b[0m\u001b[0m\n\u001b[0;32m    391\u001b[0m         \u001b[1;31m# Get set default aesthetics\u001b[0m\u001b[1;33m\u001b[0m\u001b[1;33m\u001b[0m\u001b[1;33m\u001b[0m\u001b[0m\n",
      "\u001b[1;32m~\\Anaconda3\\envs\\fastai\\lib\\site-packages\\seaborn\\regression.py\u001b[0m in \u001b[0;36mfit_regression\u001b[1;34m(self, ax, x_range, grid)\u001b[0m\n\u001b[0;32m    206\u001b[0m             \u001b[0myhat\u001b[0m\u001b[1;33m,\u001b[0m \u001b[0myhat_boots\u001b[0m \u001b[1;33m=\u001b[0m \u001b[0mself\u001b[0m\u001b[1;33m.\u001b[0m\u001b[0mfit_logx\u001b[0m\u001b[1;33m(\u001b[0m\u001b[0mgrid\u001b[0m\u001b[1;33m)\u001b[0m\u001b[1;33m\u001b[0m\u001b[1;33m\u001b[0m\u001b[0m\n\u001b[0;32m    207\u001b[0m         \u001b[1;32melse\u001b[0m\u001b[1;33m:\u001b[0m\u001b[1;33m\u001b[0m\u001b[1;33m\u001b[0m\u001b[0m\n\u001b[1;32m--> 208\u001b[1;33m             \u001b[0myhat\u001b[0m\u001b[1;33m,\u001b[0m \u001b[0myhat_boots\u001b[0m \u001b[1;33m=\u001b[0m \u001b[0mself\u001b[0m\u001b[1;33m.\u001b[0m\u001b[0mfit_fast\u001b[0m\u001b[1;33m(\u001b[0m\u001b[0mgrid\u001b[0m\u001b[1;33m)\u001b[0m\u001b[1;33m\u001b[0m\u001b[1;33m\u001b[0m\u001b[0m\n\u001b[0m\u001b[0;32m    209\u001b[0m \u001b[1;33m\u001b[0m\u001b[0m\n\u001b[0;32m    210\u001b[0m         \u001b[1;31m# Compute the confidence interval at each grid point\u001b[0m\u001b[1;33m\u001b[0m\u001b[1;33m\u001b[0m\u001b[1;33m\u001b[0m\u001b[0m\n",
      "\u001b[1;32m~\\Anaconda3\\envs\\fastai\\lib\\site-packages\\seaborn\\regression.py\u001b[0m in \u001b[0;36mfit_fast\u001b[1;34m(self, grid)\u001b[0m\n\u001b[0;32m    221\u001b[0m             \u001b[1;32mreturn\u001b[0m \u001b[0mnp\u001b[0m\u001b[1;33m.\u001b[0m\u001b[0mlinalg\u001b[0m\u001b[1;33m.\u001b[0m\u001b[0mpinv\u001b[0m\u001b[1;33m(\u001b[0m\u001b[0m_x\u001b[0m\u001b[1;33m)\u001b[0m\u001b[1;33m.\u001b[0m\u001b[0mdot\u001b[0m\u001b[1;33m(\u001b[0m\u001b[0m_y\u001b[0m\u001b[1;33m)\u001b[0m\u001b[1;33m\u001b[0m\u001b[1;33m\u001b[0m\u001b[0m\n\u001b[0;32m    222\u001b[0m \u001b[1;33m\u001b[0m\u001b[0m\n\u001b[1;32m--> 223\u001b[1;33m         \u001b[0mX\u001b[0m\u001b[1;33m,\u001b[0m \u001b[0my\u001b[0m \u001b[1;33m=\u001b[0m \u001b[0mnp\u001b[0m\u001b[1;33m.\u001b[0m\u001b[0mc_\u001b[0m\u001b[1;33m[\u001b[0m\u001b[0mnp\u001b[0m\u001b[1;33m.\u001b[0m\u001b[0mones\u001b[0m\u001b[1;33m(\u001b[0m\u001b[0mlen\u001b[0m\u001b[1;33m(\u001b[0m\u001b[0mself\u001b[0m\u001b[1;33m.\u001b[0m\u001b[0mx\u001b[0m\u001b[1;33m)\u001b[0m\u001b[1;33m)\u001b[0m\u001b[1;33m,\u001b[0m \u001b[0mself\u001b[0m\u001b[1;33m.\u001b[0m\u001b[0mx\u001b[0m\u001b[1;33m]\u001b[0m\u001b[1;33m,\u001b[0m \u001b[0mself\u001b[0m\u001b[1;33m.\u001b[0m\u001b[0my\u001b[0m\u001b[1;33m\u001b[0m\u001b[1;33m\u001b[0m\u001b[0m\n\u001b[0m\u001b[0;32m    224\u001b[0m         \u001b[0mgrid\u001b[0m \u001b[1;33m=\u001b[0m \u001b[0mnp\u001b[0m\u001b[1;33m.\u001b[0m\u001b[0mc_\u001b[0m\u001b[1;33m[\u001b[0m\u001b[0mnp\u001b[0m\u001b[1;33m.\u001b[0m\u001b[0mones\u001b[0m\u001b[1;33m(\u001b[0m\u001b[0mlen\u001b[0m\u001b[1;33m(\u001b[0m\u001b[0mgrid\u001b[0m\u001b[1;33m)\u001b[0m\u001b[1;33m)\u001b[0m\u001b[1;33m,\u001b[0m \u001b[0mgrid\u001b[0m\u001b[1;33m]\u001b[0m\u001b[1;33m\u001b[0m\u001b[1;33m\u001b[0m\u001b[0m\n\u001b[0;32m    225\u001b[0m         \u001b[0myhat\u001b[0m \u001b[1;33m=\u001b[0m \u001b[0mgrid\u001b[0m\u001b[1;33m.\u001b[0m\u001b[0mdot\u001b[0m\u001b[1;33m(\u001b[0m\u001b[0mreg_func\u001b[0m\u001b[1;33m(\u001b[0m\u001b[0mX\u001b[0m\u001b[1;33m,\u001b[0m \u001b[0my\u001b[0m\u001b[1;33m)\u001b[0m\u001b[1;33m)\u001b[0m\u001b[1;33m\u001b[0m\u001b[1;33m\u001b[0m\u001b[0m\n",
      "\u001b[1;32m~\\Anaconda3\\envs\\fastai\\lib\\site-packages\\numpy\\lib\\index_tricks.py\u001b[0m in \u001b[0;36m__getitem__\u001b[1;34m(self, key)\u001b[0m\n\u001b[0;32m    333\u001b[0m                 \u001b[0mobjs\u001b[0m\u001b[1;33m[\u001b[0m\u001b[0mk\u001b[0m\u001b[1;33m]\u001b[0m \u001b[1;33m=\u001b[0m \u001b[0mobjs\u001b[0m\u001b[1;33m[\u001b[0m\u001b[0mk\u001b[0m\u001b[1;33m]\u001b[0m\u001b[1;33m.\u001b[0m\u001b[0mastype\u001b[0m\u001b[1;33m(\u001b[0m\u001b[0mfinal_dtype\u001b[0m\u001b[1;33m)\u001b[0m\u001b[1;33m\u001b[0m\u001b[1;33m\u001b[0m\u001b[0m\n\u001b[0;32m    334\u001b[0m \u001b[1;33m\u001b[0m\u001b[0m\n\u001b[1;32m--> 335\u001b[1;33m         \u001b[0mres\u001b[0m \u001b[1;33m=\u001b[0m \u001b[0mself\u001b[0m\u001b[1;33m.\u001b[0m\u001b[0mconcatenate\u001b[0m\u001b[1;33m(\u001b[0m\u001b[0mtuple\u001b[0m\u001b[1;33m(\u001b[0m\u001b[0mobjs\u001b[0m\u001b[1;33m)\u001b[0m\u001b[1;33m,\u001b[0m \u001b[0maxis\u001b[0m\u001b[1;33m=\u001b[0m\u001b[0maxis\u001b[0m\u001b[1;33m)\u001b[0m\u001b[1;33m\u001b[0m\u001b[1;33m\u001b[0m\u001b[0m\n\u001b[0m\u001b[0;32m    336\u001b[0m \u001b[1;33m\u001b[0m\u001b[0m\n\u001b[0;32m    337\u001b[0m         \u001b[1;32mif\u001b[0m \u001b[0mmatrix\u001b[0m\u001b[1;33m:\u001b[0m\u001b[1;33m\u001b[0m\u001b[1;33m\u001b[0m\u001b[0m\n",
      "\u001b[1;31mTypeError\u001b[0m: invalid type promotion"
     ]
    },
    {
     "data": {
      "image/png": "[encoded data removed]",
      "text/plain": [
       "<Figure size 360x360 with 1 Axes>"
      ]
     },
     "metadata": {
      "needs_background": "light"
     },
     "output_type": "display_data"
    }
   ],
   "source": [
    "sns.lmplot(y='PM2.5', pm25['TimeStamp'].d, data=pm25) "
   ]
  },
  {
   "cell_type": "code",
   "execution_count": 214,
   "metadata": {},
   "outputs": [
    {
     "data": {
      "text/plain": [
       "(23667,)"
      ]
     },
     "execution_count": 214,
     "metadata": {},
     "output_type": "execute_result"
    }
   ],
   "source": [
    "pm25['Timedelta'].shape"
   ]
  },
  {
   "cell_type": "code",
   "execution_count": null,
   "metadata": {},
   "outputs": [],
   "source": []
  }
 ],
 "metadata": {
  "kernelspec": {
   "display_name": "Python 3",
   "language": "python",
   "name": "python3"
  },
  "language_info": {
   "codemirror_mode": {
    "name": "ipython",
    "version": 3
   },
   "file_extension": ".py",
   "mimetype": "text/x-python",
   "name": "python",
   "nbconvert_exporter": "python",
   "pygments_lexer": "ipython3",
   "version": "3.6.8"
  }
 },
 "nbformat": 4,
 "nbformat_minor": 2
}
